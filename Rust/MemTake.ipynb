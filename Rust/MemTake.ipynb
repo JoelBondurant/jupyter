{
 "cells": [
  {
   "cell_type": "markdown",
   "id": "039d1f4f-219f-4afe-9e0a-4e99610cd4d1",
   "metadata": {},
   "source": [
    "## Mem Take\n",
    "---"
   ]
  },
  {
   "cell_type": "code",
   "execution_count": 2,
   "id": "74c79b20-4aed-4cab-8dee-c94a0a9c70cf",
   "metadata": {},
   "outputs": [],
   "source": [
    "#[derive(Debug, Default)]\n",
    "struct Toy {\n",
    "    uid: u64,\n",
    "    name: String,\n",
    "}"
   ]
  },
  {
   "cell_type": "code",
   "execution_count": 3,
   "id": "755ae20e-dce7-46ad-bb71-b7c58dd3a469",
   "metadata": {},
   "outputs": [
    {
     "name": "stdout",
     "output_type": "stream",
     "text": [
      "[Toy { uid: 1, name: \"t1\" }, Toy { uid: 2, name: \"t2\" }, Toy { uid: 3, name: \"t3\" }]\n",
      "24\n",
      "Toy { uid: 1, name: \"t1\" }\n",
      "[Toy { uid: 0, name: \"\" }, Toy { uid: 2, name: \"t2\" }, Toy { uid: 3, name: \"t3\" }]\n",
      "24\n"
     ]
    }
   ],
   "source": [
    "let mut v1 = vec![Toy{uid:1,name:\"t1\".into()}, Toy{uid:2,name:\"t2\".into()}, Toy{uid:3,name:\"t3\".into()}];\n",
    "println!(\"{:?}\", v1);\n",
    "println!(\"{:?}\", std::mem::size_of_val(&v1));\n",
    "println!(\"{:?}\", std::mem::take(&mut v1[0]));\n",
    "println!(\"{:?}\", v1);\n",
    "println!(\"{:?}\", std::mem::size_of_val(&v1));"
   ]
  },
  {
   "cell_type": "code",
   "execution_count": 4,
   "id": "fae21ca4-cbd8-4f24-bf98-7c212438aa91",
   "metadata": {},
   "outputs": [
    {
     "name": "stdout",
     "output_type": "stream",
     "text": [
      "[Some(Toy { uid: 1, name: \"t1\" }), Some(Toy { uid: 2, name: \"t2\" }), Some(Toy { uid: 3, name: \"t3\" })]\n",
      "24\n",
      "Some(Toy { uid: 1, name: \"t1\" })\n",
      "[None, Some(Toy { uid: 2, name: \"t2\" }), Some(Toy { uid: 3, name: \"t3\" })]\n",
      "24\n"
     ]
    }
   ],
   "source": [
    "let mut v2 = vec![Some(Toy{uid:1,name:\"t1\".into()}), Some(Toy{uid:2,name:\"t2\".into()}), Some(Toy{uid:3,name:\"t3\".into()})];\n",
    "println!(\"{:?}\", v2);\n",
    "println!(\"{:?}\", std::mem::size_of_val(&v2));\n",
    "println!(\"{:?}\", std::mem::take(&mut v2[0]));\n",
    "println!(\"{:?}\", v2);\n",
    "println!(\"{:?}\", std::mem::size_of_val(&v2));"
   ]
  },
  {
   "cell_type": "code",
   "execution_count": null,
   "id": "347db420-bee9-47fc-8a0a-e9945cae30bf",
   "metadata": {},
   "outputs": [],
   "source": []
  }
 ],
 "metadata": {
  "kernelspec": {
   "display_name": "Rust",
   "language": "rust",
   "name": "rust"
  },
  "language_info": {
   "codemirror_mode": "rust",
   "file_extension": ".rs",
   "mimetype": "text/rust",
   "name": "Rust",
   "pygment_lexer": "rust",
   "version": ""
  }
 },
 "nbformat": 4,
 "nbformat_minor": 5
}
