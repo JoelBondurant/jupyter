{
 "cells": [
  {
   "cell_type": "markdown",
   "id": "62a7c01d-f6b9-4654-815a-55bf80c13d14",
   "metadata": {},
   "source": [
    "## Thumbnail\n",
    "---"
   ]
  },
  {
   "cell_type": "code",
   "execution_count": 2,
   "id": "657e5a18-b8e6-4c4c-a3c0-65892b178ef4",
   "metadata": {},
   "outputs": [],
   "source": [
    ":dep image"
   ]
  },
  {
   "cell_type": "code",
   "execution_count": 3,
   "id": "c570a130-4716-4231-9d27-c28a0a0e68a8",
   "metadata": {},
   "outputs": [],
   "source": [
    "use image::{ImageBuffer, Rgb, DynamicImage};\n",
    "use image::imageops::FilterType;"
   ]
  },
  {
   "cell_type": "code",
   "execution_count": 4,
   "id": "38a3288c-8ac9-4406-ab2a-da986ca21959",
   "metadata": {},
   "outputs": [],
   "source": [
    "fn load() -> DynamicImage {\n",
    "    let img = image::open(&std::path::Path::new(\"../data/Canon_PowerShot_S40.jpg\"));\n",
    "    img.ok().unwrap()\n",
    "}"
   ]
  },
  {
   "cell_type": "markdown",
   "id": "8f5218e4-7351-4b3b-9f0e-291f576a4111",
   "metadata": {},
   "source": [
    "![original](../data/Canon_PowerShot_S40.jpg)"
   ]
  },
  {
   "cell_type": "code",
   "execution_count": 5,
   "id": "5d6c6fc3-0ad0-4ca7-a604-d532aa3531da",
   "metadata": {},
   "outputs": [],
   "source": [
    "fn thumbnail(dimg: DynamicImage) -> DynamicImage {\n",
    "    dimg.resize(128, 128, FilterType::Lanczos3)\n",
    "}"
   ]
  },
  {
   "cell_type": "code",
   "execution_count": 6,
   "id": "b2979699-edf9-4d1f-af07-d47069ecd1e7",
   "metadata": {},
   "outputs": [],
   "source": [
    "thumbnail(load()).save(\"../data/thumbnail.jpg\");"
   ]
  },
  {
   "cell_type": "markdown",
   "id": "7ccefc18-f401-4e26-95f3-3792ce7aaeb3",
   "metadata": {},
   "source": [
    "![thumbnail](../data/thumbnail.jpg)"
   ]
  },
  {
   "cell_type": "code",
   "execution_count": null,
   "id": "8da0c6f7-e3bc-4dff-b90d-59bd965ce141",
   "metadata": {},
   "outputs": [],
   "source": []
  }
 ],
 "metadata": {
  "kernelspec": {
   "display_name": "Rust",
   "language": "rust",
   "name": "rust"
  },
  "language_info": {
   "codemirror_mode": "rust",
   "file_extension": ".rs",
   "mimetype": "text/rust",
   "name": "Rust",
   "pygment_lexer": "rust",
   "version": ""
  }
 },
 "nbformat": 4,
 "nbformat_minor": 5
}
