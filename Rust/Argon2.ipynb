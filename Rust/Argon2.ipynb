{
 "cells": [
  {
   "cell_type": "markdown",
   "id": "3487a736-924d-48cb-b6d0-265c25e8835f",
   "metadata": {},
   "source": [
    "## Argon2\n",
    "---"
   ]
  },
  {
   "cell_type": "code",
   "execution_count": 2,
   "id": "f6e8b87b-590f-4dbe-9b62-0fc5ed54154a",
   "metadata": {},
   "outputs": [
    {
     "data": {
      "text/plain": [
       "cache: 1000 MiB\n"
      ]
     },
     "execution_count": 2,
     "metadata": {},
     "output_type": "execute_result"
    }
   ],
   "source": [
    ":cache 1000\n",
    ":dep argon2"
   ]
  },
  {
   "cell_type": "code",
   "execution_count": 3,
   "id": "6325dcd8-c816-42db-a0c0-21310da6f561",
   "metadata": {},
   "outputs": [],
   "source": [
    "use argon2::{Algorithm, Argon2, ParamsBuilder, password_hash::{PasswordHasher, SaltString}, Version};"
   ]
  },
  {
   "cell_type": "code",
   "execution_count": 4,
   "id": "c8cdf585-868b-4ad6-8543-8f8a22e4b38f",
   "metadata": {},
   "outputs": [],
   "source": [
    "let params = ParamsBuilder::new().m_cost(2u32.pow(20)).t_cost(2).p_cost(8).output_len(32).build().unwrap();"
   ]
  },
  {
   "cell_type": "code",
   "execution_count": 5,
   "id": "942e497c-892d-459e-b665-ca7233e87bb4",
   "metadata": {},
   "outputs": [
    {
     "data": {
      "text/plain": [
       "Argon2 { algorithm: Argon2id, version: V0x13, params: Params { m_cost: 1048576, t_cost: 2, p_cost: 8, keyid: KeyId { bytes: [0, 0, 0, 0, 0, 0, 0, 0], len: 0 }, data: AssociatedData { bytes: [0, 0, 0, 0, 0, 0, 0, 0, 0, 0, 0, 0, 0, 0, 0, 0, 0, 0, 0, 0, 0, 0, 0, 0, 0, 0, 0, 0, 0, 0, 0, 0], len: 0 }, output_len: Some(32) }, .. }"
      ]
     },
     "execution_count": 5,
     "metadata": {},
     "output_type": "execute_result"
    }
   ],
   "source": [
    "let hasher = Argon2::new(Algorithm::Argon2id, Version::V0x13, params);\n",
    "hasher"
   ]
  },
  {
   "cell_type": "code",
   "execution_count": 6,
   "id": "b33e448b-3bcc-4040-8f89-1d4de877b9bf",
   "metadata": {},
   "outputs": [],
   "source": [
    "let password = b\"password\";\n",
    "let salt = SaltString::encode_b64(b\"othersalt\").unwrap();"
   ]
  },
  {
   "cell_type": "code",
   "execution_count": 7,
   "id": "97a1143a-24dd-4ead-9bf6-cca919f695f2",
   "metadata": {},
   "outputs": [
    {
     "data": {
      "text/plain": [
       "[52, 133, 61, 194, 74, 180, 219, 76, 42, 218, 216, 162, 59, 31, 209, 55, 23, 194, 149, 157, 100, 1, 157, 178, 149, 247, 13, 226, 145, 179, 26, 41]"
      ]
     },
     "execution_count": 7,
     "metadata": {},
     "output_type": "execute_result"
    }
   ],
   "source": [
    "let heavy_hash = hasher.hash_password(password, &salt).unwrap().hash.unwrap().as_bytes().to_owned();\n",
    "heavy_hash"
   ]
  },
  {
   "cell_type": "code",
   "execution_count": null,
   "id": "1d3d0fdb-7218-4ef9-9f38-13a169ee295a",
   "metadata": {},
   "outputs": [],
   "source": []
  }
 ],
 "metadata": {
  "kernelspec": {
   "display_name": "Rust",
   "language": "rust",
   "name": "rust"
  },
  "language_info": {
   "codemirror_mode": "rust",
   "file_extension": ".rs",
   "mimetype": "text/rust",
   "name": "Rust",
   "pygment_lexer": "rust",
   "version": ""
  }
 },
 "nbformat": 4,
 "nbformat_minor": 5
}
