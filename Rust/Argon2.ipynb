{
 "cells": [
  {
   "cell_type": "markdown",
   "id": "3487a736-924d-48cb-b6d0-265c25e8835f",
   "metadata": {},
   "source": [
    "## Argon2\n",
    "---"
   ]
  },
  {
   "cell_type": "code",
   "execution_count": 9,
   "id": "f6e8b87b-590f-4dbe-9b62-0fc5ed54154a",
   "metadata": {},
   "outputs": [],
   "source": [
    ":dep rust-argon2"
   ]
  },
  {
   "cell_type": "code",
   "execution_count": 12,
   "id": "6325dcd8-c816-42db-a0c0-21310da6f561",
   "metadata": {},
   "outputs": [],
   "source": [
    "use argon2::{Config, Variant, Version, hash_raw, verify_raw};"
   ]
  },
  {
   "cell_type": "code",
   "execution_count": 13,
   "id": "a83e10e9-800f-495e-856e-9a8511aaaa60",
   "metadata": {},
   "outputs": [],
   "source": [
    "let password = b\"password\";\n",
    "let salt = b\"othersalt\";"
   ]
  },
  {
   "cell_type": "code",
   "execution_count": 17,
   "id": "827a612e-5bfa-4687-bd93-d752080cdef8",
   "metadata": {},
   "outputs": [],
   "source": [
    "let config = Config {\n",
    "    variant: Variant::Argon2id,\n",
    "    version: Version::Version13,\n",
    "    mem_cost: 1048576,\n",
    "    time_cost: 1,\n",
    "    lanes: 4,\n",
    "    secret: &[],\n",
    "    ad: &[],\n",
    "    hash_length: 128\n",
    "};"
   ]
  },
  {
   "cell_type": "code",
   "execution_count": 20,
   "id": "ac15ab36-4817-4f04-acdb-a6acae79611e",
   "metadata": {},
   "outputs": [
    {
     "data": {
      "text/plain": [
       "[163, 129, 189, 168, 64, 138, 236, 35, 167, 173, 209, 153, 67, 252, 79, 183, 235, 139, 168, 137, 20, 172, 42, 242, 174, 188, 143, 156, 40, 153, 32, 126, 255, 79, 249, 59, 125, 156, 48, 130, 206, 27, 59, 91, 192, 160, 219, 216, 242, 130, 40, 69, 151, 58, 147, 188, 252, 176, 95, 87, 105, 248, 127, 167, 214, 38, 195, 46, 129, 51, 152, 118, 16, 43, 227, 98, 74, 197, 143, 135, 101, 255, 85, 138, 208, 75, 54, 13, 187, 210, 103, 37, 188, 200, 40, 50, 155, 169, 181, 154, 95, 177, 190, 185, 98, 212, 81, 218, 34, 178, 156, 221, 250, 149, 112, 228, 9, 227, 152, 156, 243, 198, 36, 168, 155, 98, 149, 140]"
      ]
     },
     "execution_count": 20,
     "metadata": {},
     "output_type": "execute_result"
    }
   ],
   "source": [
    "let hash = hash_raw(password, salt, &config).unwrap();\n",
    "hash"
   ]
  },
  {
   "cell_type": "code",
   "execution_count": 19,
   "id": "23d504c6-f5b8-4977-8347-161741ddb91d",
   "metadata": {},
   "outputs": [],
   "source": [
    "let matches = verify_raw(password, salt, &hash, &config).unwrap();\n",
    "assert!(matches);"
   ]
  },
  {
   "cell_type": "code",
   "execution_count": null,
   "id": "97a1143a-24dd-4ead-9bf6-cca919f695f2",
   "metadata": {},
   "outputs": [],
   "source": []
  },
  {
   "cell_type": "code",
   "execution_count": null,
   "id": "d078bf88-b485-4c7f-992d-2e1d0d0183f5",
   "metadata": {},
   "outputs": [],
   "source": []
  },
  {
   "cell_type": "code",
   "execution_count": null,
   "id": "013675c5-f1f1-421f-b179-9f7010a81413",
   "metadata": {},
   "outputs": [],
   "source": []
  },
  {
   "cell_type": "code",
   "execution_count": null,
   "id": "fd00e047-f252-442e-a941-290bf0945142",
   "metadata": {},
   "outputs": [],
   "source": []
  },
  {
   "cell_type": "code",
   "execution_count": null,
   "id": "67480692-5086-4e2c-8028-1f484d2be35b",
   "metadata": {},
   "outputs": [],
   "source": []
  },
  {
   "cell_type": "code",
   "execution_count": null,
   "id": "cb8969f9-4708-4f8e-817d-408af9ce5e95",
   "metadata": {},
   "outputs": [],
   "source": []
  },
  {
   "cell_type": "code",
   "execution_count": null,
   "id": "85e89bab-125c-48b7-a7be-45d4cccdfc68",
   "metadata": {},
   "outputs": [],
   "source": []
  },
  {
   "cell_type": "code",
   "execution_count": null,
   "id": "61ff7a09-c80e-448e-9b73-55e504d2f6a6",
   "metadata": {},
   "outputs": [],
   "source": []
  },
  {
   "cell_type": "code",
   "execution_count": null,
   "id": "f4a514aa-3a0d-4b95-a04e-ca4b79066472",
   "metadata": {},
   "outputs": [],
   "source": []
  }
 ],
 "metadata": {
  "kernelspec": {
   "display_name": "Rust",
   "language": "rust",
   "name": "rust"
  },
  "language_info": {
   "codemirror_mode": "rust",
   "file_extension": ".rs",
   "mimetype": "text/rust",
   "name": "Rust",
   "pygment_lexer": "rust",
   "version": ""
  }
 },
 "nbformat": 4,
 "nbformat_minor": 5
}
