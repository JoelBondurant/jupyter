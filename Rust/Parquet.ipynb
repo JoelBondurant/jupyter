{
 "cells": [
  {
   "cell_type": "markdown",
   "id": "0d62bc27-28d0-4a8e-be92-3693b5196b3e",
   "metadata": {},
   "source": [
    "## Parquet\n",
    "---"
   ]
  },
  {
   "cell_type": "markdown",
   "id": "b1cebfe3-f568-4ce3-ae2c-ad6c09144cf7",
   "metadata": {},
   "source": [
    "---\n",
    "### Step 1: BTreeMap -> Arrow RecordBatch."
   ]
  },
  {
   "cell_type": "code",
   "execution_count": 2,
   "id": "e1201e0d-3549-4416-b251-0e324cafb55a",
   "metadata": {},
   "outputs": [],
   "source": [
    ":dep arrow\n",
    ":dep parquet"
   ]
  },
  {
   "cell_type": "code",
   "execution_count": 3,
   "id": "f334686a-d56c-41f8-af9d-f1a3a6b178cb",
   "metadata": {},
   "outputs": [],
   "source": [
    "use std::sync::Arc;"
   ]
  },
  {
   "cell_type": "code",
   "execution_count": 4,
   "id": "0ae2523a-d1d2-4f4b-bf8b-dd61753d5eec",
   "metadata": {},
   "outputs": [],
   "source": [
    "use arrow::array::{ArrayRef, StringArray};\n",
    "use arrow::record_batch::RecordBatch;"
   ]
  },
  {
   "cell_type": "code",
   "execution_count": 5,
   "id": "b61f4300-d03a-4b0c-9a9f-a6f0b449dee9",
   "metadata": {},
   "outputs": [
    {
     "data": {
      "text/plain": [
       "{\"k1\": \"v1\", \"k2\": \"v2\", \"k3\": \"v3\"}"
      ]
     },
     "execution_count": 5,
     "metadata": {},
     "output_type": "execute_result"
    }
   ],
   "source": [
    "let mut src = std::collections::BTreeMap::<String, String>::new();\n",
    "src.insert(\"k1\".into(), \"v1\".into());\n",
    "src.insert(\"k2\".into(), \"v2\".into());\n",
    "src.insert(\"k3\".into(), \"v3\".into());\n",
    "src"
   ]
  },
  {
   "cell_type": "code",
   "execution_count": 6,
   "id": "4c3dd6ff-ac63-4a61-af11-af4c39f701e4",
   "metadata": {},
   "outputs": [],
   "source": [
    "let keys = src.keys().map(|x|x.to_string()).collect::<Vec<String>>();\n",
    "let vals = src.values().map(|x|x.to_string()).collect::<Vec<String>>();"
   ]
  },
  {
   "cell_type": "code",
   "execution_count": 7,
   "id": "3e14791b-5697-48a9-84f8-33e0458afba4",
   "metadata": {},
   "outputs": [],
   "source": [
    "let keys: ArrayRef = Arc::new(StringArray::from(keys));\n",
    "let vals: ArrayRef = Arc::new(StringArray::from(vals));"
   ]
  },
  {
   "cell_type": "code",
   "execution_count": 8,
   "id": "1fb79d1b-029e-48a5-a800-5d2339c7be38",
   "metadata": {},
   "outputs": [],
   "source": [
    "let record_batch = RecordBatch::try_from_iter(vec![(\"key\", keys), (\"val\", vals)]).unwrap();"
   ]
  },
  {
   "cell_type": "code",
   "execution_count": 9,
   "id": "4591e021-7cbf-42fe-9e71-9dfccedcee47",
   "metadata": {},
   "outputs": [
    {
     "data": {
      "text/plain": [
       "RecordBatch { schema: Schema { fields: [Field { name: \"key\", data_type: Utf8, nullable: false, dict_id: 0, dict_is_ordered: false, metadata: {} }, Field { name: \"val\", data_type: Utf8, nullable: false, dict_id: 0, dict_is_ordered: false, metadata: {} }], metadata: {} }, columns: [StringArray\n",
       "[\n",
       "  \"k1\",\n",
       "  \"k2\",\n",
       "  \"k3\",\n",
       "], StringArray\n",
       "[\n",
       "  \"v1\",\n",
       "  \"v2\",\n",
       "  \"v3\",\n",
       "]], row_count: 3 }"
      ]
     },
     "execution_count": 9,
     "metadata": {},
     "output_type": "execute_result"
    }
   ],
   "source": [
    "record_batch"
   ]
  },
  {
   "cell_type": "markdown",
   "id": "64146cd3-f145-408a-a3b3-da7262b21aee",
   "metadata": {},
   "source": [
    "---\n",
    "### Step 2: Arrow RecordBatch -> Parquet Vec<[u8]>"
   ]
  },
  {
   "cell_type": "code",
   "execution_count": 10,
   "id": "f3cc4812-13a8-44a3-90e0-31d96bb4b68d",
   "metadata": {},
   "outputs": [],
   "source": [
    "use parquet::arrow::arrow_writer::ArrowWriter;\n",
    "use parquet::basic::Compression;\n",
    "use parquet::file::properties::WriterProperties;"
   ]
  },
  {
   "cell_type": "code",
   "execution_count": 11,
   "id": "38834df3-a878-4a66-b856-2fee7de6c317",
   "metadata": {},
   "outputs": [],
   "source": [
    "let mut buffer = Vec::<u8>::new();\n",
    "let writer_props = WriterProperties::builder().set_compression(Compression::LZ4).build();\n",
    "let mut writer = ArrowWriter::try_new(&mut buffer, record_batch.schema(), Some(writer_props)).unwrap();\n",
    "writer.write(&record_batch).unwrap();\n",
    "writer.close().unwrap();"
   ]
  },
  {
   "cell_type": "code",
   "execution_count": 12,
   "id": "fbc91437-f607-47fd-9359-67cf04517d42",
   "metadata": {},
   "outputs": [
    {
     "data": {
      "text/plain": [
       "[80, 65, 82, 49, 21, 4, 21, 36, 21, 50, 76, 21, 6, 21, 0, 18, 0, 0, 0, 0, 0, 18, 0, 0, 0, 17, 97, 2, 0, 0, 0, 107, 49, 6, 0, 112, 50, 2, 0, 0, 0, 107, 51, 21, 0, 21, 8, 21, 26, 44, 21, 6, 21, 16, 21, 6, 21, 6, 28, 88, 2, 107, 51, 24, 2, 107, 49, 0, 0, 0, 0, 0, 0, 4, 0, 0, 0, 5, 64, 2, 3, 36, 0, 21, 12, 25, 53, 0, 6, 16, 25, 24, 3, 107, 101, 121, 21, 10, 22, 6, 22, 126, 22, 158, 1, 38, 78, 38, 0, 28, 88, 2, 107, 51, 24, 2, 107, 49, 0, 0, 21, 4, 21, 36, 21, 50, 76, 21, 6, 21, 0, 18, 0, 0, 0, 0, 0, 18, 0, 0, 0, 17, 97, 2, 0, 0, 0, 118, 49, 6, 0, 112, 50, 2, 0, 0, 0, 118, 51, 21, 0, 21, 8, 21, 26, 44, 21, 6, 21, 16, 21, 6, 21, 6, 28, 88, 2, 118, 51, 24, 2, 118, 49, 0, 0, 0, 0, 0, 0, 4, 0, 0, 0, 5, 64, 2, 3, 36, 0, 21, 12, 25, 53, 0, 6, 16, 25, 24, 3, 118, 97, 108, 21, 10, 22, 6, 22, 126, 22, 158, 1, 38, 78, 38, 0, 28, 88, 2, 118, 51, 24, 2, 118, 49, 0, 0, 25, 17, 2, 25, 24, 2, 107, 49, 25, 24, 2, 107, 51, 21, 0, 25, 22, 0, 0, 25, 17, 2, 25, 24, 2, 118, 49, 25, 24, 2, 118, 51, 21, 0, 25, 22, 0, 0, 25, 28, 22, 86, 21, 80, 22, 0, 0, 0, 25, 28, 22, 190, 2, 21, 80, 22, 0, 0, 0, 21, 2, 25, 60, 72, 12, 97, 114, 114, 111, 119, 95, 115, 99, 104, 101, 109, 97, 21, 4, 0, 21, 12, 37, 0, 24, 3, 107, 101, 121, 37, 0, 76, 28, 0, 0, 0, 21, 12, 37, 0, 24, 3, 118, 97, 108, 37, 0, 76, 28, 0, 0, 0, 22, 6, 25, 28, 25, 44, 38, 166, 1, 28, 21, 12, 25, 53, 0, 6, 16, 25, 24, 3, 107, 101, 121, 21, 10, 22, 6, 22, 126, 22, 158, 1, 38, 86, 38, 8, 28, 88, 2, 107, 51, 24, 2, 107, 49, 0, 0, 22, 164, 4, 21, 20, 22, 216, 3, 21, 38, 0, 38, 142, 3, 28, 21, 12, 25, 53, 0, 6, 16, 25, 24, 3, 118, 97, 108, 21, 10, 22, 6, 22, 126, 22, 158, 1, 38, 190, 2, 38, 240, 1, 28, 88, 2, 118, 51, 24, 2, 118, 49, 0, 0, 22, 184, 4, 21, 22, 22, 254, 3, 21, 38, 0, 22, 252, 1, 22, 6, 38, 8, 22, 188, 2, 20, 0, 0, 25, 28, 24, 12, 65, 82, 82, 79, 87, 58, 115, 99, 104, 101, 109, 97, 24, 208, 1, 47, 47, 47, 47, 47, 53, 81, 65, 65, 65, 65, 81, 65, 65, 65, 65, 65, 65, 65, 75, 65, 65, 119, 65, 67, 103, 65, 74, 65, 65, 81, 65, 67, 103, 65, 65, 65, 66, 65, 65, 65, 65, 65, 65, 65, 81, 81, 65, 67, 65, 65, 73, 65, 65, 65, 65, 66, 65, 65, 73, 65, 65, 65, 65, 66, 65, 65, 65, 65, 65, 73, 65, 65, 65, 65, 56, 65, 65, 65, 65, 66, 65, 65, 65, 65, 78, 122, 47, 47, 47, 56, 85, 65, 65, 65, 65, 68, 65, 65, 65, 65, 65, 65, 65, 65, 65, 85, 77, 65, 65, 65, 65, 65, 65, 65, 65, 65, 77, 122, 47, 47, 47, 56, 68, 65, 65, 65, 65, 100, 109, 70, 115, 65, 66, 65, 65, 70, 65, 65, 81, 65, 65, 65, 65, 68, 119, 65, 69, 65, 65, 65, 65, 67, 65, 65, 81, 65, 65, 65, 65, 71, 65, 65, 65, 65, 65, 119, 65, 65, 65, 65, 65, 65, 65, 65, 70, 69, 65, 65, 65, 65, 65, 65, 65, 65, 65, 65, 69, 65, 65, 81, 65, 66, 65, 65, 65, 65, 65, 77, 65, 65, 65, 66, 114, 90, 88, 107, 65, 0, 24, 25, 112, 97, 114, 113, 117, 101, 116, 45, 114, 115, 32, 118, 101, 114, 115, 105, 111, 110, 32, 52, 56, 46, 48, 46, 48, 0, 178, 1, 0, 0, 80, 65, 82, 49]"
      ]
     },
     "execution_count": 12,
     "metadata": {},
     "output_type": "execute_result"
    }
   ],
   "source": [
    "buffer"
   ]
  },
  {
   "cell_type": "markdown",
   "id": "47f0fd17-0eb0-47d7-a6c4-0ae6566e861d",
   "metadata": {},
   "source": [
    "---\n",
    "### Step 3: Parquet Vec<[u8]> -> Parquet File"
   ]
  },
  {
   "cell_type": "code",
   "execution_count": 13,
   "id": "eed89997-9527-4bfc-a607-16cd6fa1207a",
   "metadata": {},
   "outputs": [],
   "source": [
    "use std::fs::File;\n",
    "use std::io::Write;"
   ]
  },
  {
   "cell_type": "code",
   "execution_count": 14,
   "id": "0cfee429-de46-4cae-bcf4-5b24cd455805",
   "metadata": {},
   "outputs": [],
   "source": [
    "let mut file = File::create(\"test.parq\").unwrap();\n",
    "file.write_all(&buffer);"
   ]
  },
  {
   "cell_type": "markdown",
   "id": "b7ac97a7-dafb-46c5-9512-5a594b44f4de",
   "metadata": {},
   "source": [
    "---\n",
    "### Step 4: Parquet File -> Polars DataFrame"
   ]
  },
  {
   "cell_type": "code",
   "execution_count": 23,
   "id": "d8467a6c-fcce-47ae-93f9-22bad84bd077",
   "metadata": {},
   "outputs": [],
   "source": [
    ":dep polars-core = { features = [\"fmt\"] }\n",
    ":dep polars-io = { features = [\"parquet\"] }"
   ]
  },
  {
   "cell_type": "code",
   "execution_count": 24,
   "id": "d70c9f9e-e773-4296-960c-1c21682fe84d",
   "metadata": {},
   "outputs": [],
   "source": [
    "use polars_io::parquet::ParquetReader;\n",
    "use polars_io::SerReader;"
   ]
  },
  {
   "cell_type": "code",
   "execution_count": 28,
   "id": "0a4904fc-c184-474d-983e-2aa126cd7d40",
   "metadata": {},
   "outputs": [],
   "source": [
    "let mut file = File::open(\"test.parq\").unwrap();"
   ]
  },
  {
   "cell_type": "code",
   "execution_count": 29,
   "id": "92ebcb16-aa90-4433-b7e4-b3aa5ebe26db",
   "metadata": {},
   "outputs": [],
   "source": [
    "let df = ParquetReader::new(file).finish().unwrap();"
   ]
  },
  {
   "cell_type": "code",
   "execution_count": 30,
   "id": "b4e95768-1082-41c9-a8cf-924bd8656da9",
   "metadata": {},
   "outputs": [
    {
     "data": {
      "text/plain": [
       "shape: (3, 2)\n",
       "┌─────┬─────┐\n",
       "│ key ┆ val │\n",
       "│ --- ┆ --- │\n",
       "│ str ┆ str │\n",
       "╞═════╪═════╡\n",
       "│ k1  ┆ v1  │\n",
       "│ k2  ┆ v2  │\n",
       "│ k3  ┆ v3  │\n",
       "└─────┴─────┘"
      ]
     },
     "execution_count": 30,
     "metadata": {},
     "output_type": "execute_result"
    }
   ],
   "source": [
    "df"
   ]
  },
  {
   "cell_type": "code",
   "execution_count": null,
   "id": "b261fdf5-c2da-4c43-89b2-531e1856fb96",
   "metadata": {},
   "outputs": [],
   "source": []
  }
 ],
 "metadata": {
  "kernelspec": {
   "display_name": "Rust",
   "language": "rust",
   "name": "rust"
  },
  "language_info": {
   "codemirror_mode": "rust",
   "file_extension": ".rs",
   "mimetype": "text/rust",
   "name": "Rust",
   "pygment_lexer": "rust",
   "version": ""
  }
 },
 "nbformat": 4,
 "nbformat_minor": 5
}
