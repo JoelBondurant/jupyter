{
 "cells": [
  {
   "cell_type": "markdown",
   "id": "4ea89381-af21-40a8-882e-400afcc17fda",
   "metadata": {},
   "source": [
    "## TcpListener\n",
    "---"
   ]
  },
  {
   "cell_type": "code",
   "execution_count": 2,
   "id": "58df0e99-56ba-487a-a353-d7d48acee63b",
   "metadata": {},
   "outputs": [],
   "source": [
    ":dep tokio = { features = [\"full\"] }"
   ]
  },
  {
   "cell_type": "code",
   "execution_count": 3,
   "id": "5a6facb8-82cc-4628-93d1-bc095b468ae6",
   "metadata": {},
   "outputs": [],
   "source": [
    "use tokio::io::{AsyncReadExt, AsyncWriteExt};\n",
    "use tokio::net::{TcpListener, TcpStream};"
   ]
  },
  {
   "cell_type": "code",
   "execution_count": 4,
   "id": "3a212c14-2047-4e2f-b1f2-018c58a30f69",
   "metadata": {},
   "outputs": [],
   "source": [
    "async fn handle_connection(mut stream: TcpStream) {\n",
    "    let mut buffer = [0; 1024];\n",
    "\tlet len = stream.read(&mut buffer).await.unwrap();\n",
    "\tlet event = String::from_utf8_lossy(&buffer[..len]).to_string();\n",
    "    println!(\"{event}\");\n",
    "}"
   ]
  },
  {
   "cell_type": "code",
   "execution_count": 5,
   "id": "f0b92c60-e9fb-4515-8ff1-7f7271dc205d",
   "metadata": {},
   "outputs": [],
   "source": [
    "async fn main() {\n",
    "    println!(\"Listening on :::7979.\");\n",
    "    let listener = TcpListener::bind(\":::7979\").await.unwrap();\n",
    "    loop {\n",
    "        let (socket, _) = listener.accept().await.unwrap();\n",
    "        tokio::spawn(async move { handle_connection(socket).await });\n",
    "    }\n",
    "}"
   ]
  },
  {
   "cell_type": "code",
   "execution_count": null,
   "id": "b6cf4c36-065c-4197-a5f7-9551ef729462",
   "metadata": {},
   "outputs": [
    {
     "name": "stdout",
     "output_type": "stream",
     "text": [
      "Listening on :::7979.\n",
      "send function works.\n"
     ]
    }
   ],
   "source": [
    "main().await"
   ]
  },
  {
   "cell_type": "code",
   "execution_count": null,
   "id": "2dadc0fc-571a-4472-9d48-26fa95b40962",
   "metadata": {},
   "outputs": [],
   "source": []
  },
  {
   "cell_type": "code",
   "execution_count": null,
   "id": "319dbeb5-81a5-4f75-92ca-2180d6ab136e",
   "metadata": {},
   "outputs": [],
   "source": []
  },
  {
   "cell_type": "code",
   "execution_count": null,
   "id": "769f2ec4-c892-4082-9e16-fae880b55efa",
   "metadata": {},
   "outputs": [],
   "source": []
  }
 ],
 "metadata": {
  "kernelspec": {
   "display_name": "Rust",
   "language": "rust",
   "name": "rust"
  },
  "language_info": {
   "codemirror_mode": "rust",
   "file_extension": ".rs",
   "mimetype": "text/rust",
   "name": "Rust",
   "pygment_lexer": "rust",
   "version": ""
  }
 },
 "nbformat": 4,
 "nbformat_minor": 5
}
