{
 "cells": [
  {
   "cell_type": "markdown",
   "id": "d4f1e535-9cc0-40d3-bef8-7cf6ae737268",
   "metadata": {},
   "source": [
    "## Backblaze\n",
    "---"
   ]
  },
  {
   "cell_type": "code",
   "execution_count": null,
   "id": "93939dc0-0f96-42b5-bd55-296a945dd1b3",
   "metadata": {},
   "outputs": [],
   "source": [
    ":dep base64\n",
    ":dep reqwest = { features = [\"blocking\"] }\n",
    ":dep serde_json"
   ]
  },
  {
   "cell_type": "code",
   "execution_count": null,
   "id": "d5cac09a-dcda-4911-8e6c-f1cf7128ab5f",
   "metadata": {},
   "outputs": [],
   "source": [
    "use std::collections::HashMap;"
   ]
  },
  {
   "cell_type": "code",
   "execution_count": null,
   "id": "95ee3cc2-721e-4b0a-9748-bd177eabbe9b",
   "metadata": {},
   "outputs": [],
   "source": [
    "let api_config: HashMap<String, String> = serde_json::from_str(&std::fs::read_to_string(\"/secrets/backblaze.json\").unwrap()).unwrap();\n",
    "let api_key = base64::encode(format!(\"{}:{}\", api_config[\"key_id\"], api_config[\"app_key\"]));\n",
    "let auth_url = \"https://api.backblazeb2.com/b2api/v2/b2_authorize_account\";\n",
    "let b2 = reqwest::blocking::Client::new();\n",
    "let auth_req = b2.get(auth_url).header(\"Authorization\", format!(\"Basic {api_key}\")).build().unwrap();\n",
    "let auth_resp = b2.execute(auth_req).unwrap().text().unwrap();\n",
    "let auth: HashMap<String, serde_json::Value> = serde_json::from_str(&auth_resp).unwrap();\n",
    "let auth_token = auth[\"authorizationToken\"].clone().as_str().unwrap().to_string();\n",
    "let download_url = auth[\"downloadUrl\"].clone().as_str().unwrap().to_string();"
   ]
  },
  {
   "cell_type": "code",
   "execution_count": 30,
   "id": "3f918c9a-1032-498a-af8a-438bb9e2b044",
   "metadata": {},
   "outputs": [],
   "source": [
    "let download_req = b2.get(format!(\"{download_url}/file/digisafe/00asusjr/digisafe.db\"))\n",
    "    .header(\"Authorization\", format!(\"{auth_token}\"))\n",
    "    .build().unwrap();\n",
    "let db = b2.execute(download_req).unwrap().text().unwrap();"
   ]
  },
  {
   "cell_type": "code",
   "execution_count": 31,
   "id": "acba533e-b5cc-48d3-8baf-8ac7290c3c90",
   "metadata": {},
   "outputs": [],
   "source": [
    "std::fs::write(\"/secrets/digisafe_00asusjr.db\", db);"
   ]
  }
 ],
 "metadata": {
  "kernelspec": {
   "display_name": "Rust",
   "language": "rust",
   "name": "rust"
  },
  "language_info": {
   "codemirror_mode": "rust",
   "file_extension": ".rs",
   "mimetype": "text/rust",
   "name": "Rust",
   "pygment_lexer": "rust",
   "version": ""
  }
 },
 "nbformat": 4,
 "nbformat_minor": 5
}
