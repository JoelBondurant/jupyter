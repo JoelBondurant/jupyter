{
 "cells": [
  {
   "cell_type": "markdown",
   "id": "79639c5d-1a66-4f77-897a-7ec589394fe1",
   "metadata": {},
   "source": [
    "## XChaCha20Poly1305\n",
    "---"
   ]
  },
  {
   "cell_type": "code",
   "execution_count": 2,
   "id": "980dc541-ce40-4cea-be97-8763f957c179",
   "metadata": {},
   "outputs": [],
   "source": [
    ":dep chacha20poly1305"
   ]
  },
  {
   "cell_type": "code",
   "execution_count": 3,
   "id": "7fa2b518-364e-4654-a3ff-3b7195709b03",
   "metadata": {},
   "outputs": [],
   "source": [
    "use chacha20poly1305::XChaCha20Poly1305;\n",
    "use chacha20poly1305::aead::{Aead, KeyInit};"
   ]
  },
  {
   "cell_type": "code",
   "execution_count": 4,
   "id": "3680f223-bba3-427a-acd6-5840a1734da3",
   "metadata": {},
   "outputs": [],
   "source": [
    "fn encrypt(raw_text: Vec<u8>, key: [u8; 32], nonce: &[u8; 24]) -> Vec<u8> {\n",
    "    let cipher = XChaCha20Poly1305::new(&key.into());\n",
    "    let cipher_text = cipher.encrypt(nonce.into(), &raw_text[..]).unwrap();\n",
    "    cipher_text\n",
    "}"
   ]
  },
  {
   "cell_type": "code",
   "execution_count": 5,
   "id": "d5397aec-6b5b-457f-97fe-badc05d33a4a",
   "metadata": {},
   "outputs": [],
   "source": [
    "fn decrypt(enc_text: Vec<u8>, key: [u8; 32], nonce: &[u8; 24]) -> Option<Vec<u8>> {\n",
    "    let cipher = XChaCha20Poly1305::new(&key.into());\n",
    "    let rplain_text = cipher.decrypt(nonce.into(), enc_text.as_ref());\n",
    "    if let Ok(plain_text) = rplain_text {\n",
    "        Some(plain_text)\n",
    "    } else {\n",
    "        None\n",
    "    }\n",
    "}"
   ]
  },
  {
   "cell_type": "code",
   "execution_count": 6,
   "id": "aa41d406-f179-415d-ad32-416332c284a9",
   "metadata": {},
   "outputs": [
    {
     "data": {
      "text/plain": [
       "[160, 139, 0, 75, 185, 170, 250, 154, 104, 151, 251, 153, 1, 36, 196, 158, 188, 66, 41, 190]"
      ]
     },
     "execution_count": 6,
     "metadata": {},
     "output_type": "execute_result"
    }
   ],
   "source": [
    "let enc = encrypt(\"test\".into(), [7u8; 32], &[8u8; 24]);\n",
    "enc"
   ]
  },
  {
   "cell_type": "code",
   "execution_count": 7,
   "id": "4ead1edc-09ed-47db-83cb-84f5125461e9",
   "metadata": {},
   "outputs": [
    {
     "data": {
      "text/plain": [
       "[116, 101, 115, 116]"
      ]
     },
     "execution_count": 7,
     "metadata": {},
     "output_type": "execute_result"
    }
   ],
   "source": [
    "let dec = decrypt(enc, [7u8; 32], &[8u8; 24]).unwrap();\n",
    "dec"
   ]
  },
  {
   "cell_type": "code",
   "execution_count": 8,
   "id": "dc928805-c81e-469b-bf27-83502388117a",
   "metadata": {},
   "outputs": [
    {
     "data": {
      "text/plain": [
       "\"test\""
      ]
     },
     "execution_count": 8,
     "metadata": {},
     "output_type": "execute_result"
    }
   ],
   "source": [
    "std::str::from_utf8(&dec).unwrap()"
   ]
  },
  {
   "cell_type": "code",
   "execution_count": null,
   "id": "d9b211ae-dfc5-4374-a835-02a2fdd7ee52",
   "metadata": {},
   "outputs": [],
   "source": []
  },
  {
   "cell_type": "code",
   "execution_count": null,
   "id": "622efc57-32f7-4b5e-9425-c65e3c1971ab",
   "metadata": {},
   "outputs": [],
   "source": []
  }
 ],
 "metadata": {
  "kernelspec": {
   "display_name": "Rust",
   "language": "rust",
   "name": "rust"
  },
  "language_info": {
   "codemirror_mode": "rust",
   "file_extension": ".rs",
   "mimetype": "text/rust",
   "name": "Rust",
   "pygment_lexer": "rust",
   "version": ""
  }
 },
 "nbformat": 4,
 "nbformat_minor": 5
}
