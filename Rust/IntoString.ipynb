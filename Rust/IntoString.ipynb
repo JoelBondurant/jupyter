{
 "cells": [
  {
   "cell_type": "markdown",
   "id": "8d0b8fa1-11a6-48be-b46f-4cf1d6bdcf28",
   "metadata": {},
   "source": [
    "## Into String\n",
    "---"
   ]
  },
  {
   "cell_type": "code",
   "execution_count": null,
   "id": "90acaf9a-cbde-4211-864d-c4d2fa415ecd",
   "metadata": {},
   "outputs": [],
   "source": [
    "fn f1(x: impl Into<String>) -> usize {\n",
    "    Into::<String>::into(x).len()\n",
    "}"
   ]
  },
  {
   "cell_type": "code",
   "execution_count": null,
   "id": "33dfcef5-62a1-4685-89cd-39b88db62066",
   "metadata": {},
   "outputs": [],
   "source": [
    "f1(\"ref str\")"
   ]
  },
  {
   "cell_type": "code",
   "execution_count": null,
   "id": "381cced0-30d1-4b14-9437-70448a8eca62",
   "metadata": {},
   "outputs": [],
   "source": [
    "f1(\"String\".to_string())"
   ]
  },
  {
   "cell_type": "code",
   "execution_count": null,
   "id": "c962360b-c9cf-4a2b-9333-83e8622673d3",
   "metadata": {},
   "outputs": [],
   "source": [
    "f1(std::path::Path::new(\"String\"))"
   ]
  },
  {
   "cell_type": "code",
   "execution_count": null,
   "id": "bfd37d18-0439-469d-a23d-faecc1c5a614",
   "metadata": {},
   "outputs": [],
   "source": [
    "f1(std::path::Path::new(\"String\").as_os_str())"
   ]
  },
  {
   "cell_type": "code",
   "execution_count": null,
   "id": "cf4427b7-a333-46ca-8bd3-e035a3809948",
   "metadata": {},
   "outputs": [],
   "source": []
  }
 ],
 "metadata": {
  "kernelspec": {
   "display_name": "Rust",
   "language": "rust",
   "name": "rust"
  },
  "language_info": {
   "codemirror_mode": "rust",
   "file_extension": ".rs",
   "mimetype": "text/rust",
   "name": "Rust",
   "pygment_lexer": "rust",
   "version": ""
  }
 },
 "nbformat": 4,
 "nbformat_minor": 5
}
