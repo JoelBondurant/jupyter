{
 "cells": [
  {
   "cell_type": "markdown",
   "id": "a535e938-e7f9-4226-b43c-f46d9c587cfc",
   "metadata": {},
   "source": [
    "## EXIF\n",
    "---"
   ]
  },
  {
   "cell_type": "code",
   "execution_count": 2,
   "id": "9ab40f37-18bc-475b-86e1-f2c207a0bfcd",
   "metadata": {},
   "outputs": [],
   "source": [
    ":dep kamadak-exif"
   ]
  },
  {
   "cell_type": "code",
   "execution_count": 3,
   "id": "9a8b9dff-ce4c-4669-8058-e04026dac0fe",
   "metadata": {},
   "outputs": [],
   "source": [
    "fn load_img() -> Vec<u8> {\n",
    "    std::fs::read(\"../data/Canon_PowerShot_S40.jpg\").ok().unwrap()\n",
    "}"
   ]
  },
  {
   "cell_type": "code",
   "execution_count": 4,
   "id": "4a4ba1c9-3494-41cd-b773-cb4da2b39b72",
   "metadata": {},
   "outputs": [],
   "source": [
    "fn parse_exif(img: Vec<u8>) -> exif::Exif {\n",
    "    exif::Reader::new().read_from_container(&mut std::io::Cursor::new(img)).ok().unwrap()\n",
    "}"
   ]
  },
  {
   "cell_type": "code",
   "execution_count": 5,
   "id": "35011850-e02f-4cd1-a205-5748bbbf8822",
   "metadata": {},
   "outputs": [],
   "source": [
    "fn print_exif(dat: exif::Exif) {\n",
    "    for x in dat.fields() {\n",
    "        println!(\"{} {} {}\", x.tag, x.ifd_num, x.display_value().with_unit(&dat));\n",
    "    }\n",
    "}"
   ]
  },
  {
   "cell_type": "code",
   "execution_count": 6,
   "id": "98c63652-c898-44e2-9e6e-350a8eaca243",
   "metadata": {},
   "outputs": [
    {
     "name": "stdout",
     "output_type": "stream",
     "text": [
      "Make primary \"Canon\"\n",
      "Model primary \"Canon PowerShot S40\"\n",
      "Orientation primary row 0 at top and column 0 at left\n",
      "XResolution primary 180 pixels per inch\n",
      "YResolution primary 180 pixels per inch\n",
      "ResolutionUnit primary inch\n",
      "DateTime primary 2003-12-14 12:01:44\n",
      "YCbCrPositioning primary centered\n",
      "ExposureTime primary 1/500 s\n",
      "FNumber primary f/4.9\n",
      "ExifVersion primary 2.2\n",
      "DateTimeOriginal primary 2003-12-14 12:01:44\n",
      "DateTimeDigitized primary 2003-12-14 12:01:44\n",
      "ComponentsConfiguration primary YCbCr_\n",
      "CompressedBitsPerPixel primary 5\n",
      "ShutterSpeedValue primary 8.96875 EV\n",
      "ApertureValue primary 4.65625 EV\n",
      "ExposureBiasValue primary 0 EV\n",
      "MaxApertureValue primary 2.970855712890625 EV\n",
      "MeteringMode primary center-weighted average\n",
      "Flash primary not fired, no return light detection function, auto\n",
      "FocalLength primary 21.3125 mm\n",
      "MakerNote primary 0x0c0001000300280000004404000002000300040000009404000003000300040000009c040000040003001b000000a40400000000030006000000da0400000000030004000000e60400000600020020000000ee04000007000200180000000e05000008000400010000003be111000900020020000000260500001000040001000000000011010d000300150000004605000000000000500002000000050001000000000004000000010000000100000000000000000011000500010003300100ffffffffaa02e30020009500c000000000000000000000000000ffff3100e008e008000001000200aa021e01d700000000000000000036000000a000140195001f0100000000000000000600000000000000023000000000000001000e03000095002101000000000000fa000000000000000000000000000000000000000000494d473a506f77657253686f7420533430204a504547000000000000000000004669726d776172652056657273696f6e20312e3130000000416e64726561732048756767656c0000000000000000000000000000000000002a00030001807a0101800000000000000301020000000a000000000000003900c6000500000000000000\n",
      "UserComment primary 0x000000000000000000000000000000000000000000000000000000000000000000000000000000000000000000000000000000000000000000000000000000000000000000000000000000000000000000000000000000000000000000000000000000000000000000000000000000000000000000000000000000000000000000000000000000000000000000000000000000000000000000000000000000000000000000000000000000000000000000000000000000000000000000000000000000000000000000000000000000000000000000000000000000000000000000000000000000000000000000000000000000000000000000000000000000000000000000000000\n",
      "FlashpixVersion primary 1.0\n",
      "ColorSpace primary sRGB\n",
      "PixelXDimension primary 2272 pixels\n",
      "PixelYDimension primary 1704 pixels\n",
      "InteroperabilityIndex primary \"R98\"\n",
      "InteroperabilityVersion primary 1.00\n",
      "RelatedImageWidth primary 2272 pixels\n",
      "RelatedImageLength primary 1704 pixels\n",
      "FocalPlaneXResolution primary 8114.285714285715 pixels per inch\n",
      "FocalPlaneYResolution primary 8114.285714285715 pixels per inch\n",
      "FocalPlaneResolutionUnit primary inch\n",
      "SensingMethod primary one-chip color area sensor\n",
      "FileSource primary digital still camera\n",
      "CustomRendered primary normal process\n",
      "ExposureMode primary auto exposure\n",
      "WhiteBalance primary auto white balance\n",
      "DigitalZoomRatio primary 1\n",
      "SceneCaptureType primary standard\n",
      "Compression thumbnail JPEG\n",
      "XResolution thumbnail 180 pixels per inch\n",
      "YResolution thumbnail 180 pixels per inch\n",
      "ResolutionUnit thumbnail inch\n",
      "JPEGInterchangeFormat thumbnail 2036\n",
      "JPEGInterchangeFormatLength thumbnail 5448\n"
     ]
    }
   ],
   "source": [
    "print_exif(parse_exif(load_img()));"
   ]
  },
  {
   "cell_type": "code",
   "execution_count": null,
   "id": "5370d041-1329-4090-8d24-dd69e1ea1eed",
   "metadata": {},
   "outputs": [],
   "source": []
  }
 ],
 "metadata": {
  "kernelspec": {
   "display_name": "Rust",
   "language": "rust",
   "name": "rust"
  },
  "language_info": {
   "codemirror_mode": "rust",
   "file_extension": ".rs",
   "mimetype": "text/rust",
   "name": "Rust",
   "pygment_lexer": "rust",
   "version": ""
  }
 },
 "nbformat": 4,
 "nbformat_minor": 5
}
