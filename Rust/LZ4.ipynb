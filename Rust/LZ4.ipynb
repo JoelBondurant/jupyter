{
 "cells": [
  {
   "cell_type": "markdown",
   "id": "26bbcdb2-d702-45fb-8d0a-ca192b7f9129",
   "metadata": {},
   "source": [
    "## LZ4\n",
    "---"
   ]
  },
  {
   "cell_type": "code",
   "execution_count": 2,
   "id": "552ba27f-cd59-4945-aabe-f47c1604993c",
   "metadata": {},
   "outputs": [],
   "source": [
    ":dep lz4"
   ]
  },
  {
   "cell_type": "code",
   "execution_count": 3,
   "id": "55b3259b-84f5-4918-bd56-bd22ebeec2ac",
   "metadata": {},
   "outputs": [],
   "source": [
    "use lz4::{Decoder, EncoderBuilder};\n",
    "use std::io::{Read, Write};"
   ]
  },
  {
   "cell_type": "code",
   "execution_count": 4,
   "id": "7c96d610-b1f0-4e21-b4a7-badf06777be3",
   "metadata": {},
   "outputs": [
    {
     "data": {
      "text/plain": [
       "[84, 101, 115, 116, 105, 110, 103, 44, 32, 116, 101, 115, 116, 105, 110, 103, 44, 32, 116, 101, 115, 116, 105, 110, 103, 46, 32, 84, 101, 115, 116, 105, 110, 103, 44, 32, 116, 101, 115, 116, 105, 110, 103, 44, 32, 116, 101, 115, 116, 105, 110, 103, 46]"
      ]
     },
     "execution_count": 4,
     "metadata": {},
     "output_type": "execute_result"
    }
   ],
   "source": [
    "let src = b\"Testing, testing, testing. Testing, testing, testing.\";\n",
    "src"
   ]
  },
  {
   "cell_type": "code",
   "execution_count": 5,
   "id": "12c24a17-8406-4965-96fb-3ac67cc5f8ab",
   "metadata": {},
   "outputs": [
    {
     "data": {
      "text/plain": [
       "[4, 34, 77, 24, 68, 64, 94, 25, 0, 0, 0, 171, 84, 101, 115, 116, 105, 110, 103, 44, 32, 116, 9, 0, 47, 46, 32, 27, 0, 2, 80, 116, 105, 110, 103, 46, 0, 0, 0, 0, 238, 241, 227, 172]"
      ]
     },
     "execution_count": 5,
     "metadata": {},
     "output_type": "execute_result"
    }
   ],
   "source": [
    "let mut encoder = EncoderBuilder::new().level(9).build(vec![]).unwrap();\n",
    "encoder.write(src);\n",
    "let encoded = encoder.finish().0;\n",
    "encoded"
   ]
  },
  {
   "cell_type": "code",
   "execution_count": 6,
   "id": "7bdaf34c-75a6-4c33-adfb-370920f3d7aa",
   "metadata": {},
   "outputs": [
    {
     "data": {
      "text/plain": [
       "[84, 101, 115, 116, 105, 110, 103, 44, 32, 116, 101, 115, 116, 105, 110, 103, 44, 32, 116, 101, 115, 116, 105, 110, 103, 46, 32, 84, 101, 115, 116, 105, 110, 103, 44, 32, 116, 101, 115, 116, 105, 110, 103, 44, 32, 116, 101, 115, 116, 105, 110, 103, 46]"
      ]
     },
     "execution_count": 6,
     "metadata": {},
     "output_type": "execute_result"
    }
   ],
   "source": [
    "let mut msg = vec![];\n",
    "{\n",
    "    let mut decoder = Decoder::new(&encoded[..]).unwrap();\n",
    "    std::io::copy(&mut decoder, &mut msg);\n",
    "}\n",
    "msg"
   ]
  },
  {
   "cell_type": "code",
   "execution_count": null,
   "id": "a8738433-28f2-4d63-88b6-9430efd15e7c",
   "metadata": {},
   "outputs": [],
   "source": []
  }
 ],
 "metadata": {
  "kernelspec": {
   "display_name": "Rust",
   "language": "rust",
   "name": "rust"
  },
  "language_info": {
   "codemirror_mode": "rust",
   "file_extension": ".rs",
   "mimetype": "text/rust",
   "name": "Rust",
   "pygment_lexer": "rust",
   "version": ""
  }
 },
 "nbformat": 4,
 "nbformat_minor": 5
}
