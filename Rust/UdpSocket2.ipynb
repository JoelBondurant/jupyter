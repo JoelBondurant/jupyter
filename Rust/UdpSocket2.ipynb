{
 "cells": [
  {
   "cell_type": "markdown",
   "id": "4ea89381-af21-40a8-882e-400afcc17fda",
   "metadata": {},
   "source": [
    "## UdpSocket2\n",
    "---"
   ]
  },
  {
   "cell_type": "code",
   "execution_count": 2,
   "id": "58df0e99-56ba-487a-a353-d7d48acee63b",
   "metadata": {},
   "outputs": [],
   "source": [
    ":dep tokio = { features = [\"full\"] }"
   ]
  },
  {
   "cell_type": "code",
   "execution_count": 3,
   "id": "f0b92c60-e9fb-4515-8ff1-7f7271dc205d",
   "metadata": {},
   "outputs": [],
   "source": [
    "async fn udp_send() {\n",
    "    let sock = tokio::net::UdpSocket::bind(\":::7902\").await.unwrap();\n",
    "    sock.connect(\"::1:7901\").await.unwrap();\n",
    "    sock.send(b\"Test msg from UdpSocket2.\").await.unwrap();\n",
    "}"
   ]
  },
  {
   "cell_type": "code",
   "execution_count": 4,
   "id": "b6cf4c36-065c-4197-a5f7-9551ef729462",
   "metadata": {},
   "outputs": [],
   "source": [
    "udp_send().await;"
   ]
  },
  {
   "cell_type": "code",
   "execution_count": null,
   "id": "2dadc0fc-571a-4472-9d48-26fa95b40962",
   "metadata": {},
   "outputs": [],
   "source": []
  },
  {
   "cell_type": "code",
   "execution_count": null,
   "id": "319dbeb5-81a5-4f75-92ca-2180d6ab136e",
   "metadata": {},
   "outputs": [],
   "source": []
  },
  {
   "cell_type": "code",
   "execution_count": null,
   "id": "769f2ec4-c892-4082-9e16-fae880b55efa",
   "metadata": {},
   "outputs": [],
   "source": []
  }
 ],
 "metadata": {
  "kernelspec": {
   "display_name": "Rust",
   "language": "rust",
   "name": "rust"
  },
  "language_info": {
   "codemirror_mode": "rust",
   "file_extension": ".rs",
   "mimetype": "text/rust",
   "name": "Rust",
   "pygment_lexer": "rust",
   "version": ""
  }
 },
 "nbformat": 4,
 "nbformat_minor": 5
}
