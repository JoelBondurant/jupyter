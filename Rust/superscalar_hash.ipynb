{
 "cells": [
  {
   "cell_type": "markdown",
   "id": "7fe242bd-8422-4827-9ff0-591952c16d00",
   "metadata": {},
   "source": [
    "## Superscalar Hash\n",
    "---"
   ]
  },
  {
   "cell_type": "code",
   "execution_count": 2,
   "id": "b0a04d22-cd00-4f2e-9016-5b146eea3230",
   "metadata": {},
   "outputs": [],
   "source": [
    "#![feature(portable_simd)]\n",
    "use std::simd::{u64x64, SimdUint};"
   ]
  },
  {
   "cell_type": "code",
   "execution_count": 3,
   "id": "01c8831f-76d0-498d-b84d-6de7c744c506",
   "metadata": {},
   "outputs": [],
   "source": [
    "fn to_vu64(vu8: &[u8]) -> Vec<u64> {\n",
    "    let M = vu8.len();\n",
    "    let mut vu64 = Vec::<u64>::with_capacity(1+M/8);\n",
    "    let mut a = 0usize;\n",
    "    loop {\n",
    "        let b = (a + 8).min(M);\n",
    "        let ve_raw: [u8; 8] = [vu8[a..b].to_vec(), vec![13u8; 8-(b-a)]].concat().try_into().unwrap();\n",
    "        let ve = u64::from_le_bytes(ve_raw);\n",
    "        vu64.push(ve);\n",
    "        a += 8;\n",
    "        if b >= M { break; }\n",
    "    };\n",
    "    vu64\n",
    "}"
   ]
  },
  {
   "cell_type": "code",
   "execution_count": 4,
   "id": "94752d5e-f9c8-45d7-982c-745b27cf1b7d",
   "metadata": {},
   "outputs": [],
   "source": [
    "fn to_vu64x64(vu64: Vec<u64>) -> Vec<u64x64> {\n",
    "    let M = vu64.len();\n",
    "    let mut vu64x64 = Vec::<u64x64>::with_capacity(1+M/64);\n",
    "    let mut a = 0usize;\n",
    "    loop {\n",
    "        let b = (a + 64).min(M);\n",
    "        let ve_raw: [u64; 64] = [vu64[a..b].to_vec(), vec![11u64; 64-(b-a)]].concat().try_into().unwrap();\n",
    "        let ve = u64x64::from_slice(&ve_raw);\n",
    "        vu64x64.push(ve);\n",
    "        a += 64;\n",
    "        if b >= M { break; }\n",
    "    };\n",
    "    vu64x64\n",
    "}"
   ]
  },
  {
   "cell_type": "code",
   "execution_count": 5,
   "id": "8d1b985d-f897-42af-a799-74c9741686d1",
   "metadata": {},
   "outputs": [],
   "source": [
    "fn hash(vu8: &[u8]) -> u64 {\n",
    "    let vu64x64 = to_vu64x64(to_vu64(vu8));\n",
    "    let mut a = u64x64::splat(3);\n",
    "    let mut b = u64x64::splat(7);\n",
    "    for ve in vu64x64.iter().cycle().take(vu64x64.len().max(128)) {\n",
    "        a ^= ve;\n",
    "        b += a;\n",
    "        a.rotate_lanes_left::<7usize>();\n",
    "        b.rotate_lanes_right::<3usize>();\n",
    "        a += b;\n",
    "        b ^= ve;\n",
    "    }\n",
    "    (a ^ b).reduce_sum()\n",
    "}"
   ]
  },
  {
   "cell_type": "code",
   "execution_count": 6,
   "id": "776e375b-96ed-42c9-9492-67d593f94f9b",
   "metadata": {},
   "outputs": [
    {
     "data": {
      "text/plain": [
       "11083620543309429344"
      ]
     },
     "execution_count": 6,
     "metadata": {},
     "output_type": "execute_result"
    }
   ],
   "source": [
    "hash(&[1;64*17])"
   ]
  },
  {
   "cell_type": "code",
   "execution_count": 7,
   "id": "35cb2e36-7e4b-4145-a4bb-f41f4c3e89e3",
   "metadata": {},
   "outputs": [
    {
     "data": {
      "text/plain": [
       "9776457142791262464"
      ]
     },
     "execution_count": 7,
     "metadata": {},
     "output_type": "execute_result"
    }
   ],
   "source": [
    "hash(&[1;64*18])"
   ]
  },
  {
   "cell_type": "code",
   "execution_count": 8,
   "id": "36a9804c-f159-4bae-bd6b-a68272667a53",
   "metadata": {},
   "outputs": [
    {
     "data": {
      "text/plain": [
       "6327708241353846848"
      ]
     },
     "execution_count": 8,
     "metadata": {},
     "output_type": "execute_result"
    }
   ],
   "source": [
    "hash(&[1;64*36])"
   ]
  },
  {
   "cell_type": "code",
   "execution_count": 9,
   "id": "f0494f48-2729-4318-a9bc-8da45ca0498b",
   "metadata": {},
   "outputs": [
    {
     "data": {
      "text/plain": [
       "10212024217786011020"
      ]
     },
     "execution_count": 9,
     "metadata": {},
     "output_type": "execute_result"
    }
   ],
   "source": [
    "hash(&[0])"
   ]
  },
  {
   "cell_type": "code",
   "execution_count": 10,
   "id": "923eab81-202b-42cc-9168-2b94139f50e3",
   "metadata": {},
   "outputs": [
    {
     "data": {
      "text/plain": [
       "7046882911117918476"
      ]
     },
     "execution_count": 10,
     "metadata": {},
     "output_type": "execute_result"
    }
   ],
   "source": [
    "hash(b\"\")"
   ]
  },
  {
   "cell_type": "code",
   "execution_count": 11,
   "id": "57098ab5-e979-4fc8-a07c-cdcd3b2201a5",
   "metadata": {},
   "outputs": [
    {
     "data": {
      "text/plain": [
       "3990450833070917316"
      ]
     },
     "execution_count": 11,
     "metadata": {},
     "output_type": "execute_result"
    }
   ],
   "source": [
    "hash(&[1])"
   ]
  },
  {
   "cell_type": "code",
   "execution_count": 12,
   "id": "e073423e-7f30-41bb-870d-4fa480891e32",
   "metadata": {},
   "outputs": [
    {
     "data": {
      "text/plain": [
       "2316560593351559728"
      ]
     },
     "execution_count": 12,
     "metadata": {},
     "output_type": "execute_result"
    }
   ],
   "source": [
    "hash(&[2])"
   ]
  },
  {
   "cell_type": "code",
   "execution_count": 13,
   "id": "37eb517a-8b9a-42f5-a100-37778e0df8b6",
   "metadata": {},
   "outputs": [
    {
     "data": {
      "text/plain": [
       "4810479651047148628"
      ]
     },
     "execution_count": 13,
     "metadata": {},
     "output_type": "execute_result"
    }
   ],
   "source": [
    "hash(b\"test1\")"
   ]
  },
  {
   "cell_type": "code",
   "execution_count": 14,
   "id": "e33abdf8-f5dc-421d-add2-a5a2da6851bf",
   "metadata": {},
   "outputs": [
    {
     "data": {
      "text/plain": [
       "5005862248827653204"
      ]
     },
     "execution_count": 14,
     "metadata": {},
     "output_type": "execute_result"
    }
   ],
   "source": [
    "hash(b\"test2\")"
   ]
  },
  {
   "cell_type": "code",
   "execution_count": 15,
   "id": "10757dc4-b64a-4d01-bec9-e6cc3d4ba176",
   "metadata": {},
   "outputs": [
    {
     "data": {
      "text/plain": [
       "12820864292566404180"
      ]
     },
     "execution_count": 15,
     "metadata": {},
     "output_type": "execute_result"
    }
   ],
   "source": [
    "hash(b\"test3\")"
   ]
  },
  {
   "cell_type": "code",
   "execution_count": null,
   "id": "a90f3333-2e5a-46e4-a8a0-8253626d93d8",
   "metadata": {},
   "outputs": [],
   "source": []
  }
 ],
 "metadata": {
  "kernelspec": {
   "display_name": "Rust",
   "language": "rust",
   "name": "rust"
  },
  "language_info": {
   "codemirror_mode": "rust",
   "file_extension": ".rs",
   "mimetype": "text/rust",
   "name": "Rust",
   "pygment_lexer": "rust",
   "version": ""
  }
 },
 "nbformat": 4,
 "nbformat_minor": 5
}
