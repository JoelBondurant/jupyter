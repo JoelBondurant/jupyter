{
 "cells": [
  {
   "cell_type": "markdown",
   "id": "ea4a50ce-210b-4b12-a7e3-635d355575ee",
   "metadata": {},
   "source": [
    "## HashMap\n",
    "---"
   ]
  },
  {
   "cell_type": "code",
   "execution_count": 2,
   "id": "4cec1d43-3bb3-462a-871e-addbc5fb9ad8",
   "metadata": {},
   "outputs": [],
   "source": [
    ":dep xxhash-rust = { features = [\"xxh3\"] }"
   ]
  },
  {
   "cell_type": "code",
   "execution_count": 3,
   "id": "80f51e84-97ec-4ec6-9605-ffc4f7cc2233",
   "metadata": {},
   "outputs": [],
   "source": [
    "use std::fmt::Debug;"
   ]
  },
  {
   "cell_type": "code",
   "execution_count": 4,
   "id": "1af67b2f-9001-466b-a396-638ef429934a",
   "metadata": {},
   "outputs": [],
   "source": [
    "#[derive(Debug)]\n",
    "struct HashMap<V: Debug> {\n",
    "    bins: Vec<Vec<(Vec<u8>, V)>>,\n",
    "    size: usize,\n",
    "}"
   ]
  },
  {
   "cell_type": "code",
   "execution_count": 5,
   "id": "e1c98ca2-09f0-4d24-be7e-75dde0db3ef5",
   "metadata": {},
   "outputs": [],
   "source": [
    "impl<V: Debug> HashMap<V> {\n",
    "    fn new() -> Self {\n",
    "        let mut hm = Self {\n",
    "            bins: Vec::<Vec<(Vec<u8>,V)>>::with_capacity(0),\n",
    "            size: 0,\n",
    "        };\n",
    "        hm.bins.push(Vec::<(Vec<u8>,V)>::with_capacity(0));\n",
    "        hm\n",
    "    }\n",
    "    fn add_bins(&mut self) {\n",
    "        for _ in 0..std::cmp::max(1, self.num_bins()) {\n",
    "            self.bins.push(Vec::<(Vec<u8>,V)>::with_capacity(0));\n",
    "        }\n",
    "        self.rehash();\n",
    "        self.rehash();\n",
    "    }\n",
    "    fn num_bins(&self) -> usize {\n",
    "        self.bins.len()\n",
    "    }\n",
    "    fn load_factor(&self) -> f64 {\n",
    "        (self.size as f64)/(self.bins.len() as f64)\n",
    "    }\n",
    "    fn hash(&self, key: &Vec<u8>) -> usize {\n",
    "        use xxhash_rust::xxh3::xxh3_64;\n",
    "        ((self.num_bins() as f64) * (xxh3_64(key).min(u64::MAX - 1) as f64)/\n",
    "         (u64::MAX as f64)\n",
    "        ).floor() as usize\n",
    "    }\n",
    "    fn rehash(&mut self) {\n",
    "        for n in 0..self.bins.len() {\n",
    "            let M = self.bins[n].len();\n",
    "            for m in 0..M {\n",
    "                if m >= self.bins[n].len() {\n",
    "                    break;\n",
    "                }\n",
    "                let hv = self.hash(&self.bins[n][m].0);\n",
    "                if hv != n {\n",
    "                    let kv = self.bins[n].swap_remove(m);\n",
    "                    self.bins[hv].push(kv);\n",
    "                }\n",
    "            }\n",
    "        }\n",
    "    }\n",
    "    fn set(&mut self, key: Vec<u8>, val: V) {\n",
    "        let hv = self.hash(&key);\n",
    "        let indx = self.bins[hv].iter().position(|x|x.0==key);\n",
    "        if indx.is_none() {\n",
    "            self.bins[hv].push((key, val));\n",
    "            self.size += 1;\n",
    "        } else {\n",
    "            self.bins[hv][indx.unwrap()] = (key, val);\n",
    "        }\n",
    "        if self.load_factor() > 8.0 {\n",
    "            self.add_bins();\n",
    "        }\n",
    "    }\n",
    "    fn get(&mut self, key: &Vec<u8>) -> Option<&V> {\n",
    "        let hv = self.hash(key);\n",
    "        let indx = self.bins[hv].iter().position(|x|x.0==*key);\n",
    "        if indx.is_none() {\n",
    "            None\n",
    "        } else {\n",
    "            Some(&self.bins[hv][indx.unwrap()].1)\n",
    "        }\n",
    "    }\n",
    "}"
   ]
  },
  {
   "cell_type": "code",
   "execution_count": 6,
   "id": "271e3460-b646-410f-b560-33b83ea5d409",
   "metadata": {},
   "outputs": [
    {
     "name": "stdout",
     "output_type": "stream",
     "text": [
      "num_bins = 1\n"
     ]
    },
    {
     "data": {
      "text/plain": [
       "HashMap { bins: [[]], size: 0 }"
      ]
     },
     "execution_count": 6,
     "metadata": {},
     "output_type": "execute_result"
    }
   ],
   "source": [
    "let mut hm = HashMap::<u64>::new();\n",
    "println!(\"num_bins = {}\", hm.num_bins());\n",
    "hm"
   ]
  },
  {
   "cell_type": "code",
   "execution_count": 7,
   "id": "57bf1b9a-c022-40ab-9db6-172faea8001b",
   "metadata": {},
   "outputs": [
    {
     "name": "stdout",
     "output_type": "stream",
     "text": [
      "num_bins = 1\n"
     ]
    },
    {
     "data": {
      "text/plain": [
       "HashMap { bins: [[([1, 1, 1], 111), ([2, 2, 2], 222), ([3, 3, 3], 333), ([4, 4, 4], 444), ([5, 5, 5], 555), ([6, 6, 6], 666)]], size: 6 }"
      ]
     },
     "execution_count": 7,
     "metadata": {},
     "output_type": "execute_result"
    }
   ],
   "source": [
    "hm.set(vec![1,1,1], 111);\n",
    "hm.set(vec![2,2,2], 222);\n",
    "hm.set(vec![3,3,3], 333);\n",
    "hm.set(vec![4,4,4], 444);\n",
    "hm.set(vec![5,5,5], 555);\n",
    "hm.set(vec![6,6,6], 666);\n",
    "println!(\"num_bins = {}\", hm.num_bins());\n",
    "hm"
   ]
  },
  {
   "cell_type": "code",
   "execution_count": 8,
   "id": "ffaaf263-a275-4ef5-bb40-bae47d9f3e62",
   "metadata": {},
   "outputs": [
    {
     "name": "stdout",
     "output_type": "stream",
     "text": [
      "num_bins = 2\n"
     ]
    },
    {
     "data": {
      "text/plain": [
       "HashMap { bins: [[([1, 1, 1], 111), ([6, 6, 6], 666), ([5, 5, 5], 555), ([13, 13, 13], 131313)], [([2, 2, 2], 222), ([3, 3, 3], 333), ([4, 4, 4], 444), ([9, 9, 9], 999), ([8, 8, 8], 888), ([7, 7, 7], 777), ([10, 10, 10], 101010), ([11, 11, 11], 111111), ([12, 12, 12], 121212)]], size: 13 }"
      ]
     },
     "execution_count": 8,
     "metadata": {},
     "output_type": "execute_result"
    }
   ],
   "source": [
    "hm.set(vec![7,7,7], 777);\n",
    "hm.set(vec![8,8,8], 888);\n",
    "hm.set(vec![9,9,9], 999);\n",
    "hm.set(vec![10,10,10], 101010);\n",
    "hm.set(vec![11,11,11], 111111);\n",
    "hm.set(vec![12,12,12], 121212);\n",
    "hm.set(vec![13,13,13], 131313);\n",
    "println!(\"num_bins = {}\", hm.num_bins());\n",
    "hm"
   ]
  },
  {
   "cell_type": "code",
   "execution_count": 9,
   "id": "1625507a-6f56-41ce-98b6-8133d926ce44",
   "metadata": {},
   "outputs": [
    {
     "name": "stdout",
     "output_type": "stream",
     "text": [
      "1 = Some(111)\n",
      "2 = Some(222)\n",
      "3 = Some(333)\n",
      "4 = Some(444)\n",
      "5 = Some(555)\n",
      "6 = Some(666)\n",
      "7 = Some(777)\n",
      "8 = Some(888)\n",
      "9 = Some(999)\n",
      "10 = Some(101010)\n",
      "11 = Some(111111)\n",
      "12 = Some(121212)\n",
      "13 = Some(131313)\n",
      "14 = None\n",
      "15 = None\n",
      "16 = None\n",
      "17 = None\n",
      "18 = None\n",
      "19 = None\n",
      "num_bins = 2\n"
     ]
    }
   ],
   "source": [
    "for n in 1..20 {\n",
    "    println!(\"{:?} = {:?}\", n, hm.get(&vec![n,n,n]));\n",
    "};\n",
    "println!(\"num_bins = {}\", hm.num_bins());"
   ]
  },
  {
   "cell_type": "code",
   "execution_count": null,
   "id": "8cf6a655-6388-4d83-b827-8a4cc2d7a0da",
   "metadata": {},
   "outputs": [],
   "source": []
  }
 ],
 "metadata": {
  "kernelspec": {
   "display_name": "Rust",
   "language": "rust",
   "name": "rust"
  },
  "language_info": {
   "codemirror_mode": "rust",
   "file_extension": ".rs",
   "mimetype": "text/rust",
   "name": "Rust",
   "pygment_lexer": "rust",
   "version": ""
  }
 },
 "nbformat": 4,
 "nbformat_minor": 5
}
