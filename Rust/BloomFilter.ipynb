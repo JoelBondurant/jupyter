{
 "cells": [
  {
   "cell_type": "markdown",
   "id": "b3694dcf-f1ee-4080-80d6-ec6aca0b5f21",
   "metadata": {},
   "source": [
    "## Bloom Filter\n",
    "---"
   ]
  },
  {
   "cell_type": "markdown",
   "id": "61591cee-a21b-4344-9f0f-ed3dac948138",
   "metadata": {},
   "source": [
    "---\n",
    "#### Off the Shelf:\n",
    "---"
   ]
  },
  {
   "cell_type": "code",
   "execution_count": 2,
   "id": "e7094798-d45d-499f-9096-53b3569509a3",
   "metadata": {},
   "outputs": [],
   "source": [
    ":dep bloomfilter"
   ]
  },
  {
   "cell_type": "code",
   "execution_count": 3,
   "id": "bfa19de4-9dc9-4da2-8345-ff33226daa8f",
   "metadata": {},
   "outputs": [],
   "source": [
    "use bloomfilter::Bloom;"
   ]
  },
  {
   "cell_type": "code",
   "execution_count": 4,
   "id": "64cfdcc1-dc14-414f-8e82-3bb4f898cac1",
   "metadata": {},
   "outputs": [],
   "source": [
    "let mut bf: Bloom<str> = Bloom::new_for_fp_rate(1_000_000, 0.001);"
   ]
  },
  {
   "cell_type": "code",
   "execution_count": 5,
   "id": "b00c1b2a-a5c8-4a34-bc91-b284faf5701b",
   "metadata": {},
   "outputs": [],
   "source": [
    "bf.set(\"test1\");\n",
    "bf.set(\"test3\");"
   ]
  },
  {
   "cell_type": "code",
   "execution_count": 6,
   "id": "4de8c22b-a3c1-4c36-99ce-b5bfa1f07f33",
   "metadata": {},
   "outputs": [
    {
     "data": {
      "text/plain": [
       "[(0, false), (1, true), (2, false), (3, true), (4, false), (5, false), (6, false), (7, false), (8, false), (9, false)]"
      ]
     },
     "execution_count": 6,
     "metadata": {},
     "output_type": "execute_result"
    }
   ],
   "source": [
    "(0..10).map(|x| bf.check(format!(\"test{x}\").as_ref())).enumerate().collect::<Vec<_>>()"
   ]
  },
  {
   "cell_type": "markdown",
   "id": "99a67a1f-3bb2-4cc5-b541-ffbe0ff387ce",
   "metadata": {},
   "source": [
    "---\n",
    "#### Implementation:\n",
    "---"
   ]
  },
  {
   "cell_type": "code",
   "execution_count": 7,
   "id": "4f5f7ac6-0a26-46a4-bf26-f0490a012bc5",
   "metadata": {},
   "outputs": [],
   "source": [
    ":dep bit-vec\n",
    ":dep xxhash-rust = {features=[\"xxh3\"]}"
   ]
  },
  {
   "cell_type": "code",
   "execution_count": 8,
   "id": "c669c471-c8f3-4da4-afc2-932f96606ff4",
   "metadata": {},
   "outputs": [],
   "source": [
    "use bit_vec::BitVec;\n",
    "use xxhash_rust::xxh3::xxh3_64;"
   ]
  },
  {
   "cell_type": "code",
   "execution_count": 9,
   "id": "9f0780fa-a022-43fc-a6c9-47cc532a9bc3",
   "metadata": {},
   "outputs": [],
   "source": [
    "#[derive(Debug)]\n",
    "struct BloomFilter<T> {\n",
    "    bv: BitVec,\n",
    "    num_bits: usize,\n",
    "    num_hashes: u8,\n",
    "    key_type: std::marker::PhantomData<T>,\n",
    "}"
   ]
  },
  {
   "cell_type": "code",
   "execution_count": 10,
   "id": "243f10a4-14cd-40d6-ac1d-7440fc7ac495",
   "metadata": {
    "scrolled": true
   },
   "outputs": [],
   "source": [
    "impl BloomFilter<&[u8]> {\n",
    "    \n",
    "    fn new(num_bits: usize, num_hashes: u8) -> Self {\n",
    "        BloomFilter {\n",
    "            bv: BitVec::from_elem(num_bits, false),\n",
    "            num_bits: num_bits,\n",
    "            num_hashes: num_hashes,\n",
    "            key_type: std::marker::PhantomData::<&[u8]>,\n",
    "        }\n",
    "    }\n",
    "\n",
    "    fn hash(&self, key: &[u8], hash_number: u8) -> usize {\n",
    "        (xxh3_64(&[key, &[hash_number]].concat()) % (self.num_bits as u64)) as usize\n",
    "    }\n",
    "    \n",
    "    fn insert(&mut self, key: &[u8]) {\n",
    "        for hash_number in 0..self.num_hashes {\n",
    "            let hash_value = self.hash(key, hash_number);\n",
    "            self.bv.set(hash_value, true);\n",
    "        }\n",
    "    }\n",
    "\n",
    "    fn check(&mut self, key: &[u8]) -> bool {\n",
    "        for hash_number in 0..self.num_hashes {\n",
    "            let hash_value = self.hash(key, hash_number);\n",
    "            if !self.bv.get(hash_value).unwrap() {\n",
    "                return false;\n",
    "            }\n",
    "        }\n",
    "        true\n",
    "    }\n",
    "    \n",
    "}"
   ]
  },
  {
   "cell_type": "code",
   "execution_count": 11,
   "id": "12903ba5-fcca-4945-9fbd-b2eb63c0afc5",
   "metadata": {},
   "outputs": [],
   "source": [
    "let mut q = BloomFilter::<&[u8]>::new(64, 3);"
   ]
  },
  {
   "cell_type": "code",
   "execution_count": 12,
   "id": "8c6394e2-0de6-4123-855d-e5139aae548f",
   "metadata": {},
   "outputs": [],
   "source": [
    "q.insert(b\"test_key_1\");\n",
    "q.insert(b\"test_key_3\");"
   ]
  },
  {
   "cell_type": "code",
   "execution_count": 13,
   "id": "7485c6f8-cefc-42fc-9cc8-4cceac12b398",
   "metadata": {},
   "outputs": [
    {
     "data": {
      "text/plain": [
       "[(0, false), (1, true), (2, false), (3, true), (4, false), (5, false), (6, false), (7, false), (8, false), (9, false)]"
      ]
     },
     "execution_count": 13,
     "metadata": {},
     "output_type": "execute_result"
    }
   ],
   "source": [
    "(0..10).map(|x| q.check(format!(\"test_key_{x}\").as_ref())).enumerate().collect::<Vec<_>>()"
   ]
  },
  {
   "cell_type": "code",
   "execution_count": 14,
   "id": "9ec05625-2d54-450d-9b06-c1bcffa77830",
   "metadata": {},
   "outputs": [
    {
     "data": {
      "text/plain": [
       "BloomFilter { bv: 0000010110000000000000000000000000000001000000000000010000000000, num_bits: 64, num_hashes: 3, key_type: PhantomData<&[u8]> }"
      ]
     },
     "execution_count": 14,
     "metadata": {},
     "output_type": "execute_result"
    }
   ],
   "source": [
    "q"
   ]
  },
  {
   "cell_type": "code",
   "execution_count": null,
   "id": "6470266b-1a6e-41f4-a2b6-d4ab3fc7b356",
   "metadata": {},
   "outputs": [],
   "source": []
  }
 ],
 "metadata": {
  "kernelspec": {
   "display_name": "Rust",
   "language": "rust",
   "name": "rust"
  },
  "language_info": {
   "codemirror_mode": "rust",
   "file_extension": ".rs",
   "mimetype": "text/rust",
   "name": "Rust",
   "pygment_lexer": "rust",
   "version": ""
  }
 },
 "nbformat": 4,
 "nbformat_minor": 5
}
