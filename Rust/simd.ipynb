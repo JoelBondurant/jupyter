{
 "cells": [
  {
   "cell_type": "markdown",
   "id": "a361e65b-e0ba-44e4-92f7-a8abb85f4dd3",
   "metadata": {},
   "source": [
    "## SIMD\n",
    "---"
   ]
  },
  {
   "cell_type": "code",
   "execution_count": 2,
   "id": "88ca2425-5dfe-499c-8680-529e69416ea1",
   "metadata": {},
   "outputs": [],
   "source": [
    "#![feature(portable_simd)]\n",
    "use std::simd::*;"
   ]
  },
  {
   "cell_type": "code",
   "execution_count": 3,
   "id": "553ee230-5b9b-4eb4-8dd6-b1168ddc6967",
   "metadata": {},
   "outputs": [
    {
     "data": {
      "text/plain": [
       "[10.0, 5.0, inf, 2.5]"
      ]
     },
     "execution_count": 3,
     "metadata": {},
     "output_type": "execute_result"
    }
   ],
   "source": [
    "let a = f32x4::splat(10.0);\n",
    "let b = f32x4::from_array([1.0, 2.0, 0.0, 4.0]);\n",
    "a / b"
   ]
  },
  {
   "cell_type": "code",
   "execution_count": 4,
   "id": "8efe2ea7-303a-4a8f-bcc6-2d2ec47abbfd",
   "metadata": {},
   "outputs": [
    {
     "data": {
      "text/plain": [
       "[10, 5, 3, 2]"
      ]
     },
     "execution_count": 4,
     "metadata": {},
     "output_type": "execute_result"
    }
   ],
   "source": [
    "let a = u32x4::splat(10);\n",
    "let b = u32x4::from_array([1, 2, 3, 4]);\n",
    "a / b"
   ]
  },
  {
   "cell_type": "code",
   "execution_count": 5,
   "id": "9e1fe22a-624f-44a7-9cce-bd7e32d4964c",
   "metadata": {},
   "outputs": [
    {
     "data": {
      "text/plain": [
       "[0, 1, 1, 2, 2, 3, 3, 4, 4, 5, 5, 6, 6, 7, 7, 0, 1, 1, 2, 2, 3, 3, 4, 4, 5, 5, 6, 6, 7, 7, 0, 1, 1, 2, 2, 3, 3, 4, 4, 5, 5, 6, 6, 7, 7, 0, 1, 1, 2, 2, 3, 3, 4, 4, 5, 5, 6, 6, 7, 7, 0, 1, 1, 2]"
      ]
     },
     "execution_count": 5,
     "metadata": {},
     "output_type": "execute_result"
    }
   ],
   "source": [
    "let a = u64x64::from_slice(&(1..16).into_iter().cycle().take(64).collect::<Vec<_>>());\n",
    "let b = u64x64::splat(2);\n",
    "a / b"
   ]
  },
  {
   "cell_type": "code",
   "execution_count": 6,
   "id": "eaf0e477-684d-4428-9fc7-3b5255bc8e6d",
   "metadata": {},
   "outputs": [
    {
     "data": {
      "text/plain": [
       "[1, 4, 5, 6, 7, 8, 9, 10, 3, 4, 5, 6, 7, 8, 9, 10, 3, 4, 5, 6, 7, 8, 9, 10, 3, 4, 5, 6, 7, 8, 9, 10, 3, 4, 5, 6, 7, 8, 9, 10, 3, 4, 5, 6, 7, 8, 9, 10, 3, 4, 5, 6, 7, 8, 9, 10, 3, 4, 5, 6, 7, 8, 9, 10]"
      ]
     },
     "execution_count": 6,
     "metadata": {},
     "output_type": "execute_result"
    }
   ],
   "source": [
    "let a = u64x64::from_slice(&(1..=8).into_iter().cycle().take(64).collect::<Vec<_>>());\n",
    "let mut b = u64x64::splat(2);\n",
    "b[0] = 0;\n",
    "let b = b;\n",
    "let c = a + b;\n",
    "c"
   ]
  },
  {
   "cell_type": "code",
   "execution_count": 7,
   "id": "2326545f-1c2e-4f4c-a5c1-8471f73d554d",
   "metadata": {},
   "outputs": [
    {
     "data": {
      "text/plain": [
       "[10, 9, 8, 7, 6, 5, 4, 3, 10, 9, 8, 7, 6, 5, 4, 3, 10, 9, 8, 7, 6, 5, 4, 3, 10, 9, 8, 7, 6, 5, 4, 3, 10, 9, 8, 7, 6, 5, 4, 3, 10, 9, 8, 7, 6, 5, 4, 3, 10, 9, 8, 7, 6, 5, 4, 3, 10, 9, 8, 7, 6, 5, 4, 1]"
      ]
     },
     "execution_count": 7,
     "metadata": {},
     "output_type": "execute_result"
    }
   ],
   "source": [
    "c.reverse()"
   ]
  },
  {
   "cell_type": "code",
   "execution_count": 8,
   "id": "733012b2-f78d-47f9-8492-59af3743baa3",
   "metadata": {},
   "outputs": [
    {
     "data": {
      "text/plain": [
       "414"
      ]
     },
     "execution_count": 8,
     "metadata": {},
     "output_type": "execute_result"
    }
   ],
   "source": [
    "c.reduce_sum()"
   ]
  },
  {
   "cell_type": "code",
   "execution_count": 9,
   "id": "5f1d93b3-a931-437c-a65e-9aa50bb6b967",
   "metadata": {},
   "outputs": [
    {
     "data": {
      "text/plain": [
       "64"
      ]
     },
     "execution_count": 9,
     "metadata": {},
     "output_type": "execute_result"
    }
   ],
   "source": [
    "c.lanes()"
   ]
  },
  {
   "cell_type": "code",
   "execution_count": 10,
   "id": "87748353-0776-4376-ba2f-58eee02a7f96",
   "metadata": {},
   "outputs": [
    {
     "data": {
      "text/plain": [
       "[4, 5, 6, 7, 8, 9, 10, 3, 4, 5, 6, 7, 8, 9, 10, 3, 4, 5, 6, 7, 8, 9, 10, 3, 4, 5, 6, 7, 8, 9, 10, 3, 4, 5, 6, 7, 8, 9, 10, 3, 4, 5, 6, 7, 8, 9, 10, 3, 4, 5, 6, 7, 8, 9, 10, 3, 4, 5, 6, 7, 8, 9, 10, 1]"
      ]
     },
     "execution_count": 10,
     "metadata": {},
     "output_type": "execute_result"
    }
   ],
   "source": [
    "c.rotate_lanes_left::<1usize>()"
   ]
  },
  {
   "cell_type": "code",
   "execution_count": 11,
   "id": "b05547ad-b9e4-454d-9f76-1184a9cc08ce",
   "metadata": {},
   "outputs": [
    {
     "data": {
      "text/plain": [
       "[10, 1, 4, 5, 6, 7, 8, 9, 10, 3, 4, 5, 6, 7, 8, 9, 10, 3, 4, 5, 6, 7, 8, 9, 10, 3, 4, 5, 6, 7, 8, 9, 10, 3, 4, 5, 6, 7, 8, 9, 10, 3, 4, 5, 6, 7, 8, 9, 10, 3, 4, 5, 6, 7, 8, 9, 10, 3, 4, 5, 6, 7, 8, 9]"
      ]
     },
     "execution_count": 11,
     "metadata": {},
     "output_type": "execute_result"
    }
   ],
   "source": [
    "c.rotate_lanes_right::<1usize>()"
   ]
  },
  {
   "cell_type": "code",
   "execution_count": 12,
   "id": "c49106a5-e89f-4c55-983a-ece1b4f30d13",
   "metadata": {},
   "outputs": [
    {
     "data": {
      "text/plain": [
       "[1, 4, 5, 6, 7, 8, 9, 10, 3, 4, 5, 6, 7, 8, 9, 10, 3, 4, 5, 6, 7, 8, 9, 10, 3, 4, 5, 6, 7, 8, 9, 10, 3, 4, 5, 6, 7, 8, 9, 10, 3, 4, 5, 6, 7, 8, 9, 10, 3, 4, 5, 6, 7, 8, 9, 10, 3, 4, 5, 6, 7, 8, 9, 10]"
      ]
     },
     "execution_count": 12,
     "metadata": {},
     "output_type": "execute_result"
    }
   ],
   "source": [
    "c.rotate_lanes_right::<1024usize>()"
   ]
  },
  {
   "cell_type": "code",
   "execution_count": 13,
   "id": "d366ebac-1440-4c1d-bff0-5bb04db4f6a2",
   "metadata": {},
   "outputs": [
    {
     "data": {
      "text/plain": [
       "[7, 8, 9, 10, 1, 4, 5, 6, 7, 8, 9, 10, 3, 4, 5, 6, 7, 8, 9, 10, 3, 4, 5, 6, 7, 8, 9, 10, 3, 4, 5, 6, 7, 8, 9, 10, 3, 4, 5, 6, 7, 8, 9, 10, 3, 4, 5, 6, 7, 8, 9, 10, 3, 4, 5, 6, 7, 8, 9, 10, 3, 4, 5, 6]"
      ]
     },
     "execution_count": 13,
     "metadata": {},
     "output_type": "execute_result"
    }
   ],
   "source": [
    "c.rotate_lanes_right::<4usize>()"
   ]
  },
  {
   "cell_type": "code",
   "execution_count": 14,
   "id": "2cab28f3-ae32-43fc-8c92-766fcc519fd4",
   "metadata": {},
   "outputs": [
    {
     "data": {
      "text/plain": [
       "[1, 2, 3, 4, 5, 6, 7, 8, 1, 2, 3, 4, 5, 6, 7, 8, 1, 2, 3, 4, 5, 6, 7, 8, 1, 2, 3, 4, 5, 6, 7, 8, 1, 2, 3, 4, 5, 6, 7, 8, 1, 2, 3, 4, 5, 6, 7, 8, 1, 2, 3, 4, 5, 6, 7, 8, 1, 2, 3, 4, 5, 6, 7, 8]"
      ]
     },
     "execution_count": 14,
     "metadata": {},
     "output_type": "execute_result"
    }
   ],
   "source": [
    "a"
   ]
  },
  {
   "cell_type": "code",
   "execution_count": 15,
   "id": "b09ab7d4-d5cd-43dd-872e-3a2441b582e7",
   "metadata": {},
   "outputs": [
    {
     "data": {
      "text/plain": [
       "[0, 2, 2, 2, 2, 2, 2, 2, 2, 2, 2, 2, 2, 2, 2, 2, 2, 2, 2, 2, 2, 2, 2, 2, 2, 2, 2, 2, 2, 2, 2, 2, 2, 2, 2, 2, 2, 2, 2, 2, 2, 2, 2, 2, 2, 2, 2, 2, 2, 2, 2, 2, 2, 2, 2, 2, 2, 2, 2, 2, 2, 2, 2, 2]"
      ]
     },
     "execution_count": 15,
     "metadata": {},
     "output_type": "execute_result"
    }
   ],
   "source": [
    "b"
   ]
  },
  {
   "cell_type": "code",
   "execution_count": 16,
   "id": "d1c74380-d24b-4844-9cf3-c8b464174820",
   "metadata": {},
   "outputs": [
    {
     "data": {
      "text/plain": [
       "[1, 0, 1, 6, 7, 4, 5, 10, 3, 0, 1, 6, 7, 4, 5, 10, 3, 0, 1, 6, 7, 4, 5, 10, 3, 0, 1, 6, 7, 4, 5, 10, 3, 0, 1, 6, 7, 4, 5, 10, 3, 0, 1, 6, 7, 4, 5, 10, 3, 0, 1, 6, 7, 4, 5, 10, 3, 0, 1, 6, 7, 4, 5, 10]"
      ]
     },
     "execution_count": 16,
     "metadata": {},
     "output_type": "execute_result"
    }
   ],
   "source": [
    "a ^ b"
   ]
  },
  {
   "cell_type": "code",
   "execution_count": 17,
   "id": "83bd689b-31be-4b77-89d9-11fed3a68356",
   "metadata": {},
   "outputs": [
    {
     "data": {
      "text/plain": [
       "[0, 2, 2, 0, 0, 2, 2, 0, 0, 2, 2, 0, 0, 2, 2, 0, 0, 2, 2, 0, 0, 2, 2, 0, 0, 2, 2, 0, 0, 2, 2, 0, 0, 2, 2, 0, 0, 2, 2, 0, 0, 2, 2, 0, 0, 2, 2, 0, 0, 2, 2, 0, 0, 2, 2, 0, 0, 2, 2, 0, 0, 2, 2, 0]"
      ]
     },
     "execution_count": 17,
     "metadata": {},
     "output_type": "execute_result"
    }
   ],
   "source": [
    "a & b"
   ]
  },
  {
   "cell_type": "code",
   "execution_count": 18,
   "id": "48998693-7e0d-48f5-944e-aea2f63fc85a",
   "metadata": {},
   "outputs": [
    {
     "data": {
      "text/plain": [
       "[3, 6, 1, 5]"
      ]
     },
     "execution_count": 18,
     "metadata": {},
     "output_type": "execute_result"
    }
   ],
   "source": [
    "u64x4::from_array([1, 2, 0, 4]) ^ u64x4::from_array([2, 4, 1, 1])"
   ]
  },
  {
   "cell_type": "code",
   "execution_count": 19,
   "id": "49a3f6a4-993b-449b-95b5-aa04ab9a7d5f",
   "metadata": {},
   "outputs": [
    {
     "data": {
      "text/plain": [
       "[0, 2, 0, 1]"
      ]
     },
     "execution_count": 19,
     "metadata": {},
     "output_type": "execute_result"
    }
   ],
   "source": [
    "u64x4::from_array([1, 2, 0, 5]) & u64x4::from_array([2, 6, 1, 1])"
   ]
  },
  {
   "cell_type": "code",
   "execution_count": 20,
   "id": "75e1ef94-ce0a-4b97-bc7f-4c24a0865507",
   "metadata": {},
   "outputs": [
    {
     "data": {
      "text/plain": [
       "6"
      ]
     },
     "execution_count": 20,
     "metadata": {},
     "output_type": "execute_result"
    }
   ],
   "source": [
    "u64x4::from_array([1, 2, 0, 5]).reduce_xor()"
   ]
  },
  {
   "cell_type": "code",
   "execution_count": null,
   "id": "f1436007-6901-4254-ae76-3e295b63dd37",
   "metadata": {},
   "outputs": [],
   "source": []
  }
 ],
 "metadata": {
  "kernelspec": {
   "display_name": "Rust",
   "language": "rust",
   "name": "rust"
  },
  "language_info": {
   "codemirror_mode": "rust",
   "file_extension": ".rs",
   "mimetype": "text/rust",
   "name": "Rust",
   "pygment_lexer": "rust",
   "version": ""
  }
 },
 "nbformat": 4,
 "nbformat_minor": 5
}
