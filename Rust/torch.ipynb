{
 "cells": [
  {
   "cell_type": "markdown",
   "id": "fdcddfb2-6989-4132-bec3-dad30ca25bf7",
   "metadata": {},
   "source": [
    "## Torch\n",
    "---"
   ]
  },
  {
   "cell_type": "code",
   "execution_count": 2,
   "id": "840cc683-3b7a-46c7-b81b-2e7cb6aa8e79",
   "metadata": {},
   "outputs": [
    {
     "data": {
      "text/plain": [
       "cache: 1000 MiB\n"
      ]
     },
     "execution_count": 2,
     "metadata": {},
     "output_type": "execute_result"
    }
   ],
   "source": [
    ":cache 1000\n",
    ":dep tch = {features=[\"download-libtorch\"]}"
   ]
  },
  {
   "cell_type": "code",
   "execution_count": 3,
   "id": "150bc460-4b27-492d-b72a-f4e77dfe5069",
   "metadata": {},
   "outputs": [],
   "source": [
    "use tch::Tensor;"
   ]
  },
  {
   "cell_type": "code",
   "execution_count": 4,
   "id": "1f412fdc-d096-4fad-9c2a-21c6fdd2e8bb",
   "metadata": {},
   "outputs": [
    {
     "name": "stderr",
     "output_type": "stream",
     "text": [
      "While processing instruction `Ok(\"LOAD_AND_RUN /tmp/.tmpE62Lld/target/x86_64-unknown-linux-gnu/debug/deps/libcode_6.so run_user_code_5\")`, got error: Message(\"/tmp/.tmpE62Lld/target/x86_64-unknown-linux-gnu/debug/deps/libcode_6.so: undefined symbol: _ZNK3c1010TensorImpl27throw_data_ptr_access_errorEv\")\n"
     ]
    },
    {
     "ename": "Error",
     "evalue": "Subprocess terminated with status: exit status: 99",
     "output_type": "error",
     "traceback": [
      "Subprocess terminated with status: exit status: 99"
     ]
    }
   ],
   "source": [
    "let q = Tensor::from_slice(&[3, 1, 4, 1, 5]);\n",
    "q"
   ]
  },
  {
   "cell_type": "code",
   "execution_count": null,
   "id": "57485624-f082-46eb-b13b-1a0473690111",
   "metadata": {},
   "outputs": [],
   "source": []
  },
  {
   "cell_type": "code",
   "execution_count": null,
   "id": "cab5b28e-1143-4a82-bfdd-04efb2939cf7",
   "metadata": {},
   "outputs": [],
   "source": []
  }
 ],
 "metadata": {
  "kernelspec": {
   "display_name": "Rust",
   "language": "rust",
   "name": "rust"
  },
  "language_info": {
   "codemirror_mode": "rust",
   "file_extension": ".rs",
   "mimetype": "text/rust",
   "name": "Rust",
   "pygment_lexer": "rust",
   "version": ""
  }
 },
 "nbformat": 4,
 "nbformat_minor": 5
}
