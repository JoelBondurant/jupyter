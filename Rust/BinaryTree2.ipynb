{
 "cells": [
  {
   "cell_type": "markdown",
   "id": "d0d33770-9c97-4dee-8226-ac31fe9c16ca",
   "metadata": {},
   "source": [
    "## Binary Tree\n",
    "---"
   ]
  },
  {
   "cell_type": "code",
   "execution_count": 2,
   "id": "1379880f-5cc1-41ef-a3fb-4ffbcf737958",
   "metadata": {},
   "outputs": [],
   "source": [
    "#[derive(Debug)]\n",
    "struct Node<T: PartialEq + PartialOrd + Clone> {\n",
    "    val: T,\n",
    "    left: Option<Box<Node<T>>>,\n",
    "    right: Option<Box<Node<T>>>,\n",
    "}"
   ]
  },
  {
   "cell_type": "code",
   "execution_count": 3,
   "id": "31665b40-97c2-471f-8e3a-cb9d6af23098",
   "metadata": {},
   "outputs": [],
   "source": [
    "impl<T: PartialEq + PartialOrd + Clone> Node<T> {\n",
    "\n",
    "    fn new(val: T) -> Self {\n",
    "        Node {\n",
    "            val: val,\n",
    "            left: None,\n",
    "            right: None,\n",
    "        }\n",
    "    }\n",
    "\n",
    "    fn insert(&mut self, val: T) {\n",
    "        if val == self.val {\n",
    "            return;\n",
    "        }\n",
    "        if val < self.val {\n",
    "            if self.left.is_none() {\n",
    "                self.left = Some(Box::new(Node::new(val)));\n",
    "            } else {\n",
    "                self.left.as_mut().unwrap().insert(val);\n",
    "            }\n",
    "        } else {\n",
    "            if self.right.is_none() {\n",
    "                self.right = Some(Box::new(Node::new(val)));\n",
    "            } else {\n",
    "                self.right.as_mut().unwrap().insert(val);\n",
    "            }\n",
    "        }\n",
    "    }\n",
    "    \n",
    "    fn exists(&self, val: T) -> bool {\n",
    "        if self.val == val {\n",
    "            return true;\n",
    "        }\n",
    "        if val < self.val {\n",
    "            if self.left.is_none() {\n",
    "                return false;\n",
    "            } else {\n",
    "                return self.left.as_ref().unwrap().exists(val);\n",
    "            }\n",
    "        } else {\n",
    "            if self.right.is_none() {\n",
    "                return false;\n",
    "            } else {\n",
    "                return self.right.as_ref().unwrap().exists(val);\n",
    "            }\n",
    "        }\n",
    "        return false;\n",
    "    }\n",
    "    \n",
    "    fn in_order(&self, vals: &mut Vec<T>) {\n",
    "        if !self.left.is_none() {\n",
    "            self.left.as_ref().unwrap().in_order(vals);\n",
    "        }\n",
    "        vals.push(self.val.clone());\n",
    "        if !self.right.is_none() {\n",
    "            self.right.as_ref().unwrap().in_order(vals);\n",
    "        }\n",
    "    }\n",
    "    \n",
    "    fn pre_order(&self, vals: &mut Vec<T>) {\n",
    "        vals.push(self.val.clone());\n",
    "        if !self.left.is_none() {\n",
    "            self.left.as_ref().unwrap().in_order(vals);\n",
    "        }\n",
    "        if !self.right.is_none() {\n",
    "            self.right.as_ref().unwrap().in_order(vals);\n",
    "        }\n",
    "    }\n",
    "    \n",
    "    fn post_order(&self, vals: &mut Vec<T>) {\n",
    "        if !self.left.is_none() {\n",
    "            self.left.as_ref().unwrap().in_order(vals);\n",
    "        }\n",
    "        if !self.right.is_none() {\n",
    "            self.right.as_ref().unwrap().in_order(vals);\n",
    "        }\n",
    "        vals.push(self.val.clone());\n",
    "    }\n",
    "\n",
    "}"
   ]
  },
  {
   "cell_type": "code",
   "execution_count": 4,
   "id": "5e637f2e-82c7-4039-bc56-fa59ece04246",
   "metadata": {},
   "outputs": [],
   "source": [
    "#[derive(Debug)]\n",
    "struct BinaryTree<T: PartialEq + PartialOrd + Clone> {\n",
    "    root: Option<Node<T>>,\n",
    "}"
   ]
  },
  {
   "cell_type": "code",
   "execution_count": 32,
   "id": "876ccc00-5934-4c09-8634-e2bdf846a83f",
   "metadata": {},
   "outputs": [],
   "source": [
    "impl<T: PartialEq + PartialOrd + Clone> BinaryTree<T> {\n",
    "    \n",
    "    fn new() -> Self {\n",
    "        BinaryTree { root: None }\n",
    "    }\n",
    "    \n",
    "    fn insert(&mut self, val: T) -> &mut Self {\n",
    "        if self.root.is_none() {\n",
    "            self.root.replace(Node::new(val));\n",
    "        } else {\n",
    "            self.root.as_mut().unwrap().insert(val);\n",
    "        }\n",
    "        self\n",
    "    }\n",
    "    \n",
    "    fn min(&self) -> Option<T> {\n",
    "        if self.root.is_none() {\n",
    "            return None;\n",
    "        }\n",
    "        let mut current = &mut self.root.as_ref().unwrap();\n",
    "        loop {\n",
    "            if current.left.is_none() {\n",
    "                return Some(current.val.clone());\n",
    "            } else {\n",
    "                *current = current.left.as_ref().unwrap();\n",
    "            }\n",
    "        }\n",
    "    }\n",
    "    \n",
    "    fn max(&self) -> Option<T> {\n",
    "        if self.root.is_none() {\n",
    "            return None;\n",
    "        }\n",
    "        let mut current = &mut self.root.as_ref().unwrap();\n",
    "        loop {\n",
    "            if current.right.is_none() {\n",
    "                return Some(current.val.clone());\n",
    "            } else {\n",
    "                *current = current.right.as_ref().unwrap();\n",
    "            }\n",
    "        }\n",
    "    }\n",
    "    \n",
    "    fn exists(&self, val: T) -> bool {\n",
    "        if self.root.is_none() {\n",
    "            return false;\n",
    "        }\n",
    "        self.root.as_ref().unwrap().exists(val)\n",
    "    }\n",
    "    \n",
    "    fn in_order(&self) -> Vec<T> {\n",
    "        let mut vals = Vec::<T>::new();\n",
    "        if !self.root.is_none() {\n",
    "            self.root.as_ref().unwrap().in_order(&mut vals);\n",
    "        }\n",
    "        let vals = vals;\n",
    "        vals\n",
    "    }\n",
    "    \n",
    "    fn pre_order(&self) -> Vec<T> {\n",
    "        let mut vals = Vec::<T>::new();\n",
    "        if !self.root.is_none() {\n",
    "            self.root.as_ref().unwrap().pre_order(&mut vals);\n",
    "        }\n",
    "        let vals = vals;\n",
    "        vals\n",
    "    }\n",
    "    \n",
    "    fn post_order(&self) -> Vec<T> {\n",
    "        let mut vals = Vec::<T>::new();\n",
    "        if !self.root.is_none() {\n",
    "            self.root.as_ref().unwrap().post_order(&mut vals);\n",
    "        }\n",
    "        let vals = vals;\n",
    "        vals\n",
    "    }\n",
    "\n",
    "}"
   ]
  },
  {
   "cell_type": "code",
   "execution_count": 34,
   "id": "3cd33928-3611-4de5-83a8-682db5ff94c0",
   "metadata": {},
   "outputs": [
    {
     "data": {
      "text/plain": [
       "BinaryTree { root: None }"
      ]
     },
     "execution_count": 34,
     "metadata": {},
     "output_type": "execute_result"
    }
   ],
   "source": [
    "let mut bt = BinaryTree::<i32>::new();\n",
    "bt"
   ]
  },
  {
   "cell_type": "code",
   "execution_count": 35,
   "id": "4c0103b5-4879-49a0-8998-cf43a7d1b788",
   "metadata": {},
   "outputs": [
    {
     "data": {
      "text/plain": [
       "BinaryTree { root: Some(Node { val: 5, left: Some(Node { val: 4, left: None, right: None }), right: None }) }"
      ]
     },
     "execution_count": 35,
     "metadata": {},
     "output_type": "execute_result"
    }
   ],
   "source": [
    "bt.insert(5).insert(4)"
   ]
  },
  {
   "cell_type": "code",
   "execution_count": 8,
   "id": "55047d54-dfcf-4410-8d90-cb646df11b03",
   "metadata": {},
   "outputs": [
    {
     "data": {
      "text/plain": [
       "BinaryTree { root: Node { val: 5, left: Some(Node { val: 4, left: None, right: None }), right: Some(Node { val: 7, left: None, right: None }) } }"
      ]
     },
     "execution_count": 8,
     "metadata": {},
     "output_type": "execute_result"
    }
   ],
   "source": [
    "bt.insert(7)"
   ]
  },
  {
   "cell_type": "code",
   "execution_count": 9,
   "id": "ad75e1f9-f648-445a-976b-a48a1262a6a8",
   "metadata": {},
   "outputs": [
    {
     "data": {
      "text/plain": [
       "BinaryTree { root: Node { val: 5, left: Some(Node { val: 4, left: Some(Node { val: 1, left: None, right: None }), right: None }), right: Some(Node { val: 7, left: None, right: None }) } }"
      ]
     },
     "execution_count": 9,
     "metadata": {},
     "output_type": "execute_result"
    }
   ],
   "source": [
    "bt.insert(1)"
   ]
  },
  {
   "cell_type": "code",
   "execution_count": 10,
   "id": "12f2a0e3-cd4f-4c6e-9bd0-7738ae2e87da",
   "metadata": {},
   "outputs": [
    {
     "data": {
      "text/plain": [
       "BinaryTree { root: Node { val: 5, left: Some(Node { val: 4, left: Some(Node { val: 1, left: None, right: None }), right: None }), right: Some(Node { val: 7, left: None, right: Some(Node { val: 8, left: None, right: None }) }) } }"
      ]
     },
     "execution_count": 10,
     "metadata": {},
     "output_type": "execute_result"
    }
   ],
   "source": [
    "bt.insert(8)"
   ]
  },
  {
   "cell_type": "code",
   "execution_count": 11,
   "id": "78ad2b4c-3a40-4d23-b288-91895e918abf",
   "metadata": {},
   "outputs": [
    {
     "data": {
      "text/plain": [
       "1"
      ]
     },
     "execution_count": 11,
     "metadata": {},
     "output_type": "execute_result"
    }
   ],
   "source": [
    "bt.min()"
   ]
  },
  {
   "cell_type": "code",
   "execution_count": 12,
   "id": "1be84d60-540b-4176-9410-7fb534f6dc56",
   "metadata": {},
   "outputs": [
    {
     "data": {
      "text/plain": [
       "8"
      ]
     },
     "execution_count": 12,
     "metadata": {},
     "output_type": "execute_result"
    }
   ],
   "source": [
    "bt.max()"
   ]
  },
  {
   "cell_type": "code",
   "execution_count": 13,
   "id": "30b75c75-67b0-49e9-ae3c-d0fd30a2aed8",
   "metadata": {},
   "outputs": [
    {
     "data": {
      "text/plain": [
       "[1, 4, 5, 7, 8]"
      ]
     },
     "execution_count": 13,
     "metadata": {},
     "output_type": "execute_result"
    }
   ],
   "source": [
    "bt.in_order()"
   ]
  },
  {
   "cell_type": "code",
   "execution_count": 14,
   "id": "9dad501c-cb7a-4346-a58c-343ff387c217",
   "metadata": {},
   "outputs": [
    {
     "data": {
      "text/plain": [
       "[5, 1, 4, 7, 8]"
      ]
     },
     "execution_count": 14,
     "metadata": {},
     "output_type": "execute_result"
    }
   ],
   "source": [
    "bt.pre_order()"
   ]
  },
  {
   "cell_type": "code",
   "execution_count": 15,
   "id": "68ad783d-08a5-41ce-bb2c-113ca6dacb43",
   "metadata": {},
   "outputs": [
    {
     "data": {
      "text/plain": [
       "[1, 4, 7, 8, 5]"
      ]
     },
     "execution_count": 15,
     "metadata": {},
     "output_type": "execute_result"
    }
   ],
   "source": [
    "bt.post_order()"
   ]
  },
  {
   "cell_type": "code",
   "execution_count": null,
   "id": "ff34449d-b5cb-40bd-bc5b-327ce5dd1ad2",
   "metadata": {},
   "outputs": [],
   "source": []
  },
  {
   "cell_type": "code",
   "execution_count": null,
   "id": "d26e905c-d6be-4061-8291-614a807a988d",
   "metadata": {},
   "outputs": [],
   "source": []
  },
  {
   "cell_type": "code",
   "execution_count": 17,
   "id": "b12894b6-13eb-4705-acdd-f0a48d423dc5",
   "metadata": {},
   "outputs": [
    {
     "data": {
      "text/plain": [
       "BinaryTree { root: Node { val: \"ddd\", left: None, right: None } }"
      ]
     },
     "execution_count": 17,
     "metadata": {},
     "output_type": "execute_result"
    }
   ],
   "source": [
    "let mut bt2 = BinaryTree::new(\"ddd\");\n",
    "bt2"
   ]
  },
  {
   "cell_type": "code",
   "execution_count": 18,
   "id": "1961b6c3-4597-4b3a-a9fa-735cc39d9c61",
   "metadata": {},
   "outputs": [
    {
     "data": {
      "text/plain": [
       "BinaryTree { root: Node { val: \"ddd\", left: Some(Node { val: \"aaa\", left: None, right: None }), right: None } }"
      ]
     },
     "execution_count": 18,
     "metadata": {},
     "output_type": "execute_result"
    }
   ],
   "source": [
    "bt2.insert(\"aaa\")"
   ]
  },
  {
   "cell_type": "code",
   "execution_count": 19,
   "id": "bdbc7dbb-9524-47bc-9a65-1a9230bf9731",
   "metadata": {},
   "outputs": [
    {
     "data": {
      "text/plain": [
       "BinaryTree { root: Node { val: \"ddd\", left: Some(Node { val: \"aaa\", left: None, right: None }), right: Some(Node { val: \"eee\", left: None, right: None }) } }"
      ]
     },
     "execution_count": 19,
     "metadata": {},
     "output_type": "execute_result"
    }
   ],
   "source": [
    "bt2.insert(\"eee\")"
   ]
  },
  {
   "cell_type": "code",
   "execution_count": 20,
   "id": "1b0d7394-4224-487d-bc52-727d0fe2f1d3",
   "metadata": {},
   "outputs": [
    {
     "data": {
      "text/plain": [
       "BinaryTree { root: Node { val: \"ddd\", left: Some(Node { val: \"aaa\", left: None, right: Some(Node { val: \"ccc\", left: None, right: None }) }), right: Some(Node { val: \"eee\", left: None, right: None }) } }"
      ]
     },
     "execution_count": 20,
     "metadata": {},
     "output_type": "execute_result"
    }
   ],
   "source": [
    "bt2.insert(\"ccc\")"
   ]
  },
  {
   "cell_type": "code",
   "execution_count": 21,
   "id": "8595af75-3cc9-457d-b4dd-df5c627d18d5",
   "metadata": {},
   "outputs": [
    {
     "data": {
      "text/plain": [
       "\"aaa\""
      ]
     },
     "execution_count": 21,
     "metadata": {},
     "output_type": "execute_result"
    }
   ],
   "source": [
    "bt2.min()"
   ]
  },
  {
   "cell_type": "code",
   "execution_count": 22,
   "id": "92cbb6fb-eb14-447e-a95f-a49622ab43fa",
   "metadata": {},
   "outputs": [
    {
     "data": {
      "text/plain": [
       "\"eee\""
      ]
     },
     "execution_count": 22,
     "metadata": {},
     "output_type": "execute_result"
    }
   ],
   "source": [
    "bt2.max()"
   ]
  },
  {
   "cell_type": "code",
   "execution_count": null,
   "id": "59ce2303-3c12-47ef-b056-bc8bd9a679e8",
   "metadata": {},
   "outputs": [],
   "source": []
  },
  {
   "cell_type": "code",
   "execution_count": 26,
   "id": "eb25464c-7553-49eb-b915-7bd417fdeeb7",
   "metadata": {},
   "outputs": [
    {
     "data": {
      "text/plain": [
       "true"
      ]
     },
     "execution_count": 26,
     "metadata": {},
     "output_type": "execute_result"
    }
   ],
   "source": [
    "bt.exists(1)"
   ]
  },
  {
   "cell_type": "code",
   "execution_count": 28,
   "id": "cb5132af-5730-435b-8bf6-820344ef2831",
   "metadata": {},
   "outputs": [
    {
     "data": {
      "text/plain": [
       "false"
      ]
     },
     "execution_count": 28,
     "metadata": {},
     "output_type": "execute_result"
    }
   ],
   "source": [
    "bt2.exists(\"aba\")"
   ]
  },
  {
   "cell_type": "code",
   "execution_count": null,
   "id": "3fc6e6c5-8661-4cfc-b2df-ba956c42670c",
   "metadata": {},
   "outputs": [],
   "source": []
  }
 ],
 "metadata": {
  "kernelspec": {
   "display_name": "Rust",
   "language": "rust",
   "name": "rust"
  },
  "language_info": {
   "codemirror_mode": "rust",
   "file_extension": ".rs",
   "mimetype": "text/rust",
   "name": "Rust",
   "pygment_lexer": "rust",
   "version": ""
  }
 },
 "nbformat": 4,
 "nbformat_minor": 5
}
