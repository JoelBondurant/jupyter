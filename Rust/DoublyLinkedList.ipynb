{
 "cells": [
  {
   "cell_type": "markdown",
   "id": "a493a808-1828-4c1f-bd26-629581b7cb69",
   "metadata": {},
   "source": [
    "## DoublyLinkedList\n",
    "---"
   ]
  },
  {
   "cell_type": "code",
   "execution_count": 2,
   "id": "4171eef9-d63e-4e36-b998-c1203dbe3e37",
   "metadata": {},
   "outputs": [],
   "source": [
    "use std::cell::RefCell;\n",
    "use std::rc::{Rc, Weak};"
   ]
  },
  {
   "cell_type": "code",
   "execution_count": 3,
   "id": "ff2de54b-d091-421a-9b4c-e015931ad2a7",
   "metadata": {},
   "outputs": [],
   "source": [
    "#[derive(Debug)]\n",
    "struct Node<T: PartialEq + PartialOrd + Clone> {\n",
    "    val: T,\n",
    "    next: Option<Rc<RefCell<Node<T>>>>,\n",
    "    prior: Option<Weak<RefCell<Node<T>>>>,\n",
    "}"
   ]
  },
  {
   "cell_type": "code",
   "execution_count": 4,
   "id": "0ca29326-9d02-4618-9246-04b246eaec5d",
   "metadata": {},
   "outputs": [],
   "source": [
    "impl<T: PartialEq + PartialOrd + Clone> Node<T> {\n",
    "\n",
    "    fn new(val: T) -> Self {\n",
    "        Node { val: val, next: None, prior: None }\n",
    "    }\n",
    "\n",
    "}"
   ]
  },
  {
   "cell_type": "code",
   "execution_count": 5,
   "id": "7cdab877-88c2-4be1-8870-750d5a580195",
   "metadata": {},
   "outputs": [],
   "source": [
    "#[derive(Debug)]\n",
    "struct LinkedList<T: PartialEq + PartialOrd + Clone> {\n",
    "    head: Option<Rc<RefCell<Node<T>>>>,\n",
    "    tail: Option<Weak<RefCell<Node<T>>>>,\n",
    "}"
   ]
  },
  {
   "cell_type": "code",
   "execution_count": 18,
   "id": "2b58ef4e-58fc-430f-805a-bfdbf4015159",
   "metadata": {},
   "outputs": [],
   "source": [
    "impl<T: PartialEq + PartialOrd + Clone> LinkedList<T> {\n",
    "\n",
    "    fn new() -> Self {\n",
    "        LinkedList { head: None, tail: None }\n",
    "    }\n",
    "\n",
    "    fn push(&mut self, val: T) -> &Self {\n",
    "        let v1 = Rc::new(RefCell::new(Node::new(val)));\n",
    "        if self.head.is_none() {\n",
    "            self.head = Some(v1.clone());\n",
    "            self.tail = Some(Rc::downgrade(&v1));\n",
    "        } else {\n",
    "            let v2 = self.head.take().unwrap();\n",
    "            v1.borrow_mut().next = Some(v2.clone());\n",
    "            v2.borrow_mut().prior = Some(Rc::downgrade(&v1));\n",
    "            self.head = Some(v1);\n",
    "        }\n",
    "        self\n",
    "    }\n",
    "    \n",
    "    fn push_back(&mut self, val: T) -> &Self {\n",
    "        let v2 = Rc::new(RefCell::new(Node::new(val)));\n",
    "        if self.head.is_none() {\n",
    "            self.head = Some(v2.clone());\n",
    "            self.tail = Some(Rc::downgrade(&v2));\n",
    "        } else {\n",
    "            let v1 = self.tail.take().unwrap().upgrade().unwrap();\n",
    "            v1.borrow_mut().next = Some(v2.clone());\n",
    "            v2.borrow_mut().prior = Some(Rc::downgrade(&v1));\n",
    "            self.tail = Some(Rc::downgrade(&v2));\n",
    "        }\n",
    "        self\n",
    "    }\n",
    "    \n",
    "    fn clear(&mut self) {\n",
    "        self.head = None;\n",
    "        self.tail = None;\n",
    "    }\n",
    "    \n",
    "    fn len(&self) -> usize {\n",
    "        let mut l = 0usize;\n",
    "        if self.head.is_none() {\n",
    "            return l;\n",
    "        }\n",
    "        let mut current = self.head.as_ref().unwrap().clone();\n",
    "        loop {\n",
    "            l += 1;\n",
    "            if current.borrow().next.is_none() {\n",
    "                return l;\n",
    "            }\n",
    "            let next = current.borrow().next.as_ref().unwrap().clone();\n",
    "            current = next;\n",
    "        }\n",
    "    }\n",
    "\n",
    "}"
   ]
  },
  {
   "cell_type": "code",
   "execution_count": 19,
   "id": "366f6c41-6590-4800-ab4d-93322f2ee793",
   "metadata": {},
   "outputs": [
    {
     "data": {
      "text/plain": [
       "LinkedList { head: None, tail: None }"
      ]
     },
     "execution_count": 19,
     "metadata": {},
     "output_type": "execute_result"
    }
   ],
   "source": [
    "let mut q = LinkedList::<i32>::new();\n",
    "q"
   ]
  },
  {
   "cell_type": "code",
   "execution_count": 20,
   "id": "5161cc82-caab-4169-954f-38e706466b9d",
   "metadata": {},
   "outputs": [
    {
     "data": {
      "text/plain": [
       "LinkedList { head: Some(RefCell { value: Node { val: 8, next: None, prior: None } }), tail: Some((Weak)) }"
      ]
     },
     "execution_count": 20,
     "metadata": {},
     "output_type": "execute_result"
    }
   ],
   "source": [
    "q.push(8)"
   ]
  },
  {
   "cell_type": "code",
   "execution_count": 21,
   "id": "bb69ce65-db90-44c5-acab-69aa2082677d",
   "metadata": {},
   "outputs": [
    {
     "data": {
      "text/plain": [
       "LinkedList { head: Some(RefCell { value: Node { val: 6, next: Some(RefCell { value: Node { val: 8, next: None, prior: Some((Weak)) } }), prior: None } }), tail: Some((Weak)) }"
      ]
     },
     "execution_count": 21,
     "metadata": {},
     "output_type": "execute_result"
    }
   ],
   "source": [
    "q.push(6)"
   ]
  },
  {
   "cell_type": "code",
   "execution_count": 22,
   "id": "c3cf8777-2e55-401f-b6e7-e3313d85cb85",
   "metadata": {},
   "outputs": [
    {
     "data": {
      "text/plain": [
       "LinkedList { head: Some(RefCell { value: Node { val: 1, next: Some(RefCell { value: Node { val: 6, next: Some(RefCell { value: Node { val: 8, next: None, prior: Some((Weak)) } }), prior: Some((Weak)) } }), prior: None } }), tail: Some((Weak)) }"
      ]
     },
     "execution_count": 22,
     "metadata": {},
     "output_type": "execute_result"
    }
   ],
   "source": [
    "q.push(1)"
   ]
  },
  {
   "cell_type": "code",
   "execution_count": 23,
   "id": "2829f877-4d09-4345-9262-b716a8ca53b8",
   "metadata": {},
   "outputs": [
    {
     "data": {
      "text/plain": [
       "8"
      ]
     },
     "execution_count": 23,
     "metadata": {},
     "output_type": "execute_result"
    }
   ],
   "source": [
    "q.tail.as_ref().unwrap().upgrade().unwrap().borrow().val"
   ]
  },
  {
   "cell_type": "code",
   "execution_count": 24,
   "id": "b665e032-a3c2-47a8-af9a-2c942bbe8022",
   "metadata": {},
   "outputs": [
    {
     "data": {
      "text/plain": [
       "LinkedList { head: Some(RefCell { value: Node { val: 1, next: Some(RefCell { value: Node { val: 6, next: Some(RefCell { value: Node { val: 8, next: Some(RefCell { value: Node { val: 9, next: None, prior: Some((Weak)) } }), prior: Some((Weak)) } }), prior: Some((Weak)) } }), prior: None } }), tail: Some((Weak)) }"
      ]
     },
     "execution_count": 24,
     "metadata": {},
     "output_type": "execute_result"
    }
   ],
   "source": [
    "q.push_back(9)"
   ]
  },
  {
   "cell_type": "code",
   "execution_count": 25,
   "id": "6c9292f8-93f8-4ab1-b7c9-e9009cff2a2a",
   "metadata": {},
   "outputs": [
    {
     "data": {
      "text/plain": [
       "9"
      ]
     },
     "execution_count": 25,
     "metadata": {},
     "output_type": "execute_result"
    }
   ],
   "source": [
    "q.tail.as_ref().unwrap().upgrade().unwrap().borrow().val"
   ]
  },
  {
   "cell_type": "code",
   "execution_count": 26,
   "id": "6b493a62-9196-40e6-94fb-78eafbb1df62",
   "metadata": {},
   "outputs": [
    {
     "data": {
      "text/plain": [
       "4"
      ]
     },
     "execution_count": 26,
     "metadata": {},
     "output_type": "execute_result"
    }
   ],
   "source": [
    "q.len()"
   ]
  },
  {
   "cell_type": "code",
   "execution_count": 27,
   "id": "f47792bb-0aa5-42ef-8f9a-7abce50ab465",
   "metadata": {},
   "outputs": [],
   "source": [
    "q.clear();"
   ]
  },
  {
   "cell_type": "code",
   "execution_count": 28,
   "id": "7125a005-4364-49d7-8861-ae0e6119c107",
   "metadata": {},
   "outputs": [
    {
     "data": {
      "text/plain": [
       "0"
      ]
     },
     "execution_count": 28,
     "metadata": {},
     "output_type": "execute_result"
    }
   ],
   "source": [
    "q.len()"
   ]
  },
  {
   "cell_type": "code",
   "execution_count": 29,
   "id": "8b35453d-c788-41a3-bc4c-765e0ea22199",
   "metadata": {},
   "outputs": [
    {
     "data": {
      "text/plain": [
       "LinkedList { head: None, tail: None }"
      ]
     },
     "execution_count": 29,
     "metadata": {},
     "output_type": "execute_result"
    }
   ],
   "source": [
    "let mut q2 = LinkedList::<&str>::new();\n",
    "q2"
   ]
  },
  {
   "cell_type": "code",
   "execution_count": 30,
   "id": "0d402218-d76a-480d-850a-fe14acedcde8",
   "metadata": {},
   "outputs": [
    {
     "data": {
      "text/plain": [
       "LinkedList { head: Some(RefCell { value: Node { val: \"Joel\", next: None, prior: None } }), tail: Some((Weak)) }"
      ]
     },
     "execution_count": 30,
     "metadata": {},
     "output_type": "execute_result"
    }
   ],
   "source": [
    "q2.push_back(\"Joel\")"
   ]
  },
  {
   "cell_type": "code",
   "execution_count": 31,
   "id": "e63c3383-ca8f-46da-9e34-ef050f4d1e06",
   "metadata": {},
   "outputs": [
    {
     "data": {
      "text/plain": [
       "LinkedList { head: Some(RefCell { value: Node { val: \"Joel\", next: Some(RefCell { value: Node { val: \"was\", next: None, prior: Some((Weak)) } }), prior: None } }), tail: Some((Weak)) }"
      ]
     },
     "execution_count": 31,
     "metadata": {},
     "output_type": "execute_result"
    }
   ],
   "source": [
    "q2.push_back(\"was\")"
   ]
  },
  {
   "cell_type": "code",
   "execution_count": 32,
   "id": "50290283-3353-4fb7-a192-148020ef0246",
   "metadata": {},
   "outputs": [
    {
     "data": {
      "text/plain": [
       "LinkedList { head: Some(RefCell { value: Node { val: \"Joel\", next: Some(RefCell { value: Node { val: \"was\", next: Some(RefCell { value: Node { val: \"here.\", next: None, prior: Some((Weak)) } }), prior: Some((Weak)) } }), prior: None } }), tail: Some((Weak)) }"
      ]
     },
     "execution_count": 32,
     "metadata": {},
     "output_type": "execute_result"
    }
   ],
   "source": [
    "q2.push_back(\"here.\")"
   ]
  },
  {
   "cell_type": "code",
   "execution_count": null,
   "id": "4bfe9fe4-61ba-44c2-8209-f3c592f4db31",
   "metadata": {},
   "outputs": [],
   "source": []
  },
  {
   "cell_type": "code",
   "execution_count": 33,
   "id": "710103b9-9aaf-4314-a02e-8a1a1f5da4cb",
   "metadata": {},
   "outputs": [
    {
     "data": {
      "text/plain": [
       "LinkedList { head: None, tail: None }"
      ]
     },
     "execution_count": 33,
     "metadata": {},
     "output_type": "execute_result"
    }
   ],
   "source": [
    "let mut q3 = LinkedList::<&str>::new();\n",
    "q3"
   ]
  },
  {
   "cell_type": "code",
   "execution_count": 34,
   "id": "9887cf72-6099-42f4-b329-eab59ebd5a91",
   "metadata": {},
   "outputs": [
    {
     "data": {
      "text/plain": [
       "LinkedList { head: Some(RefCell { value: Node { val: \"here.\", next: None, prior: None } }), tail: Some((Weak)) }"
      ]
     },
     "execution_count": 34,
     "metadata": {},
     "output_type": "execute_result"
    }
   ],
   "source": [
    "q3.push(\"here.\")"
   ]
  },
  {
   "cell_type": "code",
   "execution_count": 35,
   "id": "9f4c344f-5c49-49a9-8839-7b60d9f98e9d",
   "metadata": {},
   "outputs": [
    {
     "data": {
      "text/plain": [
       "LinkedList { head: Some(RefCell { value: Node { val: \"was\", next: Some(RefCell { value: Node { val: \"here.\", next: None, prior: Some((Weak)) } }), prior: None } }), tail: Some((Weak)) }"
      ]
     },
     "execution_count": 35,
     "metadata": {},
     "output_type": "execute_result"
    }
   ],
   "source": [
    "q3.push(\"was\")"
   ]
  },
  {
   "cell_type": "code",
   "execution_count": 36,
   "id": "099d6d45-e0ea-4708-b7a5-c5e71ce2bd98",
   "metadata": {},
   "outputs": [
    {
     "data": {
      "text/plain": [
       "LinkedList { head: Some(RefCell { value: Node { val: \"Joel\", next: Some(RefCell { value: Node { val: \"was\", next: Some(RefCell { value: Node { val: \"here.\", next: None, prior: Some((Weak)) } }), prior: Some((Weak)) } }), prior: None } }), tail: Some((Weak)) }"
      ]
     },
     "execution_count": 36,
     "metadata": {},
     "output_type": "execute_result"
    }
   ],
   "source": [
    "q3.push(\"Joel\")"
   ]
  },
  {
   "cell_type": "code",
   "execution_count": null,
   "id": "c121a235-acf0-4937-a9d2-ca97126b8928",
   "metadata": {},
   "outputs": [],
   "source": []
  },
  {
   "cell_type": "code",
   "execution_count": null,
   "id": "4a12bb33-628c-448f-9819-8adddeac333c",
   "metadata": {},
   "outputs": [],
   "source": []
  }
 ],
 "metadata": {
  "kernelspec": {
   "display_name": "Rust",
   "language": "rust",
   "name": "rust"
  },
  "language_info": {
   "codemirror_mode": "rust",
   "file_extension": ".rs",
   "mimetype": "text/rust",
   "name": "Rust",
   "pygment_lexer": "rust",
   "version": ""
  }
 },
 "nbformat": 4,
 "nbformat_minor": 5
}
