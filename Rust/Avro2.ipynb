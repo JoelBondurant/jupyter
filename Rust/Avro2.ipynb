{
 "cells": [
  {
   "cell_type": "markdown",
   "id": "30acf09b-5740-4804-999d-d71deacba30d",
   "metadata": {},
   "source": [
    "## Generic Avro, sans serde\n",
    "---"
   ]
  },
  {
   "cell_type": "code",
   "execution_count": 2,
   "id": "f265e9c4-eab2-4bca-ad23-bb65a20c12cb",
   "metadata": {},
   "outputs": [
    {
     "data": {
      "text/plain": [
       "cache: 1000 MiB\n"
      ]
     },
     "execution_count": 2,
     "metadata": {},
     "output_type": "execute_result"
    }
   ],
   "source": [
    ":cache 1000\n",
    ":dep apache-avro\n",
    ":dep serde_json"
   ]
  },
  {
   "cell_type": "code",
   "execution_count": 3,
   "id": "41a90484-01f3-45ce-9c81-4b2e4c27ae7a",
   "metadata": {},
   "outputs": [],
   "source": [
    "use apache_avro::{from_value, to_value, Reader, Schema, Writer};\n",
    "use apache_avro::types::{Value, Record};\n",
    "use std::collections::{BTreeMap, HashMap};"
   ]
  },
  {
   "cell_type": "markdown",
   "id": "d823590a-3c0b-4044-a965-b2f2a55243d8",
   "metadata": {},
   "source": [
    "---\n",
    "### Generic Data Container:"
   ]
  },
  {
   "cell_type": "code",
   "execution_count": 4,
   "id": "7116ab2e-c024-46f5-9aa4-e61c3e3242e7",
   "metadata": {},
   "outputs": [],
   "source": [
    "let avsc_raw = r#\"\n",
    "    {\n",
    "        \"type\": \"record\",\n",
    "        \"name\": \"db\",\n",
    "        \"fields\": [\n",
    "            {\"name\": \"map_boolean\", \"type\": {\"type\": \"map\", \"values\": \"boolean\"}},\n",
    "            {\"name\": \"map_int\", \"type\": {\"type\": \"map\", \"values\": \"int\"}},\n",
    "            {\"name\": \"map_long\", \"type\": {\"type\": \"map\", \"values\": \"long\"}},\n",
    "            {\"name\": \"map_float\", \"type\": {\"type\": \"map\", \"values\": \"float\"}},\n",
    "            {\"name\": \"map_double\",\"type\": {\"type\": \"map\", \"values\": \"double\"}},\n",
    "            {\"name\": \"map_string\", \"type\": {\"type\": \"map\", \"values\": \"string\"}},\n",
    "            {\"name\": \"map_map_boolean\", \"type\": {\"type\": \"map\", \"values\": {\"type\": \"map\", \"values\": \"boolean\"}}},\n",
    "            {\"name\": \"map_map_int\", \"type\": {\"type\": \"map\", \"values\": {\"type\": \"map\", \"values\": \"int\"}}},\n",
    "            {\"name\": \"map_map_long\", \"type\": {\"type\": \"map\", \"values\": {\"type\": \"map\", \"values\": \"long\"}}},\n",
    "            {\"name\": \"map_map_float\", \"type\": {\"type\": \"map\", \"values\": {\"type\": \"map\", \"values\": \"float\"}}},\n",
    "            {\"name\": \"map_map_double\", \"type\": {\"type\": \"map\", \"values\": {\"type\": \"map\", \"values\": \"double\"}}},\n",
    "            {\"name\": \"map_map_string\", \"type\": {\"type\": \"map\", \"values\": {\"type\": \"map\", \"values\": \"string\"}}},\n",
    "            {\"name\": \"map_array_boolean\", \"type\": {\"type\": \"map\", \"values\": {\"type\": \"array\", \"items\": \"boolean\"}}},\n",
    "            {\"name\": \"map_array_int\", \"type\": {\"type\": \"map\", \"values\": {\"type\": \"array\", \"items\": \"int\"}}},\n",
    "            {\"name\": \"map_array_long\", \"type\": {\"type\": \"map\", \"values\": {\"type\": \"array\", \"items\": \"long\"}}},\n",
    "            {\"name\": \"map_array_float\", \"type\": {\"type\": \"map\", \"values\": {\"type\": \"array\", \"items\": \"float\"}}},\n",
    "            {\"name\": \"map_array_double\", \"type\": {\"type\": \"map\", \"values\": {\"type\": \"array\", \"items\": \"double\"}}},\n",
    "            {\"name\": \"map_array_string\", \"type\": {\"type\": \"map\", \"values\": {\"type\": \"array\", \"items\": \"string\"}}},\n",
    "            {\"name\": \"map_map_array_boolean\", \"type\": {\"type\": \"map\", \"values\": {\"type\": \"map\", \"values\": {\"type\": \"array\", \"items\": \"boolean\"}}}},\n",
    "            {\"name\": \"map_map_array_int\", \"type\": {\"type\": \"map\", \"values\": {\"type\": \"map\", \"values\": {\"type\": \"array\", \"items\": \"int\"}}}},\n",
    "            {\"name\": \"map_map_array_long\", \"type\": {\"type\": \"map\", \"values\": {\"type\": \"map\", \"values\": {\"type\": \"array\", \"items\": \"long\"}}}},\n",
    "            {\"name\": \"map_map_array_float\", \"type\": {\"type\": \"map\", \"values\": {\"type\": \"map\", \"values\": {\"type\": \"array\", \"items\": \"float\"}}}},\n",
    "            {\"name\": \"map_map_array_double\", \"type\": {\"type\": \"map\", \"values\": {\"type\": \"map\", \"values\": {\"type\": \"array\", \"items\": \"double\"}}}},\n",
    "            {\"name\": \"map_map_array_string\", \"type\": {\"type\": \"map\", \"values\": {\"type\": \"map\", \"values\": {\"type\": \"array\", \"items\": \"string\"}}}}\n",
    "        ]\n",
    "    }\n",
    "\"#;"
   ]
  },
  {
   "cell_type": "code",
   "execution_count": 5,
   "id": "19ac9dae-fdec-42ce-9163-e906046a6ed5",
   "metadata": {},
   "outputs": [
    {
     "data": {
      "text/plain": [
       "[79, 98, 106, 1, 4, 22, 97, 118, 114, 111, 46, 115, 99, 104, 101, 109, 97, 168, 34, 123, 34, 116, 121, 112, 101, 34, 58, 34, 114, 101, 99, 111, 114, 100, 34, 44, 34, 110, 97, 109, 101, 34, 58, 34, 100, 98, 34, 44, 34, 102, 105, 101, 108, 100, 115, 34, 58, 91, 123, 34, 110, 97, 109, 101, 34, 58, 34, 109, 97, 112, 95, 98, 111, 111, 108, 101, 97, 110, 34, 44, 34, 116, 121, 112, 101, 34, 58, 123, 34, 116, 121, 112, 101, 34, 58, 34, 109, 97, 112, 34, 44, 34, 118, 97, 108, 117, 101, 115, 34, 58, 34, 98, 111, 111, 108, 101, 97, 110, 34, 125, 125, 44, 123, 34, 110, 97, 109, 101, 34, 58, 34, 109, 97, 112, 95, 105, 110, 116, 34, 44, 34, 116, 121, 112, 101, 34, 58, 123, 34, 116, 121, 112, 101, 34, 58, 34, 109, 97, 112, 34, 44, 34, 118, 97, 108, 117, 101, 115, 34, 58, 34, 105, 110, 116, 34, 125, 125, 44, 123, 34, 110, 97, 109, 101, 34, 58, 34, 109, 97, 112, 95, 108, 111, 110, 103, 34, 44, 34, 116, 121, 112, 101, 34, 58, 123, 34, 116, 121, 112, 101, 34, 58, 34, 109, 97, 112, 34, 44, 34, 118, 97, 108, 117, 101, 115, 34, 58, 34, 108, 111, 110, 103, 34, 125, 125, 44, 123, 34, 110, 97, 109, 101, 34, 58, 34, 109, 97, 112, 95, 102, 108, 111, 97, 116, 34, 44, 34, 116, 121, 112, 101, 34, 58, 123, 34, 116, 121, 112, 101, 34, 58, 34, 109, 97, 112, 34, 44, 34, 118, 97, 108, 117, 101, 115, 34, 58, 34, 102, 108, 111, 97, 116, 34, 125, 125, 44, 123, 34, 110, 97, 109, 101, 34, 58, 34, 109, 97, 112, 95, 100, 111, 117, 98, 108, 101, 34, 44, 34, 116, 121, 112, 101, 34, 58, 123, 34, 116, 121, 112, 101, 34, 58, 34, 109, 97, 112, 34, 44, 34, 118, 97, 108, 117, 101, 115, 34, 58, 34, 100, 111, 117, 98, 108, 101, 34, 125, 125, 44, 123, 34, 110, 97, 109, 101, 34, 58, 34, 109, 97, 112, 95, 115, 116, 114, 105, 110, 103, 34, 44, 34, 116, 121, 112, 101, 34, 58, 123, 34, 116, 121, 112, 101, 34, 58, 34, 109, 97, 112, 34, 44, 34, 118, 97, 108, 117, 101, 115, 34, 58, 34, 115, 116, 114, 105, 110, 103, 34, 125, 125, 44, 123, 34, 110, 97, 109, 101, 34, 58, 34, 109, 97, 112, 95, 109, 97, 112, 95, 98, 111, 111, 108, 101, 97, 110, 34, 44, 34, 116, 121, 112, 101, 34, 58, 123, 34, 116, 121, 112, 101, 34, 58, 34, 109, 97, 112, 34, 44, 34, 118, 97, 108, 117, 101, 115, 34, 58, 123, 34, 116, 121, 112, 101, 34, 58, 34, 109, 97, 112, 34, 44, 34, 118, 97, 108, 117, 101, 115, 34, 58, 34, 98, 111, 111, 108, 101, 97, 110, 34, 125, 125, 125, 44, 123, 34, 110, 97, 109, 101, 34, 58, 34, 109, 97, 112, 95, 109, 97, 112, 95, 105, 110, 116, 34, 44, 34, 116, 121, 112, 101, 34, 58, 123, 34, 116, 121, 112, 101, 34, 58, 34, 109, 97, 112, 34, 44, 34, 118, 97, 108, 117, 101, 115, 34, 58, 123, 34, 116, 121, 112, 101, 34, 58, 34, 109, 97, 112, 34, 44, 34, 118, 97, 108, 117, 101, 115, 34, 58, 34, 105, 110, 116, 34, 125, 125, 125, 44, 123, 34, 110, 97, 109, 101, 34, 58, 34, 109, 97, 112, 95, 109, 97, 112, 95, 108, 111, 110, 103, 34, 44, 34, 116, 121, 112, 101, 34, 58, 123, 34, 116, 121, 112, 101, 34, 58, 34, 109, 97, 112, 34, 44, 34, 118, 97, 108, 117, 101, 115, 34, 58, 123, 34, 116, 121, 112, 101, 34, 58, 34, 109, 97, 112, 34, 44, 34, 118, 97, 108, 117, 101, 115, 34, 58, 34, 108, 111, 110, 103, 34, 125, 125, 125, 44, 123, 34, 110, 97, 109, 101, 34, 58, 34, 109, 97, 112, 95, 109, 97, 112, 95, 102, 108, 111, 97, 116, 34, 44, 34, 116, 121, 112, 101, 34, 58, 123, 34, 116, 121, 112, 101, 34, 58, 34, 109, 97, 112, 34, 44, 34, 118, 97, 108, 117, 101, 115, 34, 58, 123, 34, 116, 121, 112, 101, 34, 58, 34, 109, 97, 112, 34, 44, 34, 118, 97, 108, 117, 101, 115, 34, 58, 34, 102, 108, 111, 97, 116, 34, 125, 125, 125, 44, 123, 34, 110, 97, 109, 101, 34, 58, 34, 109, 97, 112, 95, 109, 97, 112, 95, 100, 111, 117, 98, 108, 101, 34, 44, 34, 116, 121, 112, 101, 34, 58, 123, 34, 116, 121, 112, 101, 34, 58, 34, 109, 97, 112, 34, 44, 34, 118, 97, 108, 117, 101, 115, 34, 58, 123, 34, 116, 121, 112, 101, 34, 58, 34, 109, 97, 112, 34, 44, 34, 118, 97, 108, 117, 101, 115, 34, 58, 34, 100, 111, 117, 98, 108, 101, 34, 125, 125, 125, 44, 123, 34, 110, 97, 109, 101, 34, 58, 34, 109, 97, 112, 95, 109, 97, 112, 95, 115, 116, 114, 105, 110, 103, 34, 44, 34, 116, 121, 112, 101, 34, 58, 123, 34, 116, 121, 112, 101, 34, 58, 34, 109, 97, 112, 34, 44, 34, 118, 97, 108, 117, 101, 115, 34, 58, 123, 34, 116, 121, 112, 101, 34, 58, 34, 109, 97, 112, 34, 44, 34, 118, 97, 108, 117, 101, 115, 34, 58, 34, 115, 116, 114, 105, 110, 103, 34, 125, 125, 125, 44, 123, 34, 110, 97, 109, 101, 34, 58, 34, 109, 97, 112, 95, 97, 114, 114, 97, 121, 95, 98, 111, 111, 108, 101, 97, 110, 34, 44, 34, 116, 121, 112, 101, 34, 58, 123, 34, 116, 121, 112, 101, 34, 58, 34, 109, 97, 112, 34, 44, 34, 118, 97, 108, 117, 101, 115, 34, 58, 123, 34, 116, 121, 112, 101, 34, 58, 34, 97, 114, 114, 97, 121, 34, 44, 34, 105, 116, 101, 109, 115, 34, 58, 34, 98, 111, 111, 108, 101, 97, 110, 34, 125, 125, 125, 44, 123, 34, 110, 97, 109, 101, 34, 58, 34, 109, 97, 112, 95, 97, 114, 114, 97, 121, 95, 105, 110, 116, 34, 44, 34, 116, 121, 112, 101, 34, 58, 123, 34, 116, 121, 112, 101, 34, 58, 34, 109, 97, 112, 34, 44, 34, 118, 97, 108, 117, 101, 115, 34, 58, 123, 34, 116, 121, 112, 101, 34, 58, 34, 97, 114, 114, 97, 121, 34, 44, 34, 105, 116, 101, 109, 115, 34, 58, 34, 105, 110, 116, 34, 125, 125, 125, 44, 123, 34, 110, 97, 109, 101, 34, 58, 34, 109, 97, 112, 95, 97, 114, 114, 97, 121, 95, 108, 111, 110, 103, 34, 44, 34, 116, 121, 112, 101, 34, 58, 123, 34, 116, 121, 112, 101, 34, 58, 34, 109, 97, 112, 34, 44, 34, 118, 97, 108, 117, 101, 115, 34, 58, 123, 34, 116, 121, 112, 101, 34, 58, 34, 97, 114, 114, 97, 121, 34, 44, 34, 105, 116, 101, 109, 115, 34, 58, 34, 108, 111, 110, 103, 34, 125, 125, 125, 44, 123, 34, 110, 97, 109, 101, 34, 58, 34, 109, 97, 112, 95, 97, 114, 114, 97, 121, 95, 102, 108, 111, 97, 116, 34, 44, 34, 116, 121, 112, 101, 34, 58, 123, 34, 116, 121, 112, 101, 34, 58, 34, 109, 97, 112, 34, 44, 34, 118, 97, 108, 117, 101, 115, 34, 58, 123, 34, 116, 121, 112, 101, 34, 58, 34, 97, 114, 114, 97, 121, 34, 44, 34, 105, 116, 101, 109, 115, 34, 58, 34, 102, 108, 111, 97, 116, 34, 125, 125, 125, 44, 123, 34, 110, 97, 109, 101, 34, 58, 34, 109, 97, 112, 95, 97, 114, 114, 97, 121, 95, 100, 111, 117, 98, 108, 101, 34, 44, 34, 116, 121, 112, 101, 34, 58, 123, 34, 116, 121, 112, 101, 34, 58, 34, 109, 97, 112, 34, 44, 34, 118, 97, 108, 117, 101, 115, 34, 58, 123, 34, 116, 121, 112, 101, 34, 58, 34, 97, 114, 114, 97, 121, 34, 44, 34, 105, 116, 101, 109, 115, 34, 58, 34, 100, 111, 117, 98, 108, 101, 34, 125, 125, 125, 44, 123, 34, 110, 97, 109, 101, 34, 58, 34, 109, 97, 112, 95, 97, 114, 114, 97, 121, 95, 115, 116, 114, 105, 110, 103, 34, 44, 34, 116, 121, 112, 101, 34, 58, 123, 34, 116, 121, 112, 101, 34, 58, 34, 109, 97, 112, 34, 44, 34, 118, 97, 108, 117, 101, 115, 34, 58, 123, 34, 116, 121, 112, 101, 34, 58, 34, 97, 114, 114, 97, 121, 34, 44, 34, 105, 116, 101, 109, 115, 34, 58, 34, 115, 116, 114, 105, 110, 103, 34, 125, 125, 125, 44, 123, 34, 110, 97, 109, 101, 34, 58, 34, 109, 97, 112, 95, 109, 97, 112, 95, 97, 114, 114, 97, 121, 95, 98, 111, 111, 108, 101, 97, 110, 34, 44, 34, 116, 121, 112, 101, 34, 58, 123, 34, 116, 121, 112, 101, 34, 58, 34, 109, 97, 112, 34, 44, 34, 118, 97, 108, 117, 101, 115, 34, 58, 123, 34, 116, 121, 112, 101, 34, 58, 34, 109, 97, 112, 34, 44, 34, 118, 97, 108, 117, 101, 115, 34, 58, 123, 34, 116, 121, 112, 101, 34, 58, 34, 97, 114, 114, 97, 121, 34, 44, 34, 105, 116, 101, 109, 115, 34, 58, 34, 98, 111, 111, 108, 101, 97, 110, 34, 125, 125, 125, 125, 44, 123, 34, 110, 97, 109, 101, 34, 58, 34, 109, 97, 112, 95, 109, 97, 112, 95, 97, 114, 114, 97, 121, 95, 105, 110, 116, 34, 44, 34, 116, 121, 112, 101, 34, 58, 123, 34, 116, 121, 112, 101, 34, 58, 34, 109, 97, 112, 34, 44, 34, 118, 97, 108, 117, 101, 115, 34, 58, 123, 34, 116, 121, 112, 101, 34, 58, 34, 109, 97, 112, 34, 44, 34, 118, 97, 108, 117, 101, 115, 34, 58, 123, 34, 116, 121, 112, 101, 34, 58, 34, 97, 114, 114, 97, 121, 34, 44, 34, 105, 116, 101, 109, 115, 34, 58, 34, 105, 110, 116, 34, 125, 125, 125, 125, 44, 123, 34, 110, 97, 109, 101, 34, 58, 34, 109, 97, 112, 95, 109, 97, 112, 95, 97, 114, 114, 97, 121, 95, 108, 111, 110, 103, 34, 44, 34, 116, 121, 112, 101, 34, 58, 123, 34, 116, 121, 112, 101, 34, 58, 34, 109, 97, 112, 34, 44, 34, 118, 97, 108, 117, 101, 115, 34, 58, 123, 34, 116, 121, 112, 101, 34, 58, 34, 109, 97, 112, 34, 44, 34, 118, 97, 108, 117, 101, 115, 34, 58, 123, 34, 116, 121, 112, 101, 34, 58, 34, 97, 114, 114, 97, 121, 34, 44, 34, 105, 116, 101, 109, 115, 34, 58, 34, 108, 111, 110, 103, 34, 125, 125, 125, 125, 44, 123, 34, 110, 97, 109, 101, 34, 58, 34, 109, 97, 112, 95, 109, 97, 112, 95, 97, 114, 114, 97, 121, 95, 102, 108, 111, 97, 116, 34, 44, 34, 116, 121, 112, 101, 34, 58, 123, 34, 116, 121, 112, 101, 34, 58, 34, 109, 97, 112, 34, 44, 34, 118, 97, 108, 117, 101, 115, 34, 58, 123, 34, 116, 121, 112, 101, 34, 58, 34, 109, 97, 112, 34, 44, 34, 118, 97, 108, 117, 101, 115, 34, 58, 123, 34, 116, 121, 112, 101, 34, 58, 34, 97, 114, 114, 97, 121, 34, 44, 34, 105, 116, 101, 109, 115, 34, 58, 34, 102, 108, 111, 97, 116, 34, 125, 125, 125, 125, 44, 123, 34, 110, 97, 109, 101, 34, 58, 34, 109, 97, 112, 95, 109, 97, 112, 95, 97, 114, 114, 97, 121, 95, 100, 111, 117, 98, 108, 101, 34, 44, 34, 116, 121, 112, 101, 34, 58, 123, 34, 116, 121, 112, 101, 34, 58, 34, 109, 97, 112, 34, 44, 34, 118, 97, 108, 117, 101, 115, 34, 58, 123, 34, 116, 121, 112, 101, 34, 58, 34, 109, 97, 112, 34, 44, 34, 118, 97, 108, 117, 101, 115, 34, 58, 123, 34, 116, 121, 112, 101, 34, 58, 34, 97, 114, 114, 97, 121, 34, 44, 34, 105, 116, 101, 109, 115, 34, 58, 34, 100, 111, 117, 98, 108, 101, 34, 125, 125, 125, 125, 44, 123, 34, 110, 97, 109, 101, 34, 58, 34, 109, 97, 112, 95, 109, 97, 112, 95, 97, 114, 114, 97, 121, 95, 115, 116, 114, 105, 110, 103, 34, 44, 34, 116, 121, 112, 101, 34, 58, 123, 34, 116, 121, 112, 101, 34, 58, 34, 109, 97, 112, 34, 44, 34, 118, 97, 108, 117, 101, 115, 34, 58, 123, 34, 116, 121, 112, 101, 34, 58, 34, 109, 97, 112, 34, 44, 34, 118, 97, 108, 117, 101, 115, 34, 58, 123, 34, 116, 121, 112, 101, 34, 58, 34, 97, 114, 114, 97, 121, 34, 44, 34, 105, 116, 101, 109, 115, 34, 58, 34, 115, 116, 114, 105, 110, 103, 34, 125, 125, 125, 125, 93, 125, 20, 97, 118, 114, 111, 46, 99, 111, 100, 101, 99, 8, 110, 117, 108, 108, 0, 208, 213, 148, 136, 65, 45, 62, 71, 83, 75, 172, 175, 230, 83, 243, 197, 2, 48, 0, 0, 0, 0, 0, 0, 0, 0, 0, 0, 0, 0, 0, 0, 0, 0, 0, 0, 0, 0, 0, 0, 0, 0, 208, 213, 148, 136, 65, 45, 62, 71, 83, 75, 172, 175, 230, 83, 243, 197]"
      ]
     },
     "execution_count": 5,
     "metadata": {},
     "output_type": "execute_result"
    }
   ],
   "source": [
    "let mut dat_enc: Vec<u8> =\n",
    "{\n",
    "    let avsc = Schema::parse_str(avsc_raw).unwrap();\n",
    "    let mut writer = Writer::new(&avsc, Vec::new());\n",
    "    let mut rec = Record::new(writer.schema()).unwrap();\n",
    "    \n",
    "    rec.put(\"map_boolean\", HashMap::<String, bool>::new()); // 0\n",
    "    rec.put(\"map_int\", HashMap::<String, i32>::new());\n",
    "    rec.put(\"map_long\", HashMap::<String, i64>::new());\n",
    "    rec.put(\"map_float\", HashMap::<String, f32>::new());\n",
    "    rec.put(\"map_double\", HashMap::<String, f64>::new());\n",
    "    rec.put(\"map_string\", HashMap::<String, String>::new()); // 5\n",
    "\n",
    "    rec.put(\"map_map_boolean\", HashMap::<String, HashMap::<String, bool>>::new()); // 6\n",
    "    rec.put(\"map_map_int\", HashMap::<String, HashMap::<String, i32>>::new());\n",
    "    rec.put(\"map_map_long\", HashMap::<String, HashMap::<String, i64>>::new());\n",
    "    rec.put(\"map_map_float\", HashMap::<String, HashMap::<String, f32>>::new());\n",
    "    rec.put(\"map_map_double\", HashMap::<String, HashMap::<String, f64>>::new());\n",
    "    rec.put(\"map_map_string\", HashMap::<String, HashMap::<String, String>>::new()); // 11\n",
    "\n",
    "    rec.put(\"map_array_boolean\", to_value(HashMap::<String, Vec<bool>>::new()).unwrap()); // 12\n",
    "    rec.put(\"map_array_int\", to_value(HashMap::<String, Vec<i32>>::new()).unwrap());\n",
    "    rec.put(\"map_array_long\", to_value(HashMap::<String, Vec<i64>>::new()).unwrap());\n",
    "    rec.put(\"map_array_float\", to_value(HashMap::<String, Vec<f32>>::new()).unwrap());\n",
    "    rec.put(\"map_array_double\", to_value(HashMap::<String, Vec<f64>>::new()).unwrap());\n",
    "    rec.put(\"map_array_string\", to_value(HashMap::<String, Vec<String>>::new()).unwrap()); // 17\n",
    "\n",
    "    rec.put(\"map_map_array_boolean\", to_value(HashMap::<String, HashMap::<String, Vec<bool>>>::new()).unwrap()); // 18\n",
    "    rec.put(\"map_map_array_int\", to_value(HashMap::<String, HashMap::<String, Vec<i32>>>::new()).unwrap());\n",
    "    rec.put(\"map_map_array_long\", to_value(HashMap::<String, HashMap::<String, Vec<i64>>>::new()).unwrap());\n",
    "    rec.put(\"map_map_array_float\", to_value(HashMap::<String, HashMap::<String, Vec<f32>>>::new()).unwrap());\n",
    "    rec.put(\"map_map_array_double\", to_value(HashMap::<String, HashMap::<String, Vec<f64>>>::new()).unwrap());\n",
    "    rec.put(\"map_map_array_string\", to_value(HashMap::<String, HashMap::<String, Vec<String>>>::new()).unwrap()); // 23\n",
    "    \n",
    "    writer.append(rec).unwrap();\n",
    "    writer.into_inner().unwrap()\n",
    "};\n",
    "dat_enc"
   ]
  },
  {
   "cell_type": "code",
   "execution_count": 6,
   "id": "17e0ed44-fe3f-41ea-9490-f8754926d848",
   "metadata": {},
   "outputs": [
    {
     "data": {
      "text/plain": [
       "\"Obj\\u{1}\\u{4}\\u{16}avro.schema�\\\"{\\\"type\\\":\\\"record\\\",\\\"name\\\":\\\"db\\\",\\\"fields\\\":[{\\\"name\\\":\\\"map_boolean\\\",\\\"type\\\":{\\\"type\\\":\\\"map\\\",\\\"values\\\":\\\"boolean\\\"}},{\\\"name\\\":\\\"map_int\\\",\\\"type\\\":{\\\"type\\\":\\\"map\\\",\\\"values\\\":\\\"int\\\"}},{\\\"name\\\":\\\"map_long\\\",\\\"type\\\":{\\\"type\\\":\\\"map\\\",\\\"values\\\":\\\"long\\\"}},{\\\"name\\\":\\\"map_float\\\",\\\"type\\\":{\\\"type\\\":\\\"map\\\",\\\"values\\\":\\\"float\\\"}},{\\\"name\\\":\\\"map_double\\\",\\\"type\\\":{\\\"type\\\":\\\"map\\\",\\\"values\\\":\\\"double\\\"}},{\\\"name\\\":\\\"map_string\\\",\\\"type\\\":{\\\"type\\\":\\\"map\\\",\\\"values\\\":\\\"string\\\"}},{\\\"name\\\":\\\"map_map_boolean\\\",\\\"type\\\":{\\\"type\\\":\\\"map\\\",\\\"values\\\":{\\\"type\\\":\\\"map\\\",\\\"values\\\":\\\"boolean\\\"}}},{\\\"name\\\":\\\"map_map_int\\\",\\\"type\\\":{\\\"type\\\":\\\"map\\\",\\\"values\\\":{\\\"type\\\":\\\"map\\\",\\\"values\\\":\\\"int\\\"}}},{\\\"name\\\":\\\"map_map_long\\\",\\\"type\\\":{\\\"type\\\":\\\"map\\\",\\\"values\\\":{\\\"type\\\":\\\"map\\\",\\\"values\\\":\\\"long\\\"}}},{\\\"name\\\":\\\"map_map_float\\\",\\\"type\\\":{\\\"type\\\":\\\"map\\\",\\\"values\\\":{\\\"type\\\":\\\"map\\\",\\\"values\\\":\\\"float\\\"}}},{\\\"name\\\":\\\"map_map_double\\\",\\\"type\\\":{\\\"type\\\":\\\"map\\\",\\\"values\\\":{\\\"type\\\":\\\"map\\\",\\\"values\\\":\\\"double\\\"}}},{\\\"name\\\":\\\"map_map_string\\\",\\\"type\\\":{\\\"type\\\":\\\"map\\\",\\\"values\\\":{\\\"type\\\":\\\"map\\\",\\\"values\\\":\\\"string\\\"}}},{\\\"name\\\":\\\"map_array_boolean\\\",\\\"type\\\":{\\\"type\\\":\\\"map\\\",\\\"values\\\":{\\\"type\\\":\\\"array\\\",\\\"items\\\":\\\"boolean\\\"}}},{\\\"name\\\":\\\"map_array_int\\\",\\\"type\\\":{\\\"type\\\":\\\"map\\\",\\\"values\\\":{\\\"type\\\":\\\"array\\\",\\\"items\\\":\\\"int\\\"}}},{\\\"name\\\":\\\"map_array_long\\\",\\\"type\\\":{\\\"type\\\":\\\"map\\\",\\\"values\\\":{\\\"type\\\":\\\"array\\\",\\\"items\\\":\\\"long\\\"}}},{\\\"name\\\":\\\"map_array_float\\\",\\\"type\\\":{\\\"type\\\":\\\"map\\\",\\\"values\\\":{\\\"type\\\":\\\"array\\\",\\\"items\\\":\\\"float\\\"}}},{\\\"name\\\":\\\"map_array_double\\\",\\\"type\\\":{\\\"type\\\":\\\"map\\\",\\\"values\\\":{\\\"type\\\":\\\"array\\\",\\\"items\\\":\\\"double\\\"}}},{\\\"name\\\":\\\"map_array_string\\\",\\\"type\\\":{\\\"type\\\":\\\"map\\\",\\\"values\\\":{\\\"type\\\":\\\"array\\\",\\\"items\\\":\\\"string\\\"}}},{\\\"name\\\":\\\"map_map_array_boolean\\\",\\\"type\\\":{\\\"type\\\":\\\"map\\\",\\\"values\\\":{\\\"type\\\":\\\"map\\\",\\\"values\\\":{\\\"type\\\":\\\"array\\\",\\\"items\\\":\\\"boolean\\\"}}}},{\\\"name\\\":\\\"map_map_array_int\\\",\\\"type\\\":{\\\"type\\\":\\\"map\\\",\\\"values\\\":{\\\"type\\\":\\\"map\\\",\\\"values\\\":{\\\"type\\\":\\\"array\\\",\\\"items\\\":\\\"int\\\"}}}},{\\\"name\\\":\\\"map_map_array_long\\\",\\\"type\\\":{\\\"type\\\":\\\"map\\\",\\\"values\\\":{\\\"type\\\":\\\"map\\\",\\\"values\\\":{\\\"type\\\":\\\"array\\\",\\\"items\\\":\\\"long\\\"}}}},{\\\"name\\\":\\\"map_map_array_float\\\",\\\"type\\\":{\\\"type\\\":\\\"map\\\",\\\"values\\\":{\\\"type\\\":\\\"map\\\",\\\"values\\\":{\\\"type\\\":\\\"array\\\",\\\"items\\\":\\\"float\\\"}}}},{\\\"name\\\":\\\"map_map_array_double\\\",\\\"type\\\":{\\\"type\\\":\\\"map\\\",\\\"values\\\":{\\\"type\\\":\\\"map\\\",\\\"values\\\":{\\\"type\\\":\\\"array\\\",\\\"items\\\":\\\"double\\\"}}}},{\\\"name\\\":\\\"map_map_array_string\\\",\\\"type\\\":{\\\"type\\\":\\\"map\\\",\\\"values\\\":{\\\"type\\\":\\\"map\\\",\\\"values\\\":{\\\"type\\\":\\\"array\\\",\\\"items\\\":\\\"string\\\"}}}}]}\\u{14}avro.codec\\u{8}null\\0�Ք�A->GSK���S��\\u{2}0\\0\\0\\0\\0\\0\\0\\0\\0\\0\\0\\0\\0\\0\\0\\0\\0\\0\\0\\0\\0\\0\\0\\0\\0�Ք�A->GSK���S��\""
      ]
     },
     "execution_count": 6,
     "metadata": {},
     "output_type": "execute_result"
    }
   ],
   "source": [
    "String::from_utf8_lossy(&dat_enc[..])"
   ]
  },
  {
   "cell_type": "code",
   "execution_count": 7,
   "id": "9740f30d-67ea-4e29-ad24-dbabc485fb43",
   "metadata": {},
   "outputs": [
    {
     "data": {
      "text/plain": [
       "{\"map_long\": Map({}), \"map_map_long\": Map({}), \"map_array_double\": Map({}), \"map_map_array_float\": Map({}), \"map_map_float\": Map({}), \"map_boolean\": Map({}), \"map_array_int\": Map({}), \"map_array_long\": Map({}), \"map_map_int\": Map({}), \"map_double\": Map({}), \"map_map_double\": Map({}), \"map_map_boolean\": Map({}), \"map_int\": Map({}), \"map_map_array_int\": Map({}), \"map_array_boolean\": Map({}), \"map_map_array_long\": Map({}), \"map_array_float\": Map({}), \"map_map_array_boolean\": Map({}), \"map_map_array_double\": Map({}), \"map_map_array_string\": Map({}), \"map_map_string\": Map({}), \"map_array_string\": Map({}), \"map_float\": Map({}), \"map_string\": Map({})}"
      ]
     },
     "execution_count": 7,
     "metadata": {},
     "output_type": "execute_result"
    }
   ],
   "source": [
    "let dat = HashMap::<String, Value>::from_iter({\n",
    "    match Reader::new(&dat_enc[..]).unwrap().last().unwrap().unwrap() {\n",
    "        Value::Record(r) => Some(r),\n",
    "        _ => None\n",
    "    }.unwrap()\n",
    "});\n",
    "dat"
   ]
  },
  {
   "cell_type": "code",
   "execution_count": 8,
   "id": "57d1ef5c-8570-4919-a43e-ba8b92d69cb9",
   "metadata": {},
   "outputs": [
    {
     "data": {
      "text/plain": [
       "{}"
      ]
     },
     "execution_count": 8,
     "metadata": {},
     "output_type": "execute_result"
    }
   ],
   "source": [
    "from_value::<HashMap<String, bool>>(&dat[\"map_boolean\"]).unwrap()"
   ]
  },
  {
   "cell_type": "code",
   "execution_count": 9,
   "id": "9031f6de-4c4d-45e2-867a-65bf2ad3ff56",
   "metadata": {},
   "outputs": [
    {
     "data": {
      "text/plain": [
       "{}"
      ]
     },
     "execution_count": 9,
     "metadata": {},
     "output_type": "execute_result"
    }
   ],
   "source": [
    "from_value::<HashMap<String, HashMap<String, bool>>>(&dat[\"map_map_boolean\"]).unwrap()"
   ]
  },
  {
   "cell_type": "code",
   "execution_count": 10,
   "id": "bb1e7516-5ed2-4f34-9c49-d2d30452e448",
   "metadata": {},
   "outputs": [
    {
     "data": {
      "text/plain": [
       "{}"
      ]
     },
     "execution_count": 10,
     "metadata": {},
     "output_type": "execute_result"
    }
   ],
   "source": [
    "from_value::<HashMap<String, Vec<bool>>>(&dat[\"map_array_boolean\"]).unwrap()"
   ]
  },
  {
   "cell_type": "code",
   "execution_count": 11,
   "id": "759eda43-f42c-42b7-893e-53eba29b65b1",
   "metadata": {},
   "outputs": [
    {
     "data": {
      "text/plain": [
       "{}"
      ]
     },
     "execution_count": 11,
     "metadata": {},
     "output_type": "execute_result"
    }
   ],
   "source": [
    "let mut q = from_value::<HashMap<String, HashMap<String, Vec<bool>>>>(&dat[\"map_map_array_boolean\"]).unwrap();\n",
    "q"
   ]
  },
  {
   "cell_type": "code",
   "execution_count": 12,
   "id": "b5b839a7-490f-48b3-bd83-614b4505d175",
   "metadata": {},
   "outputs": [
    {
     "data": {
      "text/plain": [
       "{\"h1.k1\": {}}"
      ]
     },
     "execution_count": 12,
     "metadata": {},
     "output_type": "execute_result"
    }
   ],
   "source": [
    "q.insert(\"h1.k1\".into(), HashMap::<String, Vec<bool>>::new());\n",
    "q"
   ]
  },
  {
   "cell_type": "code",
   "execution_count": 13,
   "id": "87e626ff-14f5-41d2-82fc-323f27c523e1",
   "metadata": {},
   "outputs": [
    {
     "data": {
      "text/plain": [
       "{\"h1.k1\": {\"h2.k1\": [true, false, true]}}"
      ]
     },
     "execution_count": 13,
     "metadata": {},
     "output_type": "execute_result"
    }
   ],
   "source": [
    "q.get_mut(\"h1.k1\".into()).unwrap().insert(\"h2.k1\".into(), vec![true, false, true]);\n",
    "q"
   ]
  },
  {
   "cell_type": "code",
   "execution_count": 14,
   "id": "ad9cbf94-f25a-4581-9f85-6c964cdcaace",
   "metadata": {},
   "outputs": [
    {
     "data": {
      "text/plain": [
       "{\"h1.k1\": {\"h2.k1\": [true, true, true]}}"
      ]
     },
     "execution_count": 14,
     "metadata": {},
     "output_type": "execute_result"
    }
   ],
   "source": [
    "q.get_mut(\"h1.k1\".into()).unwrap().get_mut(\"h2.k1\".into()).unwrap()[1] ^= true;\n",
    "q"
   ]
  },
  {
   "cell_type": "code",
   "execution_count": 15,
   "id": "b336e850-2de3-47d9-bb71-d0559eed28b3",
   "metadata": {},
   "outputs": [
    {
     "data": {
      "text/plain": [
       "{\"h1.k1\": {\"h2.k1\": [true, false, true]}}"
      ]
     },
     "execution_count": 15,
     "metadata": {},
     "output_type": "execute_result"
    }
   ],
   "source": [
    "q.entry(\"h1.k1\".into()).and_modify(|h1|{h1.entry(\"h2.k1\".into()).and_modify(|bv|{bv[1]^=true;});});\n",
    "q"
   ]
  },
  {
   "cell_type": "code",
   "execution_count": null,
   "id": "ca2918df-0306-45b1-be18-2de362f126bc",
   "metadata": {},
   "outputs": [],
   "source": []
  },
  {
   "cell_type": "code",
   "execution_count": null,
   "id": "d404b2a8-b45d-4e4a-8058-3492816ae658",
   "metadata": {},
   "outputs": [],
   "source": []
  }
 ],
 "metadata": {
  "kernelspec": {
   "display_name": "Rust",
   "language": "rust",
   "name": "rust"
  },
  "language_info": {
   "codemirror_mode": "rust",
   "file_extension": ".rs",
   "mimetype": "text/rust",
   "name": "Rust",
   "pygment_lexer": "rust",
   "version": ""
  }
 },
 "nbformat": 4,
 "nbformat_minor": 5
}
