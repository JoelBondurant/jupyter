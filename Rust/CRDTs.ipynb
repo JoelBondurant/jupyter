{
 "cells": [
  {
   "cell_type": "markdown",
   "id": "58d15bfe-bb37-4155-9eb0-de5539cfa211",
   "metadata": {},
   "source": [
    "## CRDTs\n",
    "---"
   ]
  },
  {
   "cell_type": "code",
   "execution_count": 2,
   "id": "9c988551-2d71-4f4b-8d04-b6b85da13785",
   "metadata": {},
   "outputs": [],
   "source": [
    ":dep crdts"
   ]
  },
  {
   "cell_type": "code",
   "execution_count": 8,
   "id": "fb438624-0877-4e49-a0ea-e9f9c0786c26",
   "metadata": {},
   "outputs": [],
   "source": [
    "use crdts::{VClock, CvRDT};"
   ]
  },
  {
   "cell_type": "code",
   "execution_count": 4,
   "id": "94564b28-2da3-4441-96ff-a1969c0e6b3a",
   "metadata": {},
   "outputs": [],
   "source": [
    "let mut vc = VClock::<String>::new();"
   ]
  },
  {
   "cell_type": "code",
   "execution_count": 5,
   "id": "53a88d48-7522-4624-bcd1-bbadb14889f4",
   "metadata": {},
   "outputs": [
    {
     "data": {
      "text/plain": [
       "VClock { dots: {} }"
      ]
     },
     "execution_count": 5,
     "metadata": {},
     "output_type": "execute_result"
    }
   ],
   "source": [
    "// `a.inc()` does not mutate the vclock!\n",
    "let op_a = vc.inc(\"a\".into());\n",
    "assert_eq!(vc, VClock::new());\n",
    "vc"
   ]
  },
  {
   "cell_type": "code",
   "execution_count": 6,
   "id": "3446cc59-2411-413b-a777-157a63a553a7",
   "metadata": {},
   "outputs": [
    {
     "data": {
      "text/plain": [
       "VClock { dots: {\"a\": 1} }"
      ]
     },
     "execution_count": 6,
     "metadata": {},
     "output_type": "execute_result"
    }
   ],
   "source": [
    "// we must apply the op to the VClock to have\n",
    "// its edit take effect.\n",
    "vc.apply(op_a.clone());\n",
    "assert_eq!(vc.get(&\"a\".into()), 1);\n",
    "vc"
   ]
  },
  {
   "cell_type": "code",
   "execution_count": 7,
   "id": "874aaf21-eb4c-49fb-abf8-ff02ee1865c4",
   "metadata": {},
   "outputs": [
    {
     "data": {
      "text/plain": [
       "VClock { dots: {\"a\": 1} }"
      ]
     },
     "execution_count": 7,
     "metadata": {},
     "output_type": "execute_result"
    }
   ],
   "source": [
    "// Op's can be replicated to another node and\n",
    "// applied to the local state there.\n",
    "let mut other_node = VClock::new();\n",
    "other_node.apply(op_a);\n",
    "assert_eq!(other_node.get(&\"a\".into()), 1);\n",
    "other_node"
   ]
  },
  {
   "cell_type": "code",
   "execution_count": null,
   "id": "4acee458-4660-49af-9b70-fe4379a94650",
   "metadata": {},
   "outputs": [],
   "source": []
  },
  {
   "cell_type": "code",
   "execution_count": null,
   "id": "2afcfea2-5feb-4561-99de-a0ecd30c07c0",
   "metadata": {},
   "outputs": [],
   "source": [
    "enum Test("
   ]
  },
  {
   "cell_type": "code",
   "execution_count": null,
   "id": "55c6f4b2-3721-463c-98e8-ad963055a4d9",
   "metadata": {},
   "outputs": [],
   "source": []
  },
  {
   "cell_type": "code",
   "execution_count": null,
   "id": "f7cc93ca-b2af-4140-8323-b3808f8f6fe9",
   "metadata": {},
   "outputs": [],
   "source": []
  },
  {
   "cell_type": "code",
   "execution_count": null,
   "id": "a9b3086f-64b3-4c3e-bd2e-336646096fef",
   "metadata": {},
   "outputs": [],
   "source": []
  },
  {
   "cell_type": "code",
   "execution_count": null,
   "id": "67f1a4dc-ca01-48b0-9ae9-f7a55ac40025",
   "metadata": {},
   "outputs": [],
   "source": []
  },
  {
   "cell_type": "code",
   "execution_count": null,
   "id": "08949f2d-5b88-4c47-ae7f-2daa2f0e2e1a",
   "metadata": {},
   "outputs": [],
   "source": []
  }
 ],
 "metadata": {
  "kernelspec": {
   "display_name": "Rust",
   "language": "rust",
   "name": "rust"
  },
  "language_info": {
   "codemirror_mode": "rust",
   "file_extension": ".rs",
   "mimetype": "text/rust",
   "name": "Rust",
   "pygment_lexer": "rust",
   "version": ""
  }
 },
 "nbformat": 4,
 "nbformat_minor": 5
}
