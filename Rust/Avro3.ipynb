{
 "cells": [
  {
   "cell_type": "markdown",
   "id": "30acf09b-5740-4804-999d-d71deacba30d",
   "metadata": {},
   "source": [
    "## Avro Bytes\n",
    "---"
   ]
  },
  {
   "cell_type": "code",
   "execution_count": 2,
   "id": "f265e9c4-eab2-4bca-ad23-bb65a20c12cb",
   "metadata": {},
   "outputs": [
    {
     "data": {
      "text/plain": [
       "cache: 1000 MiB\n"
      ]
     },
     "execution_count": 2,
     "metadata": {},
     "output_type": "execute_result"
    }
   ],
   "source": [
    ":cache 1000\n",
    ":dep apache-avro"
   ]
  },
  {
   "cell_type": "code",
   "execution_count": 3,
   "id": "41a90484-01f3-45ce-9c81-4b2e4c27ae7a",
   "metadata": {},
   "outputs": [],
   "source": [
    "use apache_avro::{from_value, to_value, Reader, Schema, Writer};\n",
    "use apache_avro::types::{Value, Record};\n",
    "use std::collections::HashMap;"
   ]
  },
  {
   "cell_type": "markdown",
   "id": "d823590a-3c0b-4044-a965-b2f2a55243d8",
   "metadata": {},
   "source": [
    "---\n",
    "### Anti-Serde Bytes:"
   ]
  },
  {
   "cell_type": "code",
   "execution_count": 4,
   "id": "7116ab2e-c024-46f5-9aa4-e61c3e3242e7",
   "metadata": {},
   "outputs": [],
   "source": [
    "let avsc_raw = r#\"\n",
    "    {\n",
    "        \"type\": \"record\",\n",
    "        \"name\": \"db\",\n",
    "        \"fields\": [\n",
    "            {\"name\": \"bv\", \"type\": \"bytes\"},\n",
    "            {\"name\": \"bvm\", \"type\": {\"type\": \"map\", \"values\": \"bytes\"}}\n",
    "        ]\n",
    "    }\n",
    "\"#;"
   ]
  },
  {
   "cell_type": "code",
   "execution_count": 5,
   "id": "19ac9dae-fdec-42ce-9163-e906046a6ed5",
   "metadata": {},
   "outputs": [
    {
     "data": {
      "text/plain": [
       "[79, 98, 106, 1, 4, 20, 97, 118, 114, 111, 46, 99, 111, 100, 101, 99, 8, 110, 117, 108, 108, 22, 97, 118, 114, 111, 46, 115, 99, 104, 101, 109, 97, 246, 1, 123, 34, 116, 121, 112, 101, 34, 58, 34, 114, 101, 99, 111, 114, 100, 34, 44, 34, 110, 97, 109, 101, 34, 58, 34, 100, 98, 34, 44, 34, 102, 105, 101, 108, 100, 115, 34, 58, 91, 123, 34, 110, 97, 109, 101, 34, 58, 34, 98, 118, 34, 44, 34, 116, 121, 112, 101, 34, 58, 34, 98, 121, 116, 101, 115, 34, 125, 44, 123, 34, 110, 97, 109, 101, 34, 58, 34, 98, 118, 109, 34, 44, 34, 116, 121, 112, 101, 34, 58, 123, 34, 116, 121, 112, 101, 34, 58, 34, 109, 97, 112, 34, 44, 34, 118, 97, 108, 117, 101, 115, 34, 58, 34, 98, 121, 116, 101, 115, 34, 125, 125, 93, 125, 0, 42, 212, 200, 249, 209, 124, 37, 68, 224, 148, 189, 250, 234, 144, 33, 210, 2, 210, 1, 128, 1, 10, 11, 12, 13, 14, 15, 16, 17, 18, 19, 20, 21, 22, 23, 24, 25, 26, 27, 28, 29, 30, 31, 32, 10, 11, 12, 13, 14, 15, 16, 17, 18, 19, 20, 21, 22, 23, 24, 25, 26, 27, 28, 29, 30, 31, 32, 10, 11, 12, 13, 14, 15, 16, 17, 18, 19, 20, 21, 22, 23, 24, 25, 26, 27, 2, 6, 98, 118, 50, 64, 0, 1, 2, 3, 4, 5, 6, 7, 0, 1, 2, 3, 4, 5, 6, 7, 0, 1, 2, 3, 4, 5, 6, 7, 0, 1, 2, 3, 4, 5, 6, 7, 0, 42, 212, 200, 249, 209, 124, 37, 68, 224, 148, 189, 250, 234, 144, 33, 210]"
      ]
     },
     "execution_count": 5,
     "metadata": {},
     "output_type": "execute_result"
    }
   ],
   "source": [
    "let mut dat_enc: Vec<u8> =\n",
    "{\n",
    "    let avsc = Schema::parse_str(avsc_raw).unwrap();\n",
    "    let mut writer = Writer::new(&avsc, Vec::new());\n",
    "    let mut rec = Record::new(writer.schema()).unwrap();\n",
    "\n",
    "    let bv1 = (10..=32).into_iter().cycle().take(64).collect::<Vec<u8>>();\n",
    "    let bv2 = (0..8).into_iter().cycle().take(32).collect::<Vec<u8>>();\n",
    "    let mut bvm = HashMap::<String, Vec<u8>>::new();\n",
    "    bvm.insert(\"bv2\".into(), bv2);\n",
    "    rec.put(\"bv\", bv1);\n",
    "    rec.put(\"bvm\", bvm);\n",
    "    \n",
    "    writer.append(rec).unwrap();\n",
    "    writer.into_inner().unwrap()\n",
    "};\n",
    "dat_enc"
   ]
  },
  {
   "cell_type": "code",
   "execution_count": 6,
   "id": "17e0ed44-fe3f-41ea-9490-f8754926d848",
   "metadata": {},
   "outputs": [
    {
     "data": {
      "text/plain": [
       "\"Obj\\u{1}\\u{4}\\u{14}avro.codec\\u{8}null\\u{16}avro.schema�\\u{1}{\\\"type\\\":\\\"record\\\",\\\"name\\\":\\\"db\\\",\\\"fields\\\":[{\\\"name\\\":\\\"bv\\\",\\\"type\\\":\\\"bytes\\\"},{\\\"name\\\":\\\"bvm\\\",\\\"type\\\":{\\\"type\\\":\\\"map\\\",\\\"values\\\":\\\"bytes\\\"}}]}\\0*����|%D�����!�\\u{2}�\\u{1}�\\u{1}\\n\\u{b}\\u{c}\\r\\u{e}\\u{f}\\u{10}\\u{11}\\u{12}\\u{13}\\u{14}\\u{15}\\u{16}\\u{17}\\u{18}\\u{19}\\u{1a}\\u{1b}\\u{1c}\\u{1d}\\u{1e}\\u{1f} \\n\\u{b}\\u{c}\\r\\u{e}\\u{f}\\u{10}\\u{11}\\u{12}\\u{13}\\u{14}\\u{15}\\u{16}\\u{17}\\u{18}\\u{19}\\u{1a}\\u{1b}\\u{1c}\\u{1d}\\u{1e}\\u{1f} \\n\\u{b}\\u{c}\\r\\u{e}\\u{f}\\u{10}\\u{11}\\u{12}\\u{13}\\u{14}\\u{15}\\u{16}\\u{17}\\u{18}\\u{19}\\u{1a}\\u{1b}\\u{2}\\u{6}bv2@\\0\\u{1}\\u{2}\\u{3}\\u{4}\\u{5}\\u{6}\\u{7}\\0\\u{1}\\u{2}\\u{3}\\u{4}\\u{5}\\u{6}\\u{7}\\0\\u{1}\\u{2}\\u{3}\\u{4}\\u{5}\\u{6}\\u{7}\\0\\u{1}\\u{2}\\u{3}\\u{4}\\u{5}\\u{6}\\u{7}\\0*����|%D�����!�\""
      ]
     },
     "execution_count": 6,
     "metadata": {},
     "output_type": "execute_result"
    }
   ],
   "source": [
    "String::from_utf8_lossy(&dat_enc[..])"
   ]
  },
  {
   "cell_type": "code",
   "execution_count": 7,
   "id": "9740f30d-67ea-4e29-ad24-dbabc485fb43",
   "metadata": {},
   "outputs": [
    {
     "data": {
      "text/plain": [
       "{\"bvm\": Map({\"bv2\": Bytes([0, 1, 2, 3, 4, 5, 6, 7, 0, 1, 2, 3, 4, 5, 6, 7, 0, 1, 2, 3, 4, 5, 6, 7, 0, 1, 2, 3, 4, 5, 6, 7])}), \"bv\": Bytes([10, 11, 12, 13, 14, 15, 16, 17, 18, 19, 20, 21, 22, 23, 24, 25, 26, 27, 28, 29, 30, 31, 32, 10, 11, 12, 13, 14, 15, 16, 17, 18, 19, 20, 21, 22, 23, 24, 25, 26, 27, 28, 29, 30, 31, 32, 10, 11, 12, 13, 14, 15, 16, 17, 18, 19, 20, 21, 22, 23, 24, 25, 26, 27])}"
      ]
     },
     "execution_count": 7,
     "metadata": {},
     "output_type": "execute_result"
    }
   ],
   "source": [
    "let dat = HashMap::<String, Value>::from_iter({\n",
    "    match Reader::new(&dat_enc[..]).unwrap().last().unwrap().unwrap() {\n",
    "        Value::Record(r) => Some(r),\n",
    "        _ => None\n",
    "    }.unwrap()\n",
    "});\n",
    "dat"
   ]
  },
  {
   "cell_type": "code",
   "execution_count": 8,
   "id": "ca2918df-0306-45b1-be18-2de362f126bc",
   "metadata": {},
   "outputs": [
    {
     "data": {
      "text/plain": [
       "[10, 11, 12, 13, 14, 15, 16, 17, 18, 19, 20, 21, 22, 23, 24, 25, 26, 27, 28, 29, 30, 31, 32, 10, 11, 12, 13, 14, 15, 16, 17, 18, 19, 20, 21, 22, 23, 24, 25, 26, 27, 28, 29, 30, 31, 32, 10, 11, 12, 13, 14, 15, 16, 17, 18, 19, 20, 21, 22, 23, 24, 25, 26, 27]"
      ]
     },
     "execution_count": 8,
     "metadata": {},
     "output_type": "execute_result"
    }
   ],
   "source": [
    "let bv = match &dat[\"bv\"] { Value::Bytes(bv) => Some(bv), _ => None}.unwrap().to_owned();\n",
    "bv"
   ]
  },
  {
   "cell_type": "code",
   "execution_count": 9,
   "id": "6bc26a6f-1900-49ba-9ea9-0b900016abaa",
   "metadata": {},
   "outputs": [
    {
     "data": {
      "text/plain": [
       "{\"bv2\": Bytes([0, 1, 2, 3, 4, 5, 6, 7, 0, 1, 2, 3, 4, 5, 6, 7, 0, 1, 2, 3, 4, 5, 6, 7, 0, 1, 2, 3, 4, 5, 6, 7])}"
      ]
     },
     "execution_count": 9,
     "metadata": {},
     "output_type": "execute_result"
    }
   ],
   "source": [
    "let bvm = match &dat[\"bvm\"] { Value::Map(bvm) => Some(bvm), _ => None }.unwrap().to_owned();\n",
    "bvm"
   ]
  },
  {
   "cell_type": "code",
   "execution_count": 10,
   "id": "a08734a2-c263-4da8-998d-a54ed24b5c54",
   "metadata": {},
   "outputs": [
    {
     "data": {
      "text/plain": [
       "[0, 1, 2, 3, 4, 5, 6, 7, 0, 1, 2, 3, 4, 5, 6, 7, 0, 1, 2, 3, 4, 5, 6, 7, 0, 1, 2, 3, 4, 5, 6, 7]"
      ]
     },
     "execution_count": 10,
     "metadata": {},
     "output_type": "execute_result"
    }
   ],
   "source": [
    "let bv2 = match &bvm[\"bv2\"] { Value::Bytes(bv) => Some(bv), _ => None }.unwrap().to_owned();\n",
    "bv2"
   ]
  },
  {
   "cell_type": "code",
   "execution_count": null,
   "id": "a9e63772-5d68-4798-8d6f-4865305553b8",
   "metadata": {},
   "outputs": [],
   "source": []
  }
 ],
 "metadata": {
  "kernelspec": {
   "display_name": "Rust",
   "language": "rust",
   "name": "rust"
  },
  "language_info": {
   "codemirror_mode": "rust",
   "file_extension": ".rs",
   "mimetype": "text/rust",
   "name": "Rust",
   "pygment_lexer": "rust",
   "version": ""
  }
 },
 "nbformat": 4,
 "nbformat_minor": 5
}
