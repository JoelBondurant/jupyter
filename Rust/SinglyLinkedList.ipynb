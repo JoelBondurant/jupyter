{
 "cells": [
  {
   "cell_type": "markdown",
   "id": "aaf48fdc-ef48-4242-81bf-812c76a8bbdd",
   "metadata": {},
   "source": [
    "## Singly Linked List\n",
    "---"
   ]
  },
  {
   "cell_type": "code",
   "execution_count": 2,
   "id": "23984c12-f63c-4091-84f4-a69be613e77a",
   "metadata": {},
   "outputs": [],
   "source": [
    "#[derive(Debug)]\n",
    "struct Node<T: PartialEq + PartialOrd + Clone> {\n",
    "    val: T,\n",
    "    next: Option<Box<Node<T>>>,\n",
    "}"
   ]
  },
  {
   "cell_type": "code",
   "execution_count": 3,
   "id": "fef6d9f2-2557-4a2e-8c7f-a697145a3152",
   "metadata": {},
   "outputs": [],
   "source": [
    "impl<T: PartialEq + PartialOrd + Clone> Node<T> {\n",
    "    fn new(val: T) -> Self {\n",
    "        Node { val: val, next: None }\n",
    "    }\n",
    "}"
   ]
  },
  {
   "cell_type": "code",
   "execution_count": 4,
   "id": "09691783-9f94-4de5-9801-d186eeb3e8cd",
   "metadata": {},
   "outputs": [],
   "source": [
    "#[derive(Debug)]\n",
    "struct LinkedList<T: PartialEq + PartialOrd + Clone> {\n",
    "    head: Option<Node<T>>,\n",
    "}"
   ]
  },
  {
   "cell_type": "code",
   "execution_count": 27,
   "id": "00d7a2aa-afba-4ea8-a529-7d9fe2c51428",
   "metadata": {},
   "outputs": [],
   "source": [
    "impl<T: PartialEq + PartialOrd + Clone> LinkedList<T> {\n",
    "    \n",
    "    fn new() -> Self {\n",
    "        LinkedList { head: None }\n",
    "    }\n",
    "    \n",
    "    fn push(&mut self, val: T) {\n",
    "        if self.head.is_none() {\n",
    "            self.head = Some(Node::new(val));\n",
    "        } else {\n",
    "            let current = self.head.take().unwrap();\n",
    "            self.head = Some(Node::new(val));\n",
    "            self.head.as_mut().unwrap().next = Some(Box::new(current));\n",
    "        }\n",
    "    }\n",
    "    \n",
    "    fn push_back(&mut self, val: T) {\n",
    "        if self.head.is_none() {\n",
    "            self.head = Some(Node::new(val));\n",
    "        } else {\n",
    "            let mut current = self.head.as_mut().unwrap();\n",
    "            loop {\n",
    "                if current.next.is_none() {\n",
    "                    current.next = Some(Box::new(Node::new(val)));\n",
    "                    break;\n",
    "                }\n",
    "                current = current.next.as_mut().unwrap();\n",
    "            }\n",
    "        }\n",
    "    }\n",
    "    \n",
    "    fn clear(&mut self) {\n",
    "        self.head = None;\n",
    "    }\n",
    "    \n",
    "    fn len(&self) -> usize {\n",
    "        let mut l = 0usize;\n",
    "        if self.head.is_none() {\n",
    "            return l;\n",
    "        }\n",
    "        l += 1;\n",
    "        let mut current = self.head.as_ref().unwrap();\n",
    "        while current.next.is_some() {\n",
    "            l += 1;\n",
    "            current = current.next.as_ref().unwrap();\n",
    "        }\n",
    "        l\n",
    "    }\n",
    "    \n",
    "    fn insert(&mut self, val: T, index: usize) {\n",
    "        if self.head.is_none() {\n",
    "            if index == 0usize {\n",
    "                self.head = Some(Node::new(val));\n",
    "                return;\n",
    "            } else {\n",
    "                panic!(\"0. Index out of bounds.\");\n",
    "            }\n",
    "        }\n",
    "        if index == 0 {\n",
    "            let current = self.head.take().unwrap();\n",
    "            let mut new_node = Node::new(val);\n",
    "            new_node.next = Some(Box::new(current));\n",
    "            self.head = Some(new_node);\n",
    "            return;\n",
    "        }\n",
    "        let mut l = 0usize;\n",
    "        let mut current = self.head.as_mut().unwrap();\n",
    "        loop {\n",
    "            l += 1;\n",
    "            if index == l {\n",
    "                if current.next.is_some() {\n",
    "                    let next = current.next.take().unwrap();\n",
    "                    let mut new_node = Node::new(val);\n",
    "                    new_node.next = Some(Box::new(*next));\n",
    "                    current.next = Some(Box::new(new_node));\n",
    "                } else {\n",
    "                    current.next = Some(Box::new(Node::new(val)));\n",
    "                }\n",
    "                break;\n",
    "            }\n",
    "            if current.next.is_none() {\n",
    "                panic!(\"1. Index out of bounds.\");\n",
    "            }\n",
    "            current = current.next.as_mut().unwrap();\n",
    "        }\n",
    "    }\n",
    "    \n",
    "    fn remove(&mut self, index: usize) {\n",
    "        if self.head.is_none() {\n",
    "            panic!(\"0. Index out of bounds.\");\n",
    "        }\n",
    "        if index == 0 {\n",
    "            let next = self.head.take().unwrap().next;\n",
    "            if next.is_some() {\n",
    "                self.head = Some(*next.unwrap());\n",
    "            } else {\n",
    "                self.head = None;\n",
    "            }\n",
    "            return;\n",
    "        }\n",
    "        let mut l = 0usize;\n",
    "        let mut current = self.head.as_mut().unwrap();\n",
    "        loop {\n",
    "            l += 1;\n",
    "            if index == l {\n",
    "                if current.next.is_some() {\n",
    "                    if current.next.as_ref().unwrap().next.is_some() {\n",
    "                        let mut next = current.next.take().unwrap();\n",
    "                        let next_next = next.next.take().unwrap();\n",
    "                        current.next = Some(next_next);\n",
    "                    } else {\n",
    "                        current.next = None;\n",
    "                    }\n",
    "                }\n",
    "                break;\n",
    "            }\n",
    "            if current.next.is_none() {\n",
    "                panic!(\"1. Index out of bounds.\");\n",
    "            }\n",
    "            current = current.next.as_mut().unwrap();\n",
    "        }\n",
    "    }\n",
    "    \n",
    "}"
   ]
  },
  {
   "cell_type": "code",
   "execution_count": 28,
   "id": "bd360264-c420-4800-83c7-1157d282ad21",
   "metadata": {},
   "outputs": [
    {
     "data": {
      "text/plain": [
       "LinkedList { head: None }"
      ]
     },
     "execution_count": 28,
     "metadata": {},
     "output_type": "execute_result"
    }
   ],
   "source": [
    "let mut l1 = LinkedList::<i32>::new();\n",
    "l1"
   ]
  },
  {
   "cell_type": "code",
   "execution_count": 29,
   "id": "8dfc2f84-ba3a-4ccf-af6c-cb84431d783a",
   "metadata": {},
   "outputs": [
    {
     "data": {
      "text/plain": [
       "LinkedList { head: Some(Node { val: 3, next: None }) }"
      ]
     },
     "execution_count": 29,
     "metadata": {},
     "output_type": "execute_result"
    }
   ],
   "source": [
    "l1.push(3);\n",
    "l1"
   ]
  },
  {
   "cell_type": "code",
   "execution_count": 30,
   "id": "bc167971-7481-45e8-8cb5-787968a75d58",
   "metadata": {},
   "outputs": [
    {
     "data": {
      "text/plain": [
       "LinkedList { head: Some(Node { val: 7, next: Some(Node { val: 3, next: None }) }) }"
      ]
     },
     "execution_count": 30,
     "metadata": {},
     "output_type": "execute_result"
    }
   ],
   "source": [
    "l1.push(7);\n",
    "l1"
   ]
  },
  {
   "cell_type": "code",
   "execution_count": 31,
   "id": "8e673a4b-7459-4855-814c-5743b24226b0",
   "metadata": {},
   "outputs": [
    {
     "data": {
      "text/plain": [
       "LinkedList { head: Some(Node { val: 1, next: Some(Node { val: 7, next: Some(Node { val: 3, next: None }) }) }) }"
      ]
     },
     "execution_count": 31,
     "metadata": {},
     "output_type": "execute_result"
    }
   ],
   "source": [
    "l1.push(1);\n",
    "l1"
   ]
  },
  {
   "cell_type": "code",
   "execution_count": 32,
   "id": "d9e81df7-c955-4017-8b29-e2a6a2d43823",
   "metadata": {},
   "outputs": [
    {
     "data": {
      "text/plain": [
       "LinkedList { head: Some(Node { val: 11, next: Some(Node { val: 1, next: Some(Node { val: 7, next: Some(Node { val: 3, next: None }) }) }) }) }"
      ]
     },
     "execution_count": 32,
     "metadata": {},
     "output_type": "execute_result"
    }
   ],
   "source": [
    "l1.push(11);\n",
    "l1"
   ]
  },
  {
   "cell_type": "code",
   "execution_count": 33,
   "id": "47e0d074-cf96-45e6-8495-4f0bd4ba29fe",
   "metadata": {},
   "outputs": [
    {
     "data": {
      "text/plain": [
       "LinkedList { head: Some(Node { val: 11, next: Some(Node { val: 1, next: Some(Node { val: 7, next: Some(Node { val: 3, next: Some(Node { val: 77, next: None }) }) }) }) }) }"
      ]
     },
     "execution_count": 33,
     "metadata": {},
     "output_type": "execute_result"
    }
   ],
   "source": [
    "l1.push_back(77);\n",
    "l1"
   ]
  },
  {
   "cell_type": "code",
   "execution_count": 34,
   "id": "20ee2217-fb32-4fed-9eee-17af6939736f",
   "metadata": {},
   "outputs": [
    {
     "data": {
      "text/plain": [
       "5"
      ]
     },
     "execution_count": 34,
     "metadata": {},
     "output_type": "execute_result"
    }
   ],
   "source": [
    "l1.len()"
   ]
  },
  {
   "cell_type": "code",
   "execution_count": 35,
   "id": "a6d48a70-0b3d-4973-9623-6ffec7302959",
   "metadata": {},
   "outputs": [
    {
     "data": {
      "text/plain": [
       "LinkedList { head: Some(Node { val: 11, next: Some(Node { val: 8, next: Some(Node { val: 1, next: Some(Node { val: 7, next: Some(Node { val: 3, next: Some(Node { val: 77, next: None }) }) }) }) }) }) }"
      ]
     },
     "execution_count": 35,
     "metadata": {},
     "output_type": "execute_result"
    }
   ],
   "source": [
    "l1.insert(8, 1); l1"
   ]
  },
  {
   "cell_type": "code",
   "execution_count": 36,
   "id": "783c3ae7-8a5e-4ec1-a53a-e99bb8c2f2ee",
   "metadata": {},
   "outputs": [
    {
     "data": {
      "text/plain": [
       "LinkedList { head: Some(Node { val: 11, next: Some(Node { val: 8, next: Some(Node { val: 1, next: Some(Node { val: 7, next: Some(Node { val: 3, next: Some(Node { val: 88, next: Some(Node { val: 77, next: None }) }) }) }) }) }) }) }"
      ]
     },
     "execution_count": 36,
     "metadata": {},
     "output_type": "execute_result"
    }
   ],
   "source": [
    "l1.insert(88, 5); l1"
   ]
  },
  {
   "cell_type": "code",
   "execution_count": 37,
   "id": "74f81d67-55e3-469b-b9ec-1d341464635b",
   "metadata": {},
   "outputs": [
    {
     "data": {
      "text/plain": [
       "LinkedList { head: Some(Node { val: 99, next: Some(Node { val: 11, next: Some(Node { val: 8, next: Some(Node { val: 1, next: Some(Node { val: 7, next: Some(Node { val: 3, next: Some(Node { val: 88, next: Some(Node { val: 77, next: None }) }) }) }) }) }) }) }) }"
      ]
     },
     "execution_count": 37,
     "metadata": {},
     "output_type": "execute_result"
    }
   ],
   "source": [
    "l1.insert(99, 0); l1"
   ]
  },
  {
   "cell_type": "code",
   "execution_count": 38,
   "id": "7d3d3b92-b1c4-4675-b868-914b73841797",
   "metadata": {},
   "outputs": [
    {
     "data": {
      "text/plain": [
       "LinkedList { head: Some(Node { val: 99, next: Some(Node { val: 8, next: Some(Node { val: 1, next: Some(Node { val: 7, next: Some(Node { val: 3, next: Some(Node { val: 88, next: Some(Node { val: 77, next: None }) }) }) }) }) }) }) }"
      ]
     },
     "execution_count": 38,
     "metadata": {},
     "output_type": "execute_result"
    }
   ],
   "source": [
    "l1.remove(1); l1"
   ]
  },
  {
   "cell_type": "code",
   "execution_count": 39,
   "id": "e766bc23-16ba-465d-9229-a0c17037d3b2",
   "metadata": {},
   "outputs": [
    {
     "data": {
      "text/plain": [
       "LinkedList { head: Some(Node { val: 8, next: Some(Node { val: 1, next: Some(Node { val: 7, next: Some(Node { val: 3, next: Some(Node { val: 88, next: Some(Node { val: 77, next: None }) }) }) }) }) }) }"
      ]
     },
     "execution_count": 39,
     "metadata": {},
     "output_type": "execute_result"
    }
   ],
   "source": [
    "l1.remove(0); l1"
   ]
  },
  {
   "cell_type": "code",
   "execution_count": 40,
   "id": "e823e0c1-d08b-4cd9-8a38-76eb660b9db5",
   "metadata": {},
   "outputs": [
    {
     "data": {
      "text/plain": [
       "LinkedList { head: Some(Node { val: 8, next: Some(Node { val: 1, next: Some(Node { val: 7, next: Some(Node { val: 3, next: Some(Node { val: 88, next: None }) }) }) }) }) }"
      ]
     },
     "execution_count": 40,
     "metadata": {},
     "output_type": "execute_result"
    }
   ],
   "source": [
    "l1.remove(5); l1"
   ]
  },
  {
   "cell_type": "code",
   "execution_count": 41,
   "id": "9bc3f226-2ff2-4982-9b57-1e6de1b6c5bf",
   "metadata": {},
   "outputs": [
    {
     "data": {
      "text/plain": [
       "LinkedList { head: Some(Node { val: 8, next: Some(Node { val: 1, next: Some(Node { val: 7, next: Some(Node { val: 88, next: None }) }) }) }) }"
      ]
     },
     "execution_count": 41,
     "metadata": {},
     "output_type": "execute_result"
    }
   ],
   "source": [
    "l1.remove(3); l1"
   ]
  },
  {
   "cell_type": "code",
   "execution_count": 42,
   "id": "a884f377-d815-437b-af2a-ab1fd0dde79e",
   "metadata": {},
   "outputs": [
    {
     "data": {
      "text/plain": [
       "LinkedList { head: Some(Node { val: 1, next: Some(Node { val: 7, next: Some(Node { val: 88, next: None }) }) }) }"
      ]
     },
     "execution_count": 42,
     "metadata": {},
     "output_type": "execute_result"
    }
   ],
   "source": [
    "l1.remove(0); l1"
   ]
  },
  {
   "cell_type": "code",
   "execution_count": 43,
   "id": "685f239b-a862-42b6-8df1-5fa51e2d7c30",
   "metadata": {},
   "outputs": [
    {
     "data": {
      "text/plain": [
       "LinkedList { head: Some(Node { val: 1, next: Some(Node { val: 7, next: None }) }) }"
      ]
     },
     "execution_count": 43,
     "metadata": {},
     "output_type": "execute_result"
    }
   ],
   "source": [
    "l1.remove(2); l1"
   ]
  },
  {
   "cell_type": "code",
   "execution_count": 44,
   "id": "2e7d1a28-ec58-4aaa-91e6-8a775438f99d",
   "metadata": {},
   "outputs": [
    {
     "data": {
      "text/plain": [
       "LinkedList { head: Some(Node { val: 1, next: None }) }"
      ]
     },
     "execution_count": 44,
     "metadata": {},
     "output_type": "execute_result"
    }
   ],
   "source": [
    "l1.remove(1); l1"
   ]
  },
  {
   "cell_type": "code",
   "execution_count": 45,
   "id": "f2dc3611-eb30-45d2-9718-05073bef9c49",
   "metadata": {},
   "outputs": [
    {
     "data": {
      "text/plain": [
       "LinkedList { head: None }"
      ]
     },
     "execution_count": 45,
     "metadata": {},
     "output_type": "execute_result"
    }
   ],
   "source": [
    "l1.remove(0); l1"
   ]
  },
  {
   "cell_type": "code",
   "execution_count": null,
   "id": "7d29e7b5-f403-4469-b674-53baf4a77c13",
   "metadata": {},
   "outputs": [],
   "source": []
  }
 ],
 "metadata": {
  "kernelspec": {
   "display_name": "Rust",
   "language": "rust",
   "name": "rust"
  },
  "language_info": {
   "codemirror_mode": "rust",
   "file_extension": ".rs",
   "mimetype": "text/rust",
   "name": "Rust",
   "pygment_lexer": "rust",
   "version": ""
  }
 },
 "nbformat": 4,
 "nbformat_minor": 5
}
