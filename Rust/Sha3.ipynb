{
 "cells": [
  {
   "cell_type": "markdown",
   "id": "079d6dd6-0e4c-44f4-a6a9-8a29d57e2194",
   "metadata": {},
   "source": [
    "## Sha3\n",
    "---"
   ]
  },
  {
   "cell_type": "code",
   "execution_count": 3,
   "id": "57fdb2c9-f009-4f9c-932e-77fc73dcd99f",
   "metadata": {},
   "outputs": [],
   "source": [
    ":dep sha3"
   ]
  },
  {
   "cell_type": "code",
   "execution_count": 4,
   "id": "71e406e9-76f9-4ee2-bda6-06a001d7ff35",
   "metadata": {},
   "outputs": [],
   "source": [
    "use sha3::{Digest, Sha3_256};"
   ]
  },
  {
   "cell_type": "code",
   "execution_count": 5,
   "id": "674bfd05-da6f-47ca-923a-5a1d97587432",
   "metadata": {},
   "outputs": [
    {
     "data": {
      "text/plain": [
       "[54, 240, 40, 88, 11, 176, 44, 200, 39, 42, 154, 2, 15, 66, 0, 227, 70, 226, 118, 174, 102, 78, 69, 238, 128, 116, 85, 116, 226, 245, 171, 128]"
      ]
     },
     "execution_count": 5,
     "metadata": {},
     "output_type": "execute_result"
    }
   ],
   "source": [
    "Sha3_256::digest(b\"test\")"
   ]
  },
  {
   "cell_type": "code",
   "execution_count": 6,
   "id": "1bed3ed8-9330-48c1-a716-2d9e0343926c",
   "metadata": {},
   "outputs": [
    {
     "data": {
      "text/plain": [
       "[54, 240, 40, 88, 11, 176, 44, 200, 39, 42, 154, 2, 15, 66, 0, 227, 70, 226, 118, 174, 102, 78, 69, 238, 128, 116, 85, 116, 226, 245, 171, 128]"
      ]
     },
     "execution_count": 6,
     "metadata": {},
     "output_type": "execute_result"
    }
   ],
   "source": [
    "Sha3_256::digest(b\"test\").to_vec()"
   ]
  },
  {
   "cell_type": "code",
   "execution_count": null,
   "id": "aef16f39-16ed-4905-a79c-49f62f31605d",
   "metadata": {},
   "outputs": [],
   "source": []
  }
 ],
 "metadata": {
  "kernelspec": {
   "display_name": "Rust",
   "language": "rust",
   "name": "rust"
  },
  "language_info": {
   "codemirror_mode": "rust",
   "file_extension": ".rs",
   "mimetype": "text/rust",
   "name": "Rust",
   "pygment_lexer": "rust",
   "version": ""
  }
 },
 "nbformat": 4,
 "nbformat_minor": 5
}
