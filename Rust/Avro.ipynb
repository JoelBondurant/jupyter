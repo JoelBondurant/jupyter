{
 "cells": [
  {
   "cell_type": "markdown",
   "id": "30acf09b-5740-4804-999d-d71deacba30d",
   "metadata": {},
   "source": [
    "## Avro\n",
    "---"
   ]
  },
  {
   "cell_type": "code",
   "execution_count": 2,
   "id": "f265e9c4-eab2-4bca-ad23-bb65a20c12cb",
   "metadata": {},
   "outputs": [
    {
     "data": {
      "text/plain": [
       "cache: 1000 MiB\n"
      ]
     },
     "execution_count": 2,
     "metadata": {},
     "output_type": "execute_result"
    }
   ],
   "source": [
    ":cache 1000\n",
    ":dep apache-avro\n",
    ":dep serde = { features = [\"derive\"] }"
   ]
  },
  {
   "cell_type": "code",
   "execution_count": 3,
   "id": "41a90484-01f3-45ce-9c81-4b2e4c27ae7a",
   "metadata": {},
   "outputs": [],
   "source": [
    "use apache_avro::{from_value, to_value, Reader, Schema, Writer};\n",
    "use apache_avro::types::Value;\n",
    "use serde::{Serialize, Deserialize};\n",
    "use std::collections::BTreeMap;"
   ]
  },
  {
   "cell_type": "markdown",
   "id": "d823590a-3c0b-4044-a965-b2f2a55243d8",
   "metadata": {},
   "source": [
    "---\n",
    "### Key Value Records"
   ]
  },
  {
   "cell_type": "code",
   "execution_count": 4,
   "id": "59a20dfa-c958-4f01-b66f-05a6a62ab8eb",
   "metadata": {},
   "outputs": [],
   "source": [
    "let kv_schema_raw = r#\"\n",
    "    {\n",
    "        \"type\": \"record\",\n",
    "        \"name\": \"kv\",\n",
    "        \"fields\": [\n",
    "            {\"name\": \"key\", \"type\": \"string\"},\n",
    "            {\"name\": \"val\", \"type\": \"string\"}\n",
    "        ]\n",
    "    }\n",
    "\"#;"
   ]
  },
  {
   "cell_type": "code",
   "execution_count": 5,
   "id": "987a23ff-7049-419a-a496-82f683e1184f",
   "metadata": {},
   "outputs": [
    {
     "data": {
      "text/plain": [
       "Record(RecordSchema { name: Name { name: \"kv\", namespace: None }, aliases: None, doc: None, fields: [RecordField { name: \"key\", doc: None, aliases: None, default: None, schema: String, order: Ascending, position: 0, custom_attributes: {} }, RecordField { name: \"val\", doc: None, aliases: None, default: None, schema: String, order: Ascending, position: 1, custom_attributes: {} }], lookup: {\"key\": 0, \"val\": 1}, attributes: {} })"
      ]
     },
     "execution_count": 5,
     "metadata": {},
     "output_type": "execute_result"
    }
   ],
   "source": [
    "let kv_schema = Schema::parse_str(kv_schema_raw).unwrap();\n",
    "kv_schema"
   ]
  },
  {
   "cell_type": "code",
   "execution_count": 6,
   "id": "dc3c7b52-3a06-470b-9882-26bdada055e0",
   "metadata": {},
   "outputs": [],
   "source": [
    "#[derive(Debug, Deserialize, Serialize)]\n",
    "struct KV {\n",
    "    key: String,\n",
    "    val: String,\n",
    "}"
   ]
  },
  {
   "cell_type": "code",
   "execution_count": 7,
   "id": "f67c83a1-30e0-4776-b524-44f692204cbf",
   "metadata": {},
   "outputs": [
    {
     "data": {
      "text/plain": [
       "[79, 98, 106, 1, 4, 20, 97, 118, 114, 111, 46, 99, 111, 100, 101, 99, 8, 110, 117, 108, 108, 22, 97, 118, 114, 111, 46, 115, 99, 104, 101, 109, 97, 204, 1, 123, 34, 116, 121, 112, 101, 34, 58, 34, 114, 101, 99, 111, 114, 100, 34, 44, 34, 110, 97, 109, 101, 34, 58, 34, 107, 118, 34, 44, 34, 102, 105, 101, 108, 100, 115, 34, 58, 91, 123, 34, 110, 97, 109, 101, 34, 58, 34, 107, 101, 121, 34, 44, 34, 116, 121, 112, 101, 34, 58, 34, 115, 116, 114, 105, 110, 103, 34, 125, 44, 123, 34, 110, 97, 109, 101, 34, 58, 34, 118, 97, 108, 34, 44, 34, 116, 121, 112, 101, 34, 58, 34, 115, 116, 114, 105, 110, 103, 34, 125, 93, 125, 0, 19, 206, 161, 228, 222, 51, 25, 116, 175, 143, 78, 166, 175, 95, 180, 79, 6, 36, 4, 107, 49, 4, 118, 49, 4, 107, 50, 4, 118, 50, 4, 107, 51, 4, 118, 51, 19, 206, 161, 228, 222, 51, 25, 116, 175, 143, 78, 166, 175, 95, 180, 79]"
      ]
     },
     "execution_count": 7,
     "metadata": {},
     "output_type": "execute_result"
    }
   ],
   "source": [
    "let mut writer = Writer::new(&kv_schema, Vec::new());\n",
    "for indx in 1..=3 {\n",
    "    writer.append_ser(KV {key: format!(\"k{indx}\"), val: format!(\"v{indx}\")}).unwrap();\n",
    "}\n",
    "let avro_dat = writer.into_inner().unwrap();\n",
    "avro_dat"
   ]
  },
  {
   "cell_type": "code",
   "execution_count": 8,
   "id": "cafb494a-7577-48a7-9ff1-bb45c06b953a",
   "metadata": {},
   "outputs": [
    {
     "name": "stdout",
     "output_type": "stream",
     "text": [
      "KV { key: \"k1\", val: \"v1\" }\n",
      "KV { key: \"k2\", val: \"v2\" }\n",
      "KV { key: \"k3\", val: \"v3\" }\n"
     ]
    }
   ],
   "source": [
    "let reader = Reader::new(&avro_dat[..]).unwrap();\n",
    "let mut dat = Vec::<KV>::new();\n",
    "for kv in reader {\n",
    "    println!(\"{:?}\", from_value::<KV>(&kv.unwrap()).unwrap());\n",
    "};"
   ]
  },
  {
   "cell_type": "markdown",
   "id": "c2446ba6-36e7-40d0-912c-944bb74d795a",
   "metadata": {},
   "source": [
    "---\n",
    "### Map Record"
   ]
  },
  {
   "cell_type": "code",
   "execution_count": 9,
   "id": "918ecdc9-44e0-4381-baec-ad863a0fcea7",
   "metadata": {},
   "outputs": [],
   "source": [
    "let map_schema_raw = r#\"\n",
    "    {\n",
    "        \"type\": \"map\",\n",
    "        \"values\": \"string\"\n",
    "    }\n",
    "\"#;"
   ]
  },
  {
   "cell_type": "code",
   "execution_count": 10,
   "id": "dc71834e-eedd-4270-aa2a-2f18d20a52c0",
   "metadata": {},
   "outputs": [
    {
     "data": {
      "text/plain": [
       "Map(String)"
      ]
     },
     "execution_count": 10,
     "metadata": {},
     "output_type": "execute_result"
    }
   ],
   "source": [
    "let map_schema = Schema::parse_str(map_schema_raw).unwrap();\n",
    "map_schema"
   ]
  },
  {
   "cell_type": "code",
   "execution_count": 11,
   "id": "b46a7202-1e43-4982-a49e-9ab9ee8b79ac",
   "metadata": {},
   "outputs": [
    {
     "data": {
      "text/plain": [
       "{\"k1\": \"v1\", \"k2\": \"v2\", \"k3\": \"v3\"}"
      ]
     },
     "execution_count": 11,
     "metadata": {},
     "output_type": "execute_result"
    }
   ],
   "source": [
    "let mut src = BTreeMap::<String, String>::new();\n",
    "src.insert(\"k1\".into(), \"v1\".into());\n",
    "src.insert(\"k2\".into(), \"v2\".into());\n",
    "src.insert(\"k3\".into(), \"v3\".into());\n",
    "src"
   ]
  },
  {
   "cell_type": "code",
   "execution_count": 12,
   "id": "bad806f6-4c1a-4f28-867b-0256a4d1e608",
   "metadata": {},
   "outputs": [
    {
     "data": {
      "text/plain": [
       "[79, 98, 106, 1, 4, 20, 97, 118, 114, 111, 46, 99, 111, 100, 101, 99, 8, 110, 117, 108, 108, 22, 97, 118, 114, 111, 46, 115, 99, 104, 101, 109, 97, 64, 123, 34, 116, 121, 112, 101, 34, 58, 34, 109, 97, 112, 34, 44, 34, 118, 97, 108, 117, 101, 115, 34, 58, 34, 115, 116, 114, 105, 110, 103, 34, 125, 0, 249, 161, 63, 78, 20, 182, 193, 192, 178, 119, 157, 90, 1, 246, 24, 97, 2, 40, 6, 4, 107, 49, 4, 118, 49, 4, 107, 50, 4, 118, 50, 4, 107, 51, 4, 118, 51, 0, 249, 161, 63, 78, 20, 182, 193, 192, 178, 119, 157, 90, 1, 246, 24, 97]"
      ]
     },
     "execution_count": 12,
     "metadata": {},
     "output_type": "execute_result"
    }
   ],
   "source": [
    "let mut writer = Writer::new(&map_schema, Vec::new());\n",
    "writer.append_ser(src.clone()).unwrap();\n",
    "let avro_dat = writer.into_inner().unwrap();\n",
    "avro_dat"
   ]
  },
  {
   "cell_type": "code",
   "execution_count": 13,
   "id": "31de1a74-eaaa-46f2-970e-106887d4f3da",
   "metadata": {},
   "outputs": [
    {
     "data": {
      "text/plain": [
       "{\"k1\": \"v1\", \"k2\": \"v2\", \"k3\": \"v3\"}"
      ]
     },
     "execution_count": 13,
     "metadata": {},
     "output_type": "execute_result"
    }
   ],
   "source": [
    "let reader = Reader::new(&avro_dat[..]).unwrap();\n",
    "let map_dat = from_value::<BTreeMap<String, String>>(&reader.last().unwrap().unwrap()).unwrap();\n",
    "map_dat"
   ]
  },
  {
   "cell_type": "markdown",
   "id": "edf6d04f-45c5-4d43-af07-ecf84237eb6d",
   "metadata": {},
   "source": [
    "---\n",
    "### Mixed Records"
   ]
  },
  {
   "cell_type": "code",
   "execution_count": 14,
   "id": "f798336d-3438-4fc4-96db-8b74fd39a01f",
   "metadata": {},
   "outputs": [],
   "source": [
    "let db_schema_raw = r#\"\n",
    "    {\n",
    "        \"type\": \"record\",\n",
    "        \"name\": \"db\",\n",
    "        \"fields\": [\n",
    "            {\"name\": \"name\", \"type\": \"string\"},\n",
    "            {\"name\": \"version\", \"type\": \"string\"},\n",
    "            {\"name\": \"kv\", \"type\": {\"type\": \"map\", \"values\": \"string\"}}\n",
    "        ]\n",
    "    }\n",
    "\"#;"
   ]
  },
  {
   "cell_type": "code",
   "execution_count": 15,
   "id": "0f685daa-b78f-4972-81ac-958f68ef9d8a",
   "metadata": {},
   "outputs": [
    {
     "data": {
      "text/plain": [
       "Record(RecordSchema { name: Name { name: \"db\", namespace: None }, aliases: None, doc: None, fields: [RecordField { name: \"name\", doc: None, aliases: None, default: None, schema: String, order: Ascending, position: 0, custom_attributes: {} }, RecordField { name: \"version\", doc: None, aliases: None, default: None, schema: String, order: Ascending, position: 1, custom_attributes: {} }, RecordField { name: \"kv\", doc: None, aliases: None, default: None, schema: Map(String), order: Ascending, position: 2, custom_attributes: {} }], lookup: {\"kv\": 2, \"name\": 0, \"version\": 1}, attributes: {} })"
      ]
     },
     "execution_count": 15,
     "metadata": {},
     "output_type": "execute_result"
    }
   ],
   "source": [
    "let db_schema = Schema::parse_str(db_schema_raw).unwrap();\n",
    "db_schema"
   ]
  },
  {
   "cell_type": "code",
   "execution_count": 16,
   "id": "f37fe522-260b-450f-89af-4079f8d6a7d0",
   "metadata": {},
   "outputs": [],
   "source": [
    "#[derive(Debug, Default, Deserialize, Serialize)]\n",
    "struct DB {\n",
    "    name: String,\n",
    "    version: String,\n",
    "    kv: BTreeMap<String, String>,\n",
    "}"
   ]
  },
  {
   "cell_type": "code",
   "execution_count": 17,
   "id": "737c29b0-6d8c-42c6-8c3e-7b38feb82b9d",
   "metadata": {},
   "outputs": [
    {
     "data": {
      "text/plain": [
       "[79, 98, 106, 1, 4, 22, 97, 118, 114, 111, 46, 115, 99, 104, 101, 109, 97, 194, 2, 123, 34, 116, 121, 112, 101, 34, 58, 34, 114, 101, 99, 111, 114, 100, 34, 44, 34, 110, 97, 109, 101, 34, 58, 34, 100, 98, 34, 44, 34, 102, 105, 101, 108, 100, 115, 34, 58, 91, 123, 34, 110, 97, 109, 101, 34, 58, 34, 110, 97, 109, 101, 34, 44, 34, 116, 121, 112, 101, 34, 58, 34, 115, 116, 114, 105, 110, 103, 34, 125, 44, 123, 34, 110, 97, 109, 101, 34, 58, 34, 118, 101, 114, 115, 105, 111, 110, 34, 44, 34, 116, 121, 112, 101, 34, 58, 34, 115, 116, 114, 105, 110, 103, 34, 125, 44, 123, 34, 110, 97, 109, 101, 34, 58, 34, 107, 118, 34, 44, 34, 116, 121, 112, 101, 34, 58, 123, 34, 116, 121, 112, 101, 34, 58, 34, 109, 97, 112, 34, 44, 34, 118, 97, 108, 117, 101, 115, 34, 58, 34, 115, 116, 114, 105, 110, 103, 34, 125, 125, 93, 125, 20, 97, 118, 114, 111, 46, 99, 111, 100, 101, 99, 8, 110, 117, 108, 108, 0, 127, 221, 167, 118, 67, 168, 232, 17, 242, 155, 63, 167, 64, 138, 201, 160, 2, 54, 8, 116, 101, 115, 116, 2, 49, 6, 4, 107, 50, 4, 118, 50, 4, 107, 49, 4, 118, 49, 4, 107, 51, 4, 118, 51, 0, 127, 221, 167, 118, 67, 168, 232, 17, 242, 155, 63, 167, 64, 138, 201, 160]"
      ]
     },
     "execution_count": 17,
     "metadata": {},
     "output_type": "execute_result"
    }
   ],
   "source": [
    "let mut writer = Writer::new(&db_schema, Vec::new());\n",
    "writer.append(to_value(DB {name: \"test\".into(), version: \"1\".into(), kv: src.clone()}).unwrap()).unwrap();\n",
    "let avro_dat = writer.into_inner().unwrap();\n",
    "avro_dat"
   ]
  },
  {
   "cell_type": "code",
   "execution_count": 18,
   "id": "dfb87b8b-9a27-4fbc-b1f4-f07d88029581",
   "metadata": {},
   "outputs": [
    {
     "data": {
      "text/plain": [
       "DB { name: \"test\", version: \"1\", kv: {\"k1\": \"v1\", \"k2\": \"v2\", \"k3\": \"v3\"} }"
      ]
     },
     "execution_count": 18,
     "metadata": {},
     "output_type": "execute_result"
    }
   ],
   "source": [
    "let reader = Reader::new(&avro_dat[..]).unwrap();\n",
    "let db_dat = from_value::<DB>(&reader.last().unwrap().unwrap()).unwrap();\n",
    "db_dat"
   ]
  },
  {
   "cell_type": "markdown",
   "id": "68a0803e-8c47-4bca-84f6-4feee1d7d48d",
   "metadata": {},
   "source": [
    "---\n",
    "### Encrypted Records"
   ]
  },
  {
   "cell_type": "code",
   "execution_count": 19,
   "id": "2767a7b0-54b8-4da2-915a-6e76865de7c5",
   "metadata": {},
   "outputs": [],
   "source": [
    "let enc_schema_raw = r#\"\n",
    "    {\n",
    "        \"type\": \"record\",\n",
    "        \"name\": \"enc\",\n",
    "        \"fields\": [\n",
    "            {\"name\": \"name\", \"type\": \"string\"},\n",
    "            {\"name\": \"version\", \"type\": \"string\"},\n",
    "            {\"name\": \"enc\", \"type\": \"bytes\"}\n",
    "        ]\n",
    "    }\n",
    "\"#;"
   ]
  },
  {
   "cell_type": "code",
   "execution_count": 20,
   "id": "600257a5-994f-44ea-865f-42038d0e6ec0",
   "metadata": {},
   "outputs": [
    {
     "data": {
      "text/plain": [
       "Record(RecordSchema { name: Name { name: \"enc\", namespace: None }, aliases: None, doc: None, fields: [RecordField { name: \"name\", doc: None, aliases: None, default: None, schema: String, order: Ascending, position: 0, custom_attributes: {} }, RecordField { name: \"version\", doc: None, aliases: None, default: None, schema: String, order: Ascending, position: 1, custom_attributes: {} }, RecordField { name: \"enc\", doc: None, aliases: None, default: None, schema: Bytes, order: Ascending, position: 2, custom_attributes: {} }], lookup: {\"enc\": 2, \"name\": 0, \"version\": 1}, attributes: {} })"
      ]
     },
     "execution_count": 20,
     "metadata": {},
     "output_type": "execute_result"
    }
   ],
   "source": [
    "let enc_schema = Schema::parse_str(enc_schema_raw).unwrap();\n",
    "enc_schema"
   ]
  },
  {
   "cell_type": "code",
   "execution_count": 21,
   "id": "9fcbca69-89c9-46e9-b103-c84737c0861a",
   "metadata": {},
   "outputs": [],
   "source": [
    "#[derive(Debug, Default, Deserialize, Serialize)]\n",
    "struct Enc {\n",
    "    name: String,\n",
    "    version: String,\n",
    "    enc: Vec<u8>,\n",
    "}"
   ]
  },
  {
   "cell_type": "code",
   "execution_count": 22,
   "id": "1dae3a1c-2d51-4537-81c1-4e8b2d3461e2",
   "metadata": {},
   "outputs": [
    {
     "data": {
      "text/plain": [
       "[79, 98, 106, 1, 4, 20, 97, 118, 114, 111, 46, 99, 111, 100, 101, 99, 8, 110, 117, 108, 108, 22, 97, 118, 114, 111, 46, 115, 99, 104, 101, 109, 97, 148, 2, 123, 34, 116, 121, 112, 101, 34, 58, 34, 114, 101, 99, 111, 114, 100, 34, 44, 34, 110, 97, 109, 101, 34, 58, 34, 101, 110, 99, 34, 44, 34, 102, 105, 101, 108, 100, 115, 34, 58, 91, 123, 34, 110, 97, 109, 101, 34, 58, 34, 110, 97, 109, 101, 34, 44, 34, 116, 121, 112, 101, 34, 58, 34, 115, 116, 114, 105, 110, 103, 34, 125, 44, 123, 34, 110, 97, 109, 101, 34, 58, 34, 118, 101, 114, 115, 105, 111, 110, 34, 44, 34, 116, 121, 112, 101, 34, 58, 34, 115, 116, 114, 105, 110, 103, 34, 125, 44, 123, 34, 110, 97, 109, 101, 34, 58, 34, 101, 110, 99, 34, 44, 34, 116, 121, 112, 101, 34, 58, 34, 98, 121, 116, 101, 115, 34, 125, 93, 125, 0, 3, 64, 176, 144, 186, 163, 222, 4, 142, 67, 247, 255, 132, 36, 1, 182, 2, 22, 8, 116, 101, 115, 116, 2, 49, 6, 1, 2, 3, 3, 64, 176, 144, 186, 163, 222, 4, 142, 67, 247, 255, 132, 36, 1, 182]"
      ]
     },
     "execution_count": 22,
     "metadata": {},
     "output_type": "execute_result"
    }
   ],
   "source": [
    "let mut writer = Writer::new(&enc_schema, Vec::new());\n",
    "let rec = Value::Record(vec![(\"name\".into(), \"test\".into()), (\"version\".into(), \"1\".into()), (\"enc\".into(), vec![1u8, 2, 3].into())]);\n",
    "writer.append(rec).unwrap();\n",
    "let avro_dat = writer.into_inner().unwrap();\n",
    "avro_dat"
   ]
  },
  {
   "cell_type": "code",
   "execution_count": 31,
   "id": "6119ca37-75ae-4aa0-9963-95362cec5b18",
   "metadata": {},
   "outputs": [
    {
     "data": {
      "text/plain": [
       "Record([(\"name\", String(\"test\")), (\"version\", String(\"1\")), (\"enc\", Bytes([1, 2, 3]))])"
      ]
     },
     "execution_count": 31,
     "metadata": {},
     "output_type": "execute_result"
    }
   ],
   "source": [
    "let rec = Reader::new(&avro_dat[..]).unwrap().last().unwrap().unwrap();\n",
    "rec"
   ]
  },
  {
   "cell_type": "code",
   "execution_count": 32,
   "id": "17975884-ece4-4206-87db-c97f637770c8",
   "metadata": {},
   "outputs": [
    {
     "data": {
      "text/plain": [
       "Err(Failed to deserialize Avro value into value: Expected an Array or Union, but got: Bytes([1, 2, 3]))"
      ]
     },
     "execution_count": 32,
     "metadata": {},
     "output_type": "execute_result"
    }
   ],
   "source": [
    "from_value::<Enc>(&rec)"
   ]
  },
  {
   "cell_type": "code",
   "execution_count": 34,
   "id": "be0262ab-e18d-4163-81c8-30ecee43004e",
   "metadata": {},
   "outputs": [
    {
     "data": {
      "text/plain": [
       "[(\"name\", String(\"test\")), (\"version\", String(\"1\")), (\"enc\", Bytes([1, 2, 3]))]"
      ]
     },
     "execution_count": 34,
     "metadata": {},
     "output_type": "execute_result"
    }
   ],
   "source": [
    "let mut unwrapped = vec![];\n",
    "if let Value::Record(x) = rec {\n",
    "    unwrapped = x;\n",
    "}\n",
    "unwrapped"
   ]
  },
  {
   "cell_type": "code",
   "execution_count": 38,
   "id": "f41bb661-72bc-48a8-b8ed-0305a61493c8",
   "metadata": {},
   "outputs": [
    {
     "ename": "Error",
     "evalue": "the trait bound `std::string::String: From<Value>` is not satisfied",
     "output_type": "error",
     "traceback": [
      "\u001b[31m[E0277] Error:\u001b[0m the trait bound `std::string::String: From<Value>` is not satisfied",
      "   \u001b[38;5;246m╭\u001b[0m\u001b[38;5;246m─\u001b[0m\u001b[38;5;246m[\u001b[0mcommand_38:1:1\u001b[38;5;246m]\u001b[0m",
      "   \u001b[38;5;246m│\u001b[0m",
      " \u001b[38;5;246m1 │\u001b[0m \u001b[38;5;249ml\u001b[0m\u001b[38;5;249me\u001b[0m\u001b[38;5;249mt\u001b[0m\u001b[38;5;249m \u001b[0m\u001b[38;5;249mn\u001b[0m\u001b[38;5;249ma\u001b[0m\u001b[38;5;249mm\u001b[0m\u001b[38;5;249me\u001b[0m\u001b[38;5;249m:\u001b[0m\u001b[38;5;249m \u001b[0m\u001b[38;5;249mS\u001b[0m\u001b[38;5;249mt\u001b[0m\u001b[38;5;249mr\u001b[0m\u001b[38;5;249mi\u001b[0m\u001b[38;5;249mn\u001b[0m\u001b[38;5;249mg\u001b[0m\u001b[38;5;249m \u001b[0m\u001b[38;5;249m=\u001b[0m\u001b[38;5;249m \u001b[0m\u001b[38;5;249mu\u001b[0m\u001b[38;5;249mn\u001b[0m\u001b[38;5;249mw\u001b[0m\u001b[38;5;249mr\u001b[0m\u001b[38;5;249ma\u001b[0m\u001b[38;5;249mp\u001b[0m\u001b[38;5;249mp\u001b[0m\u001b[38;5;249me\u001b[0m\u001b[38;5;249md\u001b[0m\u001b[38;5;249m[\u001b[0m\u001b[38;5;249m0\u001b[0m\u001b[38;5;249m]\u001b[0m\u001b[38;5;249m.\u001b[0m\u001b[38;5;249m1\u001b[0m\u001b[38;5;249m.\u001b[0m\u001b[38;5;54mi\u001b[0m\u001b[38;5;54mn\u001b[0m\u001b[38;5;54mt\u001b[0m\u001b[38;5;54mo\u001b[0m\u001b[38;5;249m(\u001b[0m\u001b[38;5;249m)\u001b[0m\u001b[38;5;249m;\u001b[0m",
      " \u001b[38;5;240m  │\u001b[0m                                   \u001b[38;5;54m─\u001b[0m\u001b[38;5;54m─\u001b[0m\u001b[38;5;54m┬\u001b[0m\u001b[38;5;54m─\u001b[0m  ",
      " \u001b[38;5;240m  │\u001b[0m                                     \u001b[38;5;54m╰\u001b[0m\u001b[38;5;54m─\u001b[0m\u001b[38;5;54m─\u001b[0m\u001b[38;5;54m─\u001b[0m the trait `From<Value>` is not implemented for `std::string::String`",
      "\u001b[38;5;246m───╯\u001b[0m"
     ]
    }
   ],
   "source": [
    "let name: String = unwrapped[0].1.into();"
   ]
  },
  {
   "cell_type": "code",
   "execution_count": null,
   "id": "8cd8ad9e-3224-41a0-be53-4f3b97c6aa7f",
   "metadata": {},
   "outputs": [],
   "source": []
  }
 ],
 "metadata": {
  "kernelspec": {
   "display_name": "Rust",
   "language": "rust",
   "name": "rust"
  },
  "language_info": {
   "codemirror_mode": "rust",
   "file_extension": ".rs",
   "mimetype": "text/rust",
   "name": "Rust",
   "pygment_lexer": "rust",
   "version": ""
  }
 },
 "nbformat": 4,
 "nbformat_minor": 5
}
