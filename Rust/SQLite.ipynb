{
 "cells": [
  {
   "cell_type": "markdown",
   "id": "415c478e-f0d8-4ca3-8659-efcaf08f62e2",
   "metadata": {},
   "source": [
    "## SQLite\n",
    "---"
   ]
  },
  {
   "cell_type": "code",
   "execution_count": 2,
   "id": "dc615b52-bd3a-4d68-9d93-76a9a3c5d014",
   "metadata": {},
   "outputs": [],
   "source": [
    ":dep rusqlite"
   ]
  },
  {
   "cell_type": "code",
   "execution_count": 3,
   "id": "80c80905-ddcb-4749-87f1-9cb0159dda96",
   "metadata": {},
   "outputs": [],
   "source": [
    "use rusqlite::{params, Connection, Result};"
   ]
  },
  {
   "cell_type": "code",
   "execution_count": 4,
   "id": "3aa03c0f-cda1-49c4-ae93-8e9dcfc0ec7b",
   "metadata": {},
   "outputs": [],
   "source": [
    "#[derive(Debug)]\n",
    "struct Test {\n",
    "    id: i32,\n",
    "    name: String,\n",
    "    value: i32,\n",
    "}"
   ]
  },
  {
   "cell_type": "code",
   "execution_count": 5,
   "id": "4704dc27-3b99-4ad2-bd9b-c6bb93ecf661",
   "metadata": {},
   "outputs": [],
   "source": [
    "let conn = Connection::open_in_memory()?;"
   ]
  },
  {
   "cell_type": "code",
   "execution_count": 6,
   "id": "515a3dae-7335-49ef-afce-ca86d7382972",
   "metadata": {},
   "outputs": [],
   "source": [
    "conn.execute(\n",
    "    \"CREATE TABLE test (\n",
    "        id INTEGER PRIMARY KEY,\n",
    "        name TEXT NOT NULL,\n",
    "        value INTEGER\n",
    "    )\",\n",
    "    (),\n",
    ")?;"
   ]
  },
  {
   "cell_type": "code",
   "execution_count": 7,
   "id": "6453c7b6-e4b9-4741-b613-e3c6402be92a",
   "metadata": {},
   "outputs": [
    {
     "data": {
      "text/plain": [
       "()"
      ]
     },
     "execution_count": 7,
     "metadata": {},
     "output_type": "execute_result"
    }
   ],
   "source": [
    "for (name, value) in [(\"Test1\", 100), (\"Test2\", 50), (\"Test3\", 80)] {\n",
    "    conn.execute(\n",
    "        \"INSERT INTO test (name, value) VALUES (?1, ?2)\",\n",
    "        params![name, value],\n",
    "    )?;\n",
    "}"
   ]
  },
  {
   "cell_type": "code",
   "execution_count": 8,
   "id": "b74d391a-e05b-409c-832d-e5b931541af0",
   "metadata": {},
   "outputs": [
    {
     "name": "stdout",
     "output_type": "stream",
     "text": [
      "Found test: Test { id: 1, name: \"Test1\", value: 100 }\n",
      "Found test: Test { id: 2, name: \"Test2\", value: 50 }\n",
      "Found test: Test { id: 3, name: \"Test3\", value: 80 }\n"
     ]
    },
    {
     "data": {
      "text/plain": [
       "()"
      ]
     },
     "execution_count": 8,
     "metadata": {},
     "output_type": "execute_result"
    }
   ],
   "source": [
    "{\n",
    "    let mut stmt = conn.prepare(\"SELECT id, name, value FROM test\")?;\n",
    "    let test_iter = stmt.query_map((), |row| {\n",
    "        Ok(Test {\n",
    "            id: row.get(0)?,\n",
    "            name: row.get(1)?,\n",
    "            value: row.get(2)?,\n",
    "        })\n",
    "    })?;\n",
    "    for test in test_iter {\n",
    "        println!(\"Found test: {:?}\", test?);\n",
    "    }\n",
    "}"
   ]
  },
  {
   "cell_type": "code",
   "execution_count": null,
   "id": "583c3ab9-d254-4a5b-8f50-c64472c1030e",
   "metadata": {},
   "outputs": [],
   "source": []
  }
 ],
 "metadata": {
  "kernelspec": {
   "display_name": "Rust",
   "language": "rust",
   "name": "rust"
  },
  "language_info": {
   "codemirror_mode": "rust",
   "file_extension": ".rs",
   "mimetype": "text/rust",
   "name": "Rust",
   "pygment_lexer": "rust",
   "version": ""
  }
 },
 "nbformat": 4,
 "nbformat_minor": 5
}
