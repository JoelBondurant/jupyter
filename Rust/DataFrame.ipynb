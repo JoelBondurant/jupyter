{
 "cells": [
  {
   "cell_type": "markdown",
   "id": "06aef8e3-0196-4ce0-b503-e3e7311da4f2",
   "metadata": {},
   "source": [
    "## DataFrame\n",
    "---"
   ]
  },
  {
   "cell_type": "code",
   "execution_count": 2,
   "id": "1ee8f187-93c0-49a6-adec-3929244a3178",
   "metadata": {},
   "outputs": [],
   "source": [
    "use std::{fmt, ops};\n",
    "use std::collections::{HashMap, VecDeque};"
   ]
  },
  {
   "cell_type": "code",
   "execution_count": 3,
   "id": "145c91ba-5b1c-4868-b074-d2180caf0e5f",
   "metadata": {},
   "outputs": [],
   "source": [
    "#[allow(non_camel_case_types)]\n",
    "#[derive(Clone, Debug)]\n",
    "enum ColumnData {\n",
    "    f64(VecDeque<f64>),\n",
    "    i64(VecDeque<i64>),\n",
    "    u64(VecDeque<u64>),\n",
    "    string(VecDeque<String>),\n",
    "}"
   ]
  },
  {
   "cell_type": "code",
   "execution_count": 4,
   "id": "4370eaa6-b481-4e96-b1d8-13669a030df0",
   "metadata": {},
   "outputs": [],
   "source": [
    "#[derive(Debug)]\n",
    "struct Column {\n",
    "    name: String,\n",
    "    vals: ColumnData,\n",
    "}"
   ]
  },
  {
   "cell_type": "code",
   "execution_count": 5,
   "id": "7b9a7007-26b2-47d0-a7a5-4cbe803612db",
   "metadata": {},
   "outputs": [],
   "source": [
    "impl Column {\n",
    "    fn len(&self) -> usize {\n",
    "        match &self.vals {\n",
    "            ColumnData::f64(vals) => vals.len(),\n",
    "            ColumnData::i64(vals) => vals.len(),\n",
    "            ColumnData::u64(vals) => vals.len(),\n",
    "            ColumnData::string(vals) => vals.len(),\n",
    "        }\n",
    "    }\n",
    "}"
   ]
  },
  {
   "cell_type": "code",
   "execution_count": 6,
   "id": "e1d3fbef-d1ce-46ec-886c-c927c77ad99e",
   "metadata": {},
   "outputs": [],
   "source": [
    "struct DataFrame {\n",
    "    cols: VecDeque<Column>,\n",
    "}"
   ]
  },
  {
   "cell_type": "code",
   "execution_count": 7,
   "id": "b2eaba33-dfdf-43cb-8f50-f32e153526fe",
   "metadata": {},
   "outputs": [],
   "source": [
    "impl DataFrame {\n",
    "    fn new() -> Self {\n",
    "        Self {\n",
    "            cols: VecDeque::<Column>::with_capacity(0),\n",
    "        }\n",
    "    }\n",
    "    pub fn shape(&self) -> (usize, usize) {\n",
    "        if self.cols.len() > 0 {\n",
    "            (self.cols[0].len(), self.cols.len())\n",
    "        } else {\n",
    "            (0, 0)\n",
    "        }\n",
    "    }\n",
    "    fn push_back(&mut self, col: Column) {\n",
    "        self.cols.push_back(col);\n",
    "    }\n",
    "    fn push_front(&mut self, col: Column) {\n",
    "        self.cols.push_front(col);\n",
    "    }\n",
    "    fn push(&mut self, col: Column) {\n",
    "        self.push_back(col);\n",
    "    }\n",
    "    fn columns(&self) -> Vec<String> {\n",
    "        self.cols.iter().map(|col|col.name.clone()).collect()\n",
    "    }\n",
    "}"
   ]
  },
  {
   "cell_type": "code",
   "execution_count": 8,
   "id": "19122849-8b91-4705-a2d9-fbf6ba0cc848",
   "metadata": {},
   "outputs": [],
   "source": [
    "impl fmt::Debug for DataFrame {\n",
    "    fn fmt(&self, f: &mut fmt::Formatter) -> fmt::Result {\n",
    "        write!(f, \"{:?}\", self.cols)\n",
    "    }\n",
    "}"
   ]
  },
  {
   "cell_type": "code",
   "execution_count": 9,
   "id": "45f937c0-2ecc-4f2c-8de9-e72871259dae",
   "metadata": {},
   "outputs": [],
   "source": [
    "impl From<(String, Vec<f64>)> for Column {\n",
    "    fn from(tup: (String, Vec<f64>)) -> Column {\n",
    "        Column {\n",
    "            name: tup.0,\n",
    "            vals: ColumnData::f64(tup.1.into()),\n",
    "        }\n",
    "    }\n",
    "}\n",
    "impl From<(String, Vec<i64>)> for Column {\n",
    "    fn from(tup: (String, Vec<i64>)) -> Column {\n",
    "        Column {\n",
    "            name: tup.0,\n",
    "            vals: ColumnData::i64(tup.1.into()),\n",
    "        }\n",
    "    }\n",
    "}\n",
    "impl From<(String, Vec<u64>)> for Column {\n",
    "    fn from(tup: (String, Vec<u64>)) -> Column {\n",
    "        Column {\n",
    "            name: tup.0,\n",
    "            vals: ColumnData::u64(tup.1.into()),\n",
    "        }\n",
    "    }\n",
    "}\n",
    "impl From<(String, Vec<String>)> for Column {\n",
    "    fn from(tup: (String, Vec<String>)) -> Column {\n",
    "        Column {\n",
    "            name: tup.0,\n",
    "            vals: ColumnData::string(tup.1.into()),\n",
    "        }\n",
    "    }\n",
    "}"
   ]
  },
  {
   "cell_type": "code",
   "execution_count": 10,
   "id": "97086afc-5974-48b5-ba8d-6b06cb2ef0c5",
   "metadata": {},
   "outputs": [],
   "source": [
    "impl From<ColumnData> for Vec<f64> {\n",
    "    fn from(cv: ColumnData) -> Vec<f64> {\n",
    "        match cv {\n",
    "            ColumnData::f64(icv) => icv.into(),\n",
    "            _ => vec![],\n",
    "        }\n",
    "    }\n",
    "}\n",
    "impl From<ColumnData> for Vec<i64> {\n",
    "    fn from(cv: ColumnData) -> Vec<i64> {\n",
    "        match cv {\n",
    "            ColumnData::i64(icv) => icv.into(),\n",
    "            _ => vec![],\n",
    "        }\n",
    "    }\n",
    "}\n",
    "impl From<ColumnData> for Vec<u64> {\n",
    "    fn from(cv: ColumnData) -> Vec<u64> {\n",
    "        match cv {\n",
    "            ColumnData::u64(icv) => icv.into(),\n",
    "            _ => vec![],\n",
    "        }\n",
    "    }\n",
    "}\n",
    "impl From<ColumnData> for Vec<String> {\n",
    "    fn from(cv: ColumnData) -> Vec<String> {\n",
    "        match cv {\n",
    "            ColumnData::string(icv) => icv.into(),\n",
    "            _ => vec![],\n",
    "        }\n",
    "    }\n",
    "}"
   ]
  },
  {
   "cell_type": "code",
   "execution_count": 11,
   "id": "1132e8a1-7d6e-4bb6-a9ef-56213e047c24",
   "metadata": {},
   "outputs": [],
   "source": [
    "impl ops::Index<String> for DataFrame {\n",
    "    type Output = ColumnData;\n",
    "    fn index(&self, name: String) -> &ColumnData {\n",
    "        let indx = self.cols.iter().position(|x|x.name == name).unwrap();\n",
    "        &self.cols[indx].vals\n",
    "    }\n",
    "}"
   ]
  },
  {
   "cell_type": "code",
   "execution_count": 12,
   "id": "8bc1d0f2-8d57-45ea-bae6-1e61d6fc1cf5",
   "metadata": {},
   "outputs": [
    {
     "data": {
      "text/plain": [
       "[]"
      ]
     },
     "execution_count": 12,
     "metadata": {},
     "output_type": "execute_result"
    }
   ],
   "source": [
    "let mut df = DataFrame::new();\n",
    "df"
   ]
  },
  {
   "cell_type": "code",
   "execution_count": 13,
   "id": "fae4f558-ef2e-46e5-9d0f-ee15b1700f3b",
   "metadata": {},
   "outputs": [
    {
     "data": {
      "text/plain": [
       "[Column { name: \"test1\", vals: f64([1.0, 1.0, 1.0, 1.0, 1.0, 1.0, 1.0]) }, Column { name: \"test2\", vals: i64([2, 2, 2, 2, 2, 2, 2]) }, Column { name: \"test3\", vals: u64([3, 3, 3, 3, 3, 3, 3]) }, Column { name: \"test4\", vals: string([\"test1\", \"test2\", \"test3\", \"test4\", \"test5\", \"test6\", \"test7\"]) }]"
      ]
     },
     "execution_count": 13,
     "metadata": {},
     "output_type": "execute_result"
    }
   ],
   "source": [
    "df.push((\"test1\".into(), vec![1f64; 7]).into());\n",
    "df.push((\"test2\".into(), vec![2i64; 7]).into());\n",
    "df.push((\"test3\".into(), vec![3u64; 7]).into());\n",
    "df.push((\"test4\".into(), (1..=7).map(|x|format!(\"test{x}\")).collect::<Vec<String>>()).into());\n",
    "df"
   ]
  },
  {
   "cell_type": "code",
   "execution_count": 14,
   "id": "0cbf7e88-99da-4d3d-a6b0-bae77747cdd6",
   "metadata": {},
   "outputs": [
    {
     "data": {
      "text/plain": [
       "(7, 4)"
      ]
     },
     "execution_count": 14,
     "metadata": {},
     "output_type": "execute_result"
    }
   ],
   "source": [
    "df.shape()"
   ]
  },
  {
   "cell_type": "code",
   "execution_count": 15,
   "id": "33c965c0-86f3-4a00-aeeb-db0159c76bd5",
   "metadata": {},
   "outputs": [
    {
     "data": {
      "text/plain": [
       "[\"test1\", \"test2\", \"test3\", \"test4\"]"
      ]
     },
     "execution_count": 15,
     "metadata": {},
     "output_type": "execute_result"
    }
   ],
   "source": [
    "df.columns()"
   ]
  },
  {
   "cell_type": "code",
   "execution_count": 16,
   "id": "d2009627-78fe-4d0f-8611-40f305c8f803",
   "metadata": {},
   "outputs": [
    {
     "data": {
      "text/plain": [
       "f64([1.0, 1.0, 1.0, 1.0, 1.0, 1.0, 1.0])"
      ]
     },
     "execution_count": 16,
     "metadata": {},
     "output_type": "execute_result"
    }
   ],
   "source": [
    "df[\"test1\".into()]"
   ]
  },
  {
   "cell_type": "code",
   "execution_count": 17,
   "id": "176055e3-177b-4f3f-9205-4830d529dd8c",
   "metadata": {},
   "outputs": [
    {
     "data": {
      "text/plain": [
       "u64([3, 3, 3, 3, 3, 3, 3])"
      ]
     },
     "execution_count": 17,
     "metadata": {},
     "output_type": "execute_result"
    }
   ],
   "source": [
    "df[\"test3\".into()]"
   ]
  },
  {
   "cell_type": "code",
   "execution_count": 18,
   "id": "aaa69e0a-ec71-46df-bb6c-4937d5a43c82",
   "metadata": {},
   "outputs": [
    {
     "data": {
      "text/plain": [
       "string([\"test1\", \"test2\", \"test3\", \"test4\", \"test5\", \"test6\", \"test7\"])"
      ]
     },
     "execution_count": 18,
     "metadata": {},
     "output_type": "execute_result"
    }
   ],
   "source": [
    "df[\"test4\".into()]"
   ]
  },
  {
   "cell_type": "code",
   "execution_count": 19,
   "id": "a63a8bd6-6276-42e2-8c36-051bc07403da",
   "metadata": {},
   "outputs": [
    {
     "data": {
      "text/plain": [
       "[1.0, 1.0, 1.0, 1.0, 1.0, 1.0, 1.0]"
      ]
     },
     "execution_count": 19,
     "metadata": {},
     "output_type": "execute_result"
    }
   ],
   "source": [
    "let q = Vec::<f64>::from(df[\"test1\".into()].clone());\n",
    "q"
   ]
  },
  {
   "cell_type": "code",
   "execution_count": 20,
   "id": "38611c4d-324e-49c9-b1bd-4f1c7e98b24f",
   "metadata": {},
   "outputs": [
    {
     "data": {
      "text/plain": [
       "[\"test1\", \"test2\", \"test3\", \"test4\", \"test5\", \"test6\", \"test7\"]"
      ]
     },
     "execution_count": 20,
     "metadata": {},
     "output_type": "execute_result"
    }
   ],
   "source": [
    "let q = Vec::<String>::from(df[\"test4\".into()].clone());\n",
    "q"
   ]
  },
  {
   "cell_type": "code",
   "execution_count": null,
   "id": "2ffff546-a4b1-44ff-92df-b17ebb00fdd5",
   "metadata": {},
   "outputs": [],
   "source": []
  }
 ],
 "metadata": {
  "kernelspec": {
   "display_name": "Rust",
   "language": "rust",
   "name": "rust"
  },
  "language_info": {
   "codemirror_mode": "rust",
   "file_extension": ".rs",
   "mimetype": "text/rust",
   "name": "Rust",
   "pygment_lexer": "rust",
   "version": ""
  }
 },
 "nbformat": 4,
 "nbformat_minor": 5
}
