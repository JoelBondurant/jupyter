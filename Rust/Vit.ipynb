{
 "cells": [
  {
   "cell_type": "markdown",
   "id": "2b7ee09e-79e0-4611-b240-e2590391a678",
   "metadata": {},
   "source": [
    "## Vit\n",
    "---"
   ]
  },
  {
   "cell_type": "code",
   "execution_count": 2,
   "id": "66b5c83b-d4ce-4582-a551-078febf883a7",
   "metadata": {},
   "outputs": [],
   "source": [
    "#![feature(portable_simd)]\n",
    "use std::simd::{u64x64, SimdUint};"
   ]
  },
  {
   "cell_type": "code",
   "execution_count": 3,
   "id": "080e406e-c712-4bd9-b377-b4320d3f3228",
   "metadata": {},
   "outputs": [],
   "source": [
    "#[derive(Debug, Default)]\n",
    "struct Vit {\n",
    "    blocks: Vec<u64x64>,\n",
    "}"
   ]
  },
  {
   "cell_type": "code",
   "execution_count": 4,
   "id": "615cfdd9-62ad-4fb6-a3b0-863a62b541c1",
   "metadata": {},
   "outputs": [],
   "source": [
    "/// Vit, a bit vector based on portable simd.\n",
    "impl Vit {\n",
    "    fn with_capacity(capacity: &usize) -> Self {\n",
    "        let num_blocks = (*capacity as f64 / 4096f64).ceil() as usize;\n",
    "        let blocks = vec![u64x64::splat(0); num_blocks];\n",
    "        Vit { blocks: blocks }\n",
    "    }\n",
    "    fn offsets(offset: &usize) -> (usize, usize, usize) {\n",
    "        let offset1 = offset / 4096;\n",
    "        let offset2 = (offset - 4096 * offset1) / 64;\n",
    "        let offset3 = offset % 64;\n",
    "        (offset1, offset2, offset3)\n",
    "    }\n",
    "    fn set(&mut self, offset: &usize, val: bool) {\n",
    "        let (offset1, offset2, offset3) = Vit::offsets(offset);\n",
    "        let bits = self.blocks[offset1][offset2];\n",
    "        let is_set = (bits & (1 << offset3)) != 0;\n",
    "        if (is_set & !val) | (!is_set & val) {\n",
    "            self.blocks[offset1][offset2] = bits ^ (1 << offset3);\n",
    "        }\n",
    "    }\n",
    "    fn check(&self, offset: &usize) -> bool {\n",
    "        let (offset1, offset2, offset3) = Vit::offsets(offset);\n",
    "        (self.blocks[offset1][offset2] & (1 << offset3)) != 0\n",
    "    }\n",
    "    fn check_all(&self, offsets: &[usize]) -> bool {\n",
    "        for x in offsets.iter() {\n",
    "            if !self.check(x) {\n",
    "                return false;\n",
    "            }\n",
    "        }\n",
    "        true\n",
    "    }\n",
    "    fn set_all(&mut self, offsets: &[usize], val: bool) {\n",
    "        offsets.iter().for_each(|x|self.set(x,val));\n",
    "    }\n",
    "    fn size(&self) -> usize {\n",
    "        self.blocks.len() * 4096\n",
    "    }\n",
    "}"
   ]
  },
  {
   "cell_type": "code",
   "execution_count": 5,
   "id": "c4825eb7-00fe-4698-9a7f-08ff4530caae",
   "metadata": {},
   "outputs": [
    {
     "data": {
      "text/plain": [
       "Vit { blocks: [[0, 0, 0, 0, 0, 0, 0, 0, 0, 0, 0, 0, 0, 0, 0, 0, 0, 0, 0, 0, 0, 0, 0, 0, 0, 0, 0, 0, 0, 0, 0, 0, 0, 0, 0, 0, 0, 0, 0, 0, 0, 0, 0, 0, 0, 0, 0, 0, 0, 0, 0, 0, 0, 0, 0, 0, 0, 0, 0, 0, 0, 0, 0, 0], [0, 0, 0, 0, 0, 0, 0, 0, 0, 0, 0, 0, 0, 0, 0, 0, 0, 0, 0, 0, 0, 0, 0, 0, 0, 0, 0, 0, 0, 0, 0, 0, 0, 0, 0, 0, 0, 0, 0, 0, 0, 0, 0, 0, 0, 0, 0, 0, 0, 0, 0, 0, 0, 0, 0, 0, 0, 0, 0, 0, 0, 0, 0, 0]] }"
      ]
     },
     "execution_count": 5,
     "metadata": {},
     "output_type": "execute_result"
    }
   ],
   "source": [
    "let mut v = Vit::with_capacity(&8000);\n",
    "v"
   ]
  },
  {
   "cell_type": "code",
   "execution_count": 6,
   "id": "ddd8bb5e-525c-42f5-b3f6-b9758894fc7c",
   "metadata": {},
   "outputs": [
    {
     "data": {
      "text/plain": [
       "Vit { blocks: [[7, 1, 1, 1, 0, 0, 0, 0, 0, 0, 0, 0, 0, 0, 0, 1099511627776, 0, 0, 0, 0, 0, 0, 0, 0, 0, 0, 0, 0, 0, 0, 0, 0, 0, 0, 0, 0, 0, 0, 0, 0, 0, 0, 0, 0, 0, 0, 0, 0, 0, 0, 0, 0, 0, 0, 0, 0, 0, 0, 0, 0, 0, 0, 0, 0], [0, 0, 0, 0, 0, 0, 0, 0, 0, 0, 0, 0, 0, 0, 0, 0, 0, 0, 0, 0, 0, 0, 0, 0, 0, 0, 0, 0, 0, 281474976710656, 0, 0, 0, 0, 0, 0, 0, 0, 0, 0, 0, 0, 0, 0, 0, 0, 0, 0, 0, 0, 0, 0, 0, 0, 0, 0, 0, 0, 0, 0, 0, 0, 0, 0]] }"
      ]
     },
     "execution_count": 6,
     "metadata": {},
     "output_type": "execute_result"
    }
   ],
   "source": [
    "v.set_all(&[0, 1, 2, 64, 128, 192, 1000, 6000], true);\n",
    "v"
   ]
  },
  {
   "cell_type": "code",
   "execution_count": 7,
   "id": "a345e0fd-e675-4b11-b6f2-e58126f5fd4b",
   "metadata": {},
   "outputs": [
    {
     "data": {
      "text/plain": [
       "true"
      ]
     },
     "execution_count": 7,
     "metadata": {},
     "output_type": "execute_result"
    }
   ],
   "source": [
    "v.check_all(&[0,1,2])"
   ]
  },
  {
   "cell_type": "code",
   "execution_count": 8,
   "id": "3cb314a5-6b0d-4ab5-9059-809d289801f0",
   "metadata": {},
   "outputs": [
    {
     "data": {
      "text/plain": [
       "false"
      ]
     },
     "execution_count": 8,
     "metadata": {},
     "output_type": "execute_result"
    }
   ],
   "source": [
    "v.check_all(&[1,20])"
   ]
  },
  {
   "cell_type": "code",
   "execution_count": 9,
   "id": "fda5caf8-98b0-41ba-89ae-f74f19bf7c7c",
   "metadata": {},
   "outputs": [
    {
     "data": {
      "text/plain": [
       "true"
      ]
     },
     "execution_count": 9,
     "metadata": {},
     "output_type": "execute_result"
    }
   ],
   "source": [
    "v.check_all(&[1000,6000])"
   ]
  },
  {
   "cell_type": "code",
   "execution_count": 10,
   "id": "31d959e5-9ec5-4351-b5c6-8e1ae730c736",
   "metadata": {},
   "outputs": [
    {
     "data": {
      "text/plain": [
       "8192"
      ]
     },
     "execution_count": 10,
     "metadata": {},
     "output_type": "execute_result"
    }
   ],
   "source": [
    "v.size()"
   ]
  },
  {
   "cell_type": "code",
   "execution_count": 11,
   "id": "8435e0d1-b308-4b2e-8fb8-d2ee7eb34fe3",
   "metadata": {},
   "outputs": [
    {
     "data": {
      "text/plain": [
       "(0, 15, 40)"
      ]
     },
     "execution_count": 11,
     "metadata": {},
     "output_type": "execute_result"
    }
   ],
   "source": [
    "Vit::offsets(&1000)"
   ]
  },
  {
   "cell_type": "code",
   "execution_count": null,
   "id": "9d973195-958a-47a5-ace0-101e6f1e5caa",
   "metadata": {},
   "outputs": [],
   "source": []
  }
 ],
 "metadata": {
  "kernelspec": {
   "display_name": "Rust",
   "language": "rust",
   "name": "rust"
  },
  "language_info": {
   "codemirror_mode": "rust",
   "file_extension": ".rs",
   "mimetype": "text/rust",
   "name": "Rust",
   "pygment_lexer": "rust",
   "version": ""
  }
 },
 "nbformat": 4,
 "nbformat_minor": 5
}
