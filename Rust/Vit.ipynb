{
 "cells": [
  {
   "cell_type": "markdown",
   "id": "2b7ee09e-79e0-4611-b240-e2590391a678",
   "metadata": {},
   "source": [
    "## Vit\n",
    "---"
   ]
  },
  {
   "cell_type": "code",
   "execution_count": 2,
   "id": "66b5c83b-d4ce-4582-a551-078febf883a7",
   "metadata": {},
   "outputs": [],
   "source": [
    "#![feature(portable_simd)]\n",
    "use std::simd::{u64x8, u64x64, SimdUint};"
   ]
  },
  {
   "cell_type": "code",
   "execution_count": 3,
   "id": "080e406e-c712-4bd9-b377-b4320d3f3228",
   "metadata": {},
   "outputs": [],
   "source": [
    "#[derive(Debug, Default)]\n",
    "struct Vit {\n",
    "    vitlets: Vec<u64x64>,\n",
    "    size: usize,\n",
    "}"
   ]
  },
  {
   "cell_type": "code",
   "execution_count": 4,
   "id": "615cfdd9-62ad-4fb6-a3b0-863a62b541c1",
   "metadata": {},
   "outputs": [],
   "source": [
    "#![feature(slice_group_by)]\n",
    "/// Vit, a bit vector based on portable simd primatives.\n",
    "impl Vit {\n",
    "    fn new(size: usize) -> Self {\n",
    "        let num_vitlets = (size as f64 / 4096f64).ceil() as usize;\n",
    "        let vitlets = [u64x64::splat(0)].into_iter().cycle().take(num_vitlets).collect();\n",
    "        Vit {\n",
    "            vitlets: vitlets,\n",
    "            size: size,\n",
    "        }\n",
    "    }\n",
    "    fn offsets(offset: usize) -> (usize, usize, usize) {\n",
    "        let offset1 = offset / 4096;\n",
    "        let offset2 = (offset - 4096 * offset1) / 64;\n",
    "        let offset3 = offset % 64;\n",
    "        (offset1, offset2, offset3)\n",
    "    }\n",
    "    fn set(&mut self, offset: usize, val: bool) {\n",
    "        let (offset1, offset2, offset3) = Vit::offsets(offset);\n",
    "        let mut temp = self.vitlets[offset1][offset2];\n",
    "        let is_set = (temp & (1 << offset3)) != 0;\n",
    "        if (is_set & !val) | (!is_set & val) {\n",
    "            temp = temp ^ (1 << offset3);\n",
    "        }\n",
    "        self.vitlets[offset1][offset2] = temp;\n",
    "    }\n",
    "    fn check(&self, offset: usize) -> bool {\n",
    "        let (offset1, offset2, offset3) = Vit::offsets(offset);\n",
    "        let temp = self.vitlets[offset1][offset2];\n",
    "        (temp & (1 << offset3)) != 0\n",
    "    }\n",
    "    fn check_multi(&self, offsets: &[usize]) -> bool {\n",
    "        let mut result = true;\n",
    "        for offset in offsets.iter() {\n",
    "            let (offset1, offset2, offset3) = Vit::offsets(*offset);\n",
    "            let temp = self.vitlets[offset1][offset2];\n",
    "            result &= (temp & (1 << offset3)) != 0;\n",
    "            if !result {\n",
    "                return false;\n",
    "            }\n",
    "        }\n",
    "        true\n",
    "    }\n",
    "    fn check_multi_v2(&self, offsets: &[usize]) -> bool {\n",
    "        let mut offsets = offsets.to_owned();\n",
    "        offsets.sort();\n",
    "        let offsets = offsets.iter().map(|x|Vit::offsets(*x)).collect::<Vec<_>>().to_owned();\n",
    "        let offsets = offsets.group_by(|x,y|(x.0,x.1)==(y.0,y.1)).collect::<Vec<_>>();\n",
    "        for simd_grp in offsets.iter() {\n",
    "            let mut simd_mask = u64x64::splat(0);\n",
    "            let offset1 = simd_grp[0].0;\n",
    "            let offset2 = simd_grp[0].1;\n",
    "            for off_tup in simd_grp.iter() {\n",
    "                simd_mask[offset2] ^= 1 << off_tup.2;\n",
    "            }\n",
    "            let simd_check = self.vitlets[offset1] & simd_mask == simd_mask;\n",
    "            if !simd_check {\n",
    "                return false;\n",
    "            }\n",
    "        }\n",
    "        true\n",
    "    }\n",
    "}"
   ]
  },
  {
   "cell_type": "code",
   "execution_count": 5,
   "id": "c4825eb7-00fe-4698-9a7f-08ff4530caae",
   "metadata": {},
   "outputs": [
    {
     "data": {
      "text/plain": [
       "Vit { vitlets: [[0, 0, 0, 0, 0, 0, 0, 0, 0, 0, 0, 0, 0, 0, 0, 0, 0, 0, 0, 0, 0, 0, 0, 0, 0, 0, 0, 0, 0, 0, 0, 0, 0, 0, 0, 0, 0, 0, 0, 0, 0, 0, 0, 0, 0, 0, 0, 0, 0, 0, 0, 0, 0, 0, 0, 0, 0, 0, 0, 0, 0, 0, 0, 0], [0, 0, 0, 0, 0, 0, 0, 0, 0, 0, 0, 0, 0, 0, 0, 0, 0, 0, 0, 0, 0, 0, 0, 0, 0, 0, 0, 0, 0, 0, 0, 0, 0, 0, 0, 0, 0, 0, 0, 0, 0, 0, 0, 0, 0, 0, 0, 0, 0, 0, 0, 0, 0, 0, 0, 0, 0, 0, 0, 0, 0, 0, 0, 0]], size: 5000 }"
      ]
     },
     "execution_count": 5,
     "metadata": {},
     "output_type": "execute_result"
    }
   ],
   "source": [
    "let mut v = Vit::new(5000);\n",
    "v"
   ]
  },
  {
   "cell_type": "code",
   "execution_count": 6,
   "id": "bc00614d-bf15-4e63-ac74-253ebc549d2a",
   "metadata": {},
   "outputs": [
    {
     "data": {
      "text/plain": [
       "Vit { vitlets: [[7, 1, 1, 1, 0, 0, 0, 0, 0, 0, 0, 0, 0, 0, 0, 0, 0, 0, 0, 0, 0, 0, 0, 0, 0, 0, 0, 0, 0, 0, 0, 0, 0, 0, 0, 0, 0, 0, 0, 0, 0, 0, 0, 0, 0, 0, 0, 0, 0, 0, 0, 0, 0, 0, 0, 0, 0, 0, 0, 0, 0, 0, 0, 0], [0, 0, 0, 0, 0, 0, 0, 0, 0, 0, 0, 0, 0, 0, 0, 0, 0, 0, 0, 0, 0, 0, 0, 0, 0, 0, 0, 0, 0, 0, 0, 0, 0, 0, 0, 0, 0, 0, 0, 0, 0, 0, 0, 0, 0, 0, 0, 0, 0, 0, 0, 0, 0, 0, 0, 0, 0, 0, 0, 0, 0, 0, 0, 0]], size: 5000 }"
      ]
     },
     "execution_count": 6,
     "metadata": {},
     "output_type": "execute_result"
    }
   ],
   "source": [
    "v.set(0, true);\n",
    "v.set(1, true);\n",
    "v.set(2, true);\n",
    "v.set(64, true);\n",
    "v.set(64*2, true);\n",
    "v.set(64*3, true);\n",
    "v"
   ]
  },
  {
   "cell_type": "code",
   "execution_count": 7,
   "id": "851abb4e-8801-42cf-a625-1880fc269d21",
   "metadata": {},
   "outputs": [
    {
     "data": {
      "text/plain": [
       "(true, false)"
      ]
     },
     "execution_count": 7,
     "metadata": {},
     "output_type": "execute_result"
    }
   ],
   "source": [
    "([v.check(0), v.check(2)].iter().fold(true, |a,b|a&b), [v.check(2), v.check(20)].iter().fold(true, |a,b|a&b))"
   ]
  },
  {
   "cell_type": "code",
   "execution_count": 8,
   "id": "163b9637-fd3b-4641-bfd5-5a211ccbd20f",
   "metadata": {},
   "outputs": [
    {
     "data": {
      "text/plain": [
       "(true, false)"
      ]
     },
     "execution_count": 8,
     "metadata": {},
     "output_type": "execute_result"
    }
   ],
   "source": [
    "(v.check_multi(&[0, 2]), v.check_multi(&[2, 20]))"
   ]
  },
  {
   "cell_type": "code",
   "execution_count": 9,
   "id": "d880b355-c34a-4cc0-8dc1-7fecb02dd0c5",
   "metadata": {},
   "outputs": [
    {
     "data": {
      "text/plain": [
       "(true, false)"
      ]
     },
     "execution_count": 9,
     "metadata": {},
     "output_type": "execute_result"
    }
   ],
   "source": [
    "(v.check_multi_v2(&[0, 2]), v.check_multi_v2(&[2, 20]))"
   ]
  },
  {
   "cell_type": "markdown",
   "id": "494def86-d4ae-403e-bbad-7084462b4217",
   "metadata": {},
   "source": [
    "---\n",
    "## No clue how to use __m512i:"
   ]
  },
  {
   "cell_type": "code",
   "execution_count": 10,
   "id": "ef3b98a2-8c72-4437-9805-b66d26179f66",
   "metadata": {},
   "outputs": [],
   "source": [
    "#![feature(stdsimd)]\n",
    "use std::arch::x86_64::{__m512i, _mm512_and_epi64};"
   ]
  },
  {
   "cell_type": "code",
   "execution_count": 11,
   "id": "77b5a065-a299-4bd7-b394-d17c45f2d6b6",
   "metadata": {},
   "outputs": [
    {
     "data": {
      "text/plain": [
       "(__m512i(0, 1, 1, 2, 2, 3, 3, 4), __m512i(0, 1, 2, 3, 4, 5, 6, 7))"
      ]
     },
     "execution_count": 11,
     "metadata": {},
     "output_type": "execute_result"
    }
   ],
   "source": [
    "let a = __m512i::from(u64x8::from([0u64, 1, 1, 2, 2, 3, 3, 4]));\n",
    "let b = __m512i::from(u64x8::from([0u64, 1, 2, 3, 4, 5, 6, 7]));\n",
    "(a, b)"
   ]
  },
  {
   "cell_type": "code",
   "execution_count": 12,
   "id": "d7d8260f-a645-4dae-812e-cba40c6da7be",
   "metadata": {},
   "outputs": [
    {
     "ename": "Error",
     "evalue": "the target feature `avx512f` is currently unstable",
     "output_type": "error",
     "traceback": [
      "\u001b[31m[E0658] Error:\u001b[0m the target feature `avx512f` is currently unstable",
      "   \u001b[38;5;246m╭\u001b[0m\u001b[38;5;246m─\u001b[0m\u001b[38;5;246m[\u001b[0mcommand_12:1:1\u001b[38;5;246m]\u001b[0m",
      "   \u001b[38;5;246m│\u001b[0m",
      " \u001b[38;5;246m2 │\u001b[0m \u001b[38;5;249m#\u001b[0m\u001b[38;5;249m[\u001b[0m\u001b[38;5;249mt\u001b[0m\u001b[38;5;249ma\u001b[0m\u001b[38;5;249mr\u001b[0m\u001b[38;5;249mg\u001b[0m\u001b[38;5;249me\u001b[0m\u001b[38;5;249mt\u001b[0m\u001b[38;5;249m_\u001b[0m\u001b[38;5;249mf\u001b[0m\u001b[38;5;249me\u001b[0m\u001b[38;5;249ma\u001b[0m\u001b[38;5;249mt\u001b[0m\u001b[38;5;249mu\u001b[0m\u001b[38;5;249mr\u001b[0m\u001b[38;5;249me\u001b[0m\u001b[38;5;249m(\u001b[0m\u001b[38;5;54me\u001b[0m\u001b[38;5;54mn\u001b[0m\u001b[38;5;54ma\u001b[0m\u001b[38;5;54mb\u001b[0m\u001b[38;5;54ml\u001b[0m\u001b[38;5;54me\u001b[0m\u001b[38;5;54m \u001b[0m\u001b[38;5;54m=\u001b[0m\u001b[38;5;54m \u001b[0m\u001b[38;5;54m\"\u001b[0m\u001b[38;5;54ma\u001b[0m\u001b[38;5;54mv\u001b[0m\u001b[38;5;54mx\u001b[0m\u001b[38;5;54m5\u001b[0m\u001b[38;5;54m1\u001b[0m\u001b[38;5;54m2\u001b[0m\u001b[38;5;54mf\u001b[0m\u001b[38;5;54m\"\u001b[0m\u001b[38;5;249m)\u001b[0m\u001b[38;5;249m]\u001b[0m",
      " \u001b[38;5;240m  │\u001b[0m                  \u001b[38;5;54m─\u001b[0m\u001b[38;5;54m─\u001b[0m\u001b[38;5;54m─\u001b[0m\u001b[38;5;54m─\u001b[0m\u001b[38;5;54m─\u001b[0m\u001b[38;5;54m─\u001b[0m\u001b[38;5;54m─\u001b[0m\u001b[38;5;54m─\u001b[0m\u001b[38;5;54m─\u001b[0m\u001b[38;5;54m┬\u001b[0m\u001b[38;5;54m─\u001b[0m\u001b[38;5;54m─\u001b[0m\u001b[38;5;54m─\u001b[0m\u001b[38;5;54m─\u001b[0m\u001b[38;5;54m─\u001b[0m\u001b[38;5;54m─\u001b[0m\u001b[38;5;54m─\u001b[0m\u001b[38;5;54m─\u001b[0m  ",
      " \u001b[38;5;240m  │\u001b[0m                           \u001b[38;5;54m╰\u001b[0m\u001b[38;5;54m─\u001b[0m\u001b[38;5;54m─\u001b[0m\u001b[38;5;54m─\u001b[0m\u001b[38;5;54m─\u001b[0m\u001b[38;5;54m─\u001b[0m\u001b[38;5;54m─\u001b[0m\u001b[38;5;54m─\u001b[0m\u001b[38;5;54m─\u001b[0m\u001b[38;5;54m─\u001b[0m\u001b[38;5;54m─\u001b[0m error: the target feature `avx512f` is currently unstable",
      "\u001b[38;5;246m───╯\u001b[0m"
     ]
    }
   ],
   "source": [
    "// Jupyter may not be down with this?\n",
    "#[target_feature(enable = \"avx512f\")]\n",
    "unsafe fn doit(a: __m512i, b: __m512i) -> __m512i {\n",
    "    unsafe { _mm512_and_epi64(a, b) }\n",
    "}"
   ]
  },
  {
   "cell_type": "code",
   "execution_count": null,
   "id": "8435e0d1-b308-4b2e-8fb8-d2ee7eb34fe3",
   "metadata": {},
   "outputs": [],
   "source": []
  }
 ],
 "metadata": {
  "kernelspec": {
   "display_name": "Rust",
   "language": "rust",
   "name": "rust"
  },
  "language_info": {
   "codemirror_mode": "rust",
   "file_extension": ".rs",
   "mimetype": "text/rust",
   "name": "Rust",
   "pygment_lexer": "rust",
   "version": ""
  }
 },
 "nbformat": 4,
 "nbformat_minor": 5
}
