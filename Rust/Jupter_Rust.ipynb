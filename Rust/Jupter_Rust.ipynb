{
 "cells": [
  {
   "cell_type": "markdown",
   "id": "e24a7cc5-0470-4b6b-9168-ec5d77f6caf4",
   "metadata": {},
   "source": [
    "# Jupyter Rust\n",
    "---"
   ]
  },
  {
   "cell_type": "code",
   "execution_count": 2,
   "id": "e5c68f96-327b-49fe-8c32-0cbe2e2b98bc",
   "metadata": {},
   "outputs": [],
   "source": [
    ":dep polars"
   ]
  },
  {
   "cell_type": "code",
   "execution_count": 30,
   "id": "ea62b59a-cb1e-4162-b7e2-58c06add4de3",
   "metadata": {},
   "outputs": [],
   "source": [
    "use polars::prelude::*;"
   ]
  },
  {
   "cell_type": "code",
   "execution_count": 22,
   "id": "f3418db0-936b-4200-95c4-41c63b87abb8",
   "metadata": {},
   "outputs": [],
   "source": [
    "let c1 = Series::new(\"x\", (1u64..=10).collect::<Vec<u64>>());"
   ]
  },
  {
   "cell_type": "code",
   "execution_count": 23,
   "id": "fef424eb-a6b9-4cdb-85af-0213bea08c2b",
   "metadata": {},
   "outputs": [],
   "source": [
    "let c2 = Series::new(\"y\", (1..=10).map(|x|(x as f64).sin()).collect::<Vec<f64>>());"
   ]
  },
  {
   "cell_type": "code",
   "execution_count": 24,
   "id": "71d48d8c-a369-4f2b-aec3-687b441b97ee",
   "metadata": {},
   "outputs": [],
   "source": [
    "let c3 = Series::new(\"z\", (1u64..=10).map(|x| format!(\"String_{}\", x+7)).collect::<Vec<String>>());"
   ]
  },
  {
   "cell_type": "code",
   "execution_count": 25,
   "id": "7f2209e3-e0f4-435f-8e7c-0c6a12c70ec0",
   "metadata": {},
   "outputs": [],
   "source": [
    "let df = DataFrame::new(vec![c1, c2, c3]).unwrap();"
   ]
  },
  {
   "cell_type": "code",
   "execution_count": 26,
   "id": "4d4c5231-a400-48d0-9c86-3de9e022692c",
   "metadata": {},
   "outputs": [
    {
     "data": {
      "text/plain": [
       "shape: (10, 3)\n",
       "┌─────┬───────────┬───────────┐\n",
       "│ x   ┆ y         ┆ z         │\n",
       "│ --- ┆ ---       ┆ ---       │\n",
       "│ u64 ┆ f64       ┆ str       │\n",
       "╞═════╪═══════════╪═══════════╡\n",
       "│ 1   ┆ 0.841471  ┆ String_8  │\n",
       "├╌╌╌╌╌┼╌╌╌╌╌╌╌╌╌╌╌┼╌╌╌╌╌╌╌╌╌╌╌┤\n",
       "│ 2   ┆ 0.909297  ┆ String_9  │\n",
       "├╌╌╌╌╌┼╌╌╌╌╌╌╌╌╌╌╌┼╌╌╌╌╌╌╌╌╌╌╌┤\n",
       "│ 3   ┆ 0.14112   ┆ String_10 │\n",
       "├╌╌╌╌╌┼╌╌╌╌╌╌╌╌╌╌╌┼╌╌╌╌╌╌╌╌╌╌╌┤\n",
       "│ 4   ┆ -0.756802 ┆ String_11 │\n",
       "├╌╌╌╌╌┼╌╌╌╌╌╌╌╌╌╌╌┼╌╌╌╌╌╌╌╌╌╌╌┤\n",
       "│ ... ┆ ...       ┆ ...       │\n",
       "├╌╌╌╌╌┼╌╌╌╌╌╌╌╌╌╌╌┼╌╌╌╌╌╌╌╌╌╌╌┤\n",
       "│ 7   ┆ 0.656987  ┆ String_14 │\n",
       "├╌╌╌╌╌┼╌╌╌╌╌╌╌╌╌╌╌┼╌╌╌╌╌╌╌╌╌╌╌┤\n",
       "│ 8   ┆ 0.989358  ┆ String_15 │\n",
       "├╌╌╌╌╌┼╌╌╌╌╌╌╌╌╌╌╌┼╌╌╌╌╌╌╌╌╌╌╌┤\n",
       "│ 9   ┆ 0.412118  ┆ String_16 │\n",
       "├╌╌╌╌╌┼╌╌╌╌╌╌╌╌╌╌╌┼╌╌╌╌╌╌╌╌╌╌╌┤\n",
       "│ 10  ┆ -0.544021 ┆ String_17 │\n",
       "└─────┴───────────┴───────────┘"
      ]
     },
     "execution_count": 26,
     "metadata": {},
     "output_type": "execute_result"
    }
   ],
   "source": [
    "df"
   ]
  },
  {
   "cell_type": "code",
   "execution_count": 31,
   "id": "2748b3fb-9191-4808-89bd-5981b105d77d",
   "metadata": {},
   "outputs": [
    {
     "ename": "Error",
     "evalue": "cannot find function `col` in this scope",
     "output_type": "error",
     "traceback": [
      "\u001b[31m[E0425] Error:\u001b[0m cannot find function `col` in this scope",
      "   \u001b[38;5;246m╭\u001b[0m\u001b[38;5;246m─\u001b[0m\u001b[38;5;246m[\u001b[0mcommand_31:1:1\u001b[38;5;246m]\u001b[0m",
      "   \u001b[38;5;246m│\u001b[0m",
      " \u001b[38;5;246m1 │\u001b[0m \u001b[38;5;249md\u001b[0m\u001b[38;5;249mf\u001b[0m\u001b[38;5;249m.\u001b[0m\u001b[38;5;249ms\u001b[0m\u001b[38;5;249me\u001b[0m\u001b[38;5;249ml\u001b[0m\u001b[38;5;249me\u001b[0m\u001b[38;5;249mc\u001b[0m\u001b[38;5;249mt\u001b[0m\u001b[38;5;249m(\u001b[0m\u001b[38;5;249m[\u001b[0m\u001b[38;5;54mc\u001b[0m\u001b[38;5;54mo\u001b[0m\u001b[38;5;54ml\u001b[0m\u001b[38;5;249m(\u001b[0m\u001b[38;5;249m\"\u001b[0m\u001b[38;5;249m*\u001b[0m\u001b[38;5;249m\"\u001b[0m\u001b[38;5;249m)\u001b[0m\u001b[38;5;249m]\u001b[0m\u001b[38;5;249m)\u001b[0m",
      " \u001b[38;5;246m  ·\u001b[0m            \u001b[38;5;54m─\u001b[0m\u001b[38;5;54m┬\u001b[0m\u001b[38;5;54m─\u001b[0m  ",
      " \u001b[38;5;246m  ·\u001b[0m             \u001b[38;5;54m╰\u001b[0m\u001b[38;5;54m─\u001b[0m\u001b[38;5;54m─\u001b[0m\u001b[38;5;54m─\u001b[0m not found in this scope",
      "\u001b[38;5;246m───╯\u001b[0m"
     ]
    }
   ],
   "source": [
    "df.select([col(\"*\")])"
   ]
  },
  {
   "cell_type": "code",
   "execution_count": 32,
   "id": "67f3f786-40bf-469a-8d68-ee6fb570bb5b",
   "metadata": {},
   "outputs": [
    {
     "ename": "Error",
     "evalue": "no method named `row` found for struct `polars::prelude::DataFrame` in the current scope",
     "output_type": "error",
     "traceback": [
      "\u001b[31m[E0599] Error:\u001b[0m no method named `row` found for struct `polars::prelude::DataFrame` in the current scope",
      "   \u001b[38;5;246m╭\u001b[0m\u001b[38;5;246m─\u001b[0m\u001b[38;5;246m[\u001b[0mcommand_32:1:1\u001b[38;5;246m]\u001b[0m",
      "   \u001b[38;5;246m│\u001b[0m",
      " \u001b[38;5;246m1 │\u001b[0m \u001b[38;5;249md\u001b[0m\u001b[38;5;249mf\u001b[0m\u001b[38;5;249m.\u001b[0m\u001b[38;5;54mr\u001b[0m\u001b[38;5;54mo\u001b[0m\u001b[38;5;54mw\u001b[0m\u001b[38;5;249m(\u001b[0m\u001b[38;5;249m1\u001b[0m\u001b[38;5;249m)\u001b[0m",
      " \u001b[38;5;246m  ·\u001b[0m    \u001b[38;5;54m─\u001b[0m\u001b[38;5;54m┬\u001b[0m\u001b[38;5;54m─\u001b[0m  ",
      " \u001b[38;5;246m  ·\u001b[0m     \u001b[38;5;54m╰\u001b[0m\u001b[38;5;54m─\u001b[0m\u001b[38;5;54m─\u001b[0m\u001b[38;5;54m─\u001b[0m method not found in `polars::prelude::DataFrame`",
      "\u001b[38;5;246m───╯\u001b[0m"
     ]
    }
   ],
   "source": [
    "df.row(1)"
   ]
  },
  {
   "cell_type": "code",
   "execution_count": 34,
   "id": "39ca8872-3f62-46be-a5b5-6c3e83ada3b0",
   "metadata": {},
   "outputs": [
    {
     "data": {
      "text/plain": [
       "shape: (4, 3)\n",
       "┌─────┬───────────┬───────────┐\n",
       "│ x   ┆ y         ┆ z         │\n",
       "│ --- ┆ ---       ┆ ---       │\n",
       "│ u64 ┆ f64       ┆ str       │\n",
       "╞═════╪═══════════╪═══════════╡\n",
       "│ 1   ┆ 0.841471  ┆ String_8  │\n",
       "├╌╌╌╌╌┼╌╌╌╌╌╌╌╌╌╌╌┼╌╌╌╌╌╌╌╌╌╌╌┤\n",
       "│ 2   ┆ 0.909297  ┆ String_9  │\n",
       "├╌╌╌╌╌┼╌╌╌╌╌╌╌╌╌╌╌┼╌╌╌╌╌╌╌╌╌╌╌┤\n",
       "│ 3   ┆ 0.14112   ┆ String_10 │\n",
       "├╌╌╌╌╌┼╌╌╌╌╌╌╌╌╌╌╌┼╌╌╌╌╌╌╌╌╌╌╌┤\n",
       "│ 4   ┆ -0.756802 ┆ String_11 │\n",
       "└─────┴───────────┴───────────┘"
      ]
     },
     "execution_count": 34,
     "metadata": {},
     "output_type": "execute_result"
    }
   ],
   "source": [
    "df.head(Some(4))"
   ]
  },
  {
   "cell_type": "code",
   "execution_count": null,
   "id": "d9acc4ef-b9f3-49d0-a5ee-dfe5af0c7324",
   "metadata": {},
   "outputs": [],
   "source": []
  }
 ],
 "metadata": {
  "kernelspec": {
   "display_name": "Rust",
   "language": "rust",
   "name": "rust"
  },
  "language_info": {
   "codemirror_mode": "rust",
   "file_extension": ".rs",
   "mimetype": "text/rust",
   "name": "Rust",
   "pygment_lexer": "rust",
   "version": ""
  }
 },
 "nbformat": 4,
 "nbformat_minor": 5
}
