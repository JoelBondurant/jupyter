{
 "cells": [
  {
   "cell_type": "markdown",
   "id": "d2d83532-e053-4b6e-89fb-ea3999dbd971",
   "metadata": {},
   "source": [
    "## ArrowFrame\n",
    "---"
   ]
  },
  {
   "cell_type": "code",
   "execution_count": 2,
   "id": "04a2f2e5-0e0d-40a8-a96e-db7ccaec371b",
   "metadata": {},
   "outputs": [],
   "source": [
    ":dep arrow"
   ]
  },
  {
   "cell_type": "code",
   "execution_count": 3,
   "id": "2e2843d5-1dca-4aa4-8a0b-1addda6aae40",
   "metadata": {},
   "outputs": [],
   "source": [
    "use std::sync::Arc;\n",
    "use arrow::array::{ArrayRef, Int64Array, PrimitiveArray, UInt64Array, Float64Array, StringArray};\n",
    "use arrow::datatypes::DataType;"
   ]
  },
  {
   "cell_type": "code",
   "execution_count": 4,
   "id": "deafad5f-5a20-41f7-aad8-24a7eef948d7",
   "metadata": {},
   "outputs": [],
   "source": [
    "#[derive(Debug)]\n",
    "struct DataFrame {\n",
    "    pub cols: Vec<ArrayRef>,\n",
    "}"
   ]
  },
  {
   "cell_type": "code",
   "execution_count": 5,
   "id": "7b0e3a2d-f3ba-41d6-8d61-acfcc19a2a85",
   "metadata": {},
   "outputs": [],
   "source": [
    "let mut df = DataFrame { cols: Vec::new() };"
   ]
  },
  {
   "cell_type": "code",
   "execution_count": 6,
   "id": "519871bc-e10d-4fb8-b848-2ea962358f45",
   "metadata": {},
   "outputs": [],
   "source": [
    "let c1: ArrayRef = Arc::new(Int64Array::from(vec![-777, 2]));\n",
    "let c2: ArrayRef = Arc::new(UInt64Array::from(vec![888, 2]));\n",
    "let c3: ArrayRef = Arc::new(Float64Array::from(vec![1.1, 2.2]));\n",
    "let c4: ArrayRef = Arc::new(StringArray::from(vec![\"cat\", \"dog\"]));"
   ]
  },
  {
   "cell_type": "code",
   "execution_count": 7,
   "id": "f218340b-7e0c-41be-99f7-08ca261fb869",
   "metadata": {},
   "outputs": [
    {
     "data": {
      "text/plain": [
       "DataFrame { cols: [PrimitiveArray<Int64>\n",
       "[\n",
       "  -777,\n",
       "  2,\n",
       "], PrimitiveArray<UInt64>\n",
       "[\n",
       "  888,\n",
       "  2,\n",
       "], PrimitiveArray<Float64>\n",
       "[\n",
       "  1.1,\n",
       "  2.2,\n",
       "], StringArray\n",
       "[\n",
       "  \"cat\",\n",
       "  \"dog\",\n",
       "]] }"
      ]
     },
     "execution_count": 7,
     "metadata": {},
     "output_type": "execute_result"
    }
   ],
   "source": [
    "df.cols.push(c1);\n",
    "df.cols.push(c2);\n",
    "df.cols.push(c3);\n",
    "df.cols.push(c4);\n",
    "df"
   ]
  },
  {
   "cell_type": "code",
   "execution_count": 8,
   "id": "2a8dde86-4875-4702-a557-7b38214db34d",
   "metadata": {},
   "outputs": [
    {
     "data": {
      "text/plain": [
       "PrimitiveArray<Int64>\n",
       "[\n",
       "  -777,\n",
       "  2,\n",
       "]"
      ]
     },
     "execution_count": 8,
     "metadata": {},
     "output_type": "execute_result"
    }
   ],
   "source": [
    "df.cols[0]"
   ]
  },
  {
   "cell_type": "code",
   "execution_count": 9,
   "id": "e6d6520e-917b-4edf-9d55-c0663bf7d4ca",
   "metadata": {},
   "outputs": [
    {
     "data": {
      "text/plain": [
       "[PrimitiveArray<Int64>\n",
       "[\n",
       "  -777,\n",
       "  2,\n",
       "], PrimitiveArray<UInt64>\n",
       "[\n",
       "  888,\n",
       "  2,\n",
       "]]"
      ]
     },
     "execution_count": 9,
     "metadata": {},
     "output_type": "execute_result"
    }
   ],
   "source": [
    "df.cols[..2]"
   ]
  },
  {
   "cell_type": "code",
   "execution_count": 10,
   "id": "c81fda74-e0ff-4c6a-9a66-667b47b8264f",
   "metadata": {},
   "outputs": [
    {
     "data": {
      "text/plain": [
       "Int64"
      ]
     },
     "execution_count": 10,
     "metadata": {},
     "output_type": "execute_result"
    }
   ],
   "source": [
    "df.cols[0].data_type()"
   ]
  },
  {
   "cell_type": "code",
   "execution_count": 11,
   "id": "d0535555-f3c8-475a-8420-23035c825434",
   "metadata": {},
   "outputs": [
    {
     "data": {
      "text/plain": [
       "-777"
      ]
     },
     "execution_count": 11,
     "metadata": {},
     "output_type": "execute_result"
    }
   ],
   "source": [
    "df.cols[0].as_any().downcast_ref::<Int64Array>().unwrap().value(0) // Karen indexing."
   ]
  },
  {
   "cell_type": "code",
   "execution_count": null,
   "id": "3bffe9e2-ecc1-4808-a8a2-a98c6bc7ee69",
   "metadata": {},
   "outputs": [],
   "source": []
  }
 ],
 "metadata": {
  "kernelspec": {
   "display_name": "Rust",
   "language": "rust",
   "name": "rust"
  },
  "language_info": {
   "codemirror_mode": "rust",
   "file_extension": ".rs",
   "mimetype": "text/rust",
   "name": "Rust",
   "pygment_lexer": "rust",
   "version": ""
  }
 },
 "nbformat": 4,
 "nbformat_minor": 5
}
