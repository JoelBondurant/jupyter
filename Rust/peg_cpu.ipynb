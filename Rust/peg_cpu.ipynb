{
 "cells": [
  {
   "cell_type": "markdown",
   "id": "25bf4c8a-4ef5-4a42-a3bd-9bbdfcc6ec3e",
   "metadata": {},
   "source": [
    "## Peg CPU\n",
    "---"
   ]
  },
  {
   "cell_type": "code",
   "execution_count": 2,
   "id": "8d443429-6cd3-43b4-a5cb-83e177afa94f",
   "metadata": {},
   "outputs": [],
   "source": [
    "use std::thread;"
   ]
  },
  {
   "cell_type": "code",
   "execution_count": 3,
   "id": "07328e38-106f-4e54-8255-cfc0f81fecb6",
   "metadata": {},
   "outputs": [
    {
     "data": {
      "text/plain": [
       "24"
      ]
     },
     "execution_count": 3,
     "metadata": {},
     "output_type": "execute_result"
    }
   ],
   "source": [
    "// Pegging an Intel® Core™ i9-12900.\n",
    "let thread_count = usize::from(thread::available_parallelism().unwrap());\n",
    "thread_count"
   ]
  },
  {
   "cell_type": "code",
   "execution_count": 4,
   "id": "1907f343-05bf-413d-bc8f-7a6bc0db9ed3",
   "metadata": {},
   "outputs": [],
   "source": [
    "let mut tv = vec![];\n",
    "let M = 1024*1024;\n",
    "for n in 0..thread_count {\n",
    "    let mut a = (0..888).into_iter().cycle().take(M).map(|x|x as f64).collect::<Vec<_>>();\n",
    "    let th = thread::spawn(move || {\n",
    "        for _ in 0..10000 {\n",
    "            let a_n = a[n];\n",
    "            let a_tot = a.iter().sum::<f64>();\n",
    "            if a_n > a_tot/2.0 {\n",
    "                a[n] -= 0.94;\n",
    "            } else {\n",
    "                a[n] += 1.11;\n",
    "            }\n",
    "        }\n",
    "    });\n",
    "    tv.push(th);\n",
    "};\n",
    "for th in tv {\n",
    "    th.join().unwrap();\n",
    "};"
   ]
  },
  {
   "cell_type": "code",
   "execution_count": null,
   "id": "b8e9b778-18e7-48c5-ac7e-0624c474b45c",
   "metadata": {},
   "outputs": [],
   "source": []
  }
 ],
 "metadata": {
  "kernelspec": {
   "display_name": "Rust",
   "language": "rust",
   "name": "rust"
  },
  "language_info": {
   "codemirror_mode": "rust",
   "file_extension": ".rs",
   "mimetype": "text/rust",
   "name": "Rust",
   "pygment_lexer": "rust",
   "version": ""
  }
 },
 "nbformat": 4,
 "nbformat_minor": 5
}
