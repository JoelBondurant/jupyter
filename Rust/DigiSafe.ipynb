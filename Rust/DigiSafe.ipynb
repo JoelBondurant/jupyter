{
 "cells": [
  {
   "cell_type": "markdown",
   "id": "343f8d52-ccc5-4123-8b09-64abda3955a4",
   "metadata": {},
   "source": [
    "## DigiSafe\n",
    "---"
   ]
  },
  {
   "cell_type": "code",
   "execution_count": 2,
   "id": "1d82aea1-3a18-4499-8aac-12e2fff882c1",
   "metadata": {},
   "outputs": [
    {
     "data": {
      "text/plain": [
       "cache: 1000 MiB\n"
      ]
     },
     "execution_count": 2,
     "metadata": {},
     "output_type": "execute_result"
    }
   ],
   "source": [
    ":cache 1000\n",
    ":dep apache-avro\n",
    ":dep argon2\n",
    ":dep base64ct = { features = [\"alloc\"] }\n",
    ":dep chacha20poly1305\n",
    ":dep getrandom\n",
    ":dep lz4\n",
    ":dep reed-solomon\n",
    ":dep serde = { features = [\"derive\"] }\n",
    ":dep sha3"
   ]
  },
  {
   "cell_type": "code",
   "execution_count": 3,
   "id": "36a156df-7c9c-4795-9182-809059d89091",
   "metadata": {},
   "outputs": [],
   "source": [
    "pub mod Database {\n",
    "\n",
    "    // Database<Unlocked> <-> Avro <-> LZ4 <-> ChaCha20Poly1305 <-> Base64 <-> Database<Locked>\n",
    "    // Database<Locked> -> Avro -> Reed-Solomon -> Vec<u8> -> name.digisafe\n",
    "\n",
    "    use serde::{Deserialize, Serialize};\n",
    "    use std::collections::HashMap;\n",
    "    use std::io::{Read, Write};\n",
    "\n",
    "    pub fn hash_lite(msg: &Vec<u8>) -> Vec<u8> {\n",
    "        use sha3::{Digest, Sha3_256};\n",
    "        Sha3_256::digest(Sha3_256::digest(msg)).to_vec()\n",
    "    }\n",
    "\n",
    "    pub fn hash_heavy(msg: String) -> Vec<u8> {\n",
    "        use argon2::{Algorithm, Argon2, ParamsBuilder, password_hash::{PasswordHasher, SaltString}, Version};\n",
    "        let lite_hash = hash_lite(&msg.into());\n",
    "        let params = ParamsBuilder::new().m_cost(2u32.pow(20)).t_cost(2).p_cost(8).output_len(32).build().unwrap();\n",
    "        let hasher = Argon2::new(Algorithm::Argon2id, Version::V0x13, params);\n",
    "        let salt = SaltString::encode_b64(b\"digisafe\").unwrap();\n",
    "        let heavy_hash = hasher.hash_password(&lite_hash, &salt).unwrap().hash.unwrap().as_bytes().to_owned();\n",
    "        hash_lite(&heavy_hash)\n",
    "    }\n",
    "\n",
    "    pub fn to_base64(msg: &Vec<u8>) -> String {\n",
    "        use base64ct::{Base64, Encoding};\n",
    "        Base64::encode_string(msg)\n",
    "    }\n",
    "\n",
    "    pub fn from_base64(msg_enc: &String) -> Vec<u8> {\n",
    "        use base64ct::{Base64, Encoding};\n",
    "        Base64::decode_vec(&msg_enc).unwrap()\n",
    "    }\n",
    "\n",
    "    pub fn compress(msg: Vec<u8>) -> Vec<u8> {\n",
    "        use lz4::{Decoder, EncoderBuilder};\n",
    "        let mut encoder = EncoderBuilder::new().level(9).build(vec![]).unwrap();\n",
    "        encoder.write(&msg[..]);\n",
    "        encoder.finish().0\n",
    "    }\n",
    "\n",
    "    pub fn decompress(msg_enc: Vec<u8>) -> Vec<u8> {\n",
    "        use lz4::Decoder;\n",
    "        let mut msg = vec![];\n",
    "        {\n",
    "            let mut decoder = Decoder::new(&msg_enc[..]).unwrap();\n",
    "            std::io::copy(&mut decoder, &mut msg);\n",
    "        }\n",
    "        msg\n",
    "    }\n",
    "    \n",
    "    pub fn encrypt(msg: Vec<u8>, key: Vec<u8>, nonce: Vec<u8>) -> Vec<u8> {\n",
    "        use chacha20poly1305::{aead::{Aead, KeyInit}, XChaCha20Poly1305};\n",
    "        let key: [u8; 32] = key.try_into().unwrap();\n",
    "        let nonce: [u8; 24] = nonce.try_into().unwrap();\n",
    "        let cipher = XChaCha20Poly1305::new(&key.into());\n",
    "        cipher.encrypt(&nonce.into(), &msg[..]).unwrap()\n",
    "    }\n",
    "\n",
    "    pub fn decrypt(msg_enc: Vec<u8>, key: Vec<u8>, nonce: Vec<u8>) -> Option<Vec<u8>> {\n",
    "        use chacha20poly1305::{aead::{Aead, KeyInit}, XChaCha20Poly1305};\n",
    "        let key: [u8; 32] = key.try_into().unwrap();\n",
    "        let nonce: [u8; 24] = nonce.try_into().unwrap();\n",
    "        let cipher = XChaCha20Poly1305::new(&key.into());\n",
    "        if let Ok(msg) = cipher.decrypt(&nonce.into(), msg_enc.as_ref()) {\n",
    "            Some(msg)\n",
    "        } else {\n",
    "            None\n",
    "        }\n",
    "    }\n",
    "\n",
    "    fn to_ecc_batch(dat: Vec<u8>) -> Vec<u8> {\n",
    "        use reed_solomon::Encoder;\n",
    "        let enc = Encoder::new(8);\n",
    "        Vec::from(&enc.encode(&dat[..])[..])\n",
    "    }\n",
    "\n",
    "    fn from_ecc_batch(dat_enc: Vec<u8>) -> Vec<u8> {\n",
    "        use reed_solomon::Decoder;\n",
    "        let dec = Decoder::new(8);\n",
    "        dec.correct(&dat_enc[..], None).unwrap().data().to_owned()\n",
    "    }\n",
    "\n",
    "    fn to_ecc(dat: Vec<u8>) -> Vec<u8> {\n",
    "        let dat_len = dat.len();\n",
    "        let batch_size = 247usize;\n",
    "        let batches = ((dat_len as f64)/(batch_size as f64)).ceil() as usize;\n",
    "        let mut dat_enc = Vec::<u8>::with_capacity(dat_len + 8*batches);\n",
    "        let mut a = 0usize;\n",
    "        for _ in 0..batches {\n",
    "            let b = std::cmp::min(a + batch_size, dat_len);\n",
    "            let dat_slice = &dat[a..b];\n",
    "            let enc_dat_slice = to_ecc_batch(dat_slice.to_vec());\n",
    "            dat_enc.extend_from_slice(&enc_dat_slice[..]);\n",
    "            a += batch_size;\n",
    "            a = std::cmp::min(a, dat_len);\n",
    "        }\n",
    "        dat_enc\n",
    "    }\n",
    "\n",
    "    fn from_ecc(dat_enc: Vec<u8>) -> Vec<u8> {\n",
    "        let dat_enc_len = dat_enc.len();\n",
    "        let batch_size = 255usize;\n",
    "        let batches = ((dat_enc_len as f64)/(batch_size as f64)).ceil() as usize;\n",
    "        let mut dat = Vec::<u8>::with_capacity(dat_enc_len - 8*batches);\n",
    "        let mut a = 0usize;\n",
    "        for _ in 0..batches {\n",
    "            let b = std::cmp::min(a + batch_size, dat_enc_len);\n",
    "            let dat_enc_slice = &dat_enc[a..b];\n",
    "            let dat_slice = from_ecc_batch(dat_enc_slice.to_vec());\n",
    "            dat.extend_from_slice(&dat_slice[..]);\n",
    "            a += batch_size;\n",
    "            a = std::cmp::min(a, dat_enc_len);\n",
    "        }\n",
    "        dat\n",
    "    }\n",
    "\n",
    "    const unlocked_schema_raw: &str = r#\"\n",
    "    {\n",
    "        \"type\": \"record\",\n",
    "        \"name\": \"unlocked\",\n",
    "        \"fields\": [\n",
    "            {\"name\": \"db\", \"type\": {\"type\": \"map\", \"values\": \"string\"}},\n",
    "            {\"name\": \"info\", \"type\": {\"type\": \"map\", \"values\": \"string\"}}\n",
    "        ]\n",
    "    }\n",
    "    \"#;\n",
    "\n",
    "    #[derive(Debug, Deserialize, Serialize)]\n",
    "    pub struct AvroUnlocked {\n",
    "        db: HashMap<String, String>,\n",
    "        info: HashMap<String, String>,\n",
    "    }\n",
    "    \n",
    "    const locked_schema_raw: &str = r#\"\n",
    "    {\n",
    "        \"type\": \"record\",\n",
    "        \"name\": \"locked\",\n",
    "        \"fields\": [\n",
    "            {\"name\": \"db\", \"type\": \"string\"},\n",
    "            {\"name\": \"info\", \"type\": {\"type\": \"map\", \"values\": \"string\"}}\n",
    "        ]\n",
    "    }\n",
    "    \"#;\n",
    "\n",
    "    #[derive(Debug, Deserialize, Serialize)]\n",
    "    pub struct AvroLocked {\n",
    "        db: String,\n",
    "        info: HashMap<String, String>,\n",
    "    }\n",
    "\n",
    "    #[derive(Default, Debug)]\n",
    "    pub struct Unlocked {\n",
    "        db: HashMap<String, String>,\n",
    "        info: HashMap<String, String>,\n",
    "        key: Vec<u8>,\n",
    "    }\n",
    "\n",
    "    #[derive(Debug, Default)]\n",
    "    pub struct Locked {\n",
    "        db: String,\n",
    "        info: HashMap<String, String>,\n",
    "    }\n",
    "\n",
    "\n",
    "    impl AvroUnlocked {\n",
    "        pub fn to_unlocked_struct(self, key: Vec<u8>) -> Unlocked {\n",
    "             Unlocked {\n",
    "                 db: self.db,\n",
    "                 info: self.info,\n",
    "                 key: key,\n",
    "             }\n",
    "        }\n",
    "    }\n",
    "\n",
    "    impl AvroLocked {\n",
    "        pub fn to_locked_struct(self) -> Locked {\n",
    "             Locked {\n",
    "                 db: self.db,\n",
    "                 info: self.info,\n",
    "             }\n",
    "        }\n",
    "    }\n",
    "    \n",
    "    impl Unlocked {\n",
    "        \n",
    "        pub fn new(key: impl Into<String>) -> Self {\n",
    "            let mut obj = Unlocked {\n",
    "                db: Default::default(),\n",
    "                info: Default::default(),\n",
    "                key: hash_heavy(key.into()),\n",
    "            };\n",
    "            let mut randy = [0u8; 32];\n",
    "            getrandom::getrandom(&mut randy);\n",
    "            obj.set_info(\"uid\", to_base64(&randy.to_vec()));\n",
    "            obj\n",
    "        }\n",
    "        \n",
    "        pub fn lock(self) -> Locked {\n",
    "            let cadb = compress(self.to_avro());\n",
    "            let nonce = hash_lite(&cadb)[..24].to_vec();\n",
    "            let mut info = HashMap::<String, String>::new();\n",
    "            info.extend(self.info);\n",
    "            info.insert(\"nonce\".into(), to_base64(&nonce));\n",
    "            let db = to_base64(&encrypt(cadb, self.key, nonce));\n",
    "            Locked {\n",
    "                db: db,\n",
    "                info: info,\n",
    "            }\n",
    "        }\n",
    "    \n",
    "        pub fn get(&self, akey: &String) -> Option<String> {\n",
    "            self.db.get(akey).cloned()\n",
    "        }\n",
    "    \n",
    "        \n",
    "        pub fn set(&mut self, akey: impl Into<String>, aval: impl Into<String>) {\n",
    "            self.db.insert(akey.into(), aval.into());\n",
    "        }\n",
    "    \n",
    "        pub fn get_info(&self, akey: &String) -> Option<String> {\n",
    "            self.info.get(akey).cloned()\n",
    "        }\n",
    "    \n",
    "        \n",
    "        pub fn set_info(&mut self, akey: impl Into<String>, aval: impl Into<String>) {\n",
    "            self.info.insert(akey.into(), aval.into());\n",
    "        }\n",
    "\n",
    "        pub fn merge(&mut self, other: Unlocked) {\n",
    "            self.db.extend(other.db);\n",
    "        }\n",
    "\n",
    "        pub fn to_avro_struct(&self) -> AvroUnlocked {\n",
    "            AvroUnlocked {\n",
    "                db: self.db.clone(),\n",
    "                info: self.info.clone(),\n",
    "            }\n",
    "        }\n",
    "\n",
    "        pub fn to_avro(&self) -> Vec<u8> {\n",
    "            use apache_avro::{to_value, Schema, Writer};\n",
    "            let schema = Schema::parse_str(unlocked_schema_raw).unwrap();\n",
    "            let mut writer = Writer::new(&schema, Vec::new());\n",
    "            writer.append(to_value(&self.to_avro_struct()).unwrap()).unwrap();\n",
    "            let avro_dat = writer.into_inner().unwrap();\n",
    "            avro_dat\n",
    "        }\n",
    "\n",
    "        pub fn from_avro(avro_dat: Vec<u8>, key: Vec<u8>) -> Unlocked {\n",
    "            use apache_avro::{from_value, Reader};\n",
    "            let reader = Reader::new(&avro_dat[..]).unwrap();\n",
    "            let db = from_value::<AvroUnlocked>(&reader.last().unwrap().unwrap()).unwrap();\n",
    "            db.to_unlocked_struct(key)\n",
    "        }\n",
    "    }\n",
    "\n",
    "    /*\n",
    "    impl std::fmt::Debug for Unlocked {\n",
    "        fn fmt(&self, objf: &mut std::fmt::Formatter) -> std::fmt::Result {\n",
    "            write!(objf, \"Database::Unlocked: {{ redacted }}\")\n",
    "        }\n",
    "    }\n",
    "\n",
    "    impl std::fmt::Debug for AvroUnlocked {\n",
    "        fn fmt(&self, objf: &mut std::fmt::Formatter) -> std::fmt::Result {\n",
    "            write!(objf, \"Database::Unlocked: {{ redacted }}\")\n",
    "        }\n",
    "    }\n",
    "    */\n",
    "\n",
    "    impl Locked {\n",
    "        \n",
    "        pub fn unlock(self, password: impl Into<String>) -> Option<Unlocked> {\n",
    "            let key = hash_heavy(password.into());\n",
    "            let nonce = from_base64(&self.info.get(\"nonce\").unwrap());\n",
    "            let cradb = decrypt(from_base64(&self.db), key.clone(), nonce);\n",
    "            if cradb.is_none() {\n",
    "                return None;\n",
    "            }\n",
    "            let radb = decompress(cradb.unwrap());\n",
    "            let db = Unlocked::from_avro(radb, key);\n",
    "            Some(db)\n",
    "        }\n",
    "\n",
    "        pub fn to_avro_struct(&self) -> AvroLocked {\n",
    "            AvroLocked {\n",
    "                db: self.db.clone(),\n",
    "                info: self.info.clone(),\n",
    "            }\n",
    "        }\n",
    "\n",
    "        pub fn to_avro(&self) -> Vec<u8> {\n",
    "            use apache_avro::{to_value, Schema, Writer};\n",
    "            let schema = Schema::parse_str(locked_schema_raw).unwrap();\n",
    "            let mut writer = Writer::new(&schema, Vec::new());\n",
    "            writer.append(to_value(&self.to_avro_struct()).unwrap()).unwrap();\n",
    "            let avro_dat = writer.into_inner().unwrap();\n",
    "            avro_dat\n",
    "        }\n",
    "\n",
    "        pub fn from_avro(avro_dat: Vec<u8>) -> Locked {\n",
    "            use apache_avro::{from_value, Reader};\n",
    "            let reader = Reader::new(&avro_dat[..]).unwrap();\n",
    "            let db = from_value::<AvroLocked>(&reader.last().unwrap().unwrap()).unwrap();\n",
    "            db.to_locked_struct()\n",
    "        }\n",
    "\n",
    "        pub fn to_vec(&self) -> Vec<u8> {\n",
    "            to_ecc(self.to_avro())\n",
    "        }\n",
    "\n",
    "        pub fn from_vec(dat_ecc: Vec<u8>) -> Locked {\n",
    "            let dat = from_ecc(dat_ecc);\n",
    "            Locked::from_avro(dat)\n",
    "        }\n",
    "\n",
    "    }\n",
    "\n",
    "}"
   ]
  },
  {
   "cell_type": "code",
   "execution_count": 4,
   "id": "4274ab46-e772-4f44-a75f-c763c7119384",
   "metadata": {},
   "outputs": [
    {
     "data": {
      "text/plain": [
       "Unlocked { db: {}, info: {\"uid\": \"zSTe0INvE0ev1nMH+J4LURNuwkjG9w1exVBUYo3AVZ8=\"}, key: [146, 251, 216, 195, 51, 10, 173, 46, 196, 91, 169, 181, 149, 93, 179, 66, 192, 91, 240, 175, 185, 222, 31, 183, 198, 99, 75, 154, 88, 8, 146, 245] }"
      ]
     },
     "execution_count": 4,
     "metadata": {},
     "output_type": "execute_result"
    }
   ],
   "source": [
    "let mut db = Database::Unlocked::new(\"test_key\");\n",
    "db"
   ]
  },
  {
   "cell_type": "code",
   "execution_count": 5,
   "id": "048445ab-e7fa-4e98-be31-9e3811d55688",
   "metadata": {},
   "outputs": [
    {
     "data": {
      "text/plain": [
       "Unlocked { db: {}, info: {\"name\": \"test_db\", \"uid\": \"zSTe0INvE0ev1nMH+J4LURNuwkjG9w1exVBUYo3AVZ8=\"}, key: [146, 251, 216, 195, 51, 10, 173, 46, 196, 91, 169, 181, 149, 93, 179, 66, 192, 91, 240, 175, 185, 222, 31, 183, 198, 99, 75, 154, 88, 8, 146, 245] }"
      ]
     },
     "execution_count": 5,
     "metadata": {},
     "output_type": "execute_result"
    }
   ],
   "source": [
    "db.set_info(\"name\", \"test_db\");\n",
    "db"
   ]
  },
  {
   "cell_type": "code",
   "execution_count": 6,
   "id": "78469334-4128-481f-95d6-dede856f1d0b",
   "metadata": {},
   "outputs": [
    {
     "data": {
      "text/plain": [
       "Unlocked { db: {\"k3\": \"v3\", \"k1\": \"v1\", \"k2\": \"v2\"}, info: {\"name\": \"test_db\", \"uid\": \"zSTe0INvE0ev1nMH+J4LURNuwkjG9w1exVBUYo3AVZ8=\"}, key: [146, 251, 216, 195, 51, 10, 173, 46, 196, 91, 169, 181, 149, 93, 179, 66, 192, 91, 240, 175, 185, 222, 31, 183, 198, 99, 75, 154, 88, 8, 146, 245] }"
      ]
     },
     "execution_count": 6,
     "metadata": {},
     "output_type": "execute_result"
    }
   ],
   "source": [
    "db.set(\"k1\", \"v1\");\n",
    "db.set(\"k2\", \"v2\");\n",
    "db.set(\"k3\", \"v3\");\n",
    "db"
   ]
  },
  {
   "cell_type": "code",
   "execution_count": 7,
   "id": "90e1a673-1641-4699-964e-b5ebed04c002",
   "metadata": {},
   "outputs": [
    {
     "data": {
      "text/plain": [
       "Locked { db: \"F90pTjzWPrjTjz9HcGnisi+LY9gIOBi2JsqR4VoXu1iagy8VDQUnsidsTh4WyXJJ0b7if41clgfuVvdeldzSKxryp9iihBdwl+exilAAJNFGw93qEPW39Y7tm4RpMtH37k+AU+7nKoBDRwUFfoKwVwzkLGzniclzd39bWRt3qsaCqZLOZsm1zdvdFBjLw+huHzZNpTxXn8gsRHFTGgQzVEp/nPv23F1RVK6tM7tiYVGpbFM49FT1lG5eoRlPN7mJ/ozOG1IcZSLDoniZvbINuU5a/ym3QTvT/LGvTQd5Nwtwt0/yXkCP77Iqul0/4Sq1gwSiJk/FqroNd+7bkukrFPUo315urGFurnTcoMv8t+u8eHVK2A==\", info: {\"name\": \"test_db\", \"uid\": \"zSTe0INvE0ev1nMH+J4LURNuwkjG9w1exVBUYo3AVZ8=\", \"nonce\": \"hb436MIp3KV85eTjSp6unRrh632XU6YD\"} }"
      ]
     },
     "execution_count": 7,
     "metadata": {},
     "output_type": "execute_result"
    }
   ],
   "source": [
    "let db = db.lock();\n",
    "db"
   ]
  },
  {
   "cell_type": "code",
   "execution_count": 8,
   "id": "9ce52657-8b65-4ef9-8f8f-f3815bd4691b",
   "metadata": {},
   "outputs": [
    {
     "data": {
      "text/plain": [
       "Unlocked { db: {\"k1\": \"v1\", \"k2\": \"v2\", \"k3\": \"v3\"}, info: {\"name\": \"test_db\", \"uid\": \"zSTe0INvE0ev1nMH+J4LURNuwkjG9w1exVBUYo3AVZ8=\"}, key: [146, 251, 216, 195, 51, 10, 173, 46, 196, 91, 169, 181, 149, 93, 179, 66, 192, 91, 240, 175, 185, 222, 31, 183, 198, 99, 75, 154, 88, 8, 146, 245] }"
      ]
     },
     "execution_count": 8,
     "metadata": {},
     "output_type": "execute_result"
    }
   ],
   "source": [
    "let db = db.unlock(\"test_key\").unwrap();\n",
    "db"
   ]
  },
  {
   "cell_type": "code",
   "execution_count": 9,
   "id": "0a96fdec-bf0b-4dca-ae66-4cff76780a48",
   "metadata": {},
   "outputs": [
    {
     "data": {
      "text/plain": [
       "Locked { db: \"SB7kLpfGw2uMYkwgYnS6G+wmIbUYgNAcfhF324rA9cS3IKs/x3dcJL9dM9LzOu1+7bLh/MXNKHj/ZQz/e+G4OkPUGvhNKNFJJYqWhkhwxroAKP4JvWgSBj+6CrAmUwiKVqLZrzYH47W+dZ1XFel0hnX0BjlES6Xy+Sj1YAyZ/XtnLVmiax0s4tS0mnaS/EvDGFXfthbG84helvg1Irf84nzTQzQt4/DRtSIs/a6rbgjga0fjacw0O76G0d33MUBGN8SQyUyaR7Kw9ACsUJFndrNZ8Jmyf3YtwpNK7YcJ2dJIq1R+UXRp09eiRXeaQlflbO0P+Zj+NsPrjVZmCbsiKw+EfOQKuhm0AGh0zaM+cJVAV2woDac0\", info: {\"nonce\": \"TFZBaj8yP5eYVjrAfMEqUW3iCzpuV4a1\", \"uid\": \"zSTe0INvE0ev1nMH+J4LURNuwkjG9w1exVBUYo3AVZ8=\", \"name\": \"test_db\"} }"
      ]
     },
     "execution_count": 9,
     "metadata": {},
     "output_type": "execute_result"
    }
   ],
   "source": [
    "let db = db.lock();\n",
    "db"
   ]
  },
  {
   "cell_type": "code",
   "execution_count": 10,
   "id": "472ca05d-ed10-4081-9bcf-a01c42e6f0e0",
   "metadata": {},
   "outputs": [
    {
     "data": {
      "text/plain": [
       "[79, 98, 106, 1, 4, 20, 97, 118, 114, 111, 46, 99, 111, 100, 101, 99, 8, 110, 117, 108, 108, 22, 97, 118, 114, 111, 46, 115, 99, 104, 101, 109, 97, 132, 2, 123, 34, 116, 121, 112, 101, 34, 58, 34, 114, 101, 99, 111, 114, 100, 34, 44, 34, 110, 97, 109, 101, 34, 58, 34, 108, 111, 99, 107, 101, 100, 34, 44, 34, 102, 105, 101, 108, 100, 115, 34, 58, 91, 123, 34, 110, 97, 109, 101, 34, 58, 34, 100, 98, 34, 44, 34, 116, 121, 112, 101, 34, 58, 34, 115, 116, 114, 105, 110, 103, 34, 125, 44, 123, 34, 110, 97, 109, 101, 34, 58, 34, 105, 110, 102, 111, 34, 44, 34, 116, 121, 112, 101, 34, 58, 123, 34, 116, 121, 112, 101, 34, 58, 34, 109, 97, 112, 34, 44, 34, 118, 97, 108, 117, 101, 115, 34, 58, 34, 115, 116, 114, 105, 110, 103, 34, 125, 125, 93, 125, 0, 69, 109, 160, 48, 23, 220, 59, 4, 202, 210, 188, 0, 216, 158, 247, 123, 2, 186, 7, 232, 5, 83, 66, 55, 107, 76, 112, 102, 71, 119, 50, 117, 77, 89, 107, 119, 103, 89, 110, 83, 54, 71, 43, 119, 109, 73, 98, 85, 89, 103, 78, 65, 99, 102, 104, 70, 51, 50, 52, 114, 65, 57, 99, 83, 51, 73, 75, 115, 47, 120, 51, 100, 99, 74, 76, 57, 100, 77, 57, 76, 122, 28, 173, 183, 70, 144, 159, 188, 16, 79, 117, 49, 43, 55, 98, 76, 104, 47, 77, 88, 78, 75, 72, 106, 47, 90, 81, 122, 47, 101, 43, 71, 52, 79, 107, 80, 85, 71, 118, 104, 78, 75, 78, 70, 74, 74, 89, 113, 87, 104, 107, 104, 119, 120, 114, 111, 65, 75, 80, 52, 74, 118, 87, 103, 83, 66, 106, 43, 54, 67, 114, 65, 109, 85, 119, 105, 75, 86, 113, 76, 90, 114, 122, 89, 72, 52, 55, 87, 43, 100, 90, 49, 88, 70, 101, 108, 48, 104, 110, 88, 48, 66, 106, 108, 69, 83, 54, 88, 121, 43, 83, 106, 49, 89, 65, 121, 90, 47, 88, 116, 110, 76, 86, 109, 105, 97, 120, 48, 115, 52, 116, 83, 48, 109, 110, 97, 83, 47, 69, 118, 68, 71, 70, 88, 102, 116, 104, 98, 71, 56, 52, 104, 101, 108, 118, 103, 49, 73, 114, 102, 56, 52, 110, 122, 84, 81, 122, 81, 116, 52, 47, 68, 82, 116, 83, 73, 115, 47, 97, 54, 114, 98, 103, 106, 103, 97, 48, 102, 106, 97, 99, 119, 48, 79, 55, 54, 71, 48, 100, 51, 51, 77, 85, 66, 71, 78, 56, 83, 81, 121, 85, 121, 97, 82, 55, 75, 119, 57, 65, 67, 115, 85, 74, 70, 110, 100, 114, 78, 90, 56, 74, 109, 121, 102, 51, 89, 116, 119, 112, 78, 75, 55, 89, 99, 74, 50, 100, 74, 73, 113, 49, 82, 43, 85, 88, 82, 154, 222, 110, 39, 41, 214, 94, 251, 112, 48, 57, 101, 105, 82, 88, 101, 97, 81, 108, 102, 108, 98, 79, 48, 80, 43, 90, 106, 43, 78, 115, 80, 114, 106, 86, 90, 109, 67, 98, 115, 105, 75, 119, 43, 69, 102, 79, 81, 75, 117, 104, 109, 48, 65, 71, 104, 48, 122, 97, 77, 43, 99, 74, 86, 65, 86, 50, 119, 111, 68, 97, 99, 48, 6, 10, 110, 111, 110, 99, 101, 64, 84, 70, 90, 66, 97, 106, 56, 121, 80, 53, 101, 89, 86, 106, 114, 65, 102, 77, 69, 113, 85, 87, 51, 105, 67, 122, 112, 117, 86, 52, 97, 49, 8, 110, 97, 109, 101, 14, 116, 101, 115, 116, 95, 100, 98, 6, 117, 105, 100, 88, 122, 83, 84, 101, 48, 73, 78, 118, 69, 48, 101, 118, 49, 110, 77, 72, 43, 74, 52, 76, 85, 82, 78, 117, 119, 107, 106, 71, 57, 119, 49, 101, 120, 86, 66, 85, 89, 111, 51, 65, 86, 90, 56, 61, 0, 69, 109, 160, 48, 23, 220, 59, 4, 202, 210, 188, 0, 216, 158, 247, 123, 25, 126, 84, 86, 198, 192, 10, 110]"
      ]
     },
     "execution_count": 10,
     "metadata": {},
     "output_type": "execute_result"
    }
   ],
   "source": [
    "let mut db_vec = db.to_vec();\n",
    "db_vec"
   ]
  },
  {
   "cell_type": "code",
   "execution_count": 11,
   "id": "2a6caadf-0c92-4a5f-aa94-14a9803cf393",
   "metadata": {},
   "outputs": [
    {
     "data": {
      "text/plain": [
       "[0, 98, 106, 1, 4, 20, 97, 118, 114, 111, 0, 99, 111, 100, 101, 99, 8, 110, 117, 108, 108, 22, 97, 118, 114, 111, 46, 115, 99, 104, 101, 109, 97, 132, 2, 123, 34, 116, 121, 112, 101, 34, 58, 34, 114, 101, 99, 111, 114, 100, 34, 44, 34, 110, 97, 109, 101, 34, 58, 34, 108, 111, 99, 107, 101, 100, 34, 44, 34, 102, 105, 101, 108, 100, 115, 34, 58, 91, 123, 34, 110, 97, 109, 101, 34, 58, 34, 100, 98, 34, 44, 34, 116, 121, 112, 101, 34, 58, 34, 115, 0, 114, 105, 110, 103, 34, 125, 44, 123, 34, 110, 97, 109, 101, 34, 58, 34, 105, 110, 102, 111, 34, 44, 34, 116, 121, 112, 101, 34, 58, 123, 34, 116, 121, 112, 101, 34, 58, 34, 109, 97, 112, 34, 44, 34, 118, 97, 108, 117, 101, 115, 34, 58, 34, 115, 116, 114, 105, 110, 103, 34, 125, 125, 93, 125, 0, 69, 109, 160, 48, 23, 220, 59, 4, 202, 210, 188, 0, 216, 158, 247, 123, 2, 186, 7, 232, 5, 83, 66, 55, 107, 76, 112, 102, 71, 119, 50, 117, 77, 89, 0, 119, 103, 89, 110, 83, 54, 71, 43, 119, 109, 73, 98, 85, 89, 103, 78, 65, 99, 102, 104, 70, 51, 50, 52, 114, 65, 57, 99, 83, 51, 73, 75, 115, 47, 120, 51, 100, 99, 74, 76, 57, 100, 77, 57, 76, 122, 28, 173, 183, 70, 144, 159, 188, 16, 79, 117, 49, 43, 55, 98, 76, 104, 47, 77, 88, 78, 75, 72, 106, 47, 90, 81, 122, 47, 101, 43, 71, 52, 79, 107, 80, 85, 71, 118, 104, 78, 75, 78, 70, 74, 74, 89, 113, 87, 104, 107, 104, 119, 120, 114, 111, 65, 75, 80, 52, 74, 118, 87, 103, 83, 66, 106, 43, 54, 67, 114, 65, 109, 85, 119, 105, 75, 86, 113, 76, 90, 114, 122, 89, 72, 52, 55, 87, 43, 100, 90, 49, 88, 70, 101, 108, 48, 104, 110, 88, 48, 66, 106, 108, 69, 83, 54, 88, 121, 43, 83, 106, 49, 89, 65, 121, 90, 47, 88, 116, 110, 76, 86, 109, 105, 97, 120, 48, 115, 52, 116, 83, 48, 109, 110, 97, 83, 47, 69, 118, 68, 71, 70, 88, 102, 116, 104, 98, 71, 56, 52, 104, 101, 108, 118, 103, 49, 73, 114, 102, 56, 52, 110, 122, 84, 81, 122, 81, 116, 52, 47, 68, 82, 116, 83, 73, 115, 47, 97, 54, 114, 98, 103, 106, 103, 97, 48, 102, 106, 97, 99, 119, 48, 79, 55, 54, 71, 48, 100, 51, 51, 77, 85, 66, 71, 78, 56, 83, 81, 121, 85, 121, 97, 82, 55, 75, 119, 57, 65, 67, 115, 85, 74, 70, 110, 100, 114, 78, 90, 56, 74, 109, 121, 102, 51, 89, 116, 119, 112, 78, 75, 55, 89, 99, 74, 50, 100, 74, 73, 113, 49, 82, 43, 85, 88, 82, 154, 222, 110, 39, 41, 214, 94, 251, 112, 48, 57, 101, 105, 82, 88, 101, 97, 81, 108, 102, 108, 98, 79, 48, 80, 43, 90, 106, 43, 78, 115, 80, 114, 106, 86, 90, 109, 67, 98, 115, 105, 75, 119, 43, 69, 102, 79, 81, 75, 117, 104, 109, 48, 65, 71, 104, 48, 122, 97, 77, 43, 99, 74, 86, 65, 86, 50, 119, 111, 68, 97, 99, 48, 6, 10, 110, 111, 110, 99, 101, 64, 84, 70, 90, 66, 97, 106, 56, 121, 80, 53, 101, 89, 86, 106, 114, 65, 102, 77, 69, 113, 85, 87, 51, 105, 67, 122, 112, 117, 86, 52, 97, 49, 8, 110, 97, 109, 101, 14, 116, 101, 115, 116, 95, 100, 98, 6, 117, 105, 100, 88, 122, 83, 84, 101, 48, 73, 78, 118, 69, 48, 101, 118, 49, 110, 77, 72, 43, 74, 52, 76, 85, 82, 78, 117, 119, 107, 106, 71, 57, 119, 49, 101, 120, 86, 66, 85, 89, 111, 51, 65, 86, 90, 56, 61, 0, 69, 109, 160, 48, 23, 220, 59, 4, 202, 210, 188, 0, 216, 158, 247, 123, 25, 126, 84, 86, 198, 192, 10, 110]"
      ]
     },
     "execution_count": 11,
     "metadata": {},
     "output_type": "execute_result"
    }
   ],
   "source": [
    "db_vec[0] = 0;\n",
    "db_vec[10] = 0;\n",
    "db_vec[100] = 0;\n",
    "db_vec[200] = 0;\n",
    "db_vec"
   ]
  },
  {
   "cell_type": "code",
   "execution_count": 12,
   "id": "fab2352e-37c1-4990-b0c0-fa9048a8045d",
   "metadata": {},
   "outputs": [
    {
     "data": {
      "text/plain": [
       "Locked { db: \"SB7kLpfGw2uMYkwgYnS6G+wmIbUYgNAcfhF324rA9cS3IKs/x3dcJL9dM9LzOu1+7bLh/MXNKHj/ZQz/e+G4OkPUGvhNKNFJJYqWhkhwxroAKP4JvWgSBj+6CrAmUwiKVqLZrzYH47W+dZ1XFel0hnX0BjlES6Xy+Sj1YAyZ/XtnLVmiax0s4tS0mnaS/EvDGFXfthbG84helvg1Irf84nzTQzQt4/DRtSIs/a6rbgjga0fjacw0O76G0d33MUBGN8SQyUyaR7Kw9ACsUJFndrNZ8Jmyf3YtwpNK7YcJ2dJIq1R+UXRp09eiRXeaQlflbO0P+Zj+NsPrjVZmCbsiKw+EfOQKuhm0AGh0zaM+cJVAV2woDac0\", info: {\"name\": \"test_db\", \"uid\": \"zSTe0INvE0ev1nMH+J4LURNuwkjG9w1exVBUYo3AVZ8=\", \"nonce\": \"TFZBaj8yP5eYVjrAfMEqUW3iCzpuV4a1\"} }"
      ]
     },
     "execution_count": 12,
     "metadata": {},
     "output_type": "execute_result"
    }
   ],
   "source": [
    "Database::Locked::from_vec(db_vec)"
   ]
  },
  {
   "cell_type": "code",
   "execution_count": 13,
   "id": "6675c9b7-cb3d-412b-ba9b-9774fc0e3646",
   "metadata": {},
   "outputs": [],
   "source": [
    "// todo: app, nonce, uid, version, revision, name, type, subtype, timestamp"
   ]
  },
  {
   "cell_type": "code",
   "execution_count": 14,
   "id": "425ea0b2-dbeb-456b-9493-f858090b72ed",
   "metadata": {},
   "outputs": [],
   "source": [
    "// todo: manage key during locked state. what is current api???"
   ]
  },
  {
   "cell_type": "code",
   "execution_count": null,
   "id": "7121a5aa-cc43-4e15-ab60-2ee68a29726d",
   "metadata": {},
   "outputs": [],
   "source": []
  },
  {
   "cell_type": "code",
   "execution_count": null,
   "id": "5fece54b-6009-4bec-b1fc-c2c2e4224d1b",
   "metadata": {},
   "outputs": [],
   "source": []
  }
 ],
 "metadata": {
  "kernelspec": {
   "display_name": "Rust",
   "language": "rust",
   "name": "rust"
  },
  "language_info": {
   "codemirror_mode": "rust",
   "file_extension": ".rs",
   "mimetype": "text/rust",
   "name": "Rust",
   "pygment_lexer": "rust",
   "version": ""
  }
 },
 "nbformat": 4,
 "nbformat_minor": 5
}
