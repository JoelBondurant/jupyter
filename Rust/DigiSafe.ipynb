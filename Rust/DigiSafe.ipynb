{
 "cells": [
  {
   "cell_type": "markdown",
   "id": "343f8d52-ccc5-4123-8b09-64abda3955a4",
   "metadata": {},
   "source": [
    "## DigiSafe\n",
    "---"
   ]
  },
  {
   "cell_type": "code",
   "execution_count": 2,
   "id": "1d82aea1-3a18-4499-8aac-12e2fff882c1",
   "metadata": {},
   "outputs": [
    {
     "data": {
      "text/plain": [
       "cache: 1000 MiB\n"
      ]
     },
     "execution_count": 2,
     "metadata": {},
     "output_type": "execute_result"
    }
   ],
   "source": [
    ":cache 1000\n",
    ":dep apache-avro\n",
    ":dep argon2\n",
    ":dep base64ct = { features = [\"alloc\"] }\n",
    ":dep chacha20poly1305\n",
    ":dep getrandom\n",
    ":dep lz4\n",
    ":dep reed-solomon\n",
    ":dep serde = { features = [\"derive\"] }\n",
    ":dep sha3"
   ]
  },
  {
   "cell_type": "code",
   "execution_count": 3,
   "id": "36a156df-7c9c-4795-9182-809059d89091",
   "metadata": {},
   "outputs": [],
   "source": [
    "pub mod Database {\n",
    "\n",
    "    // Database<Unlocked> <-> Avro <-> LZ4 <-> ChaCha20Poly1305 <-> Base64 <-> Database<Locked>\n",
    "    // Database<Locked> -> Avro -> Reed-Solomon -> Vec<u8> -> name.digisafe\n",
    "\n",
    "    use serde::{Deserialize, Serialize};\n",
    "    use std::collections::HashMap;\n",
    "    use std::io::{Read, Write};\n",
    "\n",
    "    pub fn hash_lite(msg: &Vec<u8>) -> Vec<u8> {\n",
    "        use sha3::{Digest, Sha3_256};\n",
    "        Sha3_256::digest(Sha3_256::digest(msg)).to_vec()\n",
    "    }\n",
    "\n",
    "    pub fn hash_heavy(msg: String) -> Vec<u8> {\n",
    "        use argon2::{Algorithm, Argon2, ParamsBuilder, password_hash::{PasswordHasher, SaltString}, Version};\n",
    "        let lite_hash = hash_lite(&msg.into());\n",
    "        let params = ParamsBuilder::new().m_cost(2u32.pow(20)).t_cost(2).p_cost(8).output_len(32).build().unwrap();\n",
    "        let hasher = Argon2::new(Algorithm::Argon2id, Version::V0x13, params);\n",
    "        let salt = SaltString::encode_b64(b\"digisafe\").unwrap();\n",
    "        let heavy_hash = hasher.hash_password(&lite_hash, &salt).unwrap().hash.unwrap().as_bytes().to_owned();\n",
    "        hash_lite(&heavy_hash)\n",
    "    }\n",
    "\n",
    "    pub fn to_base64(msg: &Vec<u8>) -> String {\n",
    "        use base64ct::{Base64, Encoding};\n",
    "        Base64::encode_string(msg)\n",
    "    }\n",
    "\n",
    "    pub fn from_base64(msg_enc: &String) -> Vec<u8> {\n",
    "        use base64ct::{Base64, Encoding};\n",
    "        Base64::decode_vec(&msg_enc).unwrap()\n",
    "    }\n",
    "\n",
    "    pub fn compress(msg: Vec<u8>) -> Vec<u8> {\n",
    "        use lz4::{Decoder, EncoderBuilder};\n",
    "        let mut encoder = EncoderBuilder::new().level(9).build(vec![]).unwrap();\n",
    "        encoder.write(&msg[..]);\n",
    "        encoder.finish().0\n",
    "    }\n",
    "\n",
    "    pub fn decompress(msg_enc: Vec<u8>) -> Vec<u8> {\n",
    "        use lz4::Decoder;\n",
    "        let mut msg = vec![];\n",
    "        {\n",
    "            let mut decoder = Decoder::new(&msg_enc[..]).unwrap();\n",
    "            std::io::copy(&mut decoder, &mut msg);\n",
    "        }\n",
    "        msg\n",
    "    }\n",
    "    \n",
    "    pub fn encrypt(msg: Vec<u8>, key: Vec<u8>, nonce: Vec<u8>) -> Vec<u8> {\n",
    "        use chacha20poly1305::{aead::{Aead, KeyInit}, XChaCha20Poly1305};\n",
    "        let key: [u8; 32] = key.try_into().unwrap();\n",
    "        let nonce: [u8; 24] = nonce.try_into().unwrap();\n",
    "        let cipher = XChaCha20Poly1305::new(&key.into());\n",
    "        cipher.encrypt(&nonce.into(), &msg[..]).unwrap()\n",
    "    }\n",
    "\n",
    "    pub fn decrypt(msg_enc: Vec<u8>, key: Vec<u8>, nonce: Vec<u8>) -> Option<Vec<u8>> {\n",
    "        use chacha20poly1305::{aead::{Aead, KeyInit}, XChaCha20Poly1305};\n",
    "        let key: [u8; 32] = key.try_into().unwrap();\n",
    "        let nonce: [u8; 24] = nonce.try_into().unwrap();\n",
    "        let cipher = XChaCha20Poly1305::new(&key.into());\n",
    "        if let Ok(msg) = cipher.decrypt(&nonce.into(), msg_enc.as_ref()) {\n",
    "            Some(msg)\n",
    "        } else {\n",
    "            None\n",
    "        }\n",
    "    }\n",
    "\n",
    "    fn to_ecc_batch(dat: Vec<u8>) -> Vec<u8> {\n",
    "        use reed_solomon::Encoder;\n",
    "        let enc = Encoder::new(8);\n",
    "        Vec::from(&enc.encode(&dat[..])[..])\n",
    "    }\n",
    "\n",
    "    fn from_ecc_batch(dat_enc: Vec<u8>) -> Vec<u8> {\n",
    "        use reed_solomon::Decoder;\n",
    "        let dec = Decoder::new(8);\n",
    "        dec.correct(&dat_enc[..], None).unwrap().data().to_owned()\n",
    "    }\n",
    "\n",
    "    fn to_ecc(dat: Vec<u8>) -> Vec<u8> {\n",
    "        let dat_len = dat.len();\n",
    "        let batch_size = 247usize;\n",
    "        let batches = ((dat_len as f64)/(batch_size as f64)).ceil() as usize;\n",
    "        let mut dat_enc = Vec::<u8>::with_capacity(dat_len + 8*batches);\n",
    "        let mut a = 0usize;\n",
    "        for _ in 0..batches {\n",
    "            let b = std::cmp::min(a + batch_size, dat_len);\n",
    "            let dat_slice = &dat[a..b];\n",
    "            let enc_dat_slice = to_ecc_batch(dat_slice.to_vec());\n",
    "            dat_enc.extend_from_slice(&enc_dat_slice[..]);\n",
    "            a = std::cmp::min(a + batch_size, dat_len);\n",
    "        }\n",
    "        dat_enc\n",
    "    }\n",
    "\n",
    "    fn from_ecc(dat_enc: Vec<u8>) -> Vec<u8> {\n",
    "        let dat_enc_len = dat_enc.len();\n",
    "        let batch_size = 255usize;\n",
    "        let batches = ((dat_enc_len as f64)/(batch_size as f64)).ceil() as usize;\n",
    "        let mut dat = Vec::<u8>::with_capacity(dat_enc_len - 8*batches);\n",
    "        let mut a = 0usize;\n",
    "        for _ in 0..batches {\n",
    "            let b = std::cmp::min(a + batch_size, dat_enc_len);\n",
    "            let dat_enc_slice = &dat_enc[a..b];\n",
    "            let dat_slice = from_ecc_batch(dat_enc_slice.to_vec());\n",
    "            dat.extend_from_slice(&dat_slice[..]);\n",
    "            a += batch_size;\n",
    "            a = std::cmp::min(a, dat_enc_len);\n",
    "        }\n",
    "        dat\n",
    "    }\n",
    "\n",
    "    const unlocked_schema_raw: &str = r#\"\n",
    "    {\n",
    "        \"type\": \"record\",\n",
    "        \"name\": \"unlocked\",\n",
    "        \"fields\": [\n",
    "            {\"name\": \"db\", \"type\": {\"type\": \"map\", \"values\": \"string\"}},\n",
    "            {\"name\": \"meta\", \"type\": {\"type\": \"map\", \"values\": \"string\"}}\n",
    "        ]\n",
    "    }\n",
    "    \"#;\n",
    "    \n",
    "    const locked_schema_raw: &str = r#\"\n",
    "    {\n",
    "        \"type\": \"record\",\n",
    "        \"name\": \"locked\",\n",
    "        \"fields\": [\n",
    "            {\"name\": \"db\", \"type\": \"string\"},\n",
    "            {\"name\": \"meta\", \"type\": {\"type\": \"map\", \"values\": \"string\"}}\n",
    "        ]\n",
    "    }\n",
    "    \"#;\n",
    "\n",
    "    #[derive(Debug, Deserialize, Serialize)]\n",
    "    pub struct AvroUnlocked {\n",
    "        db: HashMap<String, String>,\n",
    "        meta: HashMap<String, String>,\n",
    "    }\n",
    "\n",
    "    #[derive(Debug, Deserialize, Serialize)]\n",
    "    pub struct AvroLocked {\n",
    "        db: String,\n",
    "        meta: HashMap<String, String>,\n",
    "    }\n",
    "\n",
    "    #[derive(Default, Debug)]\n",
    "    pub struct Unlocked {\n",
    "        db: HashMap<String, String>,\n",
    "        meta: HashMap<String, String>,\n",
    "        key: Vec<u8>,\n",
    "    }\n",
    "\n",
    "    #[derive(Debug, Default)]\n",
    "    pub struct Locked {\n",
    "        db: String,\n",
    "        meta: HashMap<String, String>,\n",
    "        key: Vec<u8>,\n",
    "    }\n",
    "\n",
    "    impl AvroUnlocked {\n",
    "        pub fn to_unlocked_struct(self, key: Vec<u8>) -> Unlocked {\n",
    "             Unlocked {\n",
    "                 db: self.db,\n",
    "                 meta: self.meta,\n",
    "                 key: key,\n",
    "             }\n",
    "        }\n",
    "    }\n",
    "\n",
    "    impl AvroLocked {\n",
    "        pub fn to_locked_struct(self) -> Locked {\n",
    "             Locked {\n",
    "                 db: self.db,\n",
    "                 meta: self.meta,\n",
    "                 key: Default::default(),\n",
    "             }\n",
    "        }\n",
    "    }\n",
    "    \n",
    "    impl Unlocked {\n",
    "        \n",
    "        pub fn new(key: impl Into<String>) -> Self {\n",
    "            let mut db = Unlocked {\n",
    "                db: Default::default(),\n",
    "                meta: Default::default(),\n",
    "                key: hash_heavy(key.into()),\n",
    "            };\n",
    "            let ts = std::time::SystemTime::now()\n",
    "                     .duration_since(std::time::UNIX_EPOCH).unwrap().as_secs().to_string();\n",
    "            let mut randy = [0u8; 32];\n",
    "            getrandom::getrandom(&mut randy);\n",
    "            let randy = to_base64(&randy.to_vec());\n",
    "            db.set_meta(\"uid\", randy);\n",
    "            db.set_meta(\"app\", \"digisafe\");\n",
    "            db.set_meta(\"revision\", \"0\");\n",
    "            db.set_meta(\"version\", \"1.0.0\");\n",
    "            db.set_meta(\"timestamp\", ts);\n",
    "            db\n",
    "        }\n",
    "        \n",
    "        pub fn lock(self) -> Locked {\n",
    "            let cadb = compress(self.to_avro());\n",
    "            let nonce = hash_lite(&cadb)[..24].to_vec();\n",
    "            let mut meta = HashMap::<String, String>::new();\n",
    "            meta.extend(self.meta);\n",
    "            meta.insert(\"nonce\".into(), to_base64(&nonce));\n",
    "            let db = to_base64(&encrypt(cadb, self.key.clone(), nonce));\n",
    "            Locked {\n",
    "                db: db,\n",
    "                meta: meta,\n",
    "                key: self.key,\n",
    "            }\n",
    "        }\n",
    "    \n",
    "        pub fn get(&self, akey: &String) -> Option<String> {\n",
    "            self.db.get(akey).cloned()\n",
    "        }\n",
    "    \n",
    "        \n",
    "        pub fn set(&mut self, akey: impl Into<String>, aval: impl Into<String>) {\n",
    "            self.db.insert(akey.into(), aval.into());\n",
    "        }\n",
    "    \n",
    "        pub fn get_private(&self, akey: &String) -> Option<String> {\n",
    "            self.db.get(&(\"_\".to_string() + &akey)).cloned()\n",
    "        }\n",
    "    \n",
    "        \n",
    "        pub fn set_private(&mut self, akey: impl Into<String>, aval: impl Into<String>) {\n",
    "            self.db.insert(\"_\".to_string() + &akey.into(), aval.into());\n",
    "        }\n",
    "    \n",
    "        pub fn get_meta(&self, akey: &String) -> Option<String> {\n",
    "            self.meta.get(akey).cloned()\n",
    "        }\n",
    "    \n",
    "        \n",
    "        pub fn set_meta(&mut self, akey: impl Into<String>, aval: impl Into<String>) {\n",
    "            self.meta.insert(akey.into(), aval.into());\n",
    "        }\n",
    "\n",
    "        pub fn merge(&mut self, other: Unlocked) {\n",
    "            self.db.extend(other.db);\n",
    "        }\n",
    "\n",
    "        pub fn to_avro_struct(&self) -> AvroUnlocked {\n",
    "            AvroUnlocked {\n",
    "                db: self.db.clone(),\n",
    "                meta: self.meta.clone(),\n",
    "            }\n",
    "        }\n",
    "\n",
    "        pub fn to_avro(&self) -> Vec<u8> {\n",
    "            use apache_avro::{to_value, Schema, Writer};\n",
    "            let schema = Schema::parse_str(unlocked_schema_raw).unwrap();\n",
    "            let mut writer = Writer::new(&schema, Vec::new());\n",
    "            writer.append(to_value(&self.to_avro_struct()).unwrap()).unwrap();\n",
    "            let avro_dat = writer.into_inner().unwrap();\n",
    "            avro_dat\n",
    "        }\n",
    "\n",
    "        pub fn from_avro(avro_dat: Vec<u8>, key: Vec<u8>) -> Unlocked {\n",
    "            use apache_avro::{from_value, Reader};\n",
    "            let reader = Reader::new(&avro_dat[..]).unwrap();\n",
    "            let db = from_value::<AvroUnlocked>(&reader.last().unwrap().unwrap()).unwrap();\n",
    "            db.to_unlocked_struct(key)\n",
    "        }\n",
    "    }\n",
    "\n",
    "    /*\n",
    "    impl std::fmt::Debug for Unlocked {\n",
    "        fn fmt(&self, objf: &mut std::fmt::Formatter) -> std::fmt::Result {\n",
    "            write!(objf, \"Database::Unlocked: {{ redacted }}\")\n",
    "        }\n",
    "    }\n",
    "\n",
    "    impl std::fmt::Debug for AvroUnlocked {\n",
    "        fn fmt(&self, objf: &mut std::fmt::Formatter) -> std::fmt::Result {\n",
    "            write!(objf, \"Database::AvroUnlocked: {{ redacted }}\")\n",
    "        }\n",
    "    }\n",
    "    */\n",
    "\n",
    "    impl Locked {\n",
    "        \n",
    "        pub fn unlock(self, password: impl Into<String>) -> Option<Unlocked> {\n",
    "            let key = hash_heavy(password.into());\n",
    "            let nonce = from_base64(&self.meta.get(\"nonce\").unwrap());\n",
    "            let cradb = decrypt(from_base64(&self.db), key.clone(), nonce);\n",
    "            if cradb.is_none() {\n",
    "                return None;\n",
    "            }\n",
    "            let radb = decompress(cradb.unwrap());\n",
    "            let db = Unlocked::from_avro(radb, key);\n",
    "            Some(db)\n",
    "        }\n",
    "\n",
    "        pub fn to_avro_struct(&self) -> AvroLocked {\n",
    "            AvroLocked {\n",
    "                db: self.db.clone(),\n",
    "                meta: self.meta.clone(),\n",
    "            }\n",
    "        }\n",
    "\n",
    "        pub fn to_avro(&self) -> Vec<u8> {\n",
    "            use apache_avro::{to_value, Schema, Writer};\n",
    "            let schema = Schema::parse_str(locked_schema_raw).unwrap();\n",
    "            let mut writer = Writer::new(&schema, Vec::new());\n",
    "            writer.append(to_value(&self.to_avro_struct()).unwrap()).unwrap();\n",
    "            let avro_dat = writer.into_inner().unwrap();\n",
    "            avro_dat\n",
    "        }\n",
    "\n",
    "        pub fn from_avro(avro_dat: Vec<u8>) -> Locked {\n",
    "            use apache_avro::{from_value, Reader};\n",
    "            let reader = Reader::new(&avro_dat[..]).unwrap();\n",
    "            let db = from_value::<AvroLocked>(&reader.last().unwrap().unwrap()).unwrap();\n",
    "            db.to_locked_struct()\n",
    "        }\n",
    "\n",
    "        pub fn to_vec(&self) -> Vec<u8> {\n",
    "            to_ecc(self.to_avro())\n",
    "        }\n",
    "\n",
    "        pub fn from_vec(dat_ecc: Vec<u8>) -> Locked {\n",
    "            Locked::from_avro(from_ecc(dat_ecc))\n",
    "        }\n",
    "\n",
    "    }\n",
    "\n",
    "}"
   ]
  },
  {
   "cell_type": "code",
   "execution_count": 4,
   "id": "4274ab46-e772-4f44-a75f-c763c7119384",
   "metadata": {},
   "outputs": [
    {
     "data": {
      "text/plain": [
       "Unlocked { db: {}, meta: {\"app\": \"digisafe\", \"timestamp\": \"1699588749\", \"version\": \"1.0.0\", \"uid\": \"Kb+kH90y8DyIX+9fnEnt208re4fCNbKOcfZaB1jGOFM=\", \"revision\": \"0\"}, key: [146, 251, 216, 195, 51, 10, 173, 46, 196, 91, 169, 181, 149, 93, 179, 66, 192, 91, 240, 175, 185, 222, 31, 183, 198, 99, 75, 154, 88, 8, 146, 245] }"
      ]
     },
     "execution_count": 4,
     "metadata": {},
     "output_type": "execute_result"
    }
   ],
   "source": [
    "let mut db = Database::Unlocked::new(\"test_key\");\n",
    "db"
   ]
  },
  {
   "cell_type": "code",
   "execution_count": 5,
   "id": "eff6534c-ed0f-4ab4-8529-ea4ce1722b18",
   "metadata": {},
   "outputs": [
    {
     "data": {
      "text/plain": [
       "Unlocked { db: {\"_name\": \"main\"}, meta: {\"app\": \"digisafe\", \"timestamp\": \"1699588749\", \"version\": \"1.0.0\", \"uid\": \"Kb+kH90y8DyIX+9fnEnt208re4fCNbKOcfZaB1jGOFM=\", \"revision\": \"0\"}, key: [146, 251, 216, 195, 51, 10, 173, 46, 196, 91, 169, 181, 149, 93, 179, 66, 192, 91, 240, 175, 185, 222, 31, 183, 198, 99, 75, 154, 88, 8, 146, 245] }"
      ]
     },
     "execution_count": 5,
     "metadata": {},
     "output_type": "execute_result"
    }
   ],
   "source": [
    "db.set_private(\"name\", \"main\");\n",
    "db"
   ]
  },
  {
   "cell_type": "code",
   "execution_count": 6,
   "id": "78469334-4128-481f-95d6-dede856f1d0b",
   "metadata": {},
   "outputs": [
    {
     "data": {
      "text/plain": [
       "Unlocked { db: {\"k3\": \"v3\", \"k1\": \"v1\", \"k2\": \"v2\", \"_name\": \"main\"}, meta: {\"app\": \"digisafe\", \"timestamp\": \"1699588749\", \"version\": \"1.0.0\", \"uid\": \"Kb+kH90y8DyIX+9fnEnt208re4fCNbKOcfZaB1jGOFM=\", \"revision\": \"0\"}, key: [146, 251, 216, 195, 51, 10, 173, 46, 196, 91, 169, 181, 149, 93, 179, 66, 192, 91, 240, 175, 185, 222, 31, 183, 198, 99, 75, 154, 88, 8, 146, 245] }"
      ]
     },
     "execution_count": 6,
     "metadata": {},
     "output_type": "execute_result"
    }
   ],
   "source": [
    "db.set(\"k1\", \"v1\");\n",
    "db.set(\"k2\", \"v2\");\n",
    "db.set(\"k3\", \"v3\");\n",
    "db"
   ]
  },
  {
   "cell_type": "code",
   "execution_count": 7,
   "id": "90e1a673-1641-4699-964e-b5ebed04c002",
   "metadata": {},
   "outputs": [
    {
     "data": {
      "text/plain": [
       "Locked { db: \"K1kC1kzitnSI9cIR/iOmjNltnfDug5YKRBgVNdTLAUCfVTQu0AVXTl7Z1MKmSOMpu4R1dfpIMZRTEWeCroqQiO+SQLGKkNfQutcrj4naXljJ/nyrs1jMlctAQE/6S3r7XfyCW4t3+erQgRHOBscxBZ8MQefbFZg5N9lufiTI7uBbygcOdRkOJ2TD/SogMcI2Rgv6p9qvkvOQ10DkaKEaHH0n4kbOTghIEM0Ls2h7YMZ5COUzzeycvCMMibVHRBznxU/fGsw75IDQzDXwAvnR96VU9YJ/Vyc4aPOVSuTjlZNJSsvBIHpL/vCv3M+E4c+5/wuMb9+1UMhb06rEx8SX4xErErFLbv7DoXfuAr1g25lgPGlRPxbOUCKVdJ4RtTLEcduf44JO6WPQm5WEDroaaJ0i/2VDTg4rw8YeEZDhg5Hh3WBDoLNAUbMYrTzW2gm1\", meta: {\"app\": \"digisafe\", \"timestamp\": \"1699588749\", \"uid\": \"Kb+kH90y8DyIX+9fnEnt208re4fCNbKOcfZaB1jGOFM=\", \"version\": \"1.0.0\", \"nonce\": \"FyenU52UdbCcoWyNYS6f5dC9e1EGF3Cz\", \"revision\": \"0\"}, key: [146, 251, 216, 195, 51, 10, 173, 46, 196, 91, 169, 181, 149, 93, 179, 66, 192, 91, 240, 175, 185, 222, 31, 183, 198, 99, 75, 154, 88, 8, 146, 245] }"
      ]
     },
     "execution_count": 7,
     "metadata": {},
     "output_type": "execute_result"
    }
   ],
   "source": [
    "let db = db.lock();\n",
    "db"
   ]
  },
  {
   "cell_type": "code",
   "execution_count": 8,
   "id": "9ce52657-8b65-4ef9-8f8f-f3815bd4691b",
   "metadata": {},
   "outputs": [
    {
     "data": {
      "text/plain": [
       "Unlocked { db: {\"k3\": \"v3\", \"k1\": \"v1\", \"_name\": \"main\", \"k2\": \"v2\"}, meta: {\"app\": \"digisafe\", \"revision\": \"0\", \"timestamp\": \"1699588749\", \"uid\": \"Kb+kH90y8DyIX+9fnEnt208re4fCNbKOcfZaB1jGOFM=\", \"version\": \"1.0.0\"}, key: [146, 251, 216, 195, 51, 10, 173, 46, 196, 91, 169, 181, 149, 93, 179, 66, 192, 91, 240, 175, 185, 222, 31, 183, 198, 99, 75, 154, 88, 8, 146, 245] }"
      ]
     },
     "execution_count": 8,
     "metadata": {},
     "output_type": "execute_result"
    }
   ],
   "source": [
    "let db = db.unlock(\"test_key\").unwrap();\n",
    "db"
   ]
  },
  {
   "cell_type": "code",
   "execution_count": 9,
   "id": "0a96fdec-bf0b-4dca-ae66-4cff76780a48",
   "metadata": {},
   "outputs": [
    {
     "data": {
      "text/plain": [
       "Locked { db: \"OZ6B+GZeZxeb4jEshF8Vp5dEulSKKfoFcaBdYPpyke5HMKE1Uvc+uCiav0EN3jQMS+pTU7iC+bLQxrzIjNpoycQjd3uz2WEhIzxoBPxATH8a9W4lKC9tbb0Fw7hmavYgONp+8MC3vjAbydrBk/mEH1PLzDAF0/BLVck8C5WU+QbmjeP/YqAvtoIEIx6nQDFTSUHIukH9bZ0YFYUdVXh+gChMkBdYacXnXaTccvdoil/seTbTQjpvUJAdlhgP2MiRqQnHFCgDfioCeQYbIopbEUSAoJ+1I0FV+6jwVd6+990n6RVnMqHmBq8yHOLn5a87Cncc3hpbWTFBDegFrVHwkEro7g37XJAffkGLZ0RNuGcK+H6QDNhvlLMBO7z1GyFTglbKKZ4c+TH3h5ARuP8EDX3zpiZ2AyxBpykQ8tkp/GzluekLPy5CdaW+KBR+SA==\", meta: {\"nonce\": \"PUE5vvz/X09Tfr5yBHtDSfkxb/54Km21\", \"revision\": \"0\", \"timestamp\": \"1699588749\", \"app\": \"digisafe\", \"uid\": \"Kb+kH90y8DyIX+9fnEnt208re4fCNbKOcfZaB1jGOFM=\", \"version\": \"1.0.0\"}, key: [146, 251, 216, 195, 51, 10, 173, 46, 196, 91, 169, 181, 149, 93, 179, 66, 192, 91, 240, 175, 185, 222, 31, 183, 198, 99, 75, 154, 88, 8, 146, 245] }"
      ]
     },
     "execution_count": 9,
     "metadata": {},
     "output_type": "execute_result"
    }
   ],
   "source": [
    "let db = db.lock();\n",
    "db"
   ]
  },
  {
   "cell_type": "code",
   "execution_count": 10,
   "id": "472ca05d-ed10-4081-9bcf-a01c42e6f0e0",
   "metadata": {},
   "outputs": [
    {
     "data": {
      "text/plain": [
       "[79, 98, 106, 1, 4, 22, 97, 118, 114, 111, 46, 115, 99, 104, 101, 109, 97, 132, 2, 123, 34, 116, 121, 112, 101, 34, 58, 34, 114, 101, 99, 111, 114, 100, 34, 44, 34, 110, 97, 109, 101, 34, 58, 34, 108, 111, 99, 107, 101, 100, 34, 44, 34, 102, 105, 101, 108, 100, 115, 34, 58, 91, 123, 34, 110, 97, 109, 101, 34, 58, 34, 100, 98, 34, 44, 34, 116, 121, 112, 101, 34, 58, 34, 115, 116, 114, 105, 110, 103, 34, 125, 44, 123, 34, 110, 97, 109, 101, 34, 58, 34, 109, 101, 116, 97, 34, 44, 34, 116, 121, 112, 101, 34, 58, 123, 34, 116, 121, 112, 101, 34, 58, 34, 109, 97, 112, 34, 44, 34, 118, 97, 108, 117, 101, 115, 34, 58, 34, 115, 116, 114, 105, 110, 103, 34, 125, 125, 93, 125, 20, 97, 118, 114, 111, 46, 99, 111, 100, 101, 99, 8, 110, 117, 108, 108, 0, 210, 35, 94, 229, 182, 108, 161, 220, 106, 178, 218, 227, 26, 8, 41, 74, 2, 174, 9, 128, 7, 79, 90, 54, 66, 43, 71, 90, 101, 90, 120, 101, 98, 52, 106, 69, 115, 104, 70, 56, 86, 112, 53, 100, 69, 117, 108, 83, 75, 75, 102, 111, 70, 99, 97, 66, 100, 89, 80, 112, 121, 107, 101, 53, 72, 77, 75, 69, 49, 85, 118, 99, 43, 117, 67, 105, 97, 118, 48, 69, 78, 134, 6, 125, 190, 68, 5, 88, 158, 51, 106, 81, 77, 83, 43, 112, 84, 85, 55, 105, 67, 43, 98, 76, 81, 120, 114, 122, 73, 106, 78, 112, 111, 121, 99, 81, 106, 100, 51, 117, 122, 50, 87, 69, 104, 73, 122, 120, 111, 66, 80, 120, 65, 84, 72, 56, 97, 57, 87, 52, 108, 75, 67, 57, 116, 98, 98, 48, 70, 119, 55, 104, 109, 97, 118, 89, 103, 79, 78, 112, 43, 56, 77, 67, 51, 118, 106, 65, 98, 121, 100, 114, 66, 107, 47, 109, 69, 72, 49, 80, 76, 122, 68, 65, 70, 48, 47, 66, 76, 86, 99, 107, 56, 67, 53, 87, 85, 43, 81, 98, 109, 106, 101, 80, 47, 89, 113, 65, 118, 116, 111, 73, 69, 73, 120, 54, 110, 81, 68, 70, 84, 83, 85, 72, 73, 117, 107, 72, 57, 98, 90, 48, 89, 70, 89, 85, 100, 86, 88, 104, 43, 103, 67, 104, 77, 107, 66, 100, 89, 97, 99, 88, 110, 88, 97, 84, 99, 99, 118, 100, 111, 105, 108, 47, 115, 101, 84, 98, 84, 81, 106, 112, 118, 85, 74, 65, 100, 108, 104, 103, 80, 50, 77, 105, 82, 113, 81, 110, 72, 70, 67, 103, 68, 102, 105, 111, 67, 101, 81, 89, 98, 73, 111, 112, 98, 69, 85, 83, 65, 111, 74, 43, 49, 73, 48, 70, 86, 43, 54, 106, 119, 86, 100, 54, 43, 57, 57, 48, 110, 54, 82, 86, 110, 77, 113, 72, 175, 88, 254, 167, 19, 167, 242, 144, 109, 66, 113, 56, 121, 72, 79, 76, 110, 53, 97, 56, 55, 67, 110, 99, 99, 51, 104, 112, 98, 87, 84, 70, 66, 68, 101, 103, 70, 114, 86, 72, 119, 107, 69, 114, 111, 55, 103, 51, 55, 88, 74, 65, 102, 102, 107, 71, 76, 90, 48, 82, 78, 117, 71, 99, 75, 43, 72, 54, 81, 68, 78, 104, 118, 108, 76, 77, 66, 79, 55, 122, 49, 71, 121, 70, 84, 103, 108, 98, 75, 75, 90, 52, 99, 43, 84, 72, 51, 104, 53, 65, 82, 117, 80, 56, 69, 68, 88, 51, 122, 112, 105, 90, 50, 65, 121, 120, 66, 112, 121, 107, 81, 56, 116, 107, 112, 47, 71, 122, 108, 117, 101, 107, 76, 80, 121, 53, 67, 100, 97, 87, 43, 75, 66, 82, 43, 83, 65, 61, 61, 12, 14, 118, 101, 114, 115, 105, 111, 110, 10, 49, 46, 48, 46, 48, 6, 97, 112, 112, 16, 100, 105, 103, 105, 115, 97, 102, 101, 18, 116, 105, 109, 101, 115, 116, 97, 109, 112, 20, 49, 54, 57, 57, 53, 56, 56, 55, 52, 57, 10, 110, 111, 110, 99, 101, 64, 80, 85, 69, 53, 118, 118, 122, 47, 88, 48, 57, 84, 102, 114, 53, 121, 66, 72, 116, 68, 83, 102, 107, 120, 98, 47, 53, 52, 75, 109, 50, 49, 6, 117, 105, 100, 88, 75, 98, 43, 107, 72, 57, 48, 121, 56, 68, 121, 73, 88, 166, 139, 40, 200, 228, 191, 149, 53, 43, 57, 102, 110, 69, 110, 116, 50, 48, 56, 114, 101, 52, 102, 67, 78, 98, 75, 79, 99, 102, 90, 97, 66, 49, 106, 71, 79, 70, 77, 61, 16, 114, 101, 118, 105, 115, 105, 111, 110, 2, 48, 0, 210, 35, 94, 229, 182, 108, 161, 220, 106, 178, 218, 227, 26, 8, 41, 74, 244, 16, 105, 13, 77, 246, 31, 32]"
      ]
     },
     "execution_count": 10,
     "metadata": {},
     "output_type": "execute_result"
    }
   ],
   "source": [
    "let mut db_vec = db.to_vec();\n",
    "db_vec"
   ]
  },
  {
   "cell_type": "code",
   "execution_count": 11,
   "id": "2a6caadf-0c92-4a5f-aa94-14a9803cf393",
   "metadata": {},
   "outputs": [
    {
     "data": {
      "text/plain": [
       "[0, 98, 106, 1, 4, 22, 97, 118, 114, 111, 0, 115, 99, 104, 101, 109, 97, 132, 2, 123, 34, 116, 121, 112, 101, 34, 58, 34, 114, 101, 99, 111, 114, 100, 34, 44, 34, 110, 97, 109, 101, 34, 58, 34, 108, 111, 99, 107, 101, 100, 34, 44, 34, 102, 105, 101, 108, 100, 115, 34, 58, 91, 123, 34, 110, 97, 109, 101, 34, 58, 34, 100, 98, 34, 44, 34, 116, 121, 112, 101, 34, 58, 34, 115, 116, 114, 105, 110, 103, 34, 125, 44, 123, 34, 110, 97, 109, 101, 34, 58, 0, 109, 101, 116, 97, 34, 44, 34, 116, 121, 112, 101, 34, 58, 123, 34, 116, 121, 112, 101, 34, 58, 34, 109, 97, 112, 34, 44, 34, 118, 97, 108, 117, 101, 115, 34, 58, 34, 115, 116, 114, 105, 110, 103, 34, 125, 125, 93, 125, 20, 97, 118, 114, 111, 46, 99, 111, 100, 101, 99, 8, 110, 117, 108, 108, 0, 210, 35, 94, 229, 182, 108, 161, 220, 106, 178, 218, 227, 26, 8, 41, 74, 2, 174, 9, 128, 7, 79, 90, 54, 66, 43, 71, 90, 101, 90, 120, 101, 98, 52, 0, 69, 115, 104, 70, 56, 86, 112, 53, 100, 69, 117, 108, 83, 75, 75, 102, 111, 70, 99, 97, 66, 100, 89, 80, 112, 121, 107, 101, 53, 72, 77, 75, 69, 49, 85, 118, 99, 43, 117, 67, 105, 97, 118, 48, 69, 78, 134, 6, 125, 190, 68, 5, 88, 158, 51, 106, 81, 77, 83, 43, 112, 84, 85, 55, 105, 67, 43, 98, 76, 81, 120, 114, 122, 73, 106, 78, 112, 111, 121, 99, 81, 106, 100, 51, 117, 122, 50, 87, 69, 104, 73, 122, 120, 111, 66, 80, 120, 65, 84, 72, 56, 97, 57, 87, 52, 108, 75, 67, 57, 116, 98, 98, 48, 70, 119, 55, 104, 109, 97, 118, 89, 103, 79, 78, 112, 43, 56, 77, 67, 51, 118, 106, 65, 98, 121, 100, 114, 66, 107, 47, 109, 69, 72, 49, 80, 76, 122, 68, 65, 70, 48, 47, 66, 76, 86, 99, 107, 56, 67, 53, 87, 85, 43, 81, 98, 109, 106, 101, 80, 47, 89, 113, 65, 118, 116, 111, 73, 69, 73, 120, 54, 110, 81, 68, 70, 84, 83, 85, 72, 73, 117, 107, 72, 57, 98, 90, 48, 89, 70, 89, 85, 100, 86, 88, 104, 43, 103, 67, 104, 77, 107, 66, 100, 89, 97, 99, 88, 110, 88, 97, 84, 99, 99, 118, 100, 111, 105, 108, 47, 115, 101, 84, 98, 84, 81, 106, 112, 118, 85, 74, 65, 100, 108, 104, 103, 80, 50, 77, 105, 82, 113, 81, 110, 72, 70, 67, 103, 68, 102, 105, 111, 67, 101, 81, 89, 98, 73, 111, 112, 98, 69, 85, 83, 65, 111, 74, 43, 49, 73, 48, 70, 86, 43, 54, 106, 119, 86, 100, 54, 43, 57, 57, 48, 110, 54, 82, 86, 110, 77, 113, 72, 175, 88, 254, 167, 19, 167, 242, 144, 109, 66, 113, 56, 121, 72, 79, 76, 110, 53, 97, 56, 55, 67, 110, 99, 99, 51, 104, 112, 98, 87, 84, 70, 66, 68, 101, 103, 70, 114, 86, 72, 119, 107, 69, 114, 111, 55, 103, 51, 55, 88, 74, 65, 102, 102, 107, 71, 76, 90, 48, 82, 78, 117, 71, 99, 75, 43, 72, 54, 81, 68, 78, 104, 118, 108, 76, 77, 66, 79, 55, 122, 49, 71, 121, 70, 84, 103, 108, 98, 75, 75, 90, 52, 99, 43, 84, 72, 51, 104, 53, 65, 82, 117, 80, 56, 69, 68, 88, 51, 122, 112, 105, 90, 50, 65, 121, 120, 66, 112, 121, 107, 81, 56, 116, 107, 112, 47, 71, 122, 108, 117, 101, 107, 76, 80, 121, 53, 67, 100, 97, 87, 43, 75, 66, 82, 43, 83, 65, 61, 61, 12, 14, 118, 101, 114, 115, 105, 111, 110, 10, 49, 46, 48, 46, 48, 6, 97, 112, 112, 16, 100, 105, 103, 105, 115, 97, 102, 101, 18, 116, 105, 109, 101, 115, 116, 97, 109, 112, 20, 49, 54, 57, 57, 53, 56, 56, 55, 52, 57, 10, 110, 111, 110, 99, 101, 64, 80, 85, 69, 53, 118, 118, 122, 47, 88, 48, 57, 84, 102, 114, 53, 121, 66, 72, 116, 68, 83, 102, 107, 120, 98, 47, 53, 52, 75, 109, 50, 49, 6, 117, 105, 100, 88, 75, 98, 43, 107, 72, 57, 48, 121, 56, 68, 121, 73, 88, 166, 139, 40, 200, 228, 191, 149, 53, 43, 57, 102, 110, 69, 110, 116, 50, 48, 56, 114, 101, 52, 102, 67, 78, 98, 75, 79, 99, 102, 90, 97, 66, 49, 106, 71, 79, 70, 77, 61, 16, 114, 101, 118, 105, 115, 105, 111, 110, 2, 48, 0, 210, 35, 94, 229, 182, 108, 161, 220, 106, 178, 218, 227, 26, 8, 41, 74, 244, 16, 105, 13, 77, 246, 31, 32]"
      ]
     },
     "execution_count": 11,
     "metadata": {},
     "output_type": "execute_result"
    }
   ],
   "source": [
    "db_vec[0] = 0;\n",
    "db_vec[10] = 0;\n",
    "db_vec[100] = 0;\n",
    "db_vec[200] = 0;\n",
    "db_vec"
   ]
  },
  {
   "cell_type": "code",
   "execution_count": 12,
   "id": "fab2352e-37c1-4990-b0c0-fa9048a8045d",
   "metadata": {},
   "outputs": [
    {
     "data": {
      "text/plain": [
       "Locked { db: \"OZ6B+GZeZxeb4jEshF8Vp5dEulSKKfoFcaBdYPpyke5HMKE1Uvc+uCiav0EN3jQMS+pTU7iC+bLQxrzIjNpoycQjd3uz2WEhIzxoBPxATH8a9W4lKC9tbb0Fw7hmavYgONp+8MC3vjAbydrBk/mEH1PLzDAF0/BLVck8C5WU+QbmjeP/YqAvtoIEIx6nQDFTSUHIukH9bZ0YFYUdVXh+gChMkBdYacXnXaTccvdoil/seTbTQjpvUJAdlhgP2MiRqQnHFCgDfioCeQYbIopbEUSAoJ+1I0FV+6jwVd6+990n6RVnMqHmBq8yHOLn5a87Cncc3hpbWTFBDegFrVHwkEro7g37XJAffkGLZ0RNuGcK+H6QDNhvlLMBO7z1GyFTglbKKZ4c+TH3h5ARuP8EDX3zpiZ2AyxBpykQ8tkp/GzluekLPy5CdaW+KBR+SA==\", meta: {\"uid\": \"Kb+kH90y8DyIX+9fnEnt208re4fCNbKOcfZaB1jGOFM=\", \"version\": \"1.0.0\", \"revision\": \"0\", \"nonce\": \"PUE5vvz/X09Tfr5yBHtDSfkxb/54Km21\", \"timestamp\": \"1699588749\", \"app\": \"digisafe\"}, key: [] }"
      ]
     },
     "execution_count": 12,
     "metadata": {},
     "output_type": "execute_result"
    }
   ],
   "source": [
    "let mut db = Database::Locked::from_vec(db_vec);\n",
    "db"
   ]
  },
  {
   "cell_type": "code",
   "execution_count": 13,
   "id": "5fece54b-6009-4bec-b1fc-c2c2e4224d1b",
   "metadata": {},
   "outputs": [
    {
     "data": {
      "text/plain": [
       "[79, 98, 106, 1, 4, 22, 97, 118, 114, 111, 46, 115, 99, 104, 101, 109, 97, 132, 2, 123, 34, 116, 121, 112, 101, 34, 58, 34, 114, 101, 99, 111, 114, 100, 34, 44, 34, 110, 97, 109, 101, 34, 58, 34, 108, 111, 99, 107, 101, 100, 34, 44, 34, 102, 105, 101, 108, 100, 115, 34, 58, 91, 123, 34, 110, 97, 109, 101, 34, 58, 34, 100, 98, 34, 44, 34, 116, 121, 112, 101, 34, 58, 34, 115, 116, 114, 105, 110, 103, 34, 125, 44, 123, 34, 110, 97, 109, 101, 34, 58, 34, 109, 101, 116, 97, 34, 44, 34, 116, 121, 112, 101, 34, 58, 123, 34, 116, 121, 112, 101, 34, 58, 34, 109, 97, 112, 34, 44, 34, 118, 97, 108, 117, 101, 115, 34, 58, 34, 115, 116, 114, 105, 110, 103, 34, 125, 125, 93, 125, 20, 97, 118, 114, 111, 46, 99, 111, 100, 101, 99, 8, 110, 117, 108, 108, 0, 154, 31, 163, 44, 152, 119, 195, 236, 109, 69, 138, 67, 169, 8, 24, 71, 2, 174, 9, 128, 7, 79, 90, 54, 66, 43, 71, 90, 101, 90, 120, 101, 98, 52, 106, 69, 115, 104, 70, 56, 86, 112, 53, 100, 69, 117, 108, 83, 75, 75, 102, 111, 70, 99, 97, 66, 100, 89, 80, 112, 121, 107, 101, 53, 72, 77, 75, 69, 49, 85, 118, 99, 43, 117, 67, 105, 97, 118, 48, 69, 78, 206, 188, 245, 167, 138, 146, 148, 192, 51, 106, 81, 77, 83, 43, 112, 84, 85, 55, 105, 67, 43, 98, 76, 81, 120, 114, 122, 73, 106, 78, 112, 111, 121, 99, 81, 106, 100, 51, 117, 122, 50, 87, 69, 104, 73, 122, 120, 111, 66, 80, 120, 65, 84, 72, 56, 97, 57, 87, 52, 108, 75, 67, 57, 116, 98, 98, 48, 70, 119, 55, 104, 109, 97, 118, 89, 103, 79, 78, 112, 43, 56, 77, 67, 51, 118, 106, 65, 98, 121, 100, 114, 66, 107, 47, 109, 69, 72, 49, 80, 76, 122, 68, 65, 70, 48, 47, 66, 76, 86, 99, 107, 56, 67, 53, 87, 85, 43, 81, 98, 109, 106, 101, 80, 47, 89, 113, 65, 118, 116, 111, 73, 69, 73, 120, 54, 110, 81, 68, 70, 84, 83, 85, 72, 73, 117, 107, 72, 57, 98, 90, 48, 89, 70, 89, 85, 100, 86, 88, 104, 43, 103, 67, 104, 77, 107, 66, 100, 89, 97, 99, 88, 110, 88, 97, 84, 99, 99, 118, 100, 111, 105, 108, 47, 115, 101, 84, 98, 84, 81, 106, 112, 118, 85, 74, 65, 100, 108, 104, 103, 80, 50, 77, 105, 82, 113, 81, 110, 72, 70, 67, 103, 68, 102, 105, 111, 67, 101, 81, 89, 98, 73, 111, 112, 98, 69, 85, 83, 65, 111, 74, 43, 49, 73, 48, 70, 86, 43, 54, 106, 119, 86, 100, 54, 43, 57, 57, 48, 110, 54, 82, 86, 110, 77, 113, 72, 175, 88, 254, 167, 19, 167, 242, 144, 109, 66, 113, 56, 121, 72, 79, 76, 110, 53, 97, 56, 55, 67, 110, 99, 99, 51, 104, 112, 98, 87, 84, 70, 66, 68, 101, 103, 70, 114, 86, 72, 119, 107, 69, 114, 111, 55, 103, 51, 55, 88, 74, 65, 102, 102, 107, 71, 76, 90, 48, 82, 78, 117, 71, 99, 75, 43, 72, 54, 81, 68, 78, 104, 118, 108, 76, 77, 66, 79, 55, 122, 49, 71, 121, 70, 84, 103, 108, 98, 75, 75, 90, 52, 99, 43, 84, 72, 51, 104, 53, 65, 82, 117, 80, 56, 69, 68, 88, 51, 122, 112, 105, 90, 50, 65, 121, 120, 66, 112, 121, 107, 81, 56, 116, 107, 112, 47, 71, 122, 108, 117, 101, 107, 76, 80, 121, 53, 67, 100, 97, 87, 43, 75, 66, 82, 43, 83, 65, 61, 61, 12, 18, 116, 105, 109, 101, 115, 116, 97, 109, 112, 20, 49, 54, 57, 57, 53, 56, 56, 55, 52, 57, 14, 118, 101, 114, 115, 105, 111, 110, 10, 49, 46, 48, 46, 48, 6, 117, 105, 100, 88, 75, 98, 43, 107, 72, 57, 48, 121, 56, 68, 121, 73, 88, 43, 57, 102, 110, 69, 110, 116, 50, 48, 56, 114, 101, 52, 102, 67, 78, 98, 75, 79, 99, 102, 90, 97, 66, 49, 106, 71, 79, 70, 77, 61, 10, 110, 111, 110, 99, 101, 64, 80, 85, 69, 53, 118, 118, 122, 47, 88, 48, 57, 84, 102, 114, 187, 119, 179, 17, 6, 200, 106, 232, 53, 121, 66, 72, 116, 68, 83, 102, 107, 120, 98, 47, 53, 52, 75, 109, 50, 49, 16, 114, 101, 118, 105, 115, 105, 111, 110, 2, 48, 6, 97, 112, 112, 16, 100, 105, 103, 105, 115, 97, 102, 101, 0, 154, 31, 163, 44, 152, 119, 195, 236, 109, 69, 138, 67, 169, 8, 24, 71, 203, 57, 54, 170, 80, 179, 122, 79]"
      ]
     },
     "execution_count": 13,
     "metadata": {},
     "output_type": "execute_result"
    }
   ],
   "source": [
    "use std::io::{Read, Write};\n",
    "let file_name = \"test.digisafe\";\n",
    "let mut fout = std::fs::File::create(file_name).unwrap();\n",
    "fout.write_all(&db.to_vec()[..]).unwrap();\n",
    "std::fs::read(file_name).unwrap()"
   ]
  },
  {
   "cell_type": "code",
   "execution_count": null,
   "id": "ed138b62-a361-434a-a1bf-dc9d9f67d220",
   "metadata": {},
   "outputs": [],
   "source": []
  }
 ],
 "metadata": {
  "kernelspec": {
   "display_name": "Rust",
   "language": "rust",
   "name": "rust"
  },
  "language_info": {
   "codemirror_mode": "rust",
   "file_extension": ".rs",
   "mimetype": "text/rust",
   "name": "Rust",
   "pygment_lexer": "rust",
   "version": ""
  }
 },
 "nbformat": 4,
 "nbformat_minor": 5
}
