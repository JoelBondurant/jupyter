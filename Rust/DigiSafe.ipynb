{
 "cells": [
  {
   "cell_type": "markdown",
   "id": "343f8d52-ccc5-4123-8b09-64abda3955a4",
   "metadata": {},
   "source": [
    "## DigiSafe\n",
    "---"
   ]
  },
  {
   "cell_type": "code",
   "execution_count": 2,
   "id": "1d82aea1-3a18-4499-8aac-12e2fff882c1",
   "metadata": {},
   "outputs": [
    {
     "data": {
      "text/plain": [
       "cache: 1000 MiB\n"
      ]
     },
     "execution_count": 2,
     "metadata": {},
     "output_type": "execute_result"
    }
   ],
   "source": [
    ":cache 1000\n",
    ":dep apache-avro\n",
    ":dep base64\n",
    ":dep chacha20poly1305\n",
    ":dep lz4\n",
    ":dep reed-solomon\n",
    ":dep rust-argon2\n",
    ":dep serde = { features = [\"derive\"] }\n",
    ":dep sha3\n",
    ":dep getrandom"
   ]
  },
  {
   "cell_type": "code",
   "execution_count": 3,
   "id": "36a156df-7c9c-4795-9182-809059d89091",
   "metadata": {},
   "outputs": [],
   "source": [
    "pub mod Database {\n",
    "\n",
    "    // Database<Unlocked> <-> Avro <-> LZ4 <-> ChaCha20Poly1305 <-> Base64 <-> Database<Locked>\n",
    "    // Database<Locked> -> Avro -> Reed-Solomon -> Vec<u8> -> name.digisafe\n",
    "\n",
    "    use serde::{Deserialize, Serialize};\n",
    "    use std::collections::HashMap;\n",
    "    use std::io::{Read, Write};\n",
    "\n",
    "    pub fn hash_lite(msg: &Vec<u8>) -> Vec<u8> {\n",
    "        use sha3::{Digest, Sha3_256};\n",
    "        Sha3_256::digest(Sha3_256::digest(msg)).to_vec()\n",
    "    }\n",
    "\n",
    "    pub fn hash_heavy(msg: String) -> Vec<u8> {\n",
    "        use argon2::{Config, Variant, Version, hash_raw, verify_raw};\n",
    "        let lite_hash = hash_lite(&msg.into());\n",
    "        let salt = b\"digisafe\";\n",
    "        let config = Config {\n",
    "            variant: Variant::Argon2id,\n",
    "            version: Version::Version13,\n",
    "            mem_cost: 1048576,\n",
    "            time_cost: 2,\n",
    "            lanes: 4,\n",
    "            secret: &[],\n",
    "            ad: &[],\n",
    "            hash_length: 256\n",
    "        };\n",
    "        let heavy_hash = argon2::hash_raw(&lite_hash[..], salt, &config).unwrap();\n",
    "        hash_lite(&heavy_hash)\n",
    "    }\n",
    "\n",
    "    pub fn to_base64(msg: &Vec<u8>) -> String {\n",
    "        use base64::{Engine as _, engine::general_purpose};\n",
    "        general_purpose::STANDARD_NO_PAD.encode(msg)\n",
    "    }\n",
    "\n",
    "    pub fn from_base64(msg_enc: &String) -> Vec<u8> {\n",
    "        use base64::{Engine as _, engine::general_purpose};\n",
    "        general_purpose::STANDARD_NO_PAD.decode(msg_enc).unwrap()\n",
    "    }\n",
    "\n",
    "    pub fn compress(msg: Vec<u8>) -> Vec<u8> {\n",
    "        use lz4::{Decoder, EncoderBuilder};\n",
    "        let mut encoder = EncoderBuilder::new().level(9).build(vec![]).unwrap();\n",
    "        encoder.write(&msg[..]);\n",
    "        encoder.finish().0\n",
    "    }\n",
    "\n",
    "    pub fn decompress(msg_enc: Vec<u8>) -> Vec<u8> {\n",
    "        use lz4::Decoder;\n",
    "        let mut msg = vec![];\n",
    "        {\n",
    "            let mut decoder = Decoder::new(&msg_enc[..]).unwrap();\n",
    "            std::io::copy(&mut decoder, &mut msg);\n",
    "        }\n",
    "        msg\n",
    "    }\n",
    "    \n",
    "    pub fn encrypt(msg: Vec<u8>, key: Vec<u8>, nonce: Vec<u8>) -> Vec<u8> {\n",
    "        use chacha20poly1305::{aead::{Aead, KeyInit}, XChaCha20Poly1305};\n",
    "        let key: [u8; 32] = key.try_into().unwrap();\n",
    "        let nonce: [u8; 24] = nonce.try_into().unwrap();\n",
    "        let cipher = XChaCha20Poly1305::new(&key.into());\n",
    "        cipher.encrypt(&nonce.into(), &msg[..]).unwrap()\n",
    "    }\n",
    "\n",
    "    pub fn decrypt(msg_enc: Vec<u8>, key: Vec<u8>, nonce: Vec<u8>) -> Option<Vec<u8>> {\n",
    "        use chacha20poly1305::{aead::{Aead, KeyInit}, XChaCha20Poly1305};\n",
    "        let key: [u8; 32] = key.try_into().unwrap();\n",
    "        let nonce: [u8; 24] = nonce.try_into().unwrap();\n",
    "        let cipher = XChaCha20Poly1305::new(&key.into());\n",
    "        if let Ok(msg) = cipher.decrypt(&nonce.into(), msg_enc.as_ref()) {\n",
    "            Some(msg)\n",
    "        } else {\n",
    "            None\n",
    "        }\n",
    "    }\n",
    "\n",
    "    const unlocked_schema_raw: &str = r#\"\n",
    "    {\n",
    "        \"type\": \"record\",\n",
    "        \"name\": \"unlocked\",\n",
    "        \"fields\": [\n",
    "            {\"name\": \"db\", \"type\": {\"type\": \"map\", \"values\": \"string\"}},\n",
    "            {\"name\": \"info\", \"type\": {\"type\": \"map\", \"values\": \"string\"}}\n",
    "        ]\n",
    "    }\n",
    "    \"#;\n",
    "\n",
    "    #[derive(Debug, Deserialize, Serialize)]\n",
    "    pub struct AvroUnlocked {\n",
    "        db: HashMap<String, String>,\n",
    "        info: HashMap<String, String>,\n",
    "    }\n",
    "    \n",
    "    const locked_schema_raw: &str = r#\"\n",
    "    {\n",
    "        \"type\": \"record\",\n",
    "        \"name\": \"locked\",\n",
    "        \"fields\": [\n",
    "            {\"name\": \"db\", \"type\": \"string\"},\n",
    "            {\"name\": \"info\", \"type\": {\"type\": \"map\", \"values\": \"string\"}}\n",
    "        ]\n",
    "    }\n",
    "    \"#;\n",
    "\n",
    "    #[derive(Debug, Deserialize, Serialize)]\n",
    "    pub struct AvroLocked {\n",
    "        db: String,\n",
    "        info: HashMap<String, String>,\n",
    "    }\n",
    "\n",
    "    #[derive(Default, Debug)]\n",
    "    pub struct Unlocked {\n",
    "        db: HashMap<String, String>,\n",
    "        info: HashMap<String, String>,\n",
    "        key: Vec<u8>,\n",
    "    }\n",
    "\n",
    "    #[derive(Debug, Default)]\n",
    "    pub struct Locked {\n",
    "        db: String,\n",
    "        info: HashMap<String, String>,\n",
    "    }\n",
    "\n",
    "\n",
    "    impl AvroUnlocked {\n",
    "        pub fn to_unlocked_struct(self, key: Vec<u8>) -> Unlocked {\n",
    "             Unlocked {\n",
    "                 db: self.db,\n",
    "                 info: self.info,\n",
    "                 key: key,\n",
    "             }\n",
    "        }\n",
    "    }\n",
    "\n",
    "    impl AvroLocked {\n",
    "        pub fn to_locked_struct(self) -> Locked {\n",
    "             Locked {\n",
    "                 db: self.db,\n",
    "                 info: self.info,\n",
    "             }\n",
    "        }\n",
    "    }\n",
    "    \n",
    "    impl Unlocked {\n",
    "        \n",
    "        pub fn new(key: impl Into<String>) -> Self {\n",
    "            let mut obj = Unlocked {\n",
    "                db: Default::default(),\n",
    "                info: Default::default(),\n",
    "                key: hash_heavy(key.into()),\n",
    "            };\n",
    "            let mut randy = [0u8; 32];\n",
    "            getrandom::getrandom(&mut randy);\n",
    "            obj.set_info(\"uid\", to_base64(&randy.to_vec()));\n",
    "            obj\n",
    "        }\n",
    "        \n",
    "        pub fn lock(self) -> Locked {\n",
    "            let cadb = compress(self.to_avro());\n",
    "            let nonce = hash_lite(&cadb)[..24].to_vec();\n",
    "            let mut info = HashMap::<String, String>::new();\n",
    "            info.extend(self.info);\n",
    "            info.insert(\"nonce\".into(), to_base64(&nonce));\n",
    "            let db = to_base64(&encrypt(cadb, self.key, nonce));\n",
    "            Locked {\n",
    "                db: db,\n",
    "                info: info,\n",
    "            }\n",
    "        }\n",
    "    \n",
    "        pub fn get(&self, akey: &String) -> Option<String> {\n",
    "            self.db.get(akey).cloned()\n",
    "        }\n",
    "    \n",
    "        \n",
    "        pub fn set(&mut self, akey: impl Into<String>, aval: impl Into<String>) {\n",
    "            self.db.insert(akey.into(), aval.into());\n",
    "        }\n",
    "    \n",
    "        pub fn get_info(&self, akey: &String) -> Option<String> {\n",
    "            self.info.get(akey).cloned()\n",
    "        }\n",
    "    \n",
    "        \n",
    "        pub fn set_info(&mut self, akey: impl Into<String>, aval: impl Into<String>) {\n",
    "            self.info.insert(akey.into(), aval.into());\n",
    "        }\n",
    "\n",
    "        pub fn merge(&mut self, other: Unlocked) {\n",
    "            self.db.extend(other.db);\n",
    "        }\n",
    "\n",
    "        pub fn to_avro_struct(&self) -> AvroUnlocked {\n",
    "            AvroUnlocked {\n",
    "                db: self.db.clone(),\n",
    "                info: self.info.clone(),\n",
    "            }\n",
    "        }\n",
    "\n",
    "        pub fn to_avro(&self) -> Vec<u8> {\n",
    "            use apache_avro::{to_value, Schema, Writer};\n",
    "            let schema = Schema::parse_str(unlocked_schema_raw).unwrap();\n",
    "            let mut writer = Writer::new(&schema, Vec::new());\n",
    "            writer.append(to_value(&self.to_avro_struct()).unwrap()).unwrap();\n",
    "            let avro_dat = writer.into_inner().unwrap();\n",
    "            avro_dat\n",
    "        }\n",
    "\n",
    "        pub fn from_avro(avro_dat: Vec<u8>, key: Vec<u8>) -> Unlocked {\n",
    "            use apache_avro::{from_value, Reader};\n",
    "            let reader = Reader::new(&avro_dat[..]).unwrap();\n",
    "            let db = from_value::<AvroUnlocked>(&reader.last().unwrap().unwrap()).unwrap();\n",
    "            db.to_unlocked_struct(key)\n",
    "        }\n",
    "    }\n",
    "\n",
    "    /*\n",
    "    impl std::fmt::Debug for Unlocked {\n",
    "        fn fmt(&self, objf: &mut std::fmt::Formatter) -> std::fmt::Result {\n",
    "            write!(objf, \"Database::Unlocked: {{ redacted }}\")\n",
    "        }\n",
    "    }\n",
    "    */\n",
    "\n",
    "    impl Locked {\n",
    "        \n",
    "        pub fn unlock(self, password: impl Into<String>) -> Option<Unlocked> {\n",
    "            let key = hash_heavy(password.into());\n",
    "            let nonce = from_base64(&self.info.get(\"nonce\").unwrap());\n",
    "            let cradb = decrypt(from_base64(&self.db), key.clone(), nonce);\n",
    "            if cradb.is_none() {\n",
    "                return None;\n",
    "            }\n",
    "            let radb = decompress(cradb.unwrap());\n",
    "            let db = Unlocked::from_avro(radb, key);\n",
    "            Some(db)\n",
    "        }\n",
    "\n",
    "        pub fn to_avro_struct(&self) -> AvroLocked {\n",
    "            AvroLocked {\n",
    "                db: self.db.clone(),\n",
    "                info: self.info.clone(),\n",
    "            }\n",
    "        }\n",
    "\n",
    "        pub fn to_avro(&self) -> Vec<u8> {\n",
    "            use apache_avro::{to_value, Schema, Writer};\n",
    "            let schema = Schema::parse_str(locked_schema_raw).unwrap();\n",
    "            let mut writer = Writer::new(&schema, Vec::new());\n",
    "            writer.append(to_value(&self.to_avro_struct()).unwrap()).unwrap();\n",
    "            let avro_dat = writer.into_inner().unwrap();\n",
    "            avro_dat\n",
    "        }\n",
    "\n",
    "        pub fn from_avro(avro_dat: Vec<u8>) -> Locked {\n",
    "            use apache_avro::{from_value, Reader};\n",
    "            let reader = Reader::new(&avro_dat[..]).unwrap();\n",
    "            let db = from_value::<AvroLocked>(&reader.last().unwrap().unwrap()).unwrap();\n",
    "            db.to_locked_struct()\n",
    "        }\n",
    "\n",
    "\n",
    "    }\n",
    "\n",
    "}"
   ]
  },
  {
   "cell_type": "code",
   "execution_count": 4,
   "id": "4274ab46-e772-4f44-a75f-c763c7119384",
   "metadata": {},
   "outputs": [
    {
     "data": {
      "text/plain": [
       "Unlocked { db: {}, info: {\"uid\": \"ie0g6a8g8Gff4qxK6TXhffz8XmSgDKJaY2xlT57lleE\"}, key: [31, 237, 125, 123, 74, 172, 79, 110, 57, 22, 0, 231, 83, 11, 63, 96, 30, 79, 197, 117, 173, 128, 49, 12, 161, 121, 237, 163, 211, 88, 187, 138] }"
      ]
     },
     "execution_count": 4,
     "metadata": {},
     "output_type": "execute_result"
    }
   ],
   "source": [
    "let mut db = Database::Unlocked::new(\"test_key\");\n",
    "db"
   ]
  },
  {
   "cell_type": "code",
   "execution_count": 5,
   "id": "048445ab-e7fa-4e98-be31-9e3811d55688",
   "metadata": {},
   "outputs": [
    {
     "data": {
      "text/plain": [
       "Unlocked { db: {}, info: {\"name\": \"test_db\", \"uid\": \"ie0g6a8g8Gff4qxK6TXhffz8XmSgDKJaY2xlT57lleE\"}, key: [31, 237, 125, 123, 74, 172, 79, 110, 57, 22, 0, 231, 83, 11, 63, 96, 30, 79, 197, 117, 173, 128, 49, 12, 161, 121, 237, 163, 211, 88, 187, 138] }"
      ]
     },
     "execution_count": 5,
     "metadata": {},
     "output_type": "execute_result"
    }
   ],
   "source": [
    "db.set_info(\"name\", \"test_db\");\n",
    "db"
   ]
  },
  {
   "cell_type": "code",
   "execution_count": 6,
   "id": "78469334-4128-481f-95d6-dede856f1d0b",
   "metadata": {},
   "outputs": [
    {
     "data": {
      "text/plain": [
       "Unlocked { db: {\"k3\": \"v3\", \"k1\": \"v1\", \"k2\": \"v2\"}, info: {\"name\": \"test_db\", \"uid\": \"ie0g6a8g8Gff4qxK6TXhffz8XmSgDKJaY2xlT57lleE\"}, key: [31, 237, 125, 123, 74, 172, 79, 110, 57, 22, 0, 231, 83, 11, 63, 96, 30, 79, 197, 117, 173, 128, 49, 12, 161, 121, 237, 163, 211, 88, 187, 138] }"
      ]
     },
     "execution_count": 6,
     "metadata": {},
     "output_type": "execute_result"
    }
   ],
   "source": [
    "db.set(\"k1\", \"v1\");\n",
    "db.set(\"k2\", \"v2\");\n",
    "db.set(\"k3\", \"v3\");\n",
    "db"
   ]
  },
  {
   "cell_type": "code",
   "execution_count": 7,
   "id": "90e1a673-1641-4699-964e-b5ebed04c002",
   "metadata": {},
   "outputs": [
    {
     "data": {
      "text/plain": [
       "Locked { db: \"zph6W30jXXEffe+IM0FLPsAPxk+p7INLPW15V46mHwQJTl7kPCEctvUpqB0zRQMrboHJQMWJZjC8oKppD0pSCJmxx6yEePk5ODwrQovSDwM+NsDWDQL58QjO5GIqVgZIrELZ+XDtBCjoRVQC6LgJ0UnK4fY7ROxHZ6pNyIgM/JW/oPvw8y9bAvfD6ajIu+Lo1PyeFyXFZNgjBCALOFpLPB4T6Ioumzk8Udfp3BynbT973JkW7UAEu+1fj5i8aH5VEq29xsqQaEoKrK/+d+do4rCz4pugQxaz+hdw5Y1NdbMBO/H8wrlK2NYozeGavB8QcDO14B2EBFxnKg1/dn2MCKCLX4uc4Iff53JfHCaeBHYkWfjX\", info: {\"name\": \"test_db\", \"uid\": \"ie0g6a8g8Gff4qxK6TXhffz8XmSgDKJaY2xlT57lleE\", \"nonce\": \"vGT3pmOq1d2T9kjg7wm/+I970U4S4/nJ\"} }"
      ]
     },
     "execution_count": 7,
     "metadata": {},
     "output_type": "execute_result"
    }
   ],
   "source": [
    "let db = db.lock();\n",
    "db"
   ]
  },
  {
   "cell_type": "code",
   "execution_count": 8,
   "id": "9ce52657-8b65-4ef9-8f8f-f3815bd4691b",
   "metadata": {},
   "outputs": [
    {
     "data": {
      "text/plain": [
       "Unlocked { db: {\"k3\": \"v3\", \"k1\": \"v1\", \"k2\": \"v2\"}, info: {\"uid\": \"ie0g6a8g8Gff4qxK6TXhffz8XmSgDKJaY2xlT57lleE\", \"name\": \"test_db\"}, key: [31, 237, 125, 123, 74, 172, 79, 110, 57, 22, 0, 231, 83, 11, 63, 96, 30, 79, 197, 117, 173, 128, 49, 12, 161, 121, 237, 163, 211, 88, 187, 138] }"
      ]
     },
     "execution_count": 8,
     "metadata": {},
     "output_type": "execute_result"
    }
   ],
   "source": [
    "let db = db.unlock(\"test_key\").unwrap();\n",
    "db"
   ]
  },
  {
   "cell_type": "code",
   "execution_count": 9,
   "id": "0a96fdec-bf0b-4dca-ae66-4cff76780a48",
   "metadata": {},
   "outputs": [
    {
     "data": {
      "text/plain": [
       "Locked { db: \"l+ZnzFynzGfdY5kSAxmz1Z537V6EY6GY9pzPJG8KoMx7hR60FWO6kjDY4FMaiB4OyiOt4C96+OPK0PooXWxFBDMPS2dJ2nBkm+VFKlrmJBQdIbL2IcZTqqF43KyiDgH0wHYLM3jsSFfudROMllejV3rPANFbH/YZx5gp7Sw49oid3qyrB7FstUcTBv3SDvBsyXJcj5Xov0PWeNvk+QzIT3ST4NCLYfDn6EN1gb5tDF06vcNX+zsYIile857s85vDaVH3bsHXzZNfyQrUnUyXkTN0uJ1w64PJvqZIkziIpQgn8bZGnQo0WAl5asfy6puON9RAtbByWZJl9Ujf9LJOISA4LLG7cNdDhHd8KoHD9WBgpquGzA\", info: {\"nonce\": \"Nz8maHPgyKTn+yaqkg9zMvIcaiuOy1uq\", \"uid\": \"ie0g6a8g8Gff4qxK6TXhffz8XmSgDKJaY2xlT57lleE\", \"name\": \"test_db\"} }"
      ]
     },
     "execution_count": 9,
     "metadata": {},
     "output_type": "execute_result"
    }
   ],
   "source": [
    "let db = db.lock();\n",
    "db"
   ]
  },
  {
   "cell_type": "code",
   "execution_count": 10,
   "id": "150b3202-753b-445a-9f07-ba17fc0f730a",
   "metadata": {},
   "outputs": [
    {
     "data": {
      "text/plain": [
       "[79, 98, 106, 1, 4, 22, 97, 118, 114, 111, 46, 115, 99, 104, 101, 109, 97, 132, 2, 123, 34, 116, 121, 112, 101, 34, 58, 34, 114, 101, 99, 111, 114, 100, 34, 44, 34, 110, 97, 109, 101, 34, 58, 34, 108, 111, 99, 107, 101, 100, 34, 44, 34, 102, 105, 101, 108, 100, 115, 34, 58, 91, 123, 34, 110, 97, 109, 101, 34, 58, 34, 100, 98, 34, 44, 34, 116, 121, 112, 101, 34, 58, 34, 115, 116, 114, 105, 110, 103, 34, 125, 44, 123, 34, 110, 97, 109, 101, 34, 58]"
      ]
     },
     "execution_count": 10,
     "metadata": {},
     "output_type": "execute_result"
    }
   ],
   "source": [
    "db.to_avro()[..100]"
   ]
  },
  {
   "cell_type": "code",
   "execution_count": 11,
   "id": "7b2279a2-1437-49b7-9979-e30599861a25",
   "metadata": {},
   "outputs": [
    {
     "data": {
      "text/plain": [
       "Locked { db: \"l+ZnzFynzGfdY5kSAxmz1Z537V6EY6GY9pzPJG8KoMx7hR60FWO6kjDY4FMaiB4OyiOt4C96+OPK0PooXWxFBDMPS2dJ2nBkm+VFKlrmJBQdIbL2IcZTqqF43KyiDgH0wHYLM3jsSFfudROMllejV3rPANFbH/YZx5gp7Sw49oid3qyrB7FstUcTBv3SDvBsyXJcj5Xov0PWeNvk+QzIT3ST4NCLYfDn6EN1gb5tDF06vcNX+zsYIile857s85vDaVH3bsHXzZNfyQrUnUyXkTN0uJ1w64PJvqZIkziIpQgn8bZGnQo0WAl5asfy6puON9RAtbByWZJl9Ujf9LJOISA4LLG7cNdDhHd8KoHD9WBgpquGzA\", info: {\"nonce\": \"Nz8maHPgyKTn+yaqkg9zMvIcaiuOy1uq\", \"uid\": \"ie0g6a8g8Gff4qxK6TXhffz8XmSgDKJaY2xlT57lleE\", \"name\": \"test_db\"} }"
      ]
     },
     "execution_count": 11,
     "metadata": {},
     "output_type": "execute_result"
    }
   ],
   "source": [
    "let db = Database::Locked::from_avro(db.to_avro());\n",
    "db"
   ]
  },
  {
   "cell_type": "code",
   "execution_count": 12,
   "id": "c7e59a57-d7fc-454c-ae6e-481c34bc3942",
   "metadata": {},
   "outputs": [
    {
     "data": {
      "text/plain": [
       "Unlocked { db: {\"k3\": \"v3\", \"k1\": \"v1\", \"k2\": \"v2\"}, info: {\"name\": \"test_db\", \"uid\": \"ie0g6a8g8Gff4qxK6TXhffz8XmSgDKJaY2xlT57lleE\"}, key: [31, 237, 125, 123, 74, 172, 79, 110, 57, 22, 0, 231, 83, 11, 63, 96, 30, 79, 197, 117, 173, 128, 49, 12, 161, 121, 237, 163, 211, 88, 187, 138] }"
      ]
     },
     "execution_count": 12,
     "metadata": {},
     "output_type": "execute_result"
    }
   ],
   "source": [
    "let db = db.unlock(\"test_key\").unwrap();\n",
    "db"
   ]
  },
  {
   "cell_type": "code",
   "execution_count": 13,
   "id": "a92bb821-d81b-47a9-a711-ae9a2480e61b",
   "metadata": {},
   "outputs": [],
   "source": [
    "// todo: Locked -> AvroLocked -> Reed-Solomon -> Vec<u8> -> name.digisafe"
   ]
  },
  {
   "cell_type": "code",
   "execution_count": null,
   "id": "6675c9b7-cb3d-412b-ba9b-9774fc0e3646",
   "metadata": {},
   "outputs": [],
   "source": []
  },
  {
   "cell_type": "code",
   "execution_count": null,
   "id": "425ea0b2-dbeb-456b-9493-f858090b72ed",
   "metadata": {},
   "outputs": [],
   "source": []
  }
 ],
 "metadata": {
  "kernelspec": {
   "display_name": "Rust",
   "language": "rust",
   "name": "rust"
  },
  "language_info": {
   "codemirror_mode": "rust",
   "file_extension": ".rs",
   "mimetype": "text/rust",
   "name": "Rust",
   "pygment_lexer": "rust",
   "version": ""
  }
 },
 "nbformat": 4,
 "nbformat_minor": 5
}
