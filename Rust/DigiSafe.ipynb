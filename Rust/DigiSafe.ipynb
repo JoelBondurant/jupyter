{
 "cells": [
  {
   "cell_type": "markdown",
   "id": "343f8d52-ccc5-4123-8b09-64abda3955a4",
   "metadata": {},
   "source": [
    "## DigiSafe\n",
    "---"
   ]
  },
  {
   "cell_type": "code",
   "execution_count": 2,
   "id": "1d82aea1-3a18-4499-8aac-12e2fff882c1",
   "metadata": {},
   "outputs": [
    {
     "data": {
      "text/plain": [
       "cache: 1000 MiB\n"
      ]
     },
     "execution_count": 2,
     "metadata": {},
     "output_type": "execute_result"
    }
   ],
   "source": [
    ":cache 1000\n",
    ":dep apache-avro\n",
    ":dep argon2\n",
    ":dep base64ct = { features = [\"alloc\"] }\n",
    ":dep chacha20poly1305\n",
    ":dep getrandom\n",
    ":dep lz4\n",
    ":dep reed-solomon\n",
    ":dep serde = { features = [\"derive\"] }\n",
    ":dep sha3"
   ]
  },
  {
   "cell_type": "code",
   "execution_count": 3,
   "id": "36a156df-7c9c-4795-9182-809059d89091",
   "metadata": {},
   "outputs": [],
   "source": [
    "pub mod Database {\n",
    "\n",
    "    // Database<Unlocked> <-> Avro <-> LZ4 <-> ChaCha20Poly1305 <-> Base64 <-> Database<Locked>\n",
    "    // Database<Locked> -> Avro -> Reed-Solomon -> Vec<u8> -> name.digisafe\n",
    "\n",
    "    use serde::{Deserialize, Serialize};\n",
    "    use std::collections::HashMap;\n",
    "    use std::io::{Read, Write};\n",
    "\n",
    "    pub fn hash_lite(msg: &Vec<u8>) -> Vec<u8> {\n",
    "        use sha3::{Digest, Sha3_256};\n",
    "        Sha3_256::digest(Sha3_256::digest(msg)).to_vec()\n",
    "    }\n",
    "\n",
    "    pub fn hash_heavy(msg: String) -> Vec<u8> {\n",
    "        use argon2::{Algorithm, Argon2, ParamsBuilder, password_hash::{PasswordHasher, SaltString}, Version};\n",
    "        let lite_hash = hash_lite(&msg.into());\n",
    "        let params = ParamsBuilder::new().m_cost(2u32.pow(20)).t_cost(2).p_cost(8).output_len(32).build().unwrap();\n",
    "        let hasher = Argon2::new(Algorithm::Argon2id, Version::V0x13, params);\n",
    "        let salt = SaltString::encode_b64(b\"digisafe\").unwrap();\n",
    "        let heavy_hash = hasher.hash_password(&lite_hash, &salt).unwrap().hash.unwrap().as_bytes().to_owned();\n",
    "        hash_lite(&heavy_hash)\n",
    "    }\n",
    "\n",
    "    pub fn to_base64(msg: &Vec<u8>) -> String {\n",
    "        use base64ct::{Base64, Encoding};\n",
    "        Base64::encode_string(msg)\n",
    "    }\n",
    "\n",
    "    pub fn from_base64(msg_enc: &String) -> Vec<u8> {\n",
    "        use base64ct::{Base64, Encoding};\n",
    "        Base64::decode_vec(&msg_enc).unwrap()\n",
    "    }\n",
    "\n",
    "    pub fn compress(msg: Vec<u8>) -> Vec<u8> {\n",
    "        use lz4::{Decoder, EncoderBuilder};\n",
    "        let mut encoder = EncoderBuilder::new().level(9).build(vec![]).unwrap();\n",
    "        encoder.write(&msg[..]);\n",
    "        encoder.finish().0\n",
    "    }\n",
    "\n",
    "    pub fn decompress(msg_enc: Vec<u8>) -> Vec<u8> {\n",
    "        use lz4::Decoder;\n",
    "        let mut msg = vec![];\n",
    "        {\n",
    "            let mut decoder = Decoder::new(&msg_enc[..]).unwrap();\n",
    "            std::io::copy(&mut decoder, &mut msg);\n",
    "        }\n",
    "        msg\n",
    "    }\n",
    "    \n",
    "    pub fn encrypt(msg: Vec<u8>, key: Vec<u8>, nonce: Vec<u8>) -> Vec<u8> {\n",
    "        use chacha20poly1305::{aead::{Aead, KeyInit}, XChaCha20Poly1305};\n",
    "        let key: [u8; 32] = key[..].try_into().unwrap();\n",
    "        let nonce: [u8; 24] = nonce.try_into().unwrap();\n",
    "        let cipher = XChaCha20Poly1305::new(&key.into());\n",
    "        cipher.encrypt(&nonce.into(), &msg[..]).unwrap()\n",
    "    }\n",
    "\n",
    "    pub fn decrypt(msg_enc: Vec<u8>, key: Vec<u8>, nonce: Vec<u8>) -> Option<Vec<u8>> {\n",
    "        use chacha20poly1305::{aead::{Aead, KeyInit}, XChaCha20Poly1305};\n",
    "        let key: [u8; 32] = key.try_into().unwrap();\n",
    "        let nonce: [u8; 24] = nonce.try_into().unwrap();\n",
    "        let cipher = XChaCha20Poly1305::new(&key.into());\n",
    "        if let Ok(msg) = cipher.decrypt(&nonce.into(), msg_enc.as_ref()) {\n",
    "            Some(msg)\n",
    "        } else {\n",
    "            None\n",
    "        }\n",
    "    }\n",
    "\n",
    "    fn to_ecc_batch(dat: Vec<u8>) -> Vec<u8> {\n",
    "        use reed_solomon::Encoder;\n",
    "        let enc = Encoder::new(8);\n",
    "        Vec::from(&enc.encode(&dat[..])[..])\n",
    "    }\n",
    "\n",
    "    fn from_ecc_batch(dat_enc: Vec<u8>) -> Vec<u8> {\n",
    "        use reed_solomon::Decoder;\n",
    "        let dec = Decoder::new(8);\n",
    "        dec.correct(&dat_enc[..], None).unwrap().data().to_owned()\n",
    "    }\n",
    "\n",
    "    fn to_ecc(dat: Vec<u8>) -> Vec<u8> {\n",
    "        let dat_len = dat.len();\n",
    "        let batch_size = 247usize;\n",
    "        let batches = ((dat_len as f64)/(batch_size as f64)).ceil() as usize;\n",
    "        let mut dat_enc = Vec::<u8>::with_capacity(dat_len + 8*batches);\n",
    "        let mut a = 0usize;\n",
    "        for _ in 0..batches {\n",
    "            let b = std::cmp::min(a + batch_size, dat_len);\n",
    "            let dat_slice = &dat[a..b];\n",
    "            let enc_dat_slice = to_ecc_batch(dat_slice.to_vec());\n",
    "            dat_enc.extend_from_slice(&enc_dat_slice[..]);\n",
    "            a = std::cmp::min(a + batch_size, dat_len);\n",
    "        }\n",
    "        dat_enc\n",
    "    }\n",
    "\n",
    "    fn from_ecc(dat_enc: Vec<u8>) -> Vec<u8> {\n",
    "        let dat_enc_len = dat_enc.len();\n",
    "        let batch_size = 255usize;\n",
    "        let batches = ((dat_enc_len as f64)/(batch_size as f64)).ceil() as usize;\n",
    "        let mut dat = Vec::<u8>::with_capacity(dat_enc_len - 8*batches);\n",
    "        let mut a = 0usize;\n",
    "        for _ in 0..batches {\n",
    "            let b = std::cmp::min(a + batch_size, dat_enc_len);\n",
    "            let dat_enc_slice = &dat_enc[a..b];\n",
    "            let dat_slice = from_ecc_batch(dat_enc_slice.to_vec());\n",
    "            dat.extend_from_slice(&dat_slice[..]);\n",
    "            a += batch_size;\n",
    "            a = std::cmp::min(a, dat_enc_len);\n",
    "        }\n",
    "        dat\n",
    "    }\n",
    "\n",
    "    const unlocked_schema_raw: &str = r#\"\n",
    "    {\n",
    "        \"type\": \"record\",\n",
    "        \"name\": \"unlocked\",\n",
    "        \"fields\": [\n",
    "            {\"name\": \"db\", \"type\": {\"type\": \"map\", \"values\": \"string\"}},\n",
    "            {\"name\": \"meta\", \"type\": {\"type\": \"map\", \"values\": \"string\"}}\n",
    "        ]\n",
    "    }\n",
    "    \"#;\n",
    "    \n",
    "    const locked_schema_raw: &str = r#\"\n",
    "    {\n",
    "        \"type\": \"record\",\n",
    "        \"name\": \"locked\",\n",
    "        \"fields\": [\n",
    "            {\"name\": \"db\", \"type\": \"string\"},\n",
    "            {\"name\": \"meta\", \"type\": {\"type\": \"map\", \"values\": \"string\"}}\n",
    "        ]\n",
    "    }\n",
    "    \"#;\n",
    "\n",
    "    #[derive(Debug, Deserialize, Serialize)]\n",
    "    pub struct AvroUnlocked {\n",
    "        db: HashMap<String, String>,\n",
    "        meta: HashMap<String, String>,\n",
    "    }\n",
    "\n",
    "    #[derive(Debug, Deserialize, Serialize)]\n",
    "    pub struct AvroLocked {\n",
    "        db: String,\n",
    "        meta: HashMap<String, String>,\n",
    "    }\n",
    "\n",
    "    #[derive(Default, Debug)]\n",
    "    pub struct Unlocked {\n",
    "        db: HashMap<String, String>,\n",
    "        meta: HashMap<String, String>,\n",
    "        key: Vec<u8>,\n",
    "    }\n",
    "\n",
    "    #[derive(Debug, Default)]\n",
    "    pub struct Locked {\n",
    "        db: String,\n",
    "        meta: HashMap<String, String>,\n",
    "        key: Vec<u8>,\n",
    "    }\n",
    "\n",
    "    impl AvroUnlocked {\n",
    "        pub fn to_unlocked_struct(self, key: Vec<u8>) -> Unlocked {\n",
    "             Unlocked {\n",
    "                 db: self.db,\n",
    "                 meta: self.meta,\n",
    "                 key: key,\n",
    "             }\n",
    "        }\n",
    "    }\n",
    "\n",
    "    impl AvroLocked {\n",
    "        pub fn to_locked_struct(self) -> Locked {\n",
    "             Locked {\n",
    "                 db: self.db,\n",
    "                 meta: self.meta,\n",
    "                 key: Default::default(),\n",
    "             }\n",
    "        }\n",
    "    }\n",
    "    \n",
    "    impl Unlocked {\n",
    "        \n",
    "        pub fn new(key: impl Into<String>) -> Self {\n",
    "            let mut db = Unlocked {\n",
    "                db: Default::default(),\n",
    "                meta: Default::default(),\n",
    "                key: hash_heavy(key.into()),\n",
    "            };\n",
    "            let ts = std::time::SystemTime::now()\n",
    "                     .duration_since(std::time::UNIX_EPOCH).unwrap().as_secs().to_string();\n",
    "            let mut randy = [0u8; 32];\n",
    "            getrandom::getrandom(&mut randy);\n",
    "            let randy = to_base64(&randy.to_vec());\n",
    "            db.set_meta(\"uid\", randy);\n",
    "            db.set_meta(\"app\", \"digisafe\");\n",
    "            db.set_meta(\"revision\", \"0\");\n",
    "            db.set_meta(\"version\", \"1.0.0\");\n",
    "            db.set_meta(\"timestamp\", ts);\n",
    "            db\n",
    "        }\n",
    "        \n",
    "        pub fn lock(self) -> Locked {\n",
    "            let cadb = compress(self.to_avro());\n",
    "            let nonce = hash_lite(&cadb)[..24].to_vec();\n",
    "            let mut meta = HashMap::<String, String>::new();\n",
    "            meta.extend(self.meta);\n",
    "            meta.insert(\"nonce\".into(), to_base64(&nonce));\n",
    "            let db = to_base64(&encrypt(cadb, self.key.clone(), nonce));\n",
    "            Locked {\n",
    "                db: db,\n",
    "                meta: meta,\n",
    "                key: self.key,\n",
    "            }\n",
    "        }\n",
    "    \n",
    "        pub fn get(&self, akey: &String) -> Option<String> {\n",
    "            self.db.get(akey).cloned()\n",
    "        }\n",
    "    \n",
    "        \n",
    "        pub fn set(&mut self, akey: impl Into<String>, aval: impl Into<String>) {\n",
    "            self.db.insert(akey.into(), aval.into());\n",
    "        }\n",
    "    \n",
    "        pub fn get_private(&self, akey: &String) -> Option<String> {\n",
    "            self.db.get(&(\"_\".to_string() + &akey)).cloned()\n",
    "        }\n",
    "    \n",
    "        \n",
    "        pub fn set_private(&mut self, akey: impl Into<String>, aval: impl Into<String>) {\n",
    "            self.db.insert(\"_\".to_string() + &akey.into(), aval.into());\n",
    "        }\n",
    "    \n",
    "        pub fn get_meta(&self, akey: &String) -> Option<String> {\n",
    "            self.meta.get(akey).cloned()\n",
    "        }\n",
    "    \n",
    "        \n",
    "        pub fn set_meta(&mut self, akey: impl Into<String>, aval: impl Into<String>) {\n",
    "            self.meta.insert(akey.into(), aval.into());\n",
    "        }\n",
    "\n",
    "        pub fn merge(&mut self, other: Unlocked) {\n",
    "            self.db.extend(other.db);\n",
    "        }\n",
    "\n",
    "        pub fn to_avro_struct(&self) -> AvroUnlocked {\n",
    "            AvroUnlocked {\n",
    "                db: self.db.clone(),\n",
    "                meta: self.meta.clone(),\n",
    "            }\n",
    "        }\n",
    "\n",
    "        pub fn to_avro(&self) -> Vec<u8> {\n",
    "            use apache_avro::{to_value, Schema, Writer};\n",
    "            let schema = Schema::parse_str(unlocked_schema_raw).unwrap();\n",
    "            let mut writer = Writer::new(&schema, Vec::new());\n",
    "            writer.append(to_value(&self.to_avro_struct()).unwrap()).unwrap();\n",
    "            let avro_dat = writer.into_inner().unwrap();\n",
    "            avro_dat\n",
    "        }\n",
    "\n",
    "        pub fn from_avro(avro_dat: Vec<u8>, key: Vec<u8>) -> Unlocked {\n",
    "            use apache_avro::{from_value, Reader};\n",
    "            let reader = Reader::new(&avro_dat[..]).unwrap();\n",
    "            let db = from_value::<AvroUnlocked>(&reader.last().unwrap().unwrap()).unwrap();\n",
    "            db.to_unlocked_struct(key)\n",
    "        }\n",
    "    }\n",
    "\n",
    "    /*\n",
    "    impl std::fmt::Debug for Unlocked {\n",
    "        fn fmt(&self, objf: &mut std::fmt::Formatter) -> std::fmt::Result {\n",
    "            write!(objf, \"Database::Unlocked: {{ redacted }}\")\n",
    "        }\n",
    "    }\n",
    "\n",
    "    impl std::fmt::Debug for AvroUnlocked {\n",
    "        fn fmt(&self, objf: &mut std::fmt::Formatter) -> std::fmt::Result {\n",
    "            write!(objf, \"Database::AvroUnlocked: {{ redacted }}\")\n",
    "        }\n",
    "    }\n",
    "    */\n",
    "\n",
    "    impl Locked {\n",
    "        \n",
    "        pub fn unlock(self, password: impl Into<String>) -> Option<Unlocked> {\n",
    "            let key = hash_heavy(password.into());\n",
    "            let nonce = from_base64(&self.meta.get(\"nonce\").unwrap());\n",
    "            let cradb = decrypt(from_base64(&self.db), key.clone(), nonce);\n",
    "            if cradb.is_none() {\n",
    "                return None;\n",
    "            }\n",
    "            let radb = decompress(cradb.unwrap());\n",
    "            let db = Unlocked::from_avro(radb, key);\n",
    "            Some(db)\n",
    "        }\n",
    "\n",
    "        pub fn to_avro_struct(&self) -> AvroLocked {\n",
    "            AvroLocked {\n",
    "                db: self.db.clone(),\n",
    "                meta: self.meta.clone(),\n",
    "            }\n",
    "        }\n",
    "\n",
    "        pub fn to_avro(&self) -> Vec<u8> {\n",
    "            use apache_avro::{to_value, Schema, Writer};\n",
    "            let schema = Schema::parse_str(locked_schema_raw).unwrap();\n",
    "            let mut writer = Writer::new(&schema, Vec::new());\n",
    "            writer.append(to_value(&self.to_avro_struct()).unwrap()).unwrap();\n",
    "            let avro_dat = writer.into_inner().unwrap();\n",
    "            avro_dat\n",
    "        }\n",
    "\n",
    "        pub fn from_avro(avro_dat: Vec<u8>) -> Locked {\n",
    "            use apache_avro::{from_value, Reader};\n",
    "            let reader = Reader::new(&avro_dat[..]).unwrap();\n",
    "            let db = from_value::<AvroLocked>(&reader.last().unwrap().unwrap()).unwrap();\n",
    "            db.to_locked_struct()\n",
    "        }\n",
    "\n",
    "        pub fn to_vec(&self) -> Vec<u8> {\n",
    "            to_ecc(self.to_avro())\n",
    "        }\n",
    "\n",
    "        pub fn from_vec(dat_ecc: Vec<u8>) -> Locked {\n",
    "            Locked::from_avro(from_ecc(dat_ecc))\n",
    "        }\n",
    "\n",
    "    }\n",
    "\n",
    "}"
   ]
  },
  {
   "cell_type": "code",
   "execution_count": 4,
   "id": "4274ab46-e772-4f44-a75f-c763c7119384",
   "metadata": {},
   "outputs": [
    {
     "data": {
      "text/plain": [
       "Unlocked { db: {}, meta: {\"version\": \"1.0.0\", \"timestamp\": \"1699507466\", \"uid\": \"16qGl4E+LsKGkCgNgjX8Rm/avVNjjChpHfrnb01qA5w=\", \"app\": \"digisafe\", \"revision\": \"0\"}, key: [146, 251, 216, 195, 51, 10, 173, 46, 196, 91, 169, 181, 149, 93, 179, 66, 192, 91, 240, 175, 185, 222, 31, 183, 198, 99, 75, 154, 88, 8, 146, 245] }"
      ]
     },
     "execution_count": 4,
     "metadata": {},
     "output_type": "execute_result"
    }
   ],
   "source": [
    "let mut db = Database::Unlocked::new(\"test_key\");\n",
    "db"
   ]
  },
  {
   "cell_type": "code",
   "execution_count": 5,
   "id": "eff6534c-ed0f-4ab4-8529-ea4ce1722b18",
   "metadata": {},
   "outputs": [
    {
     "data": {
      "text/plain": [
       "Unlocked { db: {\"_name\": \"main\"}, meta: {\"version\": \"1.0.0\", \"timestamp\": \"1699507466\", \"uid\": \"16qGl4E+LsKGkCgNgjX8Rm/avVNjjChpHfrnb01qA5w=\", \"app\": \"digisafe\", \"revision\": \"0\"}, key: [146, 251, 216, 195, 51, 10, 173, 46, 196, 91, 169, 181, 149, 93, 179, 66, 192, 91, 240, 175, 185, 222, 31, 183, 198, 99, 75, 154, 88, 8, 146, 245] }"
      ]
     },
     "execution_count": 5,
     "metadata": {},
     "output_type": "execute_result"
    }
   ],
   "source": [
    "db.set_private(\"name\", \"main\");\n",
    "db"
   ]
  },
  {
   "cell_type": "code",
   "execution_count": 6,
   "id": "78469334-4128-481f-95d6-dede856f1d0b",
   "metadata": {},
   "outputs": [
    {
     "data": {
      "text/plain": [
       "Unlocked { db: {\"k1\": \"v1\", \"k2\": \"v2\", \"_name\": \"main\", \"k3\": \"v3\"}, meta: {\"version\": \"1.0.0\", \"timestamp\": \"1699507466\", \"uid\": \"16qGl4E+LsKGkCgNgjX8Rm/avVNjjChpHfrnb01qA5w=\", \"app\": \"digisafe\", \"revision\": \"0\"}, key: [146, 251, 216, 195, 51, 10, 173, 46, 196, 91, 169, 181, 149, 93, 179, 66, 192, 91, 240, 175, 185, 222, 31, 183, 198, 99, 75, 154, 88, 8, 146, 245] }"
      ]
     },
     "execution_count": 6,
     "metadata": {},
     "output_type": "execute_result"
    }
   ],
   "source": [
    "db.set(\"k1\", \"v1\");\n",
    "db.set(\"k2\", \"v2\");\n",
    "db.set(\"k3\", \"v3\");\n",
    "db"
   ]
  },
  {
   "cell_type": "code",
   "execution_count": 7,
   "id": "90e1a673-1641-4699-964e-b5ebed04c002",
   "metadata": {},
   "outputs": [
    {
     "data": {
      "text/plain": [
       "Locked { db: \"xi3YSYnQB9GcKAxma8tPHQSTSS6ik//r8Evg9VEnlXF3rS74ugJXwmD28Qx0BwqFE7NeXSun0QtDnN2a4TjYu9WJd5ycPZGiKf9Awah7bsPNJkWGOQpwjPip4wQUIpCwPTB4/V/lm8YH5DH6gnoR7ZwRkjAwX5moSUV/aD7zz0iNAX8Bpqk88d9zxKCSxnUO+aFPMGrm+XIx2naZRToL3cUYE6v9FqfQ47iD3hfCHV9OR8BLXvXXQujrs452z1S6R2ud60qRPe5LTdRq7poOG7814rmq8JhB55krlvOr8mzv76vOt9S88cN6rCxdykRJ5rMbO1wlO+5i6wBnMjQl7kBtHUgzTIloPB8DiS8d2+T99ThQTn+MRgFm/O+NpvEDPPskZfO4Vh7ctip5gr7jXjt5k8WrdYya+MBkPBC6Esh+c2cq4sk4ZMwnlXUUc3w=\", meta: {\"version\": \"1.0.0\", \"timestamp\": \"1699507466\", \"app\": \"digisafe\", \"revision\": \"0\", \"nonce\": \"Z+lWB8MLbd3dsJ47cnsYH9qVrEXq3/vc\", \"uid\": \"16qGl4E+LsKGkCgNgjX8Rm/avVNjjChpHfrnb01qA5w=\"}, key: [146, 251, 216, 195, 51, 10, 173, 46, 196, 91, 169, 181, 149, 93, 179, 66, 192, 91, 240, 175, 185, 222, 31, 183, 198, 99, 75, 154, 88, 8, 146, 245] }"
      ]
     },
     "execution_count": 7,
     "metadata": {},
     "output_type": "execute_result"
    }
   ],
   "source": [
    "let db = db.lock();\n",
    "db"
   ]
  },
  {
   "cell_type": "code",
   "execution_count": 8,
   "id": "9ce52657-8b65-4ef9-8f8f-f3815bd4691b",
   "metadata": {},
   "outputs": [
    {
     "data": {
      "text/plain": [
       "Unlocked { db: {\"k3\": \"v3\", \"k1\": \"v1\", \"k2\": \"v2\", \"_name\": \"main\"}, meta: {\"uid\": \"16qGl4E+LsKGkCgNgjX8Rm/avVNjjChpHfrnb01qA5w=\", \"app\": \"digisafe\", \"version\": \"1.0.0\", \"timestamp\": \"1699507466\", \"revision\": \"0\"}, key: [146, 251, 216, 195, 51, 10, 173, 46, 196, 91, 169, 181, 149, 93, 179, 66, 192, 91, 240, 175, 185, 222, 31, 183, 198, 99, 75, 154, 88, 8, 146, 245] }"
      ]
     },
     "execution_count": 8,
     "metadata": {},
     "output_type": "execute_result"
    }
   ],
   "source": [
    "let db = db.unlock(\"test_key\").unwrap();\n",
    "db"
   ]
  },
  {
   "cell_type": "code",
   "execution_count": 9,
   "id": "0a96fdec-bf0b-4dca-ae66-4cff76780a48",
   "metadata": {},
   "outputs": [
    {
     "data": {
      "text/plain": [
       "Locked { db: \"Kk2zVrqWiizQDs90GETtId5ItLlrS4PzQeokmhrYDrT039U4125lj1JLolLxw6+Bd9iHrnNBA4dIjOd4UJyoC74PM3+bx1IVz8aHXag4rgHieRWXaq+GueJ6Jk3xQzkziqBp+x5R5GBbvS0gPFvx8BxOAs9ln5xAM7fl/voZMmQAckcwfGMEJYmraFq3u3cuM0+eK9Y8tWfw6syuQX2DT3+4PBsADD8s+eaHk3EZZIHo4JsM2bMYjUoqIfJOS/NR4jQqGJGKqLG7oFqT7sDZIp812lg9AOb861zS5dH0jQ1rLcvcGGwHCTuhg2+dXgJadkcNt3xxaLDKtgWTiYWAGigVmofcTmgY6Lkfs/1WmtfoMniP/XtE7KApXsbUXqJoV9IXFhNHeUT9D/Iy26wzV6OSBZNL/Ym0g8MP+PpBRY67VA63/bDd8XxRLSNQkTg=\", meta: {\"revision\": \"0\", \"nonce\": \"32RWfYzCB3oAXPltTpr/Abol5XhhpgcS\", \"version\": \"1.0.0\", \"uid\": \"16qGl4E+LsKGkCgNgjX8Rm/avVNjjChpHfrnb01qA5w=\", \"timestamp\": \"1699507466\", \"app\": \"digisafe\"}, key: [146, 251, 216, 195, 51, 10, 173, 46, 196, 91, 169, 181, 149, 93, 179, 66, 192, 91, 240, 175, 185, 222, 31, 183, 198, 99, 75, 154, 88, 8, 146, 245] }"
      ]
     },
     "execution_count": 9,
     "metadata": {},
     "output_type": "execute_result"
    }
   ],
   "source": [
    "let db = db.lock();\n",
    "db"
   ]
  },
  {
   "cell_type": "code",
   "execution_count": 10,
   "id": "472ca05d-ed10-4081-9bcf-a01c42e6f0e0",
   "metadata": {},
   "outputs": [
    {
     "data": {
      "text/plain": [
       "[79, 98, 106, 1, 4, 22, 97, 118, 114, 111, 46, 115, 99, 104, 101, 109, 97, 132, 2, 123, 34, 116, 121, 112, 101, 34, 58, 34, 114, 101, 99, 111, 114, 100, 34, 44, 34, 110, 97, 109, 101, 34, 58, 34, 108, 111, 99, 107, 101, 100, 34, 44, 34, 102, 105, 101, 108, 100, 115, 34, 58, 91, 123, 34, 110, 97, 109, 101, 34, 58, 34, 100, 98, 34, 44, 34, 116, 121, 112, 101, 34, 58, 34, 115, 116, 114, 105, 110, 103, 34, 125, 44, 123, 34, 110, 97, 109, 101, 34, 58, 34, 109, 101, 116, 97, 34, 44, 34, 116, 121, 112, 101, 34, 58, 123, 34, 116, 121, 112, 101, 34, 58, 34, 109, 97, 112, 34, 44, 34, 118, 97, 108, 117, 101, 115, 34, 58, 34, 115, 116, 114, 105, 110, 103, 34, 125, 125, 93, 125, 20, 97, 118, 114, 111, 46, 99, 111, 100, 101, 99, 8, 110, 117, 108, 108, 0, 184, 167, 183, 69, 17, 134, 139, 188, 44, 87, 129, 204, 197, 101, 141, 62, 2, 174, 9, 128, 7, 75, 107, 50, 122, 86, 114, 113, 87, 105, 105, 122, 81, 68, 115, 57, 48, 71, 69, 84, 116, 73, 100, 53, 73, 116, 76, 108, 114, 83, 52, 80, 122, 81, 101, 111, 107, 109, 104, 114, 89, 68, 114, 84, 48, 51, 57, 85, 52, 49, 50, 53, 108, 106, 49, 74, 76, 111, 108, 76, 120, 233, 191, 4, 124, 200, 105, 119, 58, 119, 54, 43, 66, 100, 57, 105, 72, 114, 110, 78, 66, 65, 52, 100, 73, 106, 79, 100, 52, 85, 74, 121, 111, 67, 55, 52, 80, 77, 51, 43, 98, 120, 49, 73, 86, 122, 56, 97, 72, 88, 97, 103, 52, 114, 103, 72, 105, 101, 82, 87, 88, 97, 113, 43, 71, 117, 101, 74, 54, 74, 107, 51, 120, 81, 122, 107, 122, 105, 113, 66, 112, 43, 120, 53, 82, 53, 71, 66, 98, 118, 83, 48, 103, 80, 70, 118, 120, 56, 66, 120, 79, 65, 115, 57, 108, 110, 53, 120, 65, 77, 55, 102, 108, 47, 118, 111, 90, 77, 109, 81, 65, 99, 107, 99, 119, 102, 71, 77, 69, 74, 89, 109, 114, 97, 70, 113, 51, 117, 51, 99, 117, 77, 48, 43, 101, 75, 57, 89, 56, 116, 87, 102, 119, 54, 115, 121, 117, 81, 88, 50, 68, 84, 51, 43, 52, 80, 66, 115, 65, 68, 68, 56, 115, 43, 101, 97, 72, 107, 51, 69, 90, 90, 73, 72, 111, 52, 74, 115, 77, 50, 98, 77, 89, 106, 85, 111, 113, 73, 102, 74, 79, 83, 47, 78, 82, 52, 106, 81, 113, 71, 74, 71, 75, 113, 76, 71, 55, 111, 70, 113, 84, 55, 115, 68, 90, 73, 112, 56, 49, 50, 108, 103, 57, 65, 79, 98, 56, 54, 49, 122, 83, 53, 100, 72, 48, 106, 81, 49, 114, 76, 99, 118, 99, 71, 71, 119, 39, 196, 53, 211, 56, 62, 232, 135, 72, 67, 84, 117, 104, 103, 50, 43, 100, 88, 103, 74, 97, 100, 107, 99, 78, 116, 51, 120, 120, 97, 76, 68, 75, 116, 103, 87, 84, 105, 89, 87, 65, 71, 105, 103, 86, 109, 111, 102, 99, 84, 109, 103, 89, 54, 76, 107, 102, 115, 47, 49, 87, 109, 116, 102, 111, 77, 110, 105, 80, 47, 88, 116, 69, 55, 75, 65, 112, 88, 115, 98, 85, 88, 113, 74, 111, 86, 57, 73, 88, 70, 104, 78, 72, 101, 85, 84, 57, 68, 47, 73, 121, 50, 54, 119, 122, 86, 54, 79, 83, 66, 90, 78, 76, 47, 89, 109, 48, 103, 56, 77, 80, 43, 80, 112, 66, 82, 89, 54, 55, 86, 65, 54, 51, 47, 98, 68, 100, 56, 88, 120, 82, 76, 83, 78, 81, 107, 84, 103, 61, 12, 18, 116, 105, 109, 101, 115, 116, 97, 109, 112, 20, 49, 54, 57, 57, 53, 48, 55, 52, 54, 54, 6, 97, 112, 112, 16, 100, 105, 103, 105, 115, 97, 102, 101, 14, 118, 101, 114, 115, 105, 111, 110, 10, 49, 46, 48, 46, 48, 16, 114, 101, 118, 105, 115, 105, 111, 110, 2, 48, 10, 110, 111, 110, 99, 101, 64, 51, 50, 82, 87, 102, 89, 122, 67, 66, 51, 111, 65, 88, 80, 108, 116, 84, 112, 114, 47, 65, 98, 111, 108, 53, 88, 104, 104, 112, 103, 99, 83, 6, 117, 105, 100, 88, 49, 54, 126, 103, 130, 140, 145, 166, 86, 111, 113, 71, 108, 52, 69, 43, 76, 115, 75, 71, 107, 67, 103, 78, 103, 106, 88, 56, 82, 109, 47, 97, 118, 86, 78, 106, 106, 67, 104, 112, 72, 102, 114, 110, 98, 48, 49, 113, 65, 53, 119, 61, 0, 184, 167, 183, 69, 17, 134, 139, 188, 44, 87, 129, 204, 197, 101, 141, 62, 73, 32, 30, 180, 20, 152, 44, 14]"
      ]
     },
     "execution_count": 10,
     "metadata": {},
     "output_type": "execute_result"
    }
   ],
   "source": [
    "let mut db_vec = db.to_vec();\n",
    "db_vec"
   ]
  },
  {
   "cell_type": "code",
   "execution_count": 11,
   "id": "2a6caadf-0c92-4a5f-aa94-14a9803cf393",
   "metadata": {},
   "outputs": [
    {
     "data": {
      "text/plain": [
       "[0, 98, 106, 1, 4, 22, 97, 118, 114, 111, 0, 115, 99, 104, 101, 109, 97, 132, 2, 123, 34, 116, 121, 112, 101, 34, 58, 34, 114, 101, 99, 111, 114, 100, 34, 44, 34, 110, 97, 109, 101, 34, 58, 34, 108, 111, 99, 107, 101, 100, 34, 44, 34, 102, 105, 101, 108, 100, 115, 34, 58, 91, 123, 34, 110, 97, 109, 101, 34, 58, 34, 100, 98, 34, 44, 34, 116, 121, 112, 101, 34, 58, 34, 115, 116, 114, 105, 110, 103, 34, 125, 44, 123, 34, 110, 97, 109, 101, 34, 58, 0, 109, 101, 116, 97, 34, 44, 34, 116, 121, 112, 101, 34, 58, 123, 34, 116, 121, 112, 101, 34, 58, 34, 109, 97, 112, 34, 44, 34, 118, 97, 108, 117, 101, 115, 34, 58, 34, 115, 116, 114, 105, 110, 103, 34, 125, 125, 93, 125, 20, 97, 118, 114, 111, 46, 99, 111, 100, 101, 99, 8, 110, 117, 108, 108, 0, 184, 167, 183, 69, 17, 134, 139, 188, 44, 87, 129, 204, 197, 101, 141, 62, 2, 174, 9, 128, 7, 75, 107, 50, 122, 86, 114, 113, 87, 105, 105, 122, 81, 68, 0, 57, 48, 71, 69, 84, 116, 73, 100, 53, 73, 116, 76, 108, 114, 83, 52, 80, 122, 81, 101, 111, 107, 109, 104, 114, 89, 68, 114, 84, 48, 51, 57, 85, 52, 49, 50, 53, 108, 106, 49, 74, 76, 111, 108, 76, 120, 233, 191, 4, 124, 200, 105, 119, 58, 119, 54, 43, 66, 100, 57, 105, 72, 114, 110, 78, 66, 65, 52, 100, 73, 106, 79, 100, 52, 85, 74, 121, 111, 67, 55, 52, 80, 77, 51, 43, 98, 120, 49, 73, 86, 122, 56, 97, 72, 88, 97, 103, 52, 114, 103, 72, 105, 101, 82, 87, 88, 97, 113, 43, 71, 117, 101, 74, 54, 74, 107, 51, 120, 81, 122, 107, 122, 105, 113, 66, 112, 43, 120, 53, 82, 53, 71, 66, 98, 118, 83, 48, 103, 80, 70, 118, 120, 56, 66, 120, 79, 65, 115, 57, 108, 110, 53, 120, 65, 77, 55, 102, 108, 47, 118, 111, 90, 77, 109, 81, 65, 99, 107, 99, 119, 102, 71, 77, 69, 74, 89, 109, 114, 97, 70, 113, 51, 117, 51, 99, 117, 77, 48, 43, 101, 75, 57, 89, 56, 116, 87, 102, 119, 54, 115, 121, 117, 81, 88, 50, 68, 84, 51, 43, 52, 80, 66, 115, 65, 68, 68, 56, 115, 43, 101, 97, 72, 107, 51, 69, 90, 90, 73, 72, 111, 52, 74, 115, 77, 50, 98, 77, 89, 106, 85, 111, 113, 73, 102, 74, 79, 83, 47, 78, 82, 52, 106, 81, 113, 71, 74, 71, 75, 113, 76, 71, 55, 111, 70, 113, 84, 55, 115, 68, 90, 73, 112, 56, 49, 50, 108, 103, 57, 65, 79, 98, 56, 54, 49, 122, 83, 53, 100, 72, 48, 106, 81, 49, 114, 76, 99, 118, 99, 71, 71, 119, 39, 196, 53, 211, 56, 62, 232, 135, 72, 67, 84, 117, 104, 103, 50, 43, 100, 88, 103, 74, 97, 100, 107, 99, 78, 116, 51, 120, 120, 97, 76, 68, 75, 116, 103, 87, 84, 105, 89, 87, 65, 71, 105, 103, 86, 109, 111, 102, 99, 84, 109, 103, 89, 54, 76, 107, 102, 115, 47, 49, 87, 109, 116, 102, 111, 77, 110, 105, 80, 47, 88, 116, 69, 55, 75, 65, 112, 88, 115, 98, 85, 88, 113, 74, 111, 86, 57, 73, 88, 70, 104, 78, 72, 101, 85, 84, 57, 68, 47, 73, 121, 50, 54, 119, 122, 86, 54, 79, 83, 66, 90, 78, 76, 47, 89, 109, 48, 103, 56, 77, 80, 43, 80, 112, 66, 82, 89, 54, 55, 86, 65, 54, 51, 47, 98, 68, 100, 56, 88, 120, 82, 76, 83, 78, 81, 107, 84, 103, 61, 12, 18, 116, 105, 109, 101, 115, 116, 97, 109, 112, 20, 49, 54, 57, 57, 53, 48, 55, 52, 54, 54, 6, 97, 112, 112, 16, 100, 105, 103, 105, 115, 97, 102, 101, 14, 118, 101, 114, 115, 105, 111, 110, 10, 49, 46, 48, 46, 48, 16, 114, 101, 118, 105, 115, 105, 111, 110, 2, 48, 10, 110, 111, 110, 99, 101, 64, 51, 50, 82, 87, 102, 89, 122, 67, 66, 51, 111, 65, 88, 80, 108, 116, 84, 112, 114, 47, 65, 98, 111, 108, 53, 88, 104, 104, 112, 103, 99, 83, 6, 117, 105, 100, 88, 49, 54, 126, 103, 130, 140, 145, 166, 86, 111, 113, 71, 108, 52, 69, 43, 76, 115, 75, 71, 107, 67, 103, 78, 103, 106, 88, 56, 82, 109, 47, 97, 118, 86, 78, 106, 106, 67, 104, 112, 72, 102, 114, 110, 98, 48, 49, 113, 65, 53, 119, 61, 0, 184, 167, 183, 69, 17, 134, 139, 188, 44, 87, 129, 204, 197, 101, 141, 62, 73, 32, 30, 180, 20, 152, 44, 14]"
      ]
     },
     "execution_count": 11,
     "metadata": {},
     "output_type": "execute_result"
    }
   ],
   "source": [
    "db_vec[0] = 0;\n",
    "db_vec[10] = 0;\n",
    "db_vec[100] = 0;\n",
    "db_vec[200] = 0;\n",
    "db_vec"
   ]
  },
  {
   "cell_type": "code",
   "execution_count": 12,
   "id": "fab2352e-37c1-4990-b0c0-fa9048a8045d",
   "metadata": {},
   "outputs": [
    {
     "data": {
      "text/plain": [
       "Locked { db: \"Kk2zVrqWiizQDs90GETtId5ItLlrS4PzQeokmhrYDrT039U4125lj1JLolLxw6+Bd9iHrnNBA4dIjOd4UJyoC74PM3+bx1IVz8aHXag4rgHieRWXaq+GueJ6Jk3xQzkziqBp+x5R5GBbvS0gPFvx8BxOAs9ln5xAM7fl/voZMmQAckcwfGMEJYmraFq3u3cuM0+eK9Y8tWfw6syuQX2DT3+4PBsADD8s+eaHk3EZZIHo4JsM2bMYjUoqIfJOS/NR4jQqGJGKqLG7oFqT7sDZIp812lg9AOb861zS5dH0jQ1rLcvcGGwHCTuhg2+dXgJadkcNt3xxaLDKtgWTiYWAGigVmofcTmgY6Lkfs/1WmtfoMniP/XtE7KApXsbUXqJoV9IXFhNHeUT9D/Iy26wzV6OSBZNL/Ym0g8MP+PpBRY67VA63/bDd8XxRLSNQkTg=\", meta: {\"timestamp\": \"1699507466\", \"app\": \"digisafe\", \"revision\": \"0\", \"version\": \"1.0.0\", \"nonce\": \"32RWfYzCB3oAXPltTpr/Abol5XhhpgcS\", \"uid\": \"16qGl4E+LsKGkCgNgjX8Rm/avVNjjChpHfrnb01qA5w=\"}, key: [] }"
      ]
     },
     "execution_count": 12,
     "metadata": {},
     "output_type": "execute_result"
    }
   ],
   "source": [
    "Database::Locked::from_vec(db_vec)"
   ]
  },
  {
   "cell_type": "code",
   "execution_count": null,
   "id": "7121a5aa-cc43-4e15-ab60-2ee68a29726d",
   "metadata": {},
   "outputs": [],
   "source": []
  },
  {
   "cell_type": "code",
   "execution_count": null,
   "id": "5fece54b-6009-4bec-b1fc-c2c2e4224d1b",
   "metadata": {},
   "outputs": [],
   "source": []
  }
 ],
 "metadata": {
  "kernelspec": {
   "display_name": "Rust",
   "language": "rust",
   "name": "rust"
  },
  "language_info": {
   "codemirror_mode": "rust",
   "file_extension": ".rs",
   "mimetype": "text/rust",
   "name": "Rust",
   "pygment_lexer": "rust",
   "version": ""
  }
 },
 "nbformat": 4,
 "nbformat_minor": 5
}
