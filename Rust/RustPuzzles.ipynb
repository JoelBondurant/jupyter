{
 "cells": [
  {
   "cell_type": "markdown",
   "id": "a0d78ce9-1366-40e1-b177-d81d110d01bd",
   "metadata": {},
   "source": [
    "## Rust Puzzles\n",
    "---"
   ]
  },
  {
   "cell_type": "code",
   "execution_count": 138,
   "id": "7e6c032a-42ff-4fa9-8d37-b6eb27ff8edb",
   "metadata": {},
   "outputs": [],
   "source": [
    "use std::fmt::Debug;"
   ]
  },
  {
   "cell_type": "code",
   "execution_count": 139,
   "id": "bf524760-3570-47e0-ae41-4f7e60d42ecd",
   "metadata": {},
   "outputs": [],
   "source": [
    "/* Send zeros to back of vector. */\n",
    "fn puzzle1(mut vals: Vec<i32>) -> Vec<i32> {\n",
    "    let mut idx_nonzero = 0usize;\n",
    "    for idx in 0..vals.len() {\n",
    "        if vals[idx] != 0 && idx_nonzero != idx {\n",
    "            vals[idx_nonzero] = vals[idx];\n",
    "            vals[idx] = 0;\n",
    "            idx_nonzero += 1;\n",
    "        } else if vals[idx] != 0 && idx_nonzero == idx {\n",
    "            idx_nonzero += 1;\n",
    "        }\n",
    "    }\n",
    "    vals\n",
    "}"
   ]
  },
  {
   "cell_type": "code",
   "execution_count": 140,
   "id": "a679aa31-221a-4863-b6e3-f257e6508dd4",
   "metadata": {},
   "outputs": [],
   "source": [
    "let tests1 = vec![\n",
    "    (vec![0, 0, 2, 7, 0, 4, 8, 0, 0], vec![2, 7, 4, 8, 0, 0, 0, 0, 0]),\n",
    "    (vec![4, 0, 2, 7, 0, 4, 8, 0, 88], vec![4, 2, 7, 4, 8, 88, 0, 0, 0]),\n",
    "    (vec![8], vec![8]),\n",
    "    (vec![0], vec![0]),\n",
    "    (vec![], vec![]),\n",
    "    (vec![8, 0], vec![8, 0]),\n",
    "    (vec![0, 8], vec![8, 0]),\n",
    "];"
   ]
  },
  {
   "cell_type": "code",
   "execution_count": 141,
   "id": "e866f132-1302-4581-b7a7-a5c7cb883451",
   "metadata": {},
   "outputs": [],
   "source": [
    "/* Equilibrium points of a vector. */\n",
    "fn puzzle2(vals: Vec<i32>) -> Vec<usize> {\n",
    "    let tot = vals.iter().sum::<i32>();\n",
    "    let mut ans = Vec::<usize>::new();\n",
    "    let mut presum = 0i32;\n",
    "    let mut postsum = tot;\n",
    "    let mut cur: i32;\n",
    "    for idx in 0..vals.len() {\n",
    "        cur = vals[idx];\n",
    "        postsum -= cur;\n",
    "        if presum == postsum {\n",
    "            ans.push(idx);\n",
    "        }\n",
    "        presum += cur;\n",
    "    }\n",
    "    ans\n",
    "}"
   ]
  },
  {
   "cell_type": "code",
   "execution_count": 142,
   "id": "a6157fe1-4133-4a62-94ac-44bf11077d01",
   "metadata": {},
   "outputs": [],
   "source": [
    "let tests2 = vec![\n",
    "    (vec![0, -3, 5, -4, -2, 3, 1, 0], vec![0usize, 3, 7]),\n",
    "    (vec![2, 3, 5, 1, 2, 2], vec![2usize]),\n",
    "    (vec![1, 3, 5], Vec::<usize>::new()),\n",
    "];"
   ]
  },
  {
   "cell_type": "code",
   "execution_count": 143,
   "id": "c8168539-1344-436b-8210-cabb72d69211",
   "metadata": {},
   "outputs": [],
   "source": [
    "fn exec_tests<T1, T2: PartialEq + Debug>(tests: Vec<(T1, T2)>, test_fn: fn(T1) -> T2) {\n",
    "    for test in tests {\n",
    "       assert_eq!(test_fn(test.0), test.1);\n",
    "    }\n",
    "}"
   ]
  },
  {
   "cell_type": "code",
   "execution_count": null,
   "id": "1a4fe7ee-4367-4063-9523-737358a8a789",
   "metadata": {},
   "outputs": [],
   "source": []
  }
 ],
 "metadata": {
  "kernelspec": {
   "display_name": "Rust",
   "language": "rust",
   "name": "rust"
  },
  "language_info": {
   "codemirror_mode": "rust",
   "file_extension": ".rs",
   "mimetype": "text/rust",
   "name": "Rust",
   "pygment_lexer": "rust",
   "version": ""
  }
 },
 "nbformat": 4,
 "nbformat_minor": 5
}
