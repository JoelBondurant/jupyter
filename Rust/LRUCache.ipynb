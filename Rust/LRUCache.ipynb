{
 "cells": [
  {
   "cell_type": "markdown",
   "id": "06fa1193-0aa5-4fc8-adad-73c2ed5a5875",
   "metadata": {},
   "source": [
    "## LRUCache\n",
    "---"
   ]
  },
  {
   "cell_type": "code",
   "execution_count": 2,
   "id": "a2c9c3c9-8611-4fe2-972b-052c40c98950",
   "metadata": {},
   "outputs": [],
   "source": [
    "use std::cell::RefCell;\n",
    "use std::collections::HashMap;\n",
    "use std::rc::{Rc, Weak};"
   ]
  },
  {
   "cell_type": "code",
   "execution_count": 3,
   "id": "9433b855-ee7c-4d8c-8e21-325ed8dd25c7",
   "metadata": {},
   "outputs": [],
   "source": [
    "#[derive(Debug)]\n",
    "struct Node<T: PartialEq + PartialOrd + Clone> {\n",
    "    label: String,\n",
    "    val: T,\n",
    "    next: Option<Rc<RefCell<Node<T>>>>,\n",
    "    prior: Option<Weak<RefCell<Node<T>>>>,\n",
    "}"
   ]
  },
  {
   "cell_type": "code",
   "execution_count": 4,
   "id": "ef4b580d-bdb1-4aa3-8c79-e7419121da14",
   "metadata": {},
   "outputs": [],
   "source": [
    "impl<T: PartialEq + PartialOrd + Clone> Node<T> {\n",
    "    fn new(label: String, val: T) -> Self {\n",
    "        Node { label: label, val: val, next: None, prior: None }\n",
    "    }\n",
    "}"
   ]
  },
  {
   "cell_type": "code",
   "execution_count": 5,
   "id": "2f4afc0b-d70a-40ac-8570-1757c16e0bc1",
   "metadata": {},
   "outputs": [],
   "source": [
    "#[derive(Debug)]\n",
    "struct LinkedList<T: PartialEq + PartialOrd + Clone> {\n",
    "    head: Option<Rc<RefCell<Node<T>>>>,\n",
    "    tail: Option<Weak<RefCell<Node<T>>>>,\n",
    "}"
   ]
  },
  {
   "cell_type": "code",
   "execution_count": 6,
   "id": "2d21e97a-afe4-4136-8979-3b45a5c36784",
   "metadata": {},
   "outputs": [],
   "source": [
    "impl<T: PartialEq + PartialOrd + Clone> LinkedList<T> {\n",
    "    fn new() -> Self {\n",
    "        LinkedList { head: None, tail: None }\n",
    "    }\n",
    "    fn push(&mut self, label: String, val: T) -> &Self {\n",
    "        let v1 = Rc::new(RefCell::new(Node::new(label, val)));\n",
    "        if self.head.is_none() {\n",
    "            self.head = Some(v1.clone());\n",
    "            self.tail = Some(Rc::downgrade(&v1));\n",
    "        } else {\n",
    "            let v2 = self.head.take().unwrap();\n",
    "            v1.borrow_mut().next = Some(v2.clone());\n",
    "            v2.borrow_mut().prior = Some(Rc::downgrade(&v1));\n",
    "            self.head = Some(v1);\n",
    "        }\n",
    "        self\n",
    "    }\n",
    "}"
   ]
  },
  {
   "cell_type": "code",
   "execution_count": 7,
   "id": "4f2f5582-9ee9-40e0-8e31-8dbb77ee5d09",
   "metadata": {},
   "outputs": [],
   "source": [
    "#[derive(Debug)]\n",
    "struct LRUCache<T: PartialEq + PartialOrd + Clone> {\n",
    "    llist: LinkedList<T>,\n",
    "    hmap: HashMap<String, Weak<RefCell<Node<T>>>>,\n",
    "}"
   ]
  },
  {
   "cell_type": "code",
   "execution_count": 8,
   "id": "acdbb098-7c7d-479c-abb3-e65fd35ea95d",
   "metadata": {},
   "outputs": [],
   "source": [
    "impl<T: PartialEq + PartialOrd + Clone> LRUCache<T> {\n",
    "    fn new() -> Self {\n",
    "        LRUCache {\n",
    "            llist: LinkedList::<T>::new(),\n",
    "            hmap: HashMap::<String, Weak<RefCell<Node<T>>>>::new()\n",
    "        }\n",
    "    }\n",
    "    fn push(&mut self, label: &str, val: T) -> &Self {\n",
    "        self.llist.push(label.clone().to_owned(), val);\n",
    "        let hval = Rc::downgrade(&self.llist.head.as_ref().unwrap().clone());\n",
    "        self.hmap.insert(label.to_owned(), hval);\n",
    "        self\n",
    "    }\n",
    "}"
   ]
  },
  {
   "cell_type": "code",
   "execution_count": 9,
   "id": "9d52a5de-4680-44fc-a3c9-e49a6a0b911b",
   "metadata": {},
   "outputs": [
    {
     "data": {
      "text/plain": [
       "LRUCache { llist: LinkedList { head: None, tail: None }, hmap: {} }"
      ]
     },
     "execution_count": 9,
     "metadata": {},
     "output_type": "execute_result"
    }
   ],
   "source": [
    "let mut q = LRUCache::<i32>::new();\n",
    "q"
   ]
  },
  {
   "cell_type": "code",
   "execution_count": 10,
   "id": "2acacd9a-60fd-4ceb-84c4-c65bd5cc85c6",
   "metadata": {},
   "outputs": [
    {
     "data": {
      "text/plain": [
       "LRUCache { llist: LinkedList { head: Some(RefCell { value: Node { label: \"aaa\", val: 77, next: None, prior: None } }), tail: Some((Weak)) }, hmap: {\"aaa\": (Weak)} }"
      ]
     },
     "execution_count": 10,
     "metadata": {},
     "output_type": "execute_result"
    }
   ],
   "source": [
    "q.push(\"aaa\", 77)"
   ]
  },
  {
   "cell_type": "code",
   "execution_count": 11,
   "id": "b8015cab-e555-4c66-b3ad-e274bbc0aa14",
   "metadata": {},
   "outputs": [
    {
     "data": {
      "text/plain": [
       "LRUCache { llist: LinkedList { head: Some(RefCell { value: Node { label: \"bbb\", val: 44, next: Some(RefCell { value: Node { label: \"aaa\", val: 77, next: None, prior: Some((Weak)) } }), prior: None } }), tail: Some((Weak)) }, hmap: {\"aaa\": (Weak), \"bbb\": (Weak)} }"
      ]
     },
     "execution_count": 11,
     "metadata": {},
     "output_type": "execute_result"
    }
   ],
   "source": [
    "q.push(\"bbb\", 44)"
   ]
  },
  {
   "cell_type": "code",
   "execution_count": 12,
   "id": "2cfdb3c1-bf53-4f1c-ae75-f2ba4d62756e",
   "metadata": {},
   "outputs": [
    {
     "data": {
      "text/plain": [
       "LRUCache { llist: LinkedList { head: Some(RefCell { value: Node { label: \"ccc\", val: 88, next: Some(RefCell { value: Node { label: \"bbb\", val: 44, next: Some(RefCell { value: Node { label: \"aaa\", val: 77, next: None, prior: Some((Weak)) } }), prior: Some((Weak)) } }), prior: None } }), tail: Some((Weak)) }, hmap: {\"ccc\": (Weak), \"aaa\": (Weak), \"bbb\": (Weak)} }"
      ]
     },
     "execution_count": 12,
     "metadata": {},
     "output_type": "execute_result"
    }
   ],
   "source": [
    "q.push(\"ccc\", 88)"
   ]
  },
  {
   "cell_type": "code",
   "execution_count": null,
   "id": "9760fef1-8da9-46da-a73b-0c965a3f9f83",
   "metadata": {},
   "outputs": [],
   "source": []
  }
 ],
 "metadata": {
  "kernelspec": {
   "display_name": "Rust",
   "language": "rust",
   "name": "rust"
  },
  "language_info": {
   "codemirror_mode": "rust",
   "file_extension": ".rs",
   "mimetype": "text/rust",
   "name": "Rust",
   "pygment_lexer": "rust",
   "version": ""
  }
 },
 "nbformat": 4,
 "nbformat_minor": 5
}
