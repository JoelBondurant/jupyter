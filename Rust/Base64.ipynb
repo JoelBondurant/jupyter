{
 "cells": [
  {
   "cell_type": "markdown",
   "id": "790b8eea-be3a-453d-b1a1-b9e11663ed3b",
   "metadata": {},
   "source": [
    "## Base64\n",
    "---"
   ]
  },
  {
   "cell_type": "code",
   "execution_count": 2,
   "id": "8eeb7852-8b39-4ad9-ad5b-e0867833e06c",
   "metadata": {},
   "outputs": [],
   "source": [
    ":dep base64ct = { features = [\"alloc\"] }"
   ]
  },
  {
   "cell_type": "code",
   "execution_count": 3,
   "id": "6bc94f0a-e02a-409b-8acd-f162196c510a",
   "metadata": {},
   "outputs": [],
   "source": [
    "use base64ct::{Base64, Encoding};"
   ]
  },
  {
   "cell_type": "code",
   "execution_count": 4,
   "id": "918b2ba8-a508-47a8-8d7a-8def23ff4890",
   "metadata": {},
   "outputs": [
    {
     "data": {
      "text/plain": [
       "\"ZXhhbXBsZSBieXRlc3RyaW5nIQ==\""
      ]
     },
     "execution_count": 4,
     "metadata": {},
     "output_type": "execute_result"
    }
   ],
   "source": [
    "let bytes = b\"example bytestring!\";\n",
    "let encoded = Base64::encode_string(bytes);\n",
    "assert_eq!(encoded, \"ZXhhbXBsZSBieXRlc3RyaW5nIQ==\");\n",
    "encoded"
   ]
  },
  {
   "cell_type": "code",
   "execution_count": 5,
   "id": "8bd60a17-ba3f-46ce-8358-3ff966f9e2d7",
   "metadata": {},
   "outputs": [
    {
     "data": {
      "text/plain": [
       "[101, 120, 97, 109, 112, 108, 101, 32, 98, 121, 116, 101, 115, 116, 114, 105, 110, 103, 33]"
      ]
     },
     "execution_count": 5,
     "metadata": {},
     "output_type": "execute_result"
    }
   ],
   "source": [
    "let decoded = Base64::decode_vec(&encoded).unwrap();\n",
    "assert_eq!(decoded, bytes);\n",
    "decoded"
   ]
  },
  {
   "cell_type": "code",
   "execution_count": null,
   "id": "033f8a23-9cc3-46e0-bbfc-f8b520e2c8af",
   "metadata": {},
   "outputs": [],
   "source": []
  }
 ],
 "metadata": {
  "kernelspec": {
   "display_name": "Rust",
   "language": "rust",
   "name": "rust"
  },
  "language_info": {
   "codemirror_mode": "rust",
   "file_extension": ".rs",
   "mimetype": "text/rust",
   "name": "Rust",
   "pygment_lexer": "rust",
   "version": ""
  }
 },
 "nbformat": 4,
 "nbformat_minor": 5
}
