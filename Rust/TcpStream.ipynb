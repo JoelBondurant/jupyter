{
 "cells": [
  {
   "cell_type": "markdown",
   "id": "9cc91d84-b756-4a37-942a-5c2ae6812374",
   "metadata": {},
   "source": [
    "## TcpStream\n",
    "---"
   ]
  },
  {
   "cell_type": "code",
   "execution_count": 2,
   "id": "0e40dc9c-03af-4b80-92dd-49a218e33be1",
   "metadata": {},
   "outputs": [],
   "source": [
    ":dep tokio = { features = [\"full\"] }"
   ]
  },
  {
   "cell_type": "code",
   "execution_count": 3,
   "id": "c9adabdf-4452-478b-b204-0773be0c1bf7",
   "metadata": {},
   "outputs": [],
   "source": [
    "use tokio::io::{AsyncReadExt, AsyncWriteExt};\n",
    "use tokio::net::{TcpListener, TcpStream};"
   ]
  },
  {
   "cell_type": "code",
   "execution_count": 4,
   "id": "29defd26-f452-456a-899d-3855336163da",
   "metadata": {},
   "outputs": [],
   "source": [
    "async fn send(msg: &str) {\n",
    "    let mut stream = TcpStream::connect(\"::1:7979\").await.unwrap();\n",
    "    stream.write(msg.as_bytes()).await.unwrap();\n",
    "}"
   ]
  },
  {
   "cell_type": "code",
   "execution_count": 5,
   "id": "2b005d73-35d7-4ef5-b336-f8fae837cc3a",
   "metadata": {},
   "outputs": [],
   "source": [
    "send(\"send function works.\").await;"
   ]
  },
  {
   "cell_type": "code",
   "execution_count": null,
   "id": "631286ae-58fb-4246-b0c6-e7ecbb164944",
   "metadata": {},
   "outputs": [],
   "source": []
  }
 ],
 "metadata": {
  "kernelspec": {
   "display_name": "Rust",
   "language": "rust",
   "name": "rust"
  },
  "language_info": {
   "codemirror_mode": "rust",
   "file_extension": ".rs",
   "mimetype": "text/rust",
   "name": "Rust",
   "pygment_lexer": "rust",
   "version": ""
  }
 },
 "nbformat": 4,
 "nbformat_minor": 5
}
