{
 "cells": [
  {
   "cell_type": "markdown",
   "id": "aa9e55f6-eff7-438e-ae41-b50af678df3b",
   "metadata": {},
   "source": [
    "## ChatGPT Doubly Linked List\n",
    "---"
   ]
  },
  {
   "cell_type": "code",
   "execution_count": 2,
   "id": "ea384cdc-7ad0-4f62-bb32-ff7ff25d0e74",
   "metadata": {},
   "outputs": [],
   "source": [
    "use std::cell::{Cell, RefCell};\n",
    "use std::rc::Rc;\n",
    "\n",
    "#[derive(Debug)]\n",
    "struct Node<T> {\n",
    "    value: T,\n",
    "    next: Option<Rc<RefCell<Node<T>>>>,\n",
    "    prev: Option<Rc<RefCell<Node<T>>>>,\n",
    "}\n",
    "\n",
    "impl<T> Node<T> {\n",
    "    fn new(value: T) -> Rc<RefCell<Self>> {\n",
    "        Rc::new(RefCell::new(Self {\n",
    "            value,\n",
    "            next: None,\n",
    "            prev: None,\n",
    "        }))\n",
    "    }\n",
    "}\n",
    "\n",
    "#[derive(Debug)]\n",
    "struct DoublyLinkedList<T> {\n",
    "    head: Option<Rc<RefCell<Node<T>>>>,\n",
    "    tail: Option<Rc<RefCell<Node<T>>>>,\n",
    "}\n",
    "\n",
    "impl<T> DoublyLinkedList<T> {\n",
    "    fn new() -> Self {\n",
    "        Self {\n",
    "            head: None,\n",
    "            tail: None,\n",
    "        }\n",
    "    }\n",
    "\n",
    "    fn push_front(&mut self, value: T) {\n",
    "        // Create a new node with the given value.\n",
    "        let new_node = Node::new(value);\n",
    "\n",
    "        // Set the new node's prev pointer to point to the current head of the list.\n",
    "        new_node.borrow_mut().prev = self.head.clone();\n",
    "\n",
    "        // Set the next pointer of the current head of the list to point to the new node.\n",
    "        if let Some(ref head) = self.head {\n",
    "            head.borrow_mut().next = Some(new_node.clone());\n",
    "        }\n",
    "\n",
    "        // Set the new node as the head of the list.\n",
    "        self.head = Some(new_node);\n",
    "\n",
    "        // If this is the first node in the list, set it as the tail as well.\n",
    "        if self.tail.is_none() {\n",
    "            self.tail = self.head.clone();\n",
    "        }\n",
    "    }\n",
    "\n",
    "    fn push_back(&mut self, value: T) {\n",
    "        // Create a new node with the given value.\n",
    "        let new_node = Node::new(value);\n",
    "\n",
    "        // Set the new node's prev pointer to point to the current tail of the list.\n",
    "        new_node.borrow_mut().prev = self.tail.clone();\n",
    "\n",
    "        // Set the next pointer of the current tail of the list to point to the new node.\n",
    "        if let Some(ref tail) = self.tail {\n",
    "            tail.borrow_mut().next = Some(new_node.clone());\n",
    "        }\n",
    "\n",
    "        // Set the new node as the tail of the list.\n",
    "        self.tail = Some(new_node);\n",
    "\n",
    "        // If this is the first node in the list, set it as the head as well.\n",
    "        if self.head.is_none() {\n",
    "            self.head = self.tail.clone();\n",
    "        }\n",
    "    }\n",
    "}"
   ]
  },
  {
   "cell_type": "code",
   "execution_count": 3,
   "id": "e6ad9853-ea43-49e9-89f6-7e824a789d8a",
   "metadata": {},
   "outputs": [],
   "source": [
    "let mut q = DoublyLinkedList::<i32>::new();"
   ]
  },
  {
   "cell_type": "code",
   "execution_count": 4,
   "id": "f617cfac-58f9-4c80-a79d-751fcaaa6eca",
   "metadata": {},
   "outputs": [
    {
     "data": {
      "text/plain": [
       "DoublyLinkedList { head: Some(RefCell { value: Node { value: 5, next: None, prev: None } }), tail: Some(RefCell { value: Node { value: 5, next: None, prev: None } }) }"
      ]
     },
     "execution_count": 4,
     "metadata": {},
     "output_type": "execute_result"
    }
   ],
   "source": [
    "q.push_front(5);\n",
    "q"
   ]
  },
  {
   "cell_type": "code",
   "execution_count": 5,
   "id": "2b87c2d0-4c81-4bd0-9008-d4e450ad5b94",
   "metadata": {},
   "outputs": [
    {
     "ename": "Error",
     "evalue": "Subprocess terminated with status: signal: 11 (SIGSEGV) (core dumped)",
     "output_type": "error",
     "traceback": [
      "Subprocess terminated with status: signal: 11 (SIGSEGV) (core dumped)"
     ]
    }
   ],
   "source": [
    "q.push_front(6);\n",
    "q"
   ]
  },
  {
   "cell_type": "code",
   "execution_count": null,
   "id": "0c472215-49ea-486a-ad05-9ba66833e3b4",
   "metadata": {},
   "outputs": [],
   "source": []
  }
 ],
 "metadata": {
  "kernelspec": {
   "display_name": "Rust",
   "language": "rust",
   "name": "rust"
  },
  "language_info": {
   "codemirror_mode": "rust",
   "file_extension": ".rs",
   "mimetype": "text/rust",
   "name": "Rust",
   "pygment_lexer": "rust",
   "version": ""
  }
 },
 "nbformat": 4,
 "nbformat_minor": 5
}
