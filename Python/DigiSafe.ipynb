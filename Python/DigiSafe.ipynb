{
 "cells": [
  {
   "cell_type": "markdown",
   "id": "b4cbaba0-e490-4bf5-895c-9ba1aa15b9d3",
   "metadata": {},
   "source": [
    "## DigiSafe\n",
    "---"
   ]
  },
  {
   "cell_type": "code",
   "execution_count": 1,
   "id": "a403000d-941d-4c8c-84f9-f9a84eece9ea",
   "metadata": {},
   "outputs": [],
   "source": [
    "from Crypto.Cipher import ChaCha20_Poly1305\n",
    "import argon2\n",
    "import avro.datafile, avro.io\n",
    "import base64\n",
    "import hashlib\n",
    "import io\n",
    "import lz4.frame\n",
    "import os\n",
    "import reedsolo"
   ]
  },
  {
   "cell_type": "code",
   "execution_count": 2,
   "id": "485dee31-3895-4a38-a092-407b73365e53",
   "metadata": {},
   "outputs": [],
   "source": [
    "def open_sesame(file_path=\"../Rust/test.digisafe\", key=\"test_key\"):\n",
    "    key = hashlib.sha3_256(hashlib.sha3_256(key.encode()).digest()).digest()\n",
    "    key = argon2.low_level.hash_secret_raw(key, b\"digisafe\", time_cost=2, memory_cost=2**20, parallelism=8, hash_len=32, type=argon2.low_level.Type.ID)\n",
    "    key = hashlib.sha3_256(hashlib.sha3_256(key).digest()).digest()\n",
    "    db_raw_enc = open(file_path, \"rb\").read()\n",
    "    db_avro_enc = reedsolo.RSCodec(8).decode(db_raw_enc)[0]\n",
    "    db_enc = [*avro.datafile.DataFileReader(io.BytesIO(db_avro_enc), avro.io.DatumReader())][0]\n",
    "    db_lz4 = ChaCha20_Poly1305.new(key=key, nonce=base64.b64decode(db_enc[\"meta\"][\"nonce\"])).decrypt(base64.b64decode(db_enc['db']))\n",
    "    db_avro = lz4.frame.decompress(db_lz4)\n",
    "    db = [*avro.datafile.DataFileReader(io.BytesIO(db_avro), avro.io.DatumReader())][0]\n",
    "    return db"
   ]
  },
  {
   "cell_type": "code",
   "execution_count": 3,
   "id": "b483fad3-b9cd-419f-9b62-6a8e2c6c75ea",
   "metadata": {},
   "outputs": [
    {
     "data": {
      "text/plain": [
       "{'db': {'_name': 'main', 'k3': 'v3', 'k2': 'v2', 'k1': 'v1'},\n",
       " 'meta': {'uid': 'Kb+kH90y8DyIX+9fnEnt208re4fCNbKOcfZaB1jGOFM=',\n",
       "  'version': '1.0.0',\n",
       "  'timestamp': '1699588749',\n",
       "  'app': 'digisafe',\n",
       "  'revision': '0'}}"
      ]
     },
     "execution_count": 3,
     "metadata": {},
     "output_type": "execute_result"
    }
   ],
   "source": [
    "db = open_sesame()\n",
    "db"
   ]
  },
  {
   "cell_type": "code",
   "execution_count": null,
   "id": "1cd3ac31-91f7-489a-8b2a-546d0aef0641",
   "metadata": {},
   "outputs": [],
   "source": []
  }
 ],
 "metadata": {
  "kernelspec": {
   "display_name": "Python 3 (ipykernel)",
   "language": "python",
   "name": "python3"
  },
  "language_info": {
   "codemirror_mode": {
    "name": "ipython",
    "version": 3
   },
   "file_extension": ".py",
   "mimetype": "text/x-python",
   "name": "python",
   "nbconvert_exporter": "python",
   "pygments_lexer": "ipython3",
   "version": "3.11.6"
  }
 },
 "nbformat": 4,
 "nbformat_minor": 5
}
