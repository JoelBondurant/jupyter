{
 "cells": [
  {
   "cell_type": "code",
   "execution_count": 1,
   "metadata": {
    "collapsed": true
   },
   "outputs": [],
   "source": [
    "import os\n",
    "import json\n",
    "import requests\n",
    "import datetime\n",
    "import numpy as np\n",
    "import pandas as pd\n",
    "import folium, folium.plugins\n",
    "import matplotlib.pyplot as plt\n",
    "%matplotlib inline"
   ]
  },
  {
   "cell_type": "code",
   "execution_count": 2,
   "metadata": {
    "collapsed": true
   },
   "outputs": [],
   "source": [
    "SF = (37.78, -122.446)"
   ]
  },
  {
   "cell_type": "code",
   "execution_count": 3,
   "metadata": {
    "collapsed": false
   },
   "outputs": [
    {
     "data": {
      "text/html": [
       "<div>\n",
       "<table border=\"1\" class=\"dataframe\">\n",
       "  <thead>\n",
       "    <tr style=\"text-align: right;\">\n",
       "      <th></th>\n",
       "      <th>CaseID</th>\n",
       "      <th>Opened</th>\n",
       "      <th>Closed</th>\n",
       "      <th>Status</th>\n",
       "      <th>Responsible Agency</th>\n",
       "      <th>Address</th>\n",
       "      <th>Category</th>\n",
       "      <th>Request Type</th>\n",
       "      <th>Request Details</th>\n",
       "      <th>Source</th>\n",
       "      <th>Supervisor District</th>\n",
       "      <th>Neighborhood</th>\n",
       "      <th>Updated</th>\n",
       "      <th>Point</th>\n",
       "    </tr>\n",
       "  </thead>\n",
       "  <tbody>\n",
       "    <tr>\n",
       "      <th>0</th>\n",
       "      <td>322566</td>\n",
       "      <td>11/30/2008 10:56:00 PM</td>\n",
       "      <td>07/21/2009 04:24:00 PM</td>\n",
       "      <td>Closed</td>\n",
       "      <td>DPW Ops Queue</td>\n",
       "      <td>1566 HYDE ST, SAN FRANCISCO, CA, 94109</td>\n",
       "      <td>Street and Sidewalk Cleaning</td>\n",
       "      <td>Sidewalk_Cleaning</td>\n",
       "      <td>Garbage</td>\n",
       "      <td>Voice In</td>\n",
       "      <td>3</td>\n",
       "      <td>Nob Hill</td>\n",
       "      <td>07/21/2009 04:24:00 PM</td>\n",
       "      <td>(37.795328529, -122.418067787)</td>\n",
       "    </tr>\n",
       "    <tr>\n",
       "      <th>1</th>\n",
       "      <td>322560</td>\n",
       "      <td>11/30/2008 10:24:00 PM</td>\n",
       "      <td>07/21/2009 04:24:00 PM</td>\n",
       "      <td>Closed</td>\n",
       "      <td>DPW Ops Queue</td>\n",
       "      <td>Intersection of TAYLOR ST and TURK ST</td>\n",
       "      <td>Street and Sidewalk Cleaning</td>\n",
       "      <td>Illegal_Dumping</td>\n",
       "      <td>Garbage</td>\n",
       "      <td>Voice In</td>\n",
       "      <td>6</td>\n",
       "      <td>Downtown/Civic Center</td>\n",
       "      <td>07/21/2009 04:24:00 PM</td>\n",
       "      <td>(37.7832142923006, -122.410764953722)</td>\n",
       "    </tr>\n",
       "  </tbody>\n",
       "</table>\n",
       "</div>"
      ],
      "text/plain": [
       "   CaseID                  Opened                  Closed  Status  \\\n",
       "0  322566  11/30/2008 10:56:00 PM  07/21/2009 04:24:00 PM  Closed   \n",
       "1  322560  11/30/2008 10:24:00 PM  07/21/2009 04:24:00 PM  Closed   \n",
       "\n",
       "  Responsible Agency                                 Address  \\\n",
       "0      DPW Ops Queue  1566 HYDE ST, SAN FRANCISCO, CA, 94109   \n",
       "1      DPW Ops Queue   Intersection of TAYLOR ST and TURK ST   \n",
       "\n",
       "                       Category       Request Type Request Details    Source  \\\n",
       "0  Street and Sidewalk Cleaning  Sidewalk_Cleaning         Garbage  Voice In   \n",
       "1  Street and Sidewalk Cleaning    Illegal_Dumping         Garbage  Voice In   \n",
       "\n",
       "  Supervisor District           Neighborhood                 Updated  \\\n",
       "0                   3               Nob Hill  07/21/2009 04:24:00 PM   \n",
       "1                   6  Downtown/Civic Center  07/21/2009 04:24:00 PM   \n",
       "\n",
       "                                   Point  \n",
       "0         (37.795328529, -122.418067787)  \n",
       "1  (37.7832142923006, -122.410764953722)  "
      ]
     },
     "execution_count": 3,
     "metadata": {},
     "output_type": "execute_result"
    }
   ],
   "source": [
    "#df = pd.read_csv('https://data.sfgov.org/api/views/h3eg-w3pj/rows.csv?accessType=DOWNLOAD')\n",
    "#df.to_csv('sfpoo.csv', index = False)\n",
    "df = pd.read_csv('sfpoo.csv')\n",
    "df = df.astype(str)\n",
    "df.head(2)"
   ]
  },
  {
   "cell_type": "code",
   "execution_count": 4,
   "metadata": {
    "collapsed": false
   },
   "outputs": [
    {
     "name": "stdout",
     "output_type": "stream",
     "text": [
      "{'Sidewalk_Cleaning - Human_waste_or_urine', 'Illegal_Dumping - Human_waste_or_urine', 'Human Waste', 'Street_Cleaning - Human_waste_or_urine', 'Human_waste_or_urine'}\n",
      "(63584, 14)\n"
     ]
    },
    {
     "data": {
      "text/html": [
       "<div>\n",
       "<table border=\"1\" class=\"dataframe\">\n",
       "  <thead>\n",
       "    <tr style=\"text-align: right;\">\n",
       "      <th></th>\n",
       "      <th>CaseID</th>\n",
       "      <th>Opened</th>\n",
       "      <th>Closed</th>\n",
       "      <th>Status</th>\n",
       "      <th>Responsible Agency</th>\n",
       "      <th>Address</th>\n",
       "      <th>Category</th>\n",
       "      <th>Request Type</th>\n",
       "      <th>Request Details</th>\n",
       "      <th>Source</th>\n",
       "      <th>Supervisor District</th>\n",
       "      <th>Neighborhood</th>\n",
       "      <th>Updated</th>\n",
       "      <th>Point</th>\n",
       "    </tr>\n",
       "  </thead>\n",
       "  <tbody>\n",
       "    <tr>\n",
       "      <th>3</th>\n",
       "      <td>322556</td>\n",
       "      <td>11/30/2008 09:34:00 PM</td>\n",
       "      <td>12/09/2008 08:07:00 AM</td>\n",
       "      <td>Closed</td>\n",
       "      <td>DPW Ops Queue</td>\n",
       "      <td>Intersection of 25TH ST and LUCKY ST</td>\n",
       "      <td>Street and Sidewalk Cleaning</td>\n",
       "      <td>Sidewalk_Cleaning</td>\n",
       "      <td>Human_waste_or_urine</td>\n",
       "      <td>Voice In</td>\n",
       "      <td>9</td>\n",
       "      <td>Mission</td>\n",
       "      <td>12/09/2008 08:07:00 AM</td>\n",
       "      <td>(37.7509362479361, -122.413364630104)</td>\n",
       "    </tr>\n",
       "    <tr>\n",
       "      <th>11</th>\n",
       "      <td>322511</td>\n",
       "      <td>11/30/2008 06:50:00 PM</td>\n",
       "      <td>12/01/2008 04:24:00 PM</td>\n",
       "      <td>Closed</td>\n",
       "      <td>DPW Ops Queue</td>\n",
       "      <td>647 MINNA ST, SAN FRANCISCO, CA, 94103</td>\n",
       "      <td>Street and Sidewalk Cleaning</td>\n",
       "      <td>Sidewalk_Cleaning</td>\n",
       "      <td>Human_waste_or_urine</td>\n",
       "      <td>Voice In</td>\n",
       "      <td>6</td>\n",
       "      <td>South of Market</td>\n",
       "      <td>12/01/2008 04:24:00 PM</td>\n",
       "      <td>(37.777796575, -122.41137518)</td>\n",
       "    </tr>\n",
       "  </tbody>\n",
       "</table>\n",
       "</div>"
      ],
      "text/plain": [
       "    CaseID                  Opened                  Closed  Status  \\\n",
       "3   322556  11/30/2008 09:34:00 PM  12/09/2008 08:07:00 AM  Closed   \n",
       "11  322511  11/30/2008 06:50:00 PM  12/01/2008 04:24:00 PM  Closed   \n",
       "\n",
       "   Responsible Agency                                  Address  \\\n",
       "3       DPW Ops Queue     Intersection of 25TH ST and LUCKY ST   \n",
       "11      DPW Ops Queue   647 MINNA ST, SAN FRANCISCO, CA, 94103   \n",
       "\n",
       "                        Category       Request Type       Request Details  \\\n",
       "3   Street and Sidewalk Cleaning  Sidewalk_Cleaning  Human_waste_or_urine   \n",
       "11  Street and Sidewalk Cleaning  Sidewalk_Cleaning  Human_waste_or_urine   \n",
       "\n",
       "      Source Supervisor District     Neighborhood                 Updated  \\\n",
       "3   Voice In                   9          Mission  12/09/2008 08:07:00 AM   \n",
       "11  Voice In                   6  South of Market  12/01/2008 04:24:00 PM   \n",
       "\n",
       "                                    Point  \n",
       "3   (37.7509362479361, -122.413364630104)  \n",
       "11          (37.777796575, -122.41137518)  "
      ]
     },
     "execution_count": 4,
     "metadata": {},
     "output_type": "execute_result"
    }
   ],
   "source": [
    "# Cleeeennnuppp.\n",
    "df['Request Details'] =  df['Request Details'].fillna('')\n",
    "pooset = set([x for x in set(df['Request Details'].unique()) if 'human' in x.lower()])\n",
    "print(pooset)\n",
    "dfpoo = df[df['Request Details'].isin(pooset)]\n",
    "print(dfpoo.shape)\n",
    "dfpoo.head(2)"
   ]
  },
  {
   "cell_type": "code",
   "execution_count": 5,
   "metadata": {
    "collapsed": false
   },
   "outputs": [
    {
     "name": "stderr",
     "output_type": "stream",
     "text": [
      "/usr/lib64/python3.4/site-packages/pandas/core/indexing.py:288: SettingWithCopyWarning: \n",
      "A value is trying to be set on a copy of a slice from a DataFrame.\n",
      "Try using .loc[row_indexer,col_indexer] = value instead\n",
      "\n",
      "See the caveats in the documentation: http://pandas.pydata.org/pandas-docs/stable/indexing.html#indexing-view-versus-copy\n",
      "  self.obj[key] = _infer_fill_value(value)\n",
      "/usr/lib64/python3.4/site-packages/pandas/core/indexing.py:465: SettingWithCopyWarning: \n",
      "A value is trying to be set on a copy of a slice from a DataFrame.\n",
      "Try using .loc[row_indexer,col_indexer] = value instead\n",
      "\n",
      "See the caveats in the documentation: http://pandas.pydata.org/pandas-docs/stable/indexing.html#indexing-view-versus-copy\n",
      "  self.obj[item] = s\n"
     ]
    },
    {
     "name": "stdout",
     "output_type": "stream",
     "text": [
      "(63277, 16)\n"
     ]
    },
    {
     "data": {
      "text/html": [
       "<div>\n",
       "<table border=\"1\" class=\"dataframe\">\n",
       "  <thead>\n",
       "    <tr style=\"text-align: right;\">\n",
       "      <th></th>\n",
       "      <th>CaseID</th>\n",
       "      <th>Opened</th>\n",
       "      <th>Closed</th>\n",
       "      <th>Status</th>\n",
       "      <th>Responsible Agency</th>\n",
       "      <th>Address</th>\n",
       "      <th>Category</th>\n",
       "      <th>Request Type</th>\n",
       "      <th>Request Details</th>\n",
       "      <th>Source</th>\n",
       "      <th>Supervisor District</th>\n",
       "      <th>Neighborhood</th>\n",
       "      <th>Updated</th>\n",
       "      <th>Point</th>\n",
       "      <th>lat</th>\n",
       "      <th>lon</th>\n",
       "    </tr>\n",
       "  </thead>\n",
       "  <tbody>\n",
       "    <tr>\n",
       "      <th>3</th>\n",
       "      <td>322556</td>\n",
       "      <td>2008-11-30</td>\n",
       "      <td>12/09/2008 08:07:00 AM</td>\n",
       "      <td>Closed</td>\n",
       "      <td>DPW Ops Queue</td>\n",
       "      <td>Intersection of 25TH ST and LUCKY ST</td>\n",
       "      <td>Street and Sidewalk Cleaning</td>\n",
       "      <td>Sidewalk_Cleaning</td>\n",
       "      <td>Human_waste_or_urine</td>\n",
       "      <td>Voice In</td>\n",
       "      <td>9</td>\n",
       "      <td>Mission</td>\n",
       "      <td>12/09/2008 08:07:00 AM</td>\n",
       "      <td>(37.7509362479361, -122.413364630104)</td>\n",
       "      <td>37.750936</td>\n",
       "      <td>-122.413365</td>\n",
       "    </tr>\n",
       "    <tr>\n",
       "      <th>11</th>\n",
       "      <td>322511</td>\n",
       "      <td>2008-11-30</td>\n",
       "      <td>12/01/2008 04:24:00 PM</td>\n",
       "      <td>Closed</td>\n",
       "      <td>DPW Ops Queue</td>\n",
       "      <td>647 MINNA ST, SAN FRANCISCO, CA, 94103</td>\n",
       "      <td>Street and Sidewalk Cleaning</td>\n",
       "      <td>Sidewalk_Cleaning</td>\n",
       "      <td>Human_waste_or_urine</td>\n",
       "      <td>Voice In</td>\n",
       "      <td>6</td>\n",
       "      <td>South of Market</td>\n",
       "      <td>12/01/2008 04:24:00 PM</td>\n",
       "      <td>(37.777796575, -122.41137518)</td>\n",
       "      <td>37.777797</td>\n",
       "      <td>-122.411375</td>\n",
       "    </tr>\n",
       "  </tbody>\n",
       "</table>\n",
       "</div>"
      ],
      "text/plain": [
       "    CaseID     Opened                  Closed  Status Responsible Agency  \\\n",
       "3   322556 2008-11-30  12/09/2008 08:07:00 AM  Closed      DPW Ops Queue   \n",
       "11  322511 2008-11-30  12/01/2008 04:24:00 PM  Closed      DPW Ops Queue   \n",
       "\n",
       "                                    Address                      Category  \\\n",
       "3      Intersection of 25TH ST and LUCKY ST  Street and Sidewalk Cleaning   \n",
       "11   647 MINNA ST, SAN FRANCISCO, CA, 94103  Street and Sidewalk Cleaning   \n",
       "\n",
       "         Request Type       Request Details    Source Supervisor District  \\\n",
       "3   Sidewalk_Cleaning  Human_waste_or_urine  Voice In                   9   \n",
       "11  Sidewalk_Cleaning  Human_waste_or_urine  Voice In                   6   \n",
       "\n",
       "       Neighborhood                 Updated  \\\n",
       "3           Mission  12/09/2008 08:07:00 AM   \n",
       "11  South of Market  12/01/2008 04:24:00 PM   \n",
       "\n",
       "                                    Point        lat         lon  \n",
       "3   (37.7509362479361, -122.413364630104)  37.750936 -122.413365  \n",
       "11          (37.777796575, -122.41137518)  37.777797 -122.411375  "
      ]
     },
     "execution_count": 5,
     "metadata": {},
     "output_type": "execute_result"
    }
   ],
   "source": [
    "dfpoogeo = dfpoo[dfpoo.Point.apply(lambda x: x[1:-1].split(', ')[0].startswith('37'))]\n",
    "dfpoogeo.loc[:,'lat'] = dfpoogeo.Point.apply(lambda x: float(x[1:-1].split(', ')[0]))\n",
    "dfpoogeo.loc[:,'lon'] = dfpoogeo.Point.apply(lambda x: float(x[1:-1].split(', ')[1]))\n",
    "dfpoogeo.loc[:,'Opened'] = dfpoogeo.Opened.apply(lambda x: datetime.datetime.strptime(x[:10], '%m/%d/%Y'))\n",
    "print(dfpoogeo.shape)\n",
    "dfpoogeo.head(2)"
   ]
  },
  {
   "cell_type": "code",
   "execution_count": 6,
   "metadata": {
    "collapsed": false
   },
   "outputs": [
    {
     "data": {
      "text/html": [
       "<div style=\"width:100%;\"><div style=\"position:relative;width:100%;height:0;padding-bottom:60%;\"><iframe src=\"data:text/html;base64,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\" style=\"position:absolute;width:100%;height:100%;left:0;top:0;\"></iframe></div></div>"
      ],
      "text/plain": [
       "<folium.folium.Map at 0x7fb1a1cca4a8>"
      ]
     },
     "execution_count": 6,
     "metadata": {},
     "output_type": "execute_result"
    }
   ],
   "source": [
    "amap = folium.Map(location=SF, tiles='Stamen Toner', zoom_start=14)\n",
    "amap.add_children(folium.LatLngPopup())\n",
    "dat = dfpoogeo[dfpoogeo.Opened >= '2016-05-23'].as_matrix(['lat','lon'])\n",
    "amap.add_children(folium.plugins.HeatMap(dat))\n",
    "amap"
   ]
  },
  {
   "cell_type": "code",
   "execution_count": 7,
   "metadata": {
    "collapsed": false
   },
   "outputs": [
    {
     "data": {
      "text/plain": [
       "<matplotlib.axes._subplots.AxesSubplot at 0x7fb1f3dc1fd0>"
      ]
     },
     "execution_count": 7,
     "metadata": {},
     "output_type": "execute_result"
    },
    {
     "data": {
      "image/png": "[encoded data removed]",
      "text/plain": [
       "<matplotlib.figure.Figure at 0x7fb1a1cdca90>"
      ]
     },
     "metadata": {},
     "output_type": "display_data"
    }
   ],
   "source": [
    "dfpoogeo.groupby(['Opened']).CaseID.count().plot()"
   ]
  },
  {
   "cell_type": "code",
   "execution_count": null,
   "metadata": {
    "collapsed": true
   },
   "outputs": [],
   "source": []
  }
 ],
 "metadata": {
  "kernelspec": {
   "display_name": "Python 3",
   "language": "python",
   "name": "python3"
  },
  "language_info": {
   "codemirror_mode": {
    "name": "ipython",
    "version": 3
   },
   "file_extension": ".py",
   "mimetype": "text/x-python",
   "name": "python",
   "nbconvert_exporter": "python",
   "pygments_lexer": "ipython3",
   "version": "3.4.3"
  }
 },
 "nbformat": 4,
 "nbformat_minor": 0
}
