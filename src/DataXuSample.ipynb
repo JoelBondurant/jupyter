{
 "cells": [
  {
   "cell_type": "markdown",
   "metadata": {
    "deletable": true,
    "editable": true,
    "extensions": {
     "jupyter_dashboards": {
      "version": 1,
      "views": {
       "grid_default": {
        "col": 0,
        "height": 6,
        "hidden": false,
        "row": 0,
        "width": 12
       },
       "report_default": {}
      }
     }
    }
   },
   "source": [
    "# Advertiser DataXu Example:\n",
    "---\n",
    "## 1 billion impression records joined to MariaDB:\n",
    "---"
   ]
  },
  {
   "cell_type": "code",
   "execution_count": 51,
   "metadata": {
    "collapsed": false,
    "deletable": true,
    "editable": true,
    "extensions": {
     "jupyter_dashboards": {
      "version": 1,
      "views": {
       "grid_default": {
        "hidden": true
       },
       "report_default": {
        "hidden": true
       }
      }
     }
    }
   },
   "outputs": [],
   "source": [
    "import numpy as np\n",
    "import pandas as pd\n",
    "pd.set_option('display.expand_frame_repr', True)\n",
    "pd.set_option('display.max_columns', 300)\n",
    "pd.set_option('display.max_categories', 300)\n",
    "pd.set_option('display.width', 208)\n",
    "pd.set_option('display.max_rows', 1000)\n",
    "pd.set_option('display.memory_usage', True)\n",
    "import pydrill.client\n",
    "import matplotlib.pyplot as plt\n",
    "import seaborn.apionly as sns\n",
    "%matplotlib inline"
   ]
  },
  {
   "cell_type": "code",
   "execution_count": 52,
   "metadata": {
    "collapsed": false,
    "deletable": true,
    "editable": true,
    "extensions": {
     "jupyter_dashboards": {
      "version": 1,
      "views": {
       "grid_default": {
        "hidden": true
       },
       "report_default": {
        "hidden": true
       }
      }
     }
    }
   },
   "outputs": [],
   "source": [
    "db = pydrill.client.PyDrill(host = '192.168.101.12')"
   ]
  },
  {
   "cell_type": "code",
   "execution_count": 4,
   "metadata": {
    "collapsed": false,
    "deletable": true,
    "editable": true,
    "extensions": {
     "jupyter_dashboards": {
      "version": 1,
      "views": {
       "grid_default": {
        "col": 4,
        "height": 4,
        "hidden": true,
        "row": 0,
        "width": 6
       },
       "report_default": {
        "hidden": false
       }
      }
     }
    }
   },
   "outputs": [
    {
     "data": {
      "text/html": [
       "<div>\n",
       "<table border=\"1\" class=\"dataframe\">\n",
       "  <thead>\n",
       "    <tr style=\"text-align: right;\">\n",
       "      <th></th>\n",
       "      <th>accessTime</th>\n",
       "      <th>group</th>\n",
       "      <th>isDirectory</th>\n",
       "      <th>isFile</th>\n",
       "      <th>length</th>\n",
       "      <th>modificationTime</th>\n",
       "      <th>name</th>\n",
       "      <th>owner</th>\n",
       "      <th>permissions</th>\n",
       "    </tr>\n",
       "  </thead>\n",
       "  <tbody>\n",
       "    <tr>\n",
       "      <th>0</th>\n",
       "      <td>1969-12-31T16:00:00.000-08:00</td>\n",
       "      <td>supergroup</td>\n",
       "      <td>true</td>\n",
       "      <td>false</td>\n",
       "      <td>0</td>\n",
       "      <td>2016-09-28T14:30:49.410-07:00</td>\n",
       "      <td>fact_impressions</td>\n",
       "      <td>hadoop</td>\n",
       "      <td>rwxr-xr-x</td>\n",
       "    </tr>\n",
       "  </tbody>\n",
       "</table>\n",
       "</div>"
      ],
      "text/plain": [
       "                      accessTime       group isDirectory isFile length  \\\n",
       "0  1969-12-31T16:00:00.000-08:00  supergroup        true  false      0   \n",
       "\n",
       "                modificationTime              name   owner permissions  \n",
       "0  2016-09-28T14:30:49.410-07:00  fact_impressions  hadoop   rwxr-xr-x  "
      ]
     },
     "execution_count": 4,
     "metadata": {},
     "output_type": "execute_result"
    }
   ],
   "source": [
    "db.query('show files from hdfs.`/advertisers/all/dataxu/0DZkTrszzb/fact_impressions/parquet`', timeout = 600).to_dataframe()"
   ]
  },
  {
   "cell_type": "code",
   "execution_count": 24,
   "metadata": {
    "collapsed": false,
    "deletable": true,
    "editable": true,
    "extensions": {
     "jupyter_dashboards": {
      "version": 1,
      "views": {
       "grid_default": {
        "col": 0,
        "height": 4,
        "hidden": true,
        "row": 4,
        "width": 4
       },
       "report_default": {
        "hidden": false
       }
      }
     }
    }
   },
   "outputs": [
    {
     "name": "stdout",
     "output_type": "stream",
     "text": [
      "CPU times: user 12.8 ms, sys: 1.09 ms, total: 13.8 ms\n",
      "Wall time: 669 ms\n"
     ]
    },
    {
     "data": {
      "text/plain": [
       "930370497"
      ]
     },
     "execution_count": 24,
     "metadata": {},
     "output_type": "execute_result"
    }
   ],
   "source": [
    "%time int(db.query('select count(1) from hdfs.`/advertisers/all/dataxu/0DZkTrszzb/fact_impressions/parquet`', timeout = 600).to_dataframe().iloc[0])"
   ]
  },
  {
   "cell_type": "code",
   "execution_count": 9,
   "metadata": {
    "collapsed": false,
    "deletable": true,
    "editable": true,
    "extensions": {
     "jupyter_dashboards": {
      "version": 1,
      "views": {
       "grid_default": {
        "col": 0,
        "height": 7,
        "hidden": true,
        "row": 17,
        "width": 12
       },
       "report_default": {
        "hidden": false
       }
      }
     }
    },
    "scrolled": true
   },
   "outputs": [
    {
     "data": {
      "text/html": [
       "<div>\n",
       "<table border=\"1\" class=\"dataframe\">\n",
       "  <thead>\n",
       "    <tr style=\"text-align: right;\">\n",
       "      <th></th>\n",
       "      <th>campaign_uid</th>\n",
       "      <th>cookies</th>\n",
       "      <th>country_code</th>\n",
       "      <th>created_dt</th>\n",
       "      <th>creative_uid</th>\n",
       "      <th>dir0</th>\n",
       "      <th>dx_category_list</th>\n",
       "      <th>event_id</th>\n",
       "      <th>exchange_publisher</th>\n",
       "      <th>exchange_uid</th>\n",
       "      <th>flight_uid</th>\n",
       "      <th>hour</th>\n",
       "      <th>ip_address</th>\n",
       "      <th>metrocode_code</th>\n",
       "      <th>micro_raw_spend</th>\n",
       "      <th>page_url</th>\n",
       "      <th>placement_uid</th>\n",
       "      <th>postal_code</th>\n",
       "      <th>region_code</th>\n",
       "      <th>site_name</th>\n",
       "      <th>source_timestamp</th>\n",
       "      <th>top_category</th>\n",
       "      <th>user_agent_dim_uid</th>\n",
       "      <th>user_id</th>\n",
       "      <th>winning_audience_uid</th>\n",
       "    </tr>\n",
       "  </thead>\n",
       "  <tbody>\n",
       "    <tr>\n",
       "      <th>0</th>\n",
       "      <td>0CjDJFeY8u</td>\n",
       "      <td>wfivefivec=edfb0f76-be96-4c1d-8375-046ee54618af</td>\n",
       "      <td>US</td>\n",
       "      <td>2014-11-30</td>\n",
       "      <td>0RwyFYmADC</td>\n",
       "      <td>fact_impressions</td>\n",
       "      <td>Arts-Entertainment-FineArt;Technology-Computin...</td>\n",
       "      <td>cdn1-xre12.bfi_dataxu_adtrack_event_2014113019...</td>\n",
       "      <td></td>\n",
       "      <td>g8vz7c1777c5qlsyupmnb</td>\n",
       "      <td>0FGgQLqKi5</td>\n",
       "      <td>14</td>\n",
       "      <td>199.188.84.206</td>\n",
       "      <td>507</td>\n",
       "      <td>672.0000000000000000000000000000000000000000</td>\n",
       "      <td>http://kepguru.hu/hatterkepek/cimke/ejszakai-k...</td>\n",
       "      <td></td>\n",
       "      <td>29902</td>\n",
       "      <td>SC</td>\n",
       "      <td>kepguru.hu</td>\n",
       "      <td>1417374725000</td>\n",
       "      <td>Hobbies-Interests</td>\n",
       "      <td>RuhnW3j</td>\n",
       "      <td>edfb0f76-be96-4c1d-8375-046ee54618af</td>\n",
       "      <td></td>\n",
       "    </tr>\n",
       "    <tr>\n",
       "      <th>1</th>\n",
       "      <td>0CjDJFeY8u</td>\n",
       "      <td>wfivefivec=3f009ac8-d219-48d9-996e-b83ec447faa4</td>\n",
       "      <td>US</td>\n",
       "      <td>2014-11-30</td>\n",
       "      <td>0REnlPk0m0</td>\n",
       "      <td>fact_impressions</td>\n",
       "      <td>Technology-Computing;Reference-Dictionary-Phon...</td>\n",
       "      <td>cdn1-xre15.bfi_dataxu_adtrack_event_2014113019...</td>\n",
       "      <td></td>\n",
       "      <td>g8xazmqz4wto8y37y14h4</td>\n",
       "      <td>0FB4Na6nJy</td>\n",
       "      <td>14</td>\n",
       "      <td>69.116.16.98</td>\n",
       "      <td>501</td>\n",
       "      <td>2788.8000000000000000000000000000000000000000</td>\n",
       "      <td>http://www.weather.com/weather/tenday/l/08807:...</td>\n",
       "      <td></td>\n",
       "      <td>08807</td>\n",
       "      <td>NJ</td>\n",
       "      <td>www.weather.com</td>\n",
       "      <td>1417375365000</td>\n",
       "      <td>News</td>\n",
       "      <td>Ruv4N65</td>\n",
       "      <td>3f009ac8-d219-48d9-996e-b83ec447faa4</td>\n",
       "      <td></td>\n",
       "    </tr>\n",
       "  </tbody>\n",
       "</table>\n",
       "</div>"
      ],
      "text/plain": [
       "  campaign_uid                                          cookies country_code  created_dt creative_uid              dir0                                   dx_category_list  \\\n",
       "0   0CjDJFeY8u  wfivefivec=edfb0f76-be96-4c1d-8375-046ee54618af           US  2014-11-30   0RwyFYmADC  fact_impressions  Arts-Entertainment-FineArt;Technology-Computin...   \n",
       "1   0CjDJFeY8u  wfivefivec=3f009ac8-d219-48d9-996e-b83ec447faa4           US  2014-11-30   0REnlPk0m0  fact_impressions  Technology-Computing;Reference-Dictionary-Phon...   \n",
       "\n",
       "                                            event_id exchange_publisher           exchange_uid  flight_uid hour      ip_address metrocode_code                                micro_raw_spend  \\\n",
       "0  cdn1-xre12.bfi_dataxu_adtrack_event_2014113019...                     g8vz7c1777c5qlsyupmnb  0FGgQLqKi5   14  199.188.84.206            507   672.0000000000000000000000000000000000000000   \n",
       "1  cdn1-xre15.bfi_dataxu_adtrack_event_2014113019...                     g8xazmqz4wto8y37y14h4  0FB4Na6nJy   14    69.116.16.98            501  2788.8000000000000000000000000000000000000000   \n",
       "\n",
       "                                            page_url placement_uid postal_code region_code        site_name source_timestamp       top_category user_agent_dim_uid                               user_id  \\\n",
       "0  http://kepguru.hu/hatterkepek/cimke/ejszakai-k...                     29902          SC       kepguru.hu    1417374725000  Hobbies-Interests            RuhnW3j  edfb0f76-be96-4c1d-8375-046ee54618af   \n",
       "1  http://www.weather.com/weather/tenday/l/08807:...                     08807          NJ  www.weather.com    1417375365000               News            Ruv4N65  3f009ac8-d219-48d9-996e-b83ec447faa4   \n",
       "\n",
       "  winning_audience_uid  \n",
       "0                       \n",
       "1                       "
      ]
     },
     "execution_count": 9,
     "metadata": {},
     "output_type": "execute_result"
    }
   ],
   "source": [
    "db.query('select * from hdfs.`/advertisers/all/dataxu/0DZkTrszzb/fact_impressions/parquet` limit 2', timeout = 600).to_dataframe()"
   ]
  },
  {
   "cell_type": "code",
   "execution_count": 53,
   "metadata": {
    "collapsed": false,
    "deletable": true,
    "editable": true,
    "extensions": {
     "jupyter_dashboards": {
      "version": 1,
      "views": {
       "grid_default": {
        "col": 7,
        "height": 25,
        "hidden": false,
        "row": 23,
        "width": 3
       },
       "report_default": {
        "hidden": false
       }
      }
     }
    }
   },
   "outputs": [
    {
     "name": "stdout",
     "output_type": "stream",
     "text": [
      "CPU times: user 11.5 ms, sys: 3.79 ms, total: 15.3 ms\n",
      "Wall time: 44.1 s\n"
     ]
    },
    {
     "data": {
      "text/html": [
       "\n",
       "        <style  type=\"text/css\" >\n",
       "        \n",
       "        \n",
       "            #T_663320b2_866b_11e6_9241_0242ac110004row0_col0 {\n",
       "            \n",
       "                background-color:  #008000;\n",
       "            \n",
       "            }\n",
       "        \n",
       "            #T_663320b2_866b_11e6_9241_0242ac110004row1_col0 {\n",
       "            \n",
       "                background-color:  #52ad52;\n",
       "            \n",
       "            }\n",
       "        \n",
       "            #T_663320b2_866b_11e6_9241_0242ac110004row2_col0 {\n",
       "            \n",
       "                background-color:  #60b560;\n",
       "            \n",
       "            }\n",
       "        \n",
       "            #T_663320b2_866b_11e6_9241_0242ac110004row3_col0 {\n",
       "            \n",
       "                background-color:  #64b764;\n",
       "            \n",
       "            }\n",
       "        \n",
       "            #T_663320b2_866b_11e6_9241_0242ac110004row4_col0 {\n",
       "            \n",
       "                background-color:  #76c176;\n",
       "            \n",
       "            }\n",
       "        \n",
       "            #T_663320b2_866b_11e6_9241_0242ac110004row5_col0 {\n",
       "            \n",
       "                background-color:  #94d294;\n",
       "            \n",
       "            }\n",
       "        \n",
       "            #T_663320b2_866b_11e6_9241_0242ac110004row6_col0 {\n",
       "            \n",
       "                background-color:  #ade0ad;\n",
       "            \n",
       "            }\n",
       "        \n",
       "            #T_663320b2_866b_11e6_9241_0242ac110004row7_col0 {\n",
       "            \n",
       "                background-color:  #c1ebc1;\n",
       "            \n",
       "            }\n",
       "        \n",
       "            #T_663320b2_866b_11e6_9241_0242ac110004row8_col0 {\n",
       "            \n",
       "                background-color:  #caf0ca;\n",
       "            \n",
       "            }\n",
       "        \n",
       "            #T_663320b2_866b_11e6_9241_0242ac110004row9_col0 {\n",
       "            \n",
       "                background-color:  #cef2ce;\n",
       "            \n",
       "            }\n",
       "        \n",
       "            #T_663320b2_866b_11e6_9241_0242ac110004row10_col0 {\n",
       "            \n",
       "                background-color:  #cef2ce;\n",
       "            \n",
       "            }\n",
       "        \n",
       "            #T_663320b2_866b_11e6_9241_0242ac110004row11_col0 {\n",
       "            \n",
       "                background-color:  #d2f4d2;\n",
       "            \n",
       "            }\n",
       "        \n",
       "            #T_663320b2_866b_11e6_9241_0242ac110004row12_col0 {\n",
       "            \n",
       "                background-color:  #daf9da;\n",
       "            \n",
       "            }\n",
       "        \n",
       "            #T_663320b2_866b_11e6_9241_0242ac110004row13_col0 {\n",
       "            \n",
       "                background-color:  #daf9da;\n",
       "            \n",
       "            }\n",
       "        \n",
       "            #T_663320b2_866b_11e6_9241_0242ac110004row14_col0 {\n",
       "            \n",
       "                background-color:  #dcfadc;\n",
       "            \n",
       "            }\n",
       "        \n",
       "            #T_663320b2_866b_11e6_9241_0242ac110004row15_col0 {\n",
       "            \n",
       "                background-color:  #defbde;\n",
       "            \n",
       "            }\n",
       "        \n",
       "            #T_663320b2_866b_11e6_9241_0242ac110004row16_col0 {\n",
       "            \n",
       "                background-color:  #e0fce0;\n",
       "            \n",
       "            }\n",
       "        \n",
       "            #T_663320b2_866b_11e6_9241_0242ac110004row17_col0 {\n",
       "            \n",
       "                background-color:  #e4fee4;\n",
       "            \n",
       "            }\n",
       "        \n",
       "            #T_663320b2_866b_11e6_9241_0242ac110004row18_col0 {\n",
       "            \n",
       "                background-color:  #e5ffe5;\n",
       "            \n",
       "            }\n",
       "        \n",
       "            #T_663320b2_866b_11e6_9241_0242ac110004row19_col0 {\n",
       "            \n",
       "                background-color:  #e5ffe5;\n",
       "            \n",
       "            }\n",
       "        \n",
       "        </style>\n",
       "\n",
       "        <table id=\"T_663320b2_866b_11e6_9241_0242ac110004\" None>\n",
       "        \n",
       "\n",
       "        <thead>\n",
       "            \n",
       "            <tr>\n",
       "                \n",
       "                <th class=\"blank\">\n",
       "                \n",
       "                <th class=\"col_heading level0 col0\">cnt\n",
       "                \n",
       "                <th class=\"col_heading level0 col1\">top_category\n",
       "                \n",
       "            </tr>\n",
       "            \n",
       "        </thead>\n",
       "        <tbody>\n",
       "            \n",
       "            <tr>\n",
       "                \n",
       "                <th id=\"T_663320b2_866b_11e6_9241_0242ac110004\" class=\"row_heading level1 row0\">\n",
       "                    0\n",
       "                \n",
       "                <td id=\"T_663320b2_866b_11e6_9241_0242ac110004row0_col0\" class=\"data row0 col0\">\n",
       "                    119618365\n",
       "                \n",
       "                <td id=\"T_663320b2_866b_11e6_9241_0242ac110004row0_col1\" class=\"data row0 col1\">\n",
       "                    Travel\n",
       "                \n",
       "            </tr>\n",
       "            \n",
       "            <tr>\n",
       "                \n",
       "                <th id=\"T_663320b2_866b_11e6_9241_0242ac110004\" class=\"row_heading level1 row1\">\n",
       "                    1\n",
       "                \n",
       "                <td id=\"T_663320b2_866b_11e6_9241_0242ac110004row1_col0\" class=\"data row1 col0\">\n",
       "                    82046675\n",
       "                \n",
       "                <td id=\"T_663320b2_866b_11e6_9241_0242ac110004row1_col1\" class=\"data row1 col1\">\n",
       "                    News\n",
       "                \n",
       "            </tr>\n",
       "            \n",
       "            <tr>\n",
       "                \n",
       "                <th id=\"T_663320b2_866b_11e6_9241_0242ac110004\" class=\"row_heading level1 row2\">\n",
       "                    2\n",
       "                \n",
       "                <td id=\"T_663320b2_866b_11e6_9241_0242ac110004row2_col0\" class=\"data row2 col0\">\n",
       "                    75566194\n",
       "                \n",
       "                <td id=\"T_663320b2_866b_11e6_9241_0242ac110004row2_col1\" class=\"data row2 col1\">\n",
       "                    Uncategorized\n",
       "                \n",
       "            </tr>\n",
       "            \n",
       "            <tr>\n",
       "                \n",
       "                <th id=\"T_663320b2_866b_11e6_9241_0242ac110004\" class=\"row_heading level1 row3\">\n",
       "                    3\n",
       "                \n",
       "                <td id=\"T_663320b2_866b_11e6_9241_0242ac110004row3_col0\" class=\"data row3 col0\">\n",
       "                    74173525\n",
       "                \n",
       "                <td id=\"T_663320b2_866b_11e6_9241_0242ac110004row3_col1\" class=\"data row3 col1\">\n",
       "                    Education\n",
       "                \n",
       "            </tr>\n",
       "            \n",
       "            <tr>\n",
       "                \n",
       "                <th id=\"T_663320b2_866b_11e6_9241_0242ac110004\" class=\"row_heading level1 row4\">\n",
       "                    4\n",
       "                \n",
       "                <td id=\"T_663320b2_866b_11e6_9241_0242ac110004row4_col0\" class=\"data row4 col0\">\n",
       "                    66031820\n",
       "                \n",
       "                <td id=\"T_663320b2_866b_11e6_9241_0242ac110004row4_col1\" class=\"data row4 col1\">\n",
       "                    Hobbies-Interests\n",
       "                \n",
       "            </tr>\n",
       "            \n",
       "            <tr>\n",
       "                \n",
       "                <th id=\"T_663320b2_866b_11e6_9241_0242ac110004\" class=\"row_heading level1 row5\">\n",
       "                    5\n",
       "                \n",
       "                <td id=\"T_663320b2_866b_11e6_9241_0242ac110004row5_col0\" class=\"data row5 col0\">\n",
       "                    52297886\n",
       "                \n",
       "                <td id=\"T_663320b2_866b_11e6_9241_0242ac110004row5_col1\" class=\"data row5 col1\">\n",
       "                    DataXuSafe-Exempt\n",
       "                \n",
       "            </tr>\n",
       "            \n",
       "            <tr>\n",
       "                \n",
       "                <th id=\"T_663320b2_866b_11e6_9241_0242ac110004\" class=\"row_heading level1 row6\">\n",
       "                    6\n",
       "                \n",
       "                <td id=\"T_663320b2_866b_11e6_9241_0242ac110004row6_col0\" class=\"data row6 col0\">\n",
       "                    40877994\n",
       "                \n",
       "                <td id=\"T_663320b2_866b_11e6_9241_0242ac110004row6_col1\" class=\"data row6 col1\">\n",
       "                    LawGovt-Politics\n",
       "                \n",
       "            </tr>\n",
       "            \n",
       "            <tr>\n",
       "                \n",
       "                <th id=\"T_663320b2_866b_11e6_9241_0242ac110004\" class=\"row_heading level1 row7\">\n",
       "                    7\n",
       "                \n",
       "                <td id=\"T_663320b2_866b_11e6_9241_0242ac110004row7_col0\" class=\"data row7 col0\">\n",
       "                    31973886\n",
       "                \n",
       "                <td id=\"T_663320b2_866b_11e6_9241_0242ac110004row7_col1\" class=\"data row7 col1\">\n",
       "                    Technology-Computing\n",
       "                \n",
       "            </tr>\n",
       "            \n",
       "            <tr>\n",
       "                \n",
       "                <th id=\"T_663320b2_866b_11e6_9241_0242ac110004\" class=\"row_heading level1 row8\">\n",
       "                    8\n",
       "                \n",
       "                <td id=\"T_663320b2_866b_11e6_9241_0242ac110004row8_col0\" class=\"data row8 col0\">\n",
       "                    27554285\n",
       "                \n",
       "                <td id=\"T_663320b2_866b_11e6_9241_0242ac110004row8_col1\" class=\"data row8 col1\">\n",
       "                    Business\n",
       "                \n",
       "            </tr>\n",
       "            \n",
       "            <tr>\n",
       "                \n",
       "                <th id=\"T_663320b2_866b_11e6_9241_0242ac110004\" class=\"row_heading level1 row9\">\n",
       "                    9\n",
       "                \n",
       "                <td id=\"T_663320b2_866b_11e6_9241_0242ac110004row9_col0\" class=\"data row9 col0\">\n",
       "                    26040872\n",
       "                \n",
       "                <td id=\"T_663320b2_866b_11e6_9241_0242ac110004row9_col1\" class=\"data row9 col1\">\n",
       "                    Sports-Football\n",
       "                \n",
       "            </tr>\n",
       "            \n",
       "            <tr>\n",
       "                \n",
       "                <th id=\"T_663320b2_866b_11e6_9241_0242ac110004\" class=\"row_heading level1 row10\">\n",
       "                    10\n",
       "                \n",
       "                <td id=\"T_663320b2_866b_11e6_9241_0242ac110004row10_col0\" class=\"data row10 col0\">\n",
       "                    25835351\n",
       "                \n",
       "                <td id=\"T_663320b2_866b_11e6_9241_0242ac110004row10_col1\" class=\"data row10 col1\">\n",
       "                    MiscellaneousSafe\n",
       "                \n",
       "            </tr>\n",
       "            \n",
       "            <tr>\n",
       "                \n",
       "                <th id=\"T_663320b2_866b_11e6_9241_0242ac110004\" class=\"row_heading level1 row11\">\n",
       "                    11\n",
       "                \n",
       "                <td id=\"T_663320b2_866b_11e6_9241_0242ac110004row11_col0\" class=\"data row11 col0\">\n",
       "                    24039998\n",
       "                \n",
       "                <td id=\"T_663320b2_866b_11e6_9241_0242ac110004row11_col1\" class=\"data row11 col1\">\n",
       "                    Society\n",
       "                \n",
       "            </tr>\n",
       "            \n",
       "            <tr>\n",
       "                \n",
       "                <th id=\"T_663320b2_866b_11e6_9241_0242ac110004\" class=\"row_heading level1 row12\">\n",
       "                    12\n",
       "                \n",
       "                <td id=\"T_663320b2_866b_11e6_9241_0242ac110004row12_col0\" class=\"data row12 col0\">\n",
       "                    20635729\n",
       "                \n",
       "                <td id=\"T_663320b2_866b_11e6_9241_0242ac110004row12_col1\" class=\"data row12 col1\">\n",
       "                    Science\n",
       "                \n",
       "            </tr>\n",
       "            \n",
       "            <tr>\n",
       "                \n",
       "                <th id=\"T_663320b2_866b_11e6_9241_0242ac110004\" class=\"row_heading level1 row13\">\n",
       "                    13\n",
       "                \n",
       "                <td id=\"T_663320b2_866b_11e6_9241_0242ac110004row13_col0\" class=\"data row13 col0\">\n",
       "                    20388961\n",
       "                \n",
       "                <td id=\"T_663320b2_866b_11e6_9241_0242ac110004row13_col1\" class=\"data row13 col1\">\n",
       "                    Shopping\n",
       "                \n",
       "            </tr>\n",
       "            \n",
       "            <tr>\n",
       "                \n",
       "                <th id=\"T_663320b2_866b_11e6_9241_0242ac110004\" class=\"row_heading level1 row14\">\n",
       "                    14\n",
       "                \n",
       "                <td id=\"T_663320b2_866b_11e6_9241_0242ac110004row14_col0\" class=\"data row14 col0\">\n",
       "                    19141689\n",
       "                \n",
       "                <td id=\"T_663320b2_866b_11e6_9241_0242ac110004row14_col1\" class=\"data row14 col1\">\n",
       "                    Arts-Entertainment-Television\n",
       "                \n",
       "            </tr>\n",
       "            \n",
       "            <tr>\n",
       "                \n",
       "                <th id=\"T_663320b2_866b_11e6_9241_0242ac110004\" class=\"row_heading level1 row15\">\n",
       "                    15\n",
       "                \n",
       "                <td id=\"T_663320b2_866b_11e6_9241_0242ac110004row15_col0\" class=\"data row15 col0\">\n",
       "                    18470284\n",
       "                \n",
       "                <td id=\"T_663320b2_866b_11e6_9241_0242ac110004row15_col1\" class=\"data row15 col1\">\n",
       "                    Arts-Entertainment-CelebrityFan-Gossip\n",
       "                \n",
       "            </tr>\n",
       "            \n",
       "            <tr>\n",
       "                \n",
       "                <th id=\"T_663320b2_866b_11e6_9241_0242ac110004\" class=\"row_heading level1 row16\">\n",
       "                    16\n",
       "                \n",
       "                <td id=\"T_663320b2_866b_11e6_9241_0242ac110004row16_col0\" class=\"data row16 col0\">\n",
       "                    17598506\n",
       "                \n",
       "                <td id=\"T_663320b2_866b_11e6_9241_0242ac110004row16_col1\" class=\"data row16 col1\">\n",
       "                    Arts-Entertainment\n",
       "                \n",
       "            </tr>\n",
       "            \n",
       "            <tr>\n",
       "                \n",
       "                <th id=\"T_663320b2_866b_11e6_9241_0242ac110004\" class=\"row_heading level1 row17\">\n",
       "                    17\n",
       "                \n",
       "                <td id=\"T_663320b2_866b_11e6_9241_0242ac110004row17_col0\" class=\"data row17 col0\">\n",
       "                    15938343\n",
       "                \n",
       "                <td id=\"T_663320b2_866b_11e6_9241_0242ac110004row17_col1\" class=\"data row17 col1\">\n",
       "                    Arts-Entertainment-Music\n",
       "                \n",
       "            </tr>\n",
       "            \n",
       "            <tr>\n",
       "                \n",
       "                <th id=\"T_663320b2_866b_11e6_9241_0242ac110004\" class=\"row_heading level1 row18\">\n",
       "                    18\n",
       "                \n",
       "                <td id=\"T_663320b2_866b_11e6_9241_0242ac110004row18_col0\" class=\"data row18 col0\">\n",
       "                    15838029\n",
       "                \n",
       "                <td id=\"T_663320b2_866b_11e6_9241_0242ac110004row18_col1\" class=\"data row18 col1\">\n",
       "                    Style-Fashion-Beauty\n",
       "                \n",
       "            </tr>\n",
       "            \n",
       "            <tr>\n",
       "                \n",
       "                <th id=\"T_663320b2_866b_11e6_9241_0242ac110004\" class=\"row_heading level1 row19\">\n",
       "                    19\n",
       "                \n",
       "                <td id=\"T_663320b2_866b_11e6_9241_0242ac110004row19_col0\" class=\"data row19 col0\">\n",
       "                    15032426\n",
       "                \n",
       "                <td id=\"T_663320b2_866b_11e6_9241_0242ac110004row19_col1\" class=\"data row19 col1\">\n",
       "                    RealEstate\n",
       "                \n",
       "            </tr>\n",
       "            \n",
       "        </tbody>\n",
       "        </table>\n",
       "        "
      ],
      "text/plain": [
       "<pandas.formats.style.Styler at 0x7fa30064deb8>"
      ]
     },
     "execution_count": 53,
     "metadata": {},
     "output_type": "execute_result"
    }
   ],
   "source": [
    "sqltxt = '''\n",
    "select top_category, count(1) as cnt\n",
    "from hdfs.`/advertisers/all/dataxu/0DZkTrszzb/fact_impressions/parquet`\n",
    "group by top_category\n",
    "order by cnt desc\n",
    "'''\n",
    "%time df = db.query(sqltxt, timeout = 600).to_dataframe()\n",
    "df.cnt = df.cnt.astype(int)\n",
    "df.head(20).style.background_gradient(cmap = sns.light_palette(\"green\", as_cmap=True))"
   ]
  },
  {
   "cell_type": "code",
   "execution_count": 46,
   "metadata": {
    "collapsed": false,
    "deletable": true,
    "editable": true,
    "extensions": {
     "jupyter_dashboards": {
      "version": 1,
      "views": {
       "grid_default": {
        "col": 0,
        "height": 25,
        "hidden": false,
        "row": 23,
        "width": 7
       },
       "report_default": {
        "hidden": false
       }
      }
     }
    }
   },
   "outputs": [
    {
     "data": {
      "image/png": "[encoded data removed]",
      "text/plain": [
       "<matplotlib.figure.Figure at 0x7fa300da24e0>"
      ]
     },
     "metadata": {},
     "output_type": "display_data"
    }
   ],
   "source": [
    "numbars = 40\n",
    "dfplt = df.head(numbars)\n",
    "x = np.arange(1, numbars + 1)\n",
    "fig, ax = plt.subplots(1, 1, figsize = (16,8))\n",
    "ax.bar(x, dfplt.cnt, color = '#111111')\n",
    "ax.set_ylim((0, 1.4*10**8))\n",
    "ax.set_title('Advertiser DataXU: Impressions by Category')\n",
    "ax.grid()\n",
    "ax.set(xticklabels = dfplt.top_category, xticks = x + 0.5, xlim = (0.5, len(x)+1))\n",
    "plt.xticks(rotation = 90)\n",
    "plt.tight_layout();"
   ]
  },
  {
   "cell_type": "code",
   "execution_count": null,
   "metadata": {
    "collapsed": true,
    "deletable": true,
    "editable": true,
    "extensions": {
     "jupyter_dashboards": {
      "version": 1,
      "views": {
       "grid_default": {
        "hidden": true
       },
       "report_default": {}
      }
     }
    }
   },
   "outputs": [],
   "source": []
  }
 ],
 "metadata": {
  "extensions": {
   "jupyter_dashboards": {
    "activeView": "grid_default",
    "version": 1,
    "views": {
     "grid_default": {
      "cellMargin": 10,
      "defaultCellHeight": 20,
      "maxColumns": 12,
      "name": "grid",
      "type": "grid"
     },
     "report_default": {
      "name": "report",
      "type": "report"
     }
    }
   }
  },
  "kernelspec": {
   "display_name": "Python 3",
   "language": "python",
   "name": "python3"
  },
  "language_info": {
   "codemirror_mode": {
    "name": "ipython",
    "version": 3
   },
   "file_extension": ".py",
   "mimetype": "text/x-python",
   "name": "python",
   "nbconvert_exporter": "python",
   "pygments_lexer": "ipython3",
   "version": "3.5.2"
  }
 },
 "nbformat": 4,
 "nbformat_minor": 1
}
