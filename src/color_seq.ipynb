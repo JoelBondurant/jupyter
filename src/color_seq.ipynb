{
 "cells": [
  {
   "cell_type": "code",
   "execution_count": 1,
   "metadata": {
    "collapsed": true
   },
   "outputs": [],
   "source": [
    "# Color Sequence, ordered with skips for stacked area plots."
   ]
  },
  {
   "cell_type": "code",
   "execution_count": 2,
   "metadata": {
    "collapsed": true
   },
   "outputs": [],
   "source": [
    "import math\n",
    "import matplotlib.pyplot as plt"
   ]
  },
  {
   "cell_type": "code",
   "execution_count": 3,
   "metadata": {
    "collapsed": true
   },
   "outputs": [],
   "source": [
    "def rgb2hex(rgb):\n",
    "    rgb = tuple([int(255*x) for x in rgb])\n",
    "    return '#%02x%02x%02x' % rgb"
   ]
  },
  {
   "cell_type": "code",
   "execution_count": 4,
   "metadata": {
    "collapsed": true
   },
   "outputs": [],
   "source": [
    "colortheme = plt.get_cmap('viridis').colors\n",
    "colorlist = list(map(rgb2hex, colortheme))"
   ]
  },
  {
   "cell_type": "code",
   "execution_count": 5,
   "metadata": {
    "collapsed": false
   },
   "outputs": [
    {
     "name": "stdout",
     "output_type": "stream",
     "text": [
      "16\n",
      "['#440154', '#20908c', '#47186a', '#1e9f88', '#472c7b', '#28ae7f', '#424085', '#3ebc73', '#3a528b', '#5ec961', '#32628d', '#83d34b', '#2c728e', '#addc30', '#26818e', '#d7e219']\n"
     ]
    }
   ],
   "source": [
    "numcolors = 16\n",
    "nc2 = int(numcolors/2)\n",
    "colorset = colorlist[0::numcolors]\n",
    "colorseta = colorset[:nc2]\n",
    "colorsetb = colorset[nc2:]\n",
    "colorseq = []\n",
    "for i in range(nc2):\n",
    "    colorseq += [colorseta.pop(0)]\n",
    "    colorseq += [colorsetb.pop(0)]\n",
    "print(len(colorseq))\n",
    "print(colorseq)"
   ]
  },
  {
   "cell_type": "code",
   "execution_count": null,
   "metadata": {
    "collapsed": true
   },
   "outputs": [],
   "source": []
  }
 ],
 "metadata": {
  "kernelspec": {
   "display_name": "Python 3",
   "language": "python",
   "name": "python3"
  },
  "language_info": {
   "codemirror_mode": {
    "name": "ipython",
    "version": 3
   },
   "file_extension": ".py",
   "mimetype": "text/x-python",
   "name": "python",
   "nbconvert_exporter": "python",
   "pygments_lexer": "ipython3",
   "version": "3.4.3"
  }
 },
 "nbformat": 4,
 "nbformat_minor": 0
}
