{
 "cells": [
  {
   "cell_type": "markdown",
   "id": "ceb97622-283a-4c3e-9c7a-9c242dcf8e5a",
   "metadata": {},
   "source": [
    "## Shuffleable\n",
    "---"
   ]
  },
  {
   "cell_type": "code",
   "execution_count": 2,
   "id": "88107921-a5b3-45ae-ab30-2ed0a6d12898",
   "metadata": {},
   "outputs": [],
   "source": [
    ":dep rand"
   ]
  },
  {
   "cell_type": "code",
   "execution_count": 3,
   "id": "7b65cd96-742a-4e47-8167-8d124b01c8db",
   "metadata": {},
   "outputs": [],
   "source": [
    "use std::collections::{BTreeMap, HashMap};\n",
    "use rand::Rng;"
   ]
  },
  {
   "cell_type": "code",
   "execution_count": 4,
   "id": "f3a196f6-ff1a-4ebd-909a-f588fbbb0da1",
   "metadata": {},
   "outputs": [],
   "source": [
    "trait Shuffleable<T> {\n",
    "    fn shuffle(self) -> Self;\n",
    "}"
   ]
  },
  {
   "cell_type": "code",
   "execution_count": 5,
   "id": "38fb4f4d-faa2-4877-a435-2e47c8b59a78",
   "metadata": {},
   "outputs": [],
   "source": [
    "impl<T> Shuffleable<T> for Vec<T> {\n",
    "    fn shuffle(mut self) -> Vec<T> {\n",
    "        for b in (1..self.len()).rev() {\n",
    "            let a = rand::thread_rng().gen_range(0..b);\n",
    "            if a != b {\n",
    "                self.swap(a, b);\n",
    "            }\n",
    "        }\n",
    "        self\n",
    "    }\n",
    "}"
   ]
  },
  {
   "cell_type": "code",
   "execution_count": 6,
   "id": "a63c6d49-148a-44ca-8bce-e14b475e39e0",
   "metadata": {},
   "outputs": [
    {
     "data": {
      "text/plain": [
       "[18, 23, 3, 4, 27, 24, 21, 15, 26, 13, 20, 1, 8, 19, 9, 16, 5, 0, 10, 12, 14, 7, 2, 17, 22, 11, 29, 28, 25, 6]"
      ]
     },
     "execution_count": 6,
     "metadata": {},
     "output_type": "execute_result"
    }
   ],
   "source": [
    "(0..30).collect::<Vec<_>>().shuffle()"
   ]
  },
  {
   "cell_type": "code",
   "execution_count": 7,
   "id": "0ead33a1-2a08-4045-a1fa-98d3048a1254",
   "metadata": {},
   "outputs": [],
   "source": [
    "let mut kvs = (1..10).map(|x|(format!(\"k{x}\"), format!(\"v{x}\"))).collect::<Vec<(String, String)>>();"
   ]
  },
  {
   "cell_type": "code",
   "execution_count": 8,
   "id": "465d852d-b1e4-4af4-9285-420068907657",
   "metadata": {},
   "outputs": [
    {
     "data": {
      "text/plain": [
       "{\"k1\": \"v1\", \"k2\": \"v2\", \"k3\": \"v3\", \"k4\": \"v4\", \"k5\": \"v5\", \"k6\": \"v6\", \"k7\": \"v7\", \"k8\": \"v8\", \"k9\": \"v9\"}"
      ]
     },
     "execution_count": 8,
     "metadata": {},
     "output_type": "execute_result"
    }
   ],
   "source": [
    "kvs.clone().into_iter().collect::<BTreeMap<String, String>>()"
   ]
  },
  {
   "cell_type": "code",
   "execution_count": 9,
   "id": "1e84c256-bd03-491e-bc80-858bb5a8f351",
   "metadata": {},
   "outputs": [
    {
     "data": {
      "text/plain": [
       "{\"k1\": \"v1\", \"k2\": \"v2\", \"k3\": \"v3\", \"k4\": \"v4\", \"k5\": \"v5\", \"k6\": \"v6\", \"k7\": \"v7\", \"k8\": \"v8\", \"k9\": \"v9\"}"
      ]
     },
     "execution_count": 9,
     "metadata": {},
     "output_type": "execute_result"
    }
   ],
   "source": [
    "kvs.clone().shuffle().into_iter().collect::<BTreeMap<String, String>>()"
   ]
  },
  {
   "cell_type": "code",
   "execution_count": 10,
   "id": "c01ddb5f-bff6-4190-bbb4-df24c01e5724",
   "metadata": {},
   "outputs": [
    {
     "data": {
      "text/plain": [
       "{\"k3\": \"v3\", \"k7\": \"v7\", \"k8\": \"v8\", \"k4\": \"v4\", \"k2\": \"v2\", \"k5\": \"v5\", \"k9\": \"v9\", \"k1\": \"v1\", \"k6\": \"v6\"}"
      ]
     },
     "execution_count": 10,
     "metadata": {},
     "output_type": "execute_result"
    }
   ],
   "source": [
    "kvs.clone().into_iter().collect::<HashMap<String, String>>()"
   ]
  },
  {
   "cell_type": "code",
   "execution_count": 11,
   "id": "21ed8906-7312-44fc-be32-05303d1e7665",
   "metadata": {},
   "outputs": [
    {
     "data": {
      "text/plain": [
       "{\"k7\": \"v7\", \"k5\": \"v5\", \"k4\": \"v4\", \"k3\": \"v3\", \"k1\": \"v1\", \"k8\": \"v8\", \"k9\": \"v9\", \"k6\": \"v6\", \"k2\": \"v2\"}"
      ]
     },
     "execution_count": 11,
     "metadata": {},
     "output_type": "execute_result"
    }
   ],
   "source": [
    "kvs.clone().shuffle().into_iter().collect::<HashMap<String, String>>()"
   ]
  },
  {
   "cell_type": "code",
   "execution_count": null,
   "id": "669a00a6-ae95-45f4-95e7-2cabc458f104",
   "metadata": {},
   "outputs": [],
   "source": []
  },
  {
   "cell_type": "code",
   "execution_count": null,
   "id": "918628a0-9989-46b6-a006-bc46c44dd3c6",
   "metadata": {},
   "outputs": [],
   "source": []
  }
 ],
 "metadata": {
  "kernelspec": {
   "display_name": "Rust",
   "language": "rust",
   "name": "rust"
  },
  "language_info": {
   "codemirror_mode": "rust",
   "file_extension": ".rs",
   "mimetype": "text/rust",
   "name": "Rust",
   "pygment_lexer": "rust",
   "version": ""
  }
 },
 "nbformat": 4,
 "nbformat_minor": 5
}
