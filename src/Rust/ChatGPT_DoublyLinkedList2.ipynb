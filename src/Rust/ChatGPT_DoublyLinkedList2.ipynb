{
 "cells": [
  {
   "cell_type": "markdown",
   "id": "ea635190-2cfb-4051-aa55-c3990bbe77fc",
   "metadata": {},
   "source": [
    "## ChatGPT DoublyLinkedList v2\n",
    "---"
   ]
  },
  {
   "cell_type": "code",
   "execution_count": 2,
   "id": "77279345-38aa-45ba-89d0-085737acab4e",
   "metadata": {},
   "outputs": [],
   "source": [
    "use std::cell::RefCell;\n",
    "use std::rc::{Rc, Weak};\n",
    "\n",
    "#[derive(Debug)]\n",
    "struct Node<T> {\n",
    "    value: T,\n",
    "    next: Option<Rc<RefCell<Node<T>>>>,\n",
    "    prev: Option<Weak<RefCell<Node<T>>>>,\n",
    "}\n",
    "\n",
    "impl<T> Node<T> {\n",
    "    fn new(value: T) -> Rc<RefCell<Self>> {\n",
    "        Rc::new(RefCell::new(Self {\n",
    "            value,\n",
    "            next: None,\n",
    "            prev: None,\n",
    "        }))\n",
    "    }\n",
    "}\n",
    "\n",
    "#[derive(Debug)]\n",
    "struct DoublyLinkedList<T> {\n",
    "    head: Option<Rc<RefCell<Node<T>>>>,\n",
    "    tail: Option<Rc<RefCell<Node<T>>>>,\n",
    "}\n",
    "\n",
    "impl<T> DoublyLinkedList<T> {\n",
    "    fn new() -> Self {\n",
    "        Self {\n",
    "            head: None,\n",
    "            tail: None,\n",
    "        }\n",
    "    }\n",
    "\n",
    "    fn push_front(&mut self, value: T) {\n",
    "        // Create a new node with the given value.\n",
    "        let new_node = Node::new(value);\n",
    "\n",
    "        // Set the new node's prev pointer to point to the current head of the list.\n",
    "        new_node.borrow_mut().prev = self.head.as_ref().map(|node| Rc::downgrade(node));\n",
    "\n",
    "        // Set the next pointer of the current head of the list to point to the new node.\n",
    "        if let Some(ref head) = self.head {\n",
    "            head.borrow_mut().next = Some(new_node.clone());\n",
    "        }\n",
    "\n",
    "        // Set the new node as the head of the list.\n",
    "        self.head = Some(new_node);\n",
    "\n",
    "        // If this is the first node in the list, set it as the tail as well.\n",
    "        if self.tail.is_none() {\n",
    "            self.tail = self.head.clone();\n",
    "        }\n",
    "    }\n",
    "\n",
    "    fn push_back(&mut self, value: T) {\n",
    "        // Create a new node with the given value.\n",
    "        let new_node = Node::new(value);\n",
    "\n",
    "        // Set the new node's prev pointer to point to the current tail of the list.\n",
    "        new_node.borrow_mut().prev = self.tail.as_ref().map(|node| Rc::downgrade(node));\n",
    "\n",
    "        // Set the next pointer of the current tail of the list to point to the new node.\n",
    "        if let Some(ref tail) = self.tail {\n",
    "            tail.borrow_mut().next = Some(new_node.clone());\n",
    "        }\n",
    "\n",
    "        // Set the new node as the tail of the list.\n",
    "        self.tail = Some(new_node);\n",
    "\n",
    "        // If this is the first node in the list, set it as the head as well.\n",
    "        if self.head.is_none() {\n",
    "            self.head = self.tail.clone();\n",
    "        }\n",
    "    }\n",
    "}"
   ]
  },
  {
   "cell_type": "code",
   "execution_count": 3,
   "id": "8ca9922c-2d98-4e07-9f1e-d147e5316efd",
   "metadata": {},
   "outputs": [],
   "source": [
    "let mut q = DoublyLinkedList::<i32>::new();"
   ]
  },
  {
   "cell_type": "code",
   "execution_count": 4,
   "id": "62ec84de-0d5f-450b-b923-e0fb9d52bfac",
   "metadata": {},
   "outputs": [
    {
     "data": {
      "text/plain": [
       "DoublyLinkedList { head: Some(RefCell { value: Node { value: 5, next: None, prev: None } }), tail: Some(RefCell { value: Node { value: 5, next: None, prev: None } }) }"
      ]
     },
     "execution_count": 4,
     "metadata": {},
     "output_type": "execute_result"
    }
   ],
   "source": [
    "q.push_front(5);\n",
    "q"
   ]
  },
  {
   "cell_type": "code",
   "execution_count": 5,
   "id": "742a7352-8cab-4b67-827a-d39b60346618",
   "metadata": {},
   "outputs": [
    {
     "data": {
      "text/plain": [
       "DoublyLinkedList { head: Some(RefCell { value: Node { value: 6, next: None, prev: Some((Weak)) } }), tail: Some(RefCell { value: Node { value: 5, next: Some(RefCell { value: Node { value: 6, next: None, prev: Some((Weak)) } }), prev: None } }) }"
      ]
     },
     "execution_count": 5,
     "metadata": {},
     "output_type": "execute_result"
    }
   ],
   "source": [
    "q.push_front(6);\n",
    "q"
   ]
  },
  {
   "cell_type": "code",
   "execution_count": 6,
   "id": "0b5909b8-c915-4d8e-9130-fcc94951dbc8",
   "metadata": {},
   "outputs": [
    {
     "data": {
      "text/plain": [
       "DoublyLinkedList { head: Some(RefCell { value: Node { value: 6, next: None, prev: Some((Weak)) } }), tail: Some(RefCell { value: Node { value: 2, next: None, prev: Some((Weak)) } }) }"
      ]
     },
     "execution_count": 6,
     "metadata": {},
     "output_type": "execute_result"
    }
   ],
   "source": [
    "q.push_back(2);\n",
    "q"
   ]
  },
  {
   "cell_type": "code",
   "execution_count": null,
   "id": "3bde3ed7-4be2-4f74-8f6d-663ff3ecf09f",
   "metadata": {},
   "outputs": [],
   "source": [
    "S"
   ]
  }
 ],
 "metadata": {
  "kernelspec": {
   "display_name": "Rust",
   "language": "rust",
   "name": "rust"
  },
  "language_info": {
   "codemirror_mode": "rust",
   "file_extension": ".rs",
   "mimetype": "text/rust",
   "name": "Rust",
   "pygment_lexer": "rust",
   "version": ""
  }
 },
 "nbformat": 4,
 "nbformat_minor": 5
}
