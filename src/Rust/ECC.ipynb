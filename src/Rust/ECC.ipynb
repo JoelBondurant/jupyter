{
 "cells": [
  {
   "cell_type": "markdown",
   "id": "172ab268-3dc0-4ec4-a9bc-db98c76e2a20",
   "metadata": {},
   "source": [
    "### ECC - Error Correction Codes / Erasure Encoding\n",
    "#### Reed Solomon, no Turbo Codes\n",
    "---"
   ]
  },
  {
   "cell_type": "code",
   "execution_count": 2,
   "id": "2f12fbfc-4ae2-48c9-a337-5dfb49151216",
   "metadata": {},
   "outputs": [],
   "source": [
    ":dep reed-solomon"
   ]
  },
  {
   "cell_type": "code",
   "execution_count": 3,
   "id": "c678491c-6fc5-42e8-a97b-c5f64f552475",
   "metadata": {},
   "outputs": [],
   "source": [
    "use reed_solomon::{Decoder, Encoder};"
   ]
  },
  {
   "cell_type": "markdown",
   "id": "187732c7-0a0f-4411-8bf0-77e188eadfe3",
   "metadata": {},
   "source": [
    "---\n",
    "### Happy Path:\n",
    "---"
   ]
  },
  {
   "cell_type": "code",
   "execution_count": 4,
   "id": "15ee06c0-fcdd-4846-be8f-3fd5ea20e489",
   "metadata": {},
   "outputs": [],
   "source": [
    "let enc = Encoder::new(8);\n",
    "let dec = Decoder::new(8);"
   ]
  },
  {
   "cell_type": "code",
   "execution_count": 5,
   "id": "6c01b395-2387-4ecd-83ce-9b39694a89f4",
   "metadata": {},
   "outputs": [
    {
     "name": "stdout",
     "output_type": "stream",
     "text": [
      "[84, 104, 105, 115, 32, 105, 115, 32, 97, 32, 115, 116, 111, 114, 121, 32, 97, 108, 108, 32, 97, 98, 111, 117, 116, 32, 104, 111, 119, 32, 116, 104, 101, 32, 99, 111, 115, 109, 105, 99, 32, 114, 97, 121, 32, 104, 97, 112, 112, 121, 32, 112, 97, 116, 104, 32, 119, 101, 110, 116, 32, 100, 111, 119, 110, 46]\n"
     ]
    }
   ],
   "source": [
    "let dat = b\"This is a story all about how the cosmic ray happy path went down.\";\n",
    "println!(\"{:?}\", dat);"
   ]
  },
  {
   "cell_type": "code",
   "execution_count": 6,
   "id": "78b1d803-3ac7-417c-8d9c-aefb6bdbec78",
   "metadata": {},
   "outputs": [
    {
     "name": "stdout",
     "output_type": "stream",
     "text": [
      "[84, 104, 105, 115, 32, 105, 115, 32, 97, 32, 115, 116, 111, 114, 121, 32, 97, 108, 108, 32, 97, 98, 111, 117, 116, 32, 104, 111, 119, 32, 116, 104, 101, 32, 99, 111, 115, 109, 105, 99, 32, 114, 97, 121, 32, 104, 97, 112, 112, 121, 32, 112, 97, 116, 104, 32, 119, 101, 110, 116, 32, 100, 111, 119, 110, 46, 176, 152, 102, 77, 93, 88, 123, 93]\n"
     ]
    }
   ],
   "source": [
    "let dat_ecc = Vec::from(&enc.encode(&dat[..])[..]);\n",
    "println!(\"{:?}\", dat_ecc);"
   ]
  },
  {
   "cell_type": "code",
   "execution_count": 7,
   "id": "edd1f22f-b118-4273-b8d4-f04533b41e83",
   "metadata": {},
   "outputs": [
    {
     "name": "stdout",
     "output_type": "stream",
     "text": [
      "[84, 104, 105, 115, 32, 105, 115, 32, 97, 32, 115, 116, 111, 114, 121, 32, 97, 108, 108, 32, 97, 98, 111, 117, 116, 32, 104, 111, 119, 32, 116, 104, 101, 32, 99, 111, 115, 109, 105, 99, 32, 114, 97, 121, 32, 104, 97, 112, 112, 121, 32, 112, 97, 116, 104, 32, 119, 101, 110, 116, 32, 100, 111, 119, 110, 46]\n"
     ]
    }
   ],
   "source": [
    "let dat_dec = dec.correct(&dat_ecc[..], None).unwrap().data().to_owned();\n",
    "println!(\"{:?}\", dat_dec);"
   ]
  },
  {
   "cell_type": "code",
   "execution_count": 8,
   "id": "c9e2962e-ba50-4ae4-a8d0-4942bf1bc949",
   "metadata": {},
   "outputs": [
    {
     "data": {
      "text/plain": [
       "\"This is a story all about how the cosmic ray happy path went down.\""
      ]
     },
     "execution_count": 8,
     "metadata": {},
     "output_type": "execute_result"
    }
   ],
   "source": [
    "let msg = std::str::from_utf8(&dat_dec).unwrap().to_owned();\n",
    "msg"
   ]
  },
  {
   "cell_type": "markdown",
   "id": "3fa65532-a651-4921-ba05-3664945c7d42",
   "metadata": {},
   "source": [
    "---\n",
    "### Unhappy Path:\n",
    "---"
   ]
  },
  {
   "cell_type": "code",
   "execution_count": 9,
   "id": "53ef4b35-f786-4328-9a4a-631657ebdff8",
   "metadata": {},
   "outputs": [],
   "source": [
    "let enc = Encoder::new(8);\n",
    "let dec = Decoder::new(8);"
   ]
  },
  {
   "cell_type": "code",
   "execution_count": 10,
   "id": "e8910fbc-d65a-4124-911c-ab85ade8e244",
   "metadata": {},
   "outputs": [
    {
     "name": "stdout",
     "output_type": "stream",
     "text": [
      "[84, 104, 105, 115, 32, 105, 115, 32, 97, 32, 115, 116, 111, 114, 121, 32, 97, 108, 108, 32, 97, 98, 111, 117, 116, 32, 104, 111, 119, 32, 99, 111, 115, 109, 105, 99, 32, 114, 97, 121, 115, 32, 116, 117, 114, 110, 101, 100, 32, 116, 104, 101, 115, 101, 32, 98, 105, 116, 115, 32, 117, 112, 115, 105, 100, 101, 32, 100, 111, 119, 110, 46]\n"
     ]
    }
   ],
   "source": [
    "let dat = b\"This is a story all about how cosmic rays turned these bits upside down.\";\n",
    "println!(\"{:?}\", dat);"
   ]
  },
  {
   "cell_type": "code",
   "execution_count": 11,
   "id": "b634c5b7-cead-4c58-a413-97e5c1987d2f",
   "metadata": {},
   "outputs": [
    {
     "name": "stdout",
     "output_type": "stream",
     "text": [
      "[84, 104, 105, 115, 32, 105, 115, 32, 97, 32, 115, 116, 111, 114, 121, 32, 97, 108, 108, 32, 97, 98, 111, 117, 116, 32, 104, 111, 119, 32, 99, 111, 115, 109, 105, 99, 32, 114, 97, 121, 115, 32, 116, 117, 114, 110, 101, 100, 32, 116, 104, 101, 115, 101, 32, 98, 105, 116, 115, 32, 117, 112, 115, 105, 100, 101, 32, 100, 111, 119, 110, 46, 178, 226, 206, 229, 182, 14, 174, 83]\n"
     ]
    }
   ],
   "source": [
    "let mut dat_ecc = Vec::from(&enc.encode(&dat[..])[..]);\n",
    "println!(\"{:?}\", dat_ecc);"
   ]
  },
  {
   "cell_type": "code",
   "execution_count": 12,
   "id": "e5e9c05a-67d9-47f1-a61d-950bfd13edaa",
   "metadata": {},
   "outputs": [
    {
     "data": {
      "text/plain": [
       "[0, 77, 105, 115, 32, 105, 115, 32, 97, 32, 115, 116, 111, 114, 121, 32, 97, 108, 108, 32, 97, 98, 111, 117, 116, 32, 104, 111, 119, 32, 99, 111, 115, 109, 105, 99, 32, 114, 97, 121, 115, 32, 116, 117, 114, 110, 101, 100, 32, 116, 104, 101, 115, 101, 32, 98, 105, 116, 115, 32, 117, 112, 115, 105, 100, 101, 32, 100, 111, 119, 110, 46, 178, 226, 206, 229, 182, 14, 174, 83]"
      ]
     },
     "execution_count": 12,
     "metadata": {},
     "output_type": "execute_result"
    }
   ],
   "source": [
    "dat_ecc[0] = 0; // cosmic ray\n",
    "dat_ecc[1] = 77; // magic zap\n",
    "let dat_ecc = dat_ecc; // immutable demotion\n",
    "dat_ecc"
   ]
  },
  {
   "cell_type": "code",
   "execution_count": 13,
   "id": "0b6c19e1-b7bf-4b1f-b124-7f071e8303d5",
   "metadata": {},
   "outputs": [
    {
     "data": {
      "text/plain": [
       "Err(Utf8Error { valid_up_to: 72, error_len: Some(1) })"
      ]
     },
     "execution_count": 13,
     "metadata": {},
     "output_type": "execute_result"
    }
   ],
   "source": [
    "// this data is damaged\n",
    "std::str::from_utf8(&dat_ecc)"
   ]
  },
  {
   "cell_type": "code",
   "execution_count": 14,
   "id": "667aefb8-e6fb-4408-9ae5-b3a5ef9e4a8f",
   "metadata": {},
   "outputs": [
    {
     "name": "stdout",
     "output_type": "stream",
     "text": [
      "[84, 104, 105, 115, 32, 105, 115, 32, 97, 32, 115, 116, 111, 114, 121, 32, 97, 108, 108, 32, 97, 98, 111, 117, 116, 32, 104, 111, 119, 32, 99, 111, 115, 109, 105, 99, 32, 114, 97, 121, 115, 32, 116, 117, 114, 110, 101, 100, 32, 116, 104, 101, 115, 101, 32, 98, 105, 116, 115, 32, 117, 112, 115, 105, 100, 101, 32, 100, 111, 119, 110, 46]\n"
     ]
    }
   ],
   "source": [
    "let dat_dec = dec.correct(&dat_ecc[..], None).unwrap().data().to_owned();\n",
    "println!(\"{:?}\", dat_dec);"
   ]
  },
  {
   "cell_type": "code",
   "execution_count": 15,
   "id": "f289b35c-3430-4e64-9c58-c7b57b771617",
   "metadata": {},
   "outputs": [
    {
     "data": {
      "text/plain": [
       "\"This is a story all about how cosmic rays turned these bits upside down.\""
      ]
     },
     "execution_count": 15,
     "metadata": {},
     "output_type": "execute_result"
    }
   ],
   "source": [
    "let msg = std::str::from_utf8(&dat_dec).unwrap().to_owned();\n",
    "msg"
   ]
  },
  {
   "cell_type": "code",
   "execution_count": null,
   "id": "72adbead-8d57-4676-ae51-443815ca9046",
   "metadata": {},
   "outputs": [],
   "source": []
  },
  {
   "cell_type": "code",
   "execution_count": null,
   "id": "aa176987-f100-43b0-9433-b2326ef1abcb",
   "metadata": {},
   "outputs": [],
   "source": []
  }
 ],
 "metadata": {
  "kernelspec": {
   "display_name": "Rust",
   "language": "rust",
   "name": "rust"
  },
  "language_info": {
   "codemirror_mode": "rust",
   "file_extension": ".rs",
   "mimetype": "text/rust",
   "name": "Rust",
   "pygment_lexer": "rust",
   "version": ""
  }
 },
 "nbformat": 4,
 "nbformat_minor": 5
}
