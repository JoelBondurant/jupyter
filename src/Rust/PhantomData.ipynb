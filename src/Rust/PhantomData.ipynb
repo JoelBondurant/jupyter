{
 "cells": [
  {
   "cell_type": "markdown",
   "id": "ceb97622-283a-4c3e-9c7a-9c242dcf8e5a",
   "metadata": {},
   "source": [
    "## Phantom Data: Type State Pattern, Zero Size Types\n",
    "---"
   ]
  },
  {
   "cell_type": "code",
   "execution_count": 2,
   "id": "cd51739d-c093-458c-a3ac-be74d588284d",
   "metadata": {},
   "outputs": [],
   "source": [
    "#[derive(Debug)]\n",
    "struct Locked;\n",
    "#[derive(Debug)]\n",
    "struct Unlocked;"
   ]
  },
  {
   "cell_type": "code",
   "execution_count": 3,
   "id": "21f255ea-3606-40c9-8523-76579d4f6367",
   "metadata": {},
   "outputs": [],
   "source": [
    "#[derive(Debug)]\n",
    "struct Database<LockState = Locked> {\n",
    "    key: String,\n",
    "    db: std::collections::HashMap<String, String>,\n",
    "    lock_state: std::marker::PhantomData<LockState>,\n",
    "}"
   ]
  },
  {
   "cell_type": "code",
   "execution_count": 4,
   "id": "30ac2c90-b647-4d31-aefb-29ee913e9199",
   "metadata": {},
   "outputs": [],
   "source": [
    "impl Database<Locked> {\n",
    "    fn unlock(self, key: impl Into<String>) -> Database<Unlocked> {\n",
    "        Database {\n",
    "            key: key.into(),\n",
    "            db: self.db,\n",
    "            lock_state: std::marker::PhantomData::<Unlocked>,\n",
    "        }\n",
    "    }\n",
    "}"
   ]
  },
  {
   "cell_type": "code",
   "execution_count": 5,
   "id": "3de09313-e3eb-46b1-9a9f-8e4af649131c",
   "metadata": {},
   "outputs": [],
   "source": [
    "impl Database<Unlocked> {\n",
    "    fn lock(self) -> Database<Locked> {\n",
    "        Database {\n",
    "            key: self.key,\n",
    "            db: self.db,\n",
    "            lock_state: std::marker::PhantomData::<Locked>,\n",
    "        }\n",
    "    }\n",
    "\n",
    "    fn get(&self, akey: String) -> Option<String> {\n",
    "        self.db.get(&akey).cloned()\n",
    "    }\n",
    "}"
   ]
  },
  {
   "cell_type": "code",
   "execution_count": 6,
   "id": "52b65902-0010-43cb-a7ac-a9ae3bda2da2",
   "metadata": {},
   "outputs": [],
   "source": [
    "impl<LockState> Database<LockState> {\n",
    "    fn version(&self) -> u64 {\n",
    "        0u64\n",
    "    }\n",
    "}"
   ]
  },
  {
   "cell_type": "code",
   "execution_count": 7,
   "id": "3592f202-2a34-42ce-9d55-ebe763695377",
   "metadata": {},
   "outputs": [],
   "source": [
    "impl Database {\n",
    "    fn new(key: impl Into<String>) -> Self {\n",
    "        Database {\n",
    "            key: key.into(),\n",
    "            db: Default::default(),\n",
    "            lock_state: Default::default(),\n",
    "        }\n",
    "    }\n",
    "}"
   ]
  },
  {
   "cell_type": "code",
   "execution_count": 8,
   "id": "3a86b647-44a7-432c-ba68-86be44bfc57f",
   "metadata": {},
   "outputs": [
    {
     "data": {
      "text/plain": [
       "Database { key: \"test\", db: {}, lock_state: PhantomData<ctx::Locked> }"
      ]
     },
     "execution_count": 8,
     "metadata": {},
     "output_type": "execute_result"
    }
   ],
   "source": [
    "let db = Database::new(\"test\");\n",
    "db"
   ]
  },
  {
   "cell_type": "code",
   "execution_count": 9,
   "id": "7fc85868-1099-4784-adc9-9659b473b5c9",
   "metadata": {},
   "outputs": [
    {
     "data": {
      "text/plain": [
       "Database { key: \"test\", db: {}, lock_state: PhantomData<ctx::Unlocked> }"
      ]
     },
     "execution_count": 9,
     "metadata": {},
     "output_type": "execute_result"
    }
   ],
   "source": [
    "let db = db.unlock(\"test\");\n",
    "db"
   ]
  },
  {
   "cell_type": "code",
   "execution_count": 10,
   "id": "bb2c9c8c-b60d-42b9-8d19-5fe25c752b3c",
   "metadata": {},
   "outputs": [
    {
     "data": {
      "text/plain": [
       "Database { key: \"test\", db: {}, lock_state: PhantomData<ctx::Locked> }"
      ]
     },
     "execution_count": 10,
     "metadata": {},
     "output_type": "execute_result"
    }
   ],
   "source": [
    "db.lock()"
   ]
  },
  {
   "cell_type": "code",
   "execution_count": null,
   "id": "7b65cd96-742a-4e47-8167-8d124b01c8db",
   "metadata": {},
   "outputs": [],
   "source": []
  }
 ],
 "metadata": {
  "kernelspec": {
   "display_name": "Rust",
   "language": "rust",
   "name": "rust"
  },
  "language_info": {
   "codemirror_mode": "rust",
   "file_extension": ".rs",
   "mimetype": "text/rust",
   "name": "Rust",
   "pygment_lexer": "rust",
   "version": ""
  }
 },
 "nbformat": 4,
 "nbformat_minor": 5
}
