{
 "cells": [
  {
   "cell_type": "markdown",
   "id": "bf0dcad0-4c20-45cb-8461-da0c46ca178c",
   "metadata": {},
   "source": [
    "## tokio::sync::RwLock\n",
    "---"
   ]
  },
  {
   "cell_type": "code",
   "execution_count": 5,
   "id": "4bfe4f07-be83-42d9-84a3-c5adf911494a",
   "metadata": {},
   "outputs": [],
   "source": [
    ":dep tokio =  {features = [\"full\"]}\n",
    "use tokio::sync::{RwLock};"
   ]
  },
  {
   "cell_type": "code",
   "execution_count": 30,
   "id": "5ceada17-c757-4b9a-be63-278e6631e290",
   "metadata": {},
   "outputs": [],
   "source": [
    "use std::sync::{Arc};\n",
    "use std::ops::DerefMut;"
   ]
  },
  {
   "cell_type": "code",
   "execution_count": 8,
   "id": "be765995-3f47-4833-a5a4-a8fbc817c0f3",
   "metadata": {},
   "outputs": [],
   "source": [
    "let q = RwLock::new(777);"
   ]
  },
  {
   "cell_type": "code",
   "execution_count": 9,
   "id": "c014769f-fd14-4861-9baa-113d43908adc",
   "metadata": {},
   "outputs": [
    {
     "data": {
      "text/plain": [
       "RwLock { mr: 536870911, s: Semaphore { permits: 536870911 }, c: UnsafeCell { .. } }"
      ]
     },
     "execution_count": 9,
     "metadata": {},
     "output_type": "execute_result"
    }
   ],
   "source": [
    "q"
   ]
  },
  {
   "cell_type": "code",
   "execution_count": 14,
   "id": "21026bf9-fc8c-4ae1-a4c2-090bf79f7110",
   "metadata": {},
   "outputs": [
    {
     "data": {
      "text/plain": [
       "777"
      ]
     },
     "execution_count": 14,
     "metadata": {},
     "output_type": "execute_result"
    }
   ],
   "source": [
    "q.read().await"
   ]
  },
  {
   "cell_type": "code",
   "execution_count": 15,
   "id": "1d61aa2d-656f-435a-8273-963eeeff113e",
   "metadata": {},
   "outputs": [],
   "source": [
    "let mut q2 = RwLock::new(888);"
   ]
  },
  {
   "cell_type": "code",
   "execution_count": 18,
   "id": "339a8af2-7a2e-457c-bd43-52d80a92c781",
   "metadata": {},
   "outputs": [],
   "source": [
    "*q2.write().await = 999;"
   ]
  },
  {
   "cell_type": "code",
   "execution_count": 19,
   "id": "546635a3-bf90-40c9-84c1-bc951892f078",
   "metadata": {},
   "outputs": [
    {
     "data": {
      "text/plain": [
       "999"
      ]
     },
     "execution_count": 19,
     "metadata": {},
     "output_type": "execute_result"
    }
   ],
   "source": [
    "q2.read().await"
   ]
  },
  {
   "cell_type": "code",
   "execution_count": 44,
   "id": "41f6415f-5284-4682-927e-e8c5871cb37d",
   "metadata": {},
   "outputs": [],
   "source": [
    "let mut q3 = RwLock::new(444);"
   ]
  },
  {
   "cell_type": "code",
   "execution_count": 45,
   "id": "cd430165-a17a-4b94-83e1-c19921254b41",
   "metadata": {},
   "outputs": [],
   "source": [
    "*q3.get_mut() = 333;"
   ]
  },
  {
   "cell_type": "code",
   "execution_count": 46,
   "id": "22f80468-7711-4bfa-8970-d7a0c61d801d",
   "metadata": {},
   "outputs": [
    {
     "data": {
      "text/plain": [
       "333"
      ]
     },
     "execution_count": 46,
     "metadata": {},
     "output_type": "execute_result"
    }
   ],
   "source": [
    "q3.read().await"
   ]
  },
  {
   "cell_type": "code",
   "execution_count": null,
   "id": "feba8c53-30aa-4989-aad5-d0721ec3fedd",
   "metadata": {},
   "outputs": [],
   "source": []
  }
 ],
 "metadata": {
  "kernelspec": {
   "display_name": "Rust",
   "language": "rust",
   "name": "rust"
  },
  "language_info": {
   "codemirror_mode": "rust",
   "file_extension": ".rs",
   "mimetype": "text/rust",
   "name": "Rust",
   "pygment_lexer": "rust",
   "version": ""
  }
 },
 "nbformat": 4,
 "nbformat_minor": 5
}
