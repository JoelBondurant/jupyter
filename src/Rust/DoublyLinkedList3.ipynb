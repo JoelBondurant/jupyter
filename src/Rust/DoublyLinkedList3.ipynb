{
 "cells": [
  {
   "cell_type": "markdown",
   "id": "a493a808-1828-4c1f-bd26-629581b7cb69",
   "metadata": {},
   "source": [
    "## DoublyLinkedList\n",
    "---"
   ]
  },
  {
   "cell_type": "code",
   "execution_count": 8,
   "id": "4171eef9-d63e-4e36-b998-c1203dbe3e37",
   "metadata": {},
   "outputs": [],
   "source": [
    "use std::sync::{Arc, RwLock, Weak};\n",
    "use std::borrow::{Borrow, BorrowMut};"
   ]
  },
  {
   "cell_type": "code",
   "execution_count": 9,
   "id": "ff2de54b-d091-421a-9b4c-e015931ad2a7",
   "metadata": {},
   "outputs": [],
   "source": [
    "#[derive(Debug)]\n",
    "struct Node<T: PartialEq + PartialOrd + Clone> {\n",
    "    val: T,\n",
    "    next: Option<Arc<RwLock<Node<T>>>>,\n",
    "    prior: Option<Weak<RwLock<Node<T>>>>,\n",
    "}"
   ]
  },
  {
   "cell_type": "code",
   "execution_count": 10,
   "id": "0ca29326-9d02-4618-9246-04b246eaec5d",
   "metadata": {},
   "outputs": [
    {
     "ename": "Error",
     "evalue": "duplicate definitions with name `new`",
     "output_type": "error",
     "traceback": [
      "\u001b[31m[E0592] Error:\u001b[0m duplicate definitions with name `new`",
      "   \u001b[38;5;246m╭\u001b[0m\u001b[38;5;246m─\u001b[0m\u001b[38;5;246m[\u001b[0mcommand_10:1:1\u001b[38;5;246m]\u001b[0m",
      "   \u001b[38;5;246m│\u001b[0m",
      " \u001b[38;5;246m3 │\u001b[0m \u001b[38;5;249m \u001b[0m\u001b[38;5;249m \u001b[0m\u001b[38;5;249m \u001b[0m\u001b[38;5;249m \u001b[0m\u001b[38;5;54mf\u001b[0m\u001b[38;5;54mn\u001b[0m\u001b[38;5;54m \u001b[0m\u001b[38;5;54mn\u001b[0m\u001b[38;5;54me\u001b[0m\u001b[38;5;54mw\u001b[0m\u001b[38;5;54m(\u001b[0m\u001b[38;5;54mv\u001b[0m\u001b[38;5;54ma\u001b[0m\u001b[38;5;54ml\u001b[0m\u001b[38;5;54m:\u001b[0m\u001b[38;5;54m \u001b[0m\u001b[38;5;54mT\u001b[0m\u001b[38;5;54m)\u001b[0m\u001b[38;5;54m \u001b[0m\u001b[38;5;54m-\u001b[0m\u001b[38;5;54m>\u001b[0m\u001b[38;5;54m \u001b[0m\u001b[38;5;54mS\u001b[0m\u001b[38;5;54me\u001b[0m\u001b[38;5;54ml\u001b[0m\u001b[38;5;54mf\u001b[0m\u001b[38;5;249m \u001b[0m\u001b[38;5;249m{\u001b[0m",
      " \u001b[38;5;246m  ·\u001b[0m     \u001b[38;5;54m─\u001b[0m\u001b[38;5;54m─\u001b[0m\u001b[38;5;54m─\u001b[0m\u001b[38;5;54m─\u001b[0m\u001b[38;5;54m─\u001b[0m\u001b[38;5;54m─\u001b[0m\u001b[38;5;54m─\u001b[0m\u001b[38;5;54m─\u001b[0m\u001b[38;5;54m─\u001b[0m\u001b[38;5;54m─\u001b[0m\u001b[38;5;54m─\u001b[0m\u001b[38;5;54m┬\u001b[0m\u001b[38;5;54m─\u001b[0m\u001b[38;5;54m─\u001b[0m\u001b[38;5;54m─\u001b[0m\u001b[38;5;54m─\u001b[0m\u001b[38;5;54m─\u001b[0m\u001b[38;5;54m─\u001b[0m\u001b[38;5;54m─\u001b[0m\u001b[38;5;54m─\u001b[0m\u001b[38;5;54m─\u001b[0m\u001b[38;5;54m─\u001b[0m  ",
      " \u001b[38;5;246m  ·\u001b[0m                \u001b[38;5;54m╰\u001b[0m\u001b[38;5;54m─\u001b[0m\u001b[38;5;54m─\u001b[0m\u001b[38;5;54m─\u001b[0m\u001b[38;5;54m─\u001b[0m\u001b[38;5;54m─\u001b[0m\u001b[38;5;54m─\u001b[0m\u001b[38;5;54m─\u001b[0m\u001b[38;5;54m─\u001b[0m\u001b[38;5;54m─\u001b[0m\u001b[38;5;54m─\u001b[0m\u001b[38;5;54m─\u001b[0m\u001b[38;5;54m─\u001b[0m other definition for `new`",
      "\u001b[38;5;246m───╯\u001b[0m"
     ]
    }
   ],
   "source": [
    "impl<T: PartialEq + PartialOrd + Clone> Node<T> {\n",
    "\n",
    "    fn new(val: T) -> Self {\n",
    "        Node { val: val, next: None, prior: None }\n",
    "    }\n",
    "\n",
    "}"
   ]
  },
  {
   "cell_type": "code",
   "execution_count": 11,
   "id": "7cdab877-88c2-4be1-8870-750d5a580195",
   "metadata": {},
   "outputs": [],
   "source": [
    "#[derive(Debug)]\n",
    "struct LinkedList<T: PartialEq + PartialOrd + Clone> {\n",
    "    head: Option<Arc<RwLock<Node<T>>>>,\n",
    "    tail: Option<Weak<RwLock<Node<T>>>>,\n",
    "}"
   ]
  },
  {
   "cell_type": "code",
   "execution_count": 12,
   "id": "2b58ef4e-58fc-430f-805a-bfdbf4015159",
   "metadata": {},
   "outputs": [],
   "source": [
    "impl<T: PartialEq + PartialOrd + Clone> LinkedList<T> {\n",
    "\n",
    "    fn new() -> Self {\n",
    "        LinkedList { head: None, tail: None }\n",
    "    }\n",
    "\n",
    "    fn push(&mut self, val: T) -> &Self {\n",
    "        let mut v1 = Arc::new(RwLock::new(Node::new(val)));\n",
    "        if self.head.is_none() {\n",
    "            self.head = Some(v1.clone());\n",
    "            self.tail = Some(Arc::downgrade(&v1));\n",
    "        } else {\n",
    "            let mut v2 = self.head.take().unwrap();\n",
    "            v1.borrow_mut().write().unwrap().next = Some(v2.clone());\n",
    "            v2.borrow_mut().write().unwrap().prior = Some(Arc::downgrade(&v1));\n",
    "            self.head = Some(v1);\n",
    "        }\n",
    "        self\n",
    "    }\n",
    "    \n",
    "    fn push_back(&mut self, val: T) -> &Self {\n",
    "        let mut v2 = Arc::new(RwLock::new(Node::new(val)));\n",
    "        if self.head.is_none() {\n",
    "            self.head = Some(v2.clone());\n",
    "            self.tail = Some(Arc::downgrade(&v2));\n",
    "        } else {\n",
    "            let mut v1 = self.tail.take().unwrap().upgrade().unwrap();\n",
    "            v1.borrow_mut().write().unwrap().next = Some(v2.clone());\n",
    "            v2.borrow_mut().write().unwrap().prior = Some(Arc::downgrade(&v1));\n",
    "            self.tail = Some(Arc::downgrade(&v2));\n",
    "        }\n",
    "        self\n",
    "    }\n",
    "    \n",
    "    fn clear(&mut self) {\n",
    "        self.head = None;\n",
    "        self.tail = None;\n",
    "    }\n",
    "    \n",
    "    fn len(&self) -> usize {\n",
    "        let mut l = 0usize;\n",
    "        if self.head.is_none() {\n",
    "            return l;\n",
    "        }\n",
    "        let mut current = self.head.as_ref().unwrap().clone();\n",
    "        loop {\n",
    "            l += 1;\n",
    "            if current.read().unwrap().next.is_none() {\n",
    "                return l;\n",
    "            }\n",
    "            let next = current.read().unwrap().next.as_ref().unwrap().clone();\n",
    "            current = next;\n",
    "        }\n",
    "    }\n",
    "\n",
    "}"
   ]
  },
  {
   "cell_type": "code",
   "execution_count": 13,
   "id": "366f6c41-6590-4800-ab4d-93322f2ee793",
   "metadata": {},
   "outputs": [
    {
     "data": {
      "text/plain": [
       "LinkedList { head: None, tail: None }"
      ]
     },
     "execution_count": 13,
     "metadata": {},
     "output_type": "execute_result"
    }
   ],
   "source": [
    "let mut q = LinkedList::<i32>::new();\n",
    "q"
   ]
  },
  {
   "cell_type": "code",
   "execution_count": 14,
   "id": "5161cc82-caab-4169-954f-38e706466b9d",
   "metadata": {},
   "outputs": [
    {
     "data": {
      "text/plain": [
       "LinkedList { head: Some(RwLock { data: Node { val: 8, next: None, prior: None }, poisoned: false, .. }), tail: Some((Weak)) }"
      ]
     },
     "execution_count": 14,
     "metadata": {},
     "output_type": "execute_result"
    }
   ],
   "source": [
    "q.push(8)"
   ]
  },
  {
   "cell_type": "code",
   "execution_count": 15,
   "id": "bb69ce65-db90-44c5-acab-69aa2082677d",
   "metadata": {},
   "outputs": [
    {
     "data": {
      "text/plain": [
       "LinkedList { head: Some(RwLock { data: Node { val: 6, next: Some(RwLock { data: Node { val: 8, next: None, prior: Some((Weak)) }, poisoned: false, .. }), prior: None }, poisoned: false, .. }), tail: Some((Weak)) }"
      ]
     },
     "execution_count": 15,
     "metadata": {},
     "output_type": "execute_result"
    }
   ],
   "source": [
    "q.push(6)"
   ]
  },
  {
   "cell_type": "code",
   "execution_count": 16,
   "id": "c3cf8777-2e55-401f-b6e7-e3313d85cb85",
   "metadata": {},
   "outputs": [
    {
     "data": {
      "text/plain": [
       "LinkedList { head: Some(RwLock { data: Node { val: 1, next: Some(RwLock { data: Node { val: 6, next: Some(RwLock { data: Node { val: 8, next: None, prior: Some((Weak)) }, poisoned: false, .. }), prior: Some((Weak)) }, poisoned: false, .. }), prior: None }, poisoned: false, .. }), tail: Some((Weak)) }"
      ]
     },
     "execution_count": 16,
     "metadata": {},
     "output_type": "execute_result"
    }
   ],
   "source": [
    "q.push(1)"
   ]
  },
  {
   "cell_type": "code",
   "execution_count": 17,
   "id": "8b35453d-c788-41a3-bc4c-765e0ea22199",
   "metadata": {},
   "outputs": [
    {
     "data": {
      "text/plain": [
       "LinkedList { head: None, tail: None }"
      ]
     },
     "execution_count": 17,
     "metadata": {},
     "output_type": "execute_result"
    }
   ],
   "source": [
    "let mut q2 = LinkedList::<&str>::new();\n",
    "q2"
   ]
  },
  {
   "cell_type": "code",
   "execution_count": 18,
   "id": "0d402218-d76a-480d-850a-fe14acedcde8",
   "metadata": {},
   "outputs": [
    {
     "data": {
      "text/plain": [
       "LinkedList { head: Some(RwLock { data: Node { val: \"Joel\", next: None, prior: None }, poisoned: false, .. }), tail: Some((Weak)) }"
      ]
     },
     "execution_count": 18,
     "metadata": {},
     "output_type": "execute_result"
    }
   ],
   "source": [
    "q2.push_back(\"Joel\")"
   ]
  },
  {
   "cell_type": "code",
   "execution_count": 19,
   "id": "e63c3383-ca8f-46da-9e34-ef050f4d1e06",
   "metadata": {},
   "outputs": [
    {
     "data": {
      "text/plain": [
       "LinkedList { head: Some(RwLock { data: Node { val: \"Joel\", next: Some(RwLock { data: Node { val: \"was\", next: None, prior: Some((Weak)) }, poisoned: false, .. }), prior: None }, poisoned: false, .. }), tail: Some((Weak)) }"
      ]
     },
     "execution_count": 19,
     "metadata": {},
     "output_type": "execute_result"
    }
   ],
   "source": [
    "q2.push_back(\"was\")"
   ]
  },
  {
   "cell_type": "code",
   "execution_count": 20,
   "id": "50290283-3353-4fb7-a192-148020ef0246",
   "metadata": {},
   "outputs": [
    {
     "data": {
      "text/plain": [
       "LinkedList { head: Some(RwLock { data: Node { val: \"Joel\", next: Some(RwLock { data: Node { val: \"was\", next: Some(RwLock { data: Node { val: \"here.\", next: None, prior: Some((Weak)) }, poisoned: false, .. }), prior: Some((Weak)) }, poisoned: false, .. }), prior: None }, poisoned: false, .. }), tail: Some((Weak)) }"
      ]
     },
     "execution_count": 20,
     "metadata": {},
     "output_type": "execute_result"
    }
   ],
   "source": [
    "q2.push_back(\"here.\")"
   ]
  },
  {
   "cell_type": "code",
   "execution_count": null,
   "id": "c121a235-acf0-4937-a9d2-ca97126b8928",
   "metadata": {},
   "outputs": [],
   "source": []
  },
  {
   "cell_type": "code",
   "execution_count": 35,
   "id": "6f160e63-0171-47d5-9ccd-a5603d946bd2",
   "metadata": {},
   "outputs": [
    {
     "data": {
      "text/plain": [
       "1"
      ]
     },
     "execution_count": 35,
     "metadata": {},
     "output_type": "execute_result"
    }
   ],
   "source": [
    "q.head.as_ref().unwrap().read().unwrap().val"
   ]
  },
  {
   "cell_type": "code",
   "execution_count": null,
   "id": "be96286d-cb1f-47b5-9470-15465b393d1f",
   "metadata": {},
   "outputs": [],
   "source": []
  }
 ],
 "metadata": {
  "kernelspec": {
   "display_name": "Rust",
   "language": "rust",
   "name": "rust"
  },
  "language_info": {
   "codemirror_mode": "rust",
   "file_extension": ".rs",
   "mimetype": "text/rust",
   "name": "Rust",
   "pygment_lexer": "rust",
   "version": ""
  }
 },
 "nbformat": 4,
 "nbformat_minor": 5
}
