{
 "cells": [
  {
   "cell_type": "markdown",
   "id": "88e44289-0d74-4b0a-895b-2f830318d92f",
   "metadata": {},
   "source": [
    "# Litecoin Tests\n",
    "---"
   ]
  },
  {
   "cell_type": "code",
   "execution_count": 1,
   "id": "518bcc4e-25c3-4ea2-b922-7aaaa1e0fffc",
   "metadata": {},
   "outputs": [],
   "source": [
    "import bitcoinlib.keys\n",
    "from bitcoinlib.keys import HDKey, Address"
   ]
  },
  {
   "cell_type": "code",
   "execution_count": 2,
   "id": "c414108d-18a7-45b0-892c-f51fcc9de215",
   "metadata": {},
   "outputs": [],
   "source": [
    "def litecoin_key():\n",
    "    pk_wif = open('/secrets/litecoin.wallet','r').readlines()[6].split()[-1]\n",
    "    lk = HDKey(pk_wif, network='litecoin')\n",
    "    return lk\n",
    "lk = litecoin_key()"
   ]
  },
  {
   "cell_type": "code",
   "execution_count": 3,
   "id": "70fca9de-f98f-4bc5-b1f6-7a5a103016fe",
   "metadata": {},
   "outputs": [],
   "source": [
    "def litecoin_address(lk):\n",
    "    return Address(lk.public_hex, network='litecoin', encoding='bech32', script_type='p2pkh')\n",
    "la = litecoin_address(lk)"
   ]
  },
  {
   "cell_type": "code",
   "execution_count": 4,
   "id": "3ac84d70-7b02-4eee-8ee9-6ce3f60d84ee",
   "metadata": {},
   "outputs": [
    {
     "data": {
      "text/plain": [
       "'ltc1qy'"
      ]
     },
     "execution_count": 4,
     "metadata": {},
     "output_type": "execute_result"
    }
   ],
   "source": [
    "la.address[:6]"
   ]
  },
  {
   "cell_type": "code",
   "execution_count": 5,
   "id": "aae584b1-307c-400a-85b8-ac00a9ffcfd0",
   "metadata": {},
   "outputs": [
    {
     "data": {
      "text/plain": [
       "{'format': 'address',\n",
       " 'networks': 'litecoin',\n",
       " 'is_private': False,\n",
       " 'script_types': 'p2wpkh',\n",
       " 'witness_types': ['legacy'],\n",
       " 'multisig': [False]}"
      ]
     },
     "execution_count": 5,
     "metadata": {},
     "output_type": "execute_result"
    }
   ],
   "source": [
    "bitcoinlib.keys.get_key_format(la.address)"
   ]
  },
  {
   "cell_type": "code",
   "execution_count": null,
   "id": "bb35e964-9928-402d-870b-b12cc9ba5b0f",
   "metadata": {},
   "outputs": [],
   "source": []
  }
 ],
 "metadata": {
  "kernelspec": {
   "display_name": "Python 3 (ipykernel)",
   "language": "python",
   "name": "python3"
  },
  "language_info": {
   "codemirror_mode": {
    "name": "ipython",
    "version": 3
   },
   "file_extension": ".py",
   "mimetype": "text/x-python",
   "name": "python",
   "nbconvert_exporter": "python",
   "pygments_lexer": "ipython3",
   "version": "3.9.7"
  }
 },
 "nbformat": 4,
 "nbformat_minor": 5
}
