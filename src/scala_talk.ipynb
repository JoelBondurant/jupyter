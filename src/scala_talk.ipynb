{
 "cells": [
  {
   "cell_type": "markdown",
   "metadata": {},
   "source": [
    "# Scala Tech Talk:\n",
    "##### 2017-08-22\n",
    "<img src=\"http://www.scala-lang.org/files/archive/spec/2.11/public/images/scala-logo-red-spiral-dark.png\">\n",
    "---"
   ]
  },
  {
   "cell_type": "markdown",
   "metadata": {},
   "source": [
    "---\n",
    "## Install:"
   ]
  },
  {
   "cell_type": "markdown",
   "metadata": {},
   "source": [
    "        > brew install scala\n",
    "        > brew install hadoop\n",
    "        > brew install apache-spark\n",
    "        > brew install apache-zeppelin\n",
    "        > pip3 install jupyter \\\n",
    "            && git clone https://github.com/jupyter-scala/jupyter-scala.git \\\n",
    "            && cd jupyter-scala \\\n",
    "            && ./jupyter-scala"
   ]
  },
  {
   "cell_type": "markdown",
   "metadata": {},
   "source": [
    "---\n",
    "## Motivation:"
   ]
  },
  {
   "cell_type": "code",
   "execution_count": 1,
   "metadata": {},
   "outputs": [
    {
     "name": "stdout",
     "output_type": "stream",
     "text": [
      "(0.001181502, seconds)\n",
      "Scala destroys Python.\n"
     ]
    },
    {
     "data": {
      "text/plain": [
       "defined \u001b[32mfunction\u001b[39m \u001b[36mfun\u001b[39m"
      ]
     },
     "execution_count": 1,
     "metadata": {},
     "output_type": "execute_result"
    }
   ],
   "source": [
    "def fun() = {\n",
    "    val a = System.nanoTime()\n",
    "    (1L to Math.pow(10, 8).toLong).sum\n",
    "    val b = System.nanoTime()\n",
    "    (b - a) / Math.pow(10, 9)\n",
    "}\n",
    "println(fun(), \" seconds\")\n",
    "println(\"Scala destroys Python.\")"
   ]
  },
  {
   "cell_type": "code",
   "execution_count": 2,
   "metadata": {},
   "outputs": [
    {
     "name": "stdout",
     "output_type": "stream",
     "text": [
      "Horizontal scaling. (Apache Spark)\n"
     ]
    }
   ],
   "source": [
    "println(\"Horizontal scaling. (Apache Spark)\")"
   ]
  },
  {
   "cell_type": "markdown",
   "metadata": {},
   "source": [
    "---\n",
    "## Intro:"
   ]
  },
  {
   "cell_type": "code",
   "execution_count": 3,
   "metadata": {},
   "outputs": [
    {
     "data": {
      "text/plain": [
       "\u001b[32mimport \u001b[39m\u001b[36msys.process._\u001b[39m"
      ]
     },
     "execution_count": 3,
     "metadata": {},
     "output_type": "execute_result"
    }
   ],
   "source": [
    "import sys.process._"
   ]
  },
  {
   "cell_type": "code",
   "execution_count": 4,
   "metadata": {},
   "outputs": [
    {
     "name": "stdout",
     "output_type": "stream",
     "text": [
      "joel.bondurant\n"
     ]
    },
    {
     "data": {
      "text/plain": [
       "\u001b[36mres3\u001b[39m: \u001b[32mInt\u001b[39m = \u001b[32m0\u001b[39m"
      ]
     },
     "execution_count": 4,
     "metadata": {},
     "output_type": "execute_result"
    }
   ],
   "source": [
    "\"whoami\"!"
   ]
  },
  {
   "cell_type": "code",
   "execution_count": 5,
   "metadata": {},
   "outputs": [
    {
     "name": "stdout",
     "output_type": "stream",
     "text": [
      "/Users/joel.bondurant/work/scala_talk\n"
     ]
    },
    {
     "data": {
      "text/plain": [
       "\u001b[36mres4\u001b[39m: \u001b[32mInt\u001b[39m = \u001b[32m0\u001b[39m"
      ]
     },
     "execution_count": 5,
     "metadata": {},
     "output_type": "execute_result"
    }
   ],
   "source": [
    "\"pwd\"!"
   ]
  },
  {
   "cell_type": "code",
   "execution_count": 6,
   "metadata": {},
   "outputs": [
    {
     "name": "stdout",
     "output_type": "stream",
     "text": [
      "total 423856\n",
      "-rw-r--r--  1 joel.bondurant  staff   206M Aug 22 10:52 truven_1m_head.csv\n",
      "-rw-r--r--  1 joel.bondurant  staff   401K Aug 22 12:18 derby.log\n",
      "-rw-r--r--  1 joel.bondurant  staff    42K Aug 22 13:48 scala_talk.ipynb\n",
      "-rw-r--r--  1 joel.bondurant  staff    41K Aug 22 11:24 scala_talk_backup.ipynb\n",
      "-rw-r--r--  1 joel.bondurant  staff    31K Aug 22 13:38 python_demo.ipynb\n",
      "-rw-r--r--  1 joel.bondurant  staff    18K Aug 21 17:37 truven_100_head.csv\n",
      "-rw-r--r--  1 joel.bondurant  staff   2.5K Aug 22 13:38 HelloWorld$.class\n",
      "-rw-r--r--  1 joel.bondurant  staff   791B Aug 22 13:38 HelloWorld$delayedInit$body.class\n",
      "-rw-r--r--  1 joel.bondurant  staff   790B Aug 22 13:38 HelloWorld.class\n",
      "drwxr-xr-x  9 joel.bondurant  staff   306B Aug 22 12:18 metastore_db\n",
      "-rw-r--r--  1 joel.bondurant  staff   176B Aug 21 17:18 Dockerfile\n",
      "-rwxr-xr-x  1 joel.bondurant  staff    89B Aug 21 17:09 build_java9.sh\n",
      "drwxr-xr-x  2 joel.bondurant  staff    68B Aug 21 17:36 spark-warehouse\n",
      "-rw-r--r--  1 joel.bondurant  staff    59B Aug 21 18:18 HelloWorld.scala\n",
      "-rwxr-xr-x  1 joel.bondurant  staff    25B Aug 21 17:31 start_zeppelin.sh\n"
     ]
    },
    {
     "data": {
      "text/plain": [
       "\u001b[36mres5\u001b[39m: \u001b[32mInt\u001b[39m = \u001b[32m0\u001b[39m"
      ]
     },
     "execution_count": 6,
     "metadata": {},
     "output_type": "execute_result"
    }
   ],
   "source": [
    "\"ls -lhS\"!"
   ]
  },
  {
   "cell_type": "markdown",
   "metadata": {},
   "source": [
    "---\n",
    "## Hello World:"
   ]
  },
  {
   "cell_type": "code",
   "execution_count": 7,
   "metadata": {},
   "outputs": [
    {
     "name": "stdout",
     "output_type": "stream",
     "text": [
      "object HelloWorld extends App {\n",
      "\tprintln(\"Hello World!\")\n",
      "}\n"
     ]
    },
    {
     "data": {
      "text/plain": [
       "\u001b[36mres6\u001b[39m: \u001b[32mInt\u001b[39m = \u001b[32m0\u001b[39m"
      ]
     },
     "execution_count": 7,
     "metadata": {},
     "output_type": "execute_result"
    }
   ],
   "source": [
    "\"cat HelloWorld.scala\"!"
   ]
  },
  {
   "cell_type": "code",
   "execution_count": 8,
   "metadata": {},
   "outputs": [
    {
     "data": {
      "text/plain": [
       "\u001b[36mres7\u001b[39m: \u001b[32mInt\u001b[39m = \u001b[32m0\u001b[39m"
      ]
     },
     "execution_count": 8,
     "metadata": {},
     "output_type": "execute_result"
    }
   ],
   "source": [
    "\"scalac HelloWorld.scala\"!"
   ]
  },
  {
   "cell_type": "code",
   "execution_count": 9,
   "metadata": {},
   "outputs": [
    {
     "name": "stdout",
     "output_type": "stream",
     "text": [
      "Hello World!\n"
     ]
    },
    {
     "data": {
      "text/plain": [
       "\u001b[36mres8\u001b[39m: \u001b[32mInt\u001b[39m = \u001b[32m0\u001b[39m"
      ]
     },
     "execution_count": 9,
     "metadata": {},
     "output_type": "execute_result"
    }
   ],
   "source": [
    "\"scala HelloWorld\"!"
   ]
  },
  {
   "cell_type": "code",
   "execution_count": 10,
   "metadata": {},
   "outputs": [
    {
     "name": "stdout",
     "output_type": "stream",
     "text": [
      "HelloWorldFaster\n"
     ]
    }
   ],
   "source": [
    "println(\"HelloWorldFaster\")"
   ]
  },
  {
   "cell_type": "markdown",
   "metadata": {},
   "source": [
    "---\n",
    "## Calculator:"
   ]
  },
  {
   "cell_type": "code",
   "execution_count": 11,
   "metadata": {},
   "outputs": [
    {
     "data": {
      "text/plain": [
       "\u001b[36mres10\u001b[39m: \u001b[32mInt\u001b[39m = \u001b[32m72\u001b[39m"
      ]
     },
     "execution_count": 11,
     "metadata": {},
     "output_type": "execute_result"
    }
   ],
   "source": [
    "8*9"
   ]
  },
  {
   "cell_type": "code",
   "execution_count": 12,
   "metadata": {},
   "outputs": [
    {
     "data": {
      "text/plain": [
       "\u001b[36mbi\u001b[39m: \u001b[32mString\u001b[39m = \u001b[32m\"8888888888888888888888888888888888888888888888888888888888888888888888888\"\u001b[39m\n",
       "\u001b[36mbd\u001b[39m: \u001b[32mString\u001b[39m = \u001b[32m\"1.88888888888888888888888888888888888888888888888888888888888888888888888\"\u001b[39m"
      ]
     },
     "execution_count": 12,
     "metadata": {},
     "output_type": "execute_result"
    }
   ],
   "source": [
    "val bi = \"8888888888888888888888888888888888888888888888888888888888888888888888888\"\n",
    "val bd = \"1.88888888888888888888888888888888888888888888888888888888888888888888888\""
   ]
  },
  {
   "cell_type": "code",
   "execution_count": 13,
   "metadata": {},
   "outputs": [
    {
     "data": {
      "text/plain": [
       "\u001b[36mres12\u001b[39m: \u001b[32mBigInt\u001b[39m = 8888888888888888888888888888888888888888888888888888888888888888888888889"
      ]
     },
     "execution_count": 13,
     "metadata": {},
     "output_type": "execute_result"
    }
   ],
   "source": [
    "BigInt(bi) + 1"
   ]
  },
  {
   "cell_type": "code",
   "execution_count": 14,
   "metadata": {},
   "outputs": [
    {
     "data": {
      "text/plain": [
       "\u001b[36mres13\u001b[39m: \u001b[32mBigDecimal\u001b[39m = 2.88888888888888888888888888888888888888888888888888888888888888888888888"
      ]
     },
     "execution_count": 14,
     "metadata": {},
     "output_type": "execute_result"
    }
   ],
   "source": [
    "BigDecimal(bd) + 1"
   ]
  },
  {
   "cell_type": "code",
   "execution_count": 15,
   "metadata": {},
   "outputs": [
    {
     "data": {
      "text/plain": [
       "\u001b[36mres14\u001b[39m: \u001b[32mjava\u001b[39m.\u001b[32mmath\u001b[39m.\u001b[32mBigDecimal\u001b[39m = 2.88888888888888888888888888888888888888888888888888888888888888888888888"
      ]
     },
     "execution_count": 15,
     "metadata": {},
     "output_type": "execute_result"
    }
   ],
   "source": [
    "(new java.math.BigDecimal(bd)).add(new java.math.BigDecimal(1))"
   ]
  },
  {
   "cell_type": "markdown",
   "metadata": {},
   "source": [
    "---\n",
    "## Strings:"
   ]
  },
  {
   "cell_type": "code",
   "execution_count": 16,
   "metadata": {},
   "outputs": [
    {
     "name": "stdout",
     "output_type": "stream",
     "text": [
      "123\n",
      "444\n"
     ]
    }
   ],
   "source": [
    "\"[0-9]+\".r.findAllIn(\"123 East Maple St Apt 444\").foreach(println)"
   ]
  },
  {
   "cell_type": "code",
   "execution_count": 17,
   "metadata": {},
   "outputs": [],
   "source": [
    "\"[0-9]+\".r.findFirstIn(\"ABC East Maple St Apt A\").foreach(println)"
   ]
  },
  {
   "cell_type": "code",
   "execution_count": 18,
   "metadata": {},
   "outputs": [
    {
     "name": "stdout",
     "output_type": "stream",
     "text": [
      "Joel was here\n"
     ]
    },
    {
     "data": {
      "text/plain": [
       "\u001b[36mname\u001b[39m: \u001b[32mString\u001b[39m = \u001b[32m\"Joel\"\u001b[39m\n",
       "\u001b[36msomeText\u001b[39m: \u001b[32mString\u001b[39m = \u001b[32m\"Joel was here\"\u001b[39m"
      ]
     },
     "execution_count": 18,
     "metadata": {},
     "output_type": "execute_result"
    }
   ],
   "source": [
    "val name = \"Joel\"\n",
    "val someText = s\"$name was here\"\n",
    "println(someText)"
   ]
  },
  {
   "cell_type": "markdown",
   "metadata": {},
   "source": [
    "---\n",
    "## Values & Variables:"
   ]
  },
  {
   "cell_type": "code",
   "execution_count": 19,
   "metadata": {},
   "outputs": [
    {
     "data": {
      "text/plain": [
       "\u001b[36mxvar\u001b[39m: \u001b[32mInt\u001b[39m = \u001b[32m4\u001b[39m\n",
       "\u001b[36mxval\u001b[39m: \u001b[32mInt\u001b[39m = \u001b[32m5\u001b[39m"
      ]
     },
     "execution_count": 19,
     "metadata": {},
     "output_type": "execute_result"
    }
   ],
   "source": [
    "var xvar = 4\n",
    "val xval: Int = 5"
   ]
  },
  {
   "cell_type": "code",
   "execution_count": 20,
   "metadata": {},
   "outputs": [
    {
     "name": "stdout",
     "output_type": "stream",
     "text": [
      "4\n",
      "3"
     ]
    }
   ],
   "source": [
    "println(xvar)\n",
    "xvar = 3\n",
    "print(xvar)"
   ]
  },
  {
   "cell_type": "code",
   "execution_count": 20,
   "metadata": {},
   "outputs": [
    {
     "name": "stderr",
     "output_type": "stream",
     "text": [
      "cmd20.sc:1: not found: value yvar\n",
      "val res20 = yvar = 3\n",
      "            ^"
     ]
    },
    {
     "ename": "",
     "evalue": "",
     "output_type": "error",
     "traceback": [
      "Compilation Failed"
     ]
    }
   ],
   "source": [
    "yvar = 3"
   ]
  },
  {
   "cell_type": "markdown",
   "metadata": {},
   "source": [
    "---\n",
    "## Type System:"
   ]
  },
  {
   "cell_type": "markdown",
   "metadata": {},
   "source": [
    "<img src=\"http://docs.scala-lang.org/resources/images/tour/unified-types-diagram.svg\" width=\"50%\" height=\"50%\">"
   ]
  },
  {
   "cell_type": "markdown",
   "metadata": {},
   "source": [
    "---\n",
    "## Collections:"
   ]
  },
  {
   "cell_type": "markdown",
   "metadata": {},
   "source": [
    "#### scala.collection.immutable:\n",
    "<img src=\"https://docs.scala-lang.org/resources/images/collections.immutable.png\" width=\"40%\" height=\"40%\">\n",
    "#### scala.collection.mutable:\n",
    "<img src=\"https://docs.scala-lang.org/resources/images/collections.mutable.png\" width=\"50%\" height=\"50%\">"
   ]
  },
  {
   "cell_type": "code",
   "execution_count": 21,
   "metadata": {},
   "outputs": [
    {
     "data": {
      "text/plain": [
       "\u001b[36mx1\u001b[39m: \u001b[32mList\u001b[39m[\u001b[32mInt\u001b[39m] = \u001b[33mList\u001b[39m(\u001b[32m1\u001b[39m, \u001b[32m2\u001b[39m, \u001b[32m3\u001b[39m)\n",
       "\u001b[36mx2\u001b[39m: \u001b[32mVector\u001b[39m[\u001b[32mInt\u001b[39m] = \u001b[33mVector\u001b[39m(\u001b[32m1\u001b[39m, \u001b[32m2\u001b[39m, \u001b[32m3\u001b[39m)\n",
       "\u001b[36mx3\u001b[39m: \u001b[32mRange\u001b[39m.\u001b[32mInclusive\u001b[39m = \u001b[33mRange\u001b[39m(\u001b[32m1\u001b[39m, \u001b[32m2\u001b[39m, \u001b[32m3\u001b[39m)\n",
       "\u001b[36mx4\u001b[39m: (\u001b[32mInt\u001b[39m, \u001b[32mInt\u001b[39m, \u001b[32mInt\u001b[39m) = (\u001b[32m1\u001b[39m, \u001b[32m2\u001b[39m, \u001b[32m3\u001b[39m)"
      ]
     },
     "execution_count": 21,
     "metadata": {},
     "output_type": "execute_result"
    }
   ],
   "source": [
    "val x1 = List(1,2,3)\n",
    "val x2 = Vector(1,2,3)\n",
    "val x3 = (1 to 3)\n",
    "val x4 = (1,2,3)"
   ]
  },
  {
   "cell_type": "code",
   "execution_count": 22,
   "metadata": {},
   "outputs": [
    {
     "name": "stdout",
     "output_type": "stream",
     "text": [
      "6\n",
      "6\n",
      "6\n"
     ]
    }
   ],
   "source": [
    "println(x1.sum)\n",
    "println(x2.sum)\n",
    "println(x3.sum)"
   ]
  },
  {
   "cell_type": "code",
   "execution_count": 23,
   "metadata": {},
   "outputs": [
    {
     "data": {
      "text/plain": [
       "\u001b[36mres22\u001b[39m: \u001b[32mInt\u001b[39m = \u001b[32m3\u001b[39m"
      ]
     },
     "execution_count": 23,
     "metadata": {},
     "output_type": "execute_result"
    }
   ],
   "source": [
    "x4._3"
   ]
  },
  {
   "cell_type": "code",
   "execution_count": 24,
   "metadata": {},
   "outputs": [
    {
     "data": {
      "text/plain": [
       "\u001b[36mcat\u001b[39m: \u001b[32mInt\u001b[39m = \u001b[32m1\u001b[39m\n",
       "\u001b[36mdog\u001b[39m: \u001b[32mInt\u001b[39m = \u001b[32m2\u001b[39m\n",
       "\u001b[36mcow\u001b[39m: \u001b[32mInt\u001b[39m = \u001b[32m3\u001b[39m"
      ]
     },
     "execution_count": 24,
     "metadata": {},
     "output_type": "execute_result"
    }
   ],
   "source": [
    "val (cat, dog, cow) = x4"
   ]
  },
  {
   "cell_type": "code",
   "execution_count": 25,
   "metadata": {},
   "outputs": [
    {
     "name": "stdout",
     "output_type": "stream",
     "text": [
      "3"
     ]
    }
   ],
   "source": [
    "print(cow)"
   ]
  },
  {
   "cell_type": "code",
   "execution_count": 26,
   "metadata": {},
   "outputs": [
    {
     "name": "stdout",
     "output_type": "stream",
     "text": [
      "ListBuffer()\n",
      "ListBuffer(7, 8, 9)\n",
      "ListBuffer(7, 8, 9, 10)\n"
     ]
    },
    {
     "data": {
      "text/plain": [
       "\u001b[32mimport \u001b[39m\u001b[36mscala.collection.mutable.ListBuffer\n",
       "\u001b[39m\n",
       "\u001b[36mlb\u001b[39m: \u001b[32mcollection\u001b[39m.\u001b[32mmutable\u001b[39m.\u001b[32mListBuffer\u001b[39m[\u001b[32mInt\u001b[39m] = \u001b[33mListBuffer\u001b[39m(\u001b[32m7\u001b[39m, \u001b[32m8\u001b[39m, \u001b[32m9\u001b[39m, \u001b[32m10\u001b[39m)\n",
       "\u001b[36mres25_3\u001b[39m: \u001b[32mcollection\u001b[39m.\u001b[32mmutable\u001b[39m.\u001b[32mListBuffer\u001b[39m[\u001b[32mInt\u001b[39m] = \u001b[33mListBuffer\u001b[39m(\u001b[32m7\u001b[39m, \u001b[32m8\u001b[39m, \u001b[32m9\u001b[39m, \u001b[32m10\u001b[39m)\n",
       "\u001b[36mres25_5\u001b[39m: \u001b[32mcollection\u001b[39m.\u001b[32mmutable\u001b[39m.\u001b[32mListBuffer\u001b[39m[\u001b[32mInt\u001b[39m] = \u001b[33mListBuffer\u001b[39m(\u001b[32m7\u001b[39m, \u001b[32m8\u001b[39m, \u001b[32m9\u001b[39m, \u001b[32m10\u001b[39m)"
      ]
     },
     "execution_count": 26,
     "metadata": {},
     "output_type": "execute_result"
    }
   ],
   "source": [
    "import scala.collection.mutable.ListBuffer\n",
    "val lb = new ListBuffer[Int]()\n",
    "println(lb)\n",
    "lb ++= List(7,8,9)\n",
    "println(lb)\n",
    "lb += 10\n",
    "println(lb)"
   ]
  },
  {
   "cell_type": "code",
   "execution_count": 27,
   "metadata": {},
   "outputs": [
    {
     "data": {
      "text/plain": [
       "\u001b[36mres26\u001b[39m: \u001b[32mVector\u001b[39m[\u001b[32mInt\u001b[39m] = \u001b[33mVector\u001b[39m(\u001b[32m7\u001b[39m, \u001b[32m8\u001b[39m, \u001b[32m9\u001b[39m, \u001b[32m10\u001b[39m)"
      ]
     },
     "execution_count": 27,
     "metadata": {},
     "output_type": "execute_result"
    }
   ],
   "source": [
    "lb.toVector"
   ]
  },
  {
   "cell_type": "code",
   "execution_count": 28,
   "metadata": {},
   "outputs": [
    {
     "data": {
      "text/plain": [
       "\u001b[36mx5\u001b[39m: \u001b[32mArray\u001b[39m[\u001b[32mInt\u001b[39m] = \u001b[33mArray\u001b[39m(\u001b[32m7\u001b[39m, \u001b[32m8\u001b[39m, \u001b[32m9\u001b[39m)\n",
       "\u001b[36mres27_1\u001b[39m: \u001b[32mArray\u001b[39m[\u001b[32mInt\u001b[39m] = \u001b[33mArray\u001b[39m(\u001b[32m14\u001b[39m, \u001b[32m16\u001b[39m, \u001b[32m18\u001b[39m)"
      ]
     },
     "execution_count": 28,
     "metadata": {},
     "output_type": "execute_result"
    }
   ],
   "source": [
    "val x5 = Array(7,8,9)\n",
    "x5.map(q => 2*q)"
   ]
  },
  {
   "cell_type": "markdown",
   "metadata": {},
   "source": [
    "---\n",
    "## Flow Control:"
   ]
  },
  {
   "cell_type": "code",
   "execution_count": 29,
   "metadata": {},
   "outputs": [
    {
     "name": "stdout",
     "output_type": "stream",
     "text": [
      "yep\n"
     ]
    }
   ],
   "source": [
    "if (1==1) {\n",
    "    println(\"yep\")\n",
    "} else {\n",
    "    println(\"nope\")\n",
    "}"
   ]
  },
  {
   "cell_type": "code",
   "execution_count": 30,
   "metadata": {},
   "outputs": [
    {
     "name": "stdout",
     "output_type": "stream",
     "text": [
      "yep\n"
     ]
    }
   ],
   "source": [
    "println(if (1==1) \"yep\" else \"nope\")"
   ]
  },
  {
   "cell_type": "code",
   "execution_count": 31,
   "metadata": {},
   "outputs": [
    {
     "name": "stdout",
     "output_type": "stream",
     "text": [
      "0\n",
      "1\n",
      "2\n",
      "3\n",
      "4\n",
      "5\n",
      "6\n"
     ]
    }
   ],
   "source": [
    "for (i <- 0 to 6) {\n",
    "    println(i)\n",
    "}"
   ]
  },
  {
   "cell_type": "code",
   "execution_count": 32,
   "metadata": {},
   "outputs": [
    {
     "name": "stdout",
     "output_type": "stream",
     "text": [
      "0\n",
      "1\n",
      "2\n",
      "3\n",
      "4\n",
      "5\n"
     ]
    }
   ],
   "source": [
    "for (i <- 0 until 6) {\n",
    "    println(i)\n",
    "}"
   ]
  },
  {
   "cell_type": "code",
   "execution_count": 33,
   "metadata": {},
   "outputs": [
    {
     "name": "stdout",
     "output_type": "stream",
     "text": [
      "1\n",
      "2\n",
      "3\n",
      "4\n",
      "5\n",
      "6\n"
     ]
    }
   ],
   "source": [
    "(1 to 6).foreach(println)"
   ]
  },
  {
   "cell_type": "code",
   "execution_count": 34,
   "metadata": {},
   "outputs": [
    {
     "name": "stdout",
     "output_type": "stream",
     "text": [
      "0\n",
      "zero\n"
     ]
    },
    {
     "data": {
      "text/plain": [
       "\u001b[32mimport \u001b[39m\u001b[36mscala.util.Random;\n",
       "\u001b[39m\n",
       "\u001b[36mrandy\u001b[39m: \u001b[32mInt\u001b[39m = \u001b[32m0\u001b[39m"
      ]
     },
     "execution_count": 34,
     "metadata": {},
     "output_type": "execute_result"
    }
   ],
   "source": [
    "import scala.util.Random;\n",
    "val randy = Random.nextInt(6)\n",
    "println(randy)\n",
    "println(randy match {\n",
    "    case 0 => \"zero\"\n",
    "    case 1 => \"one\"\n",
    "    case 2 => \"two\"\n",
    "    case 3 => \"three\"\n",
    "    case 4 => \"four\"\n",
    "    case 5 => \"five\"\n",
    "    case 6 => \"six\"\n",
    "})"
   ]
  },
  {
   "cell_type": "markdown",
   "metadata": {},
   "source": [
    "---\n",
    "## Functions:"
   ]
  },
  {
   "cell_type": "code",
   "execution_count": 35,
   "metadata": {},
   "outputs": [
    {
     "name": "stdout",
     "output_type": "stream",
     "text": [
      "12\n"
     ]
    },
    {
     "data": {
      "text/plain": [
       "defined \u001b[32mfunction\u001b[39m \u001b[36mfunc1\u001b[39m"
      ]
     },
     "execution_count": 35,
     "metadata": {},
     "output_type": "execute_result"
    }
   ],
   "source": [
    "def func1(x: Int): Int = {\n",
    "    x * 6\n",
    "}\n",
    "println(func1(2))"
   ]
  },
  {
   "cell_type": "code",
   "execution_count": 36,
   "metadata": {},
   "outputs": [
    {
     "name": "stdout",
     "output_type": "stream",
     "text": [
      "14\n"
     ]
    },
    {
     "data": {
      "text/plain": [
       "\u001b[36mfunc2\u001b[39m: \u001b[32mInt\u001b[39m => \u001b[32mInt\u001b[39m = <function1>"
      ]
     },
     "execution_count": 36,
     "metadata": {},
     "output_type": "execute_result"
    }
   ],
   "source": [
    "val func2 = (x: Int) => 7*x\n",
    "println(func2(2))"
   ]
  },
  {
   "cell_type": "code",
   "execution_count": 37,
   "metadata": {},
   "outputs": [
    {
     "name": "stdout",
     "output_type": "stream",
     "text": [
      "144\n",
      "144\n"
     ]
    },
    {
     "data": {
      "text/plain": [
       "defined \u001b[32mfunction\u001b[39m \u001b[36mfunc3\u001b[39m"
      ]
     },
     "execution_count": 37,
     "metadata": {},
     "output_type": "execute_result"
    }
   ],
   "source": [
    "def func3(f: (Int => Int), x: Int): Int = {\n",
    "    8*f(x)\n",
    "}\n",
    "println(3*6*8)\n",
    "println(func3(func1, 3))"
   ]
  },
  {
   "cell_type": "code",
   "execution_count": 38,
   "metadata": {},
   "outputs": [
    {
     "name": "stdout",
     "output_type": "stream",
     "text": [
      "hi\n",
      "void\n"
     ]
    },
    {
     "data": {
      "text/plain": [
       "defined \u001b[32mfunction\u001b[39m \u001b[36mfunc4\u001b[39m"
      ]
     },
     "execution_count": 38,
     "metadata": {},
     "output_type": "execute_result"
    }
   ],
   "source": [
    "def func4(): Unit = {\n",
    "    println(\"hi\")\n",
    "}\n",
    "println(func4().getClass)"
   ]
  },
  {
   "cell_type": "markdown",
   "metadata": {},
   "source": [
    "---\n",
    "## OOP:"
   ]
  },
  {
   "cell_type": "code",
   "execution_count": 39,
   "metadata": {},
   "outputs": [
    {
     "data": {
      "text/plain": [
       "defined \u001b[32mclass\u001b[39m \u001b[36mBox\u001b[39m"
      ]
     },
     "execution_count": 39,
     "metadata": {},
     "output_type": "execute_result"
    }
   ],
   "source": [
    "class Box(val width: Int, val height: Int, val depth: Int) {\n",
    "    def volume(): Int = width*height*depth\n",
    "}"
   ]
  },
  {
   "cell_type": "code",
   "execution_count": 40,
   "metadata": {},
   "outputs": [
    {
     "name": "stdout",
     "output_type": "stream",
     "text": [
      "2\n",
      "24\n"
     ]
    },
    {
     "data": {
      "text/plain": [
       "\u001b[36mabox\u001b[39m: \u001b[32mBox\u001b[39m = $sess.cmd38Wrapper$Helper$Box@19a527c3"
      ]
     },
     "execution_count": 40,
     "metadata": {},
     "output_type": "execute_result"
    }
   ],
   "source": [
    "val abox = new Box(2,3,4)\n",
    "println(abox.width)\n",
    "println(abox.volume)"
   ]
  },
  {
   "cell_type": "code",
   "execution_count": 41,
   "metadata": {},
   "outputs": [
    {
     "data": {
      "text/plain": [
       "defined \u001b[32mclass\u001b[39m \u001b[36mStudent\u001b[39m"
      ]
     },
     "execution_count": 41,
     "metadata": {},
     "output_type": "execute_result"
    }
   ],
   "source": [
    "case class Student(name: String, score: Int)"
   ]
  },
  {
   "cell_type": "code",
   "execution_count": 42,
   "metadata": {},
   "outputs": [
    {
     "name": "stdout",
     "output_type": "stream",
     "text": [
      "(Joel,80)\n"
     ]
    },
    {
     "data": {
      "text/plain": [
       "\u001b[36mstu\u001b[39m: \u001b[32mStudent\u001b[39m = \u001b[33mStudent\u001b[39m(\u001b[32m\"Joel\"\u001b[39m, \u001b[32m80\u001b[39m)"
      ]
     },
     "execution_count": 42,
     "metadata": {},
     "output_type": "execute_result"
    }
   ],
   "source": [
    "val stu = Student(\"Joel\", 80)\n",
    "println(stu.name, stu.score)"
   ]
  },
  {
   "cell_type": "markdown",
   "metadata": {},
   "source": [
    "---\n",
    "## Apache Spark:\n",
    "<img src=\"https://spark.apache.org/images/spark-logo-trademark.png\">\n",
    "---"
   ]
  },
  {
   "cell_type": "code",
   "execution_count": 43,
   "metadata": {},
   "outputs": [
    {
     "name": "stderr",
     "output_type": "stream",
     "text": [
      "log4j:WARN No appenders could be found for logger (io.netty.util.internal.logging.InternalLoggerFactory).\n",
      "log4j:WARN Please initialize the log4j system properly.\n",
      "log4j:WARN See http://logging.apache.org/log4j/1.2/faq.html#noconfig for more info.\n"
     ]
    },
    {
     "data": {
      "text/plain": [
       "\u001b[32mimport \u001b[39m\u001b[36m$exclude.$                        , $ivy.$                           \n",
       "\u001b[39m\n",
       "\u001b[32mimport \u001b[39m\u001b[36m$profile.$           \n",
       "\u001b[39m\n",
       "\u001b[32mimport \u001b[39m\u001b[36m$ivy.$                                  \n",
       "\u001b[39m\n",
       "\u001b[32mimport \u001b[39m\u001b[36m$ivy.$                                   \n",
       "\u001b[39m\n",
       "\u001b[32mimport \u001b[39m\u001b[36m$ivy.$                               \n",
       "\n",
       "\u001b[39m\n",
       "\u001b[32mimport \u001b[39m\u001b[36morg.apache.spark._\n",
       "\u001b[39m\n",
       "\u001b[32mimport \u001b[39m\u001b[36morg.apache.spark.sql._\n",
       "\u001b[39m\n",
       "\u001b[32mimport \u001b[39m\u001b[36mjupyter.spark.session._\n",
       "\n",
       "\u001b[39m\n",
       "\u001b[36mspark\u001b[39m: \u001b[32morg\u001b[39m.\u001b[32mapache\u001b[39m.\u001b[32mspark\u001b[39m.\u001b[32msql\u001b[39m.\u001b[32mSparkSession\u001b[39m = org.apache.spark.sql.SparkSession@14043e6e"
      ]
     },
     "execution_count": 43,
     "metadata": {},
     "output_type": "execute_result"
    }
   ],
   "source": [
    "import $exclude.`org.slf4j:slf4j-log4j12`, $ivy.`org.slf4j:slf4j-nop:1.7.21`\n",
    "import $profile.`hadoop-2.8`\n",
    "import $ivy.`org.apache.spark::spark-sql:2.1.1`\n",
    "import $ivy.`org.apache.hadoop:hadoop-aws:2.8.1`\n",
    "import $ivy.`org.jupyter-scala::spark:0.4.2`\n",
    "\n",
    "import org.apache.spark._\n",
    "import org.apache.spark.sql._\n",
    "import jupyter.spark.session._\n",
    "\n",
    "val spark = JupyterSparkSession.builder().jupyter().master(\"local\").appName(\"notebook\").getOrCreate()"
   ]
  },
  {
   "cell_type": "code",
   "execution_count": 44,
   "metadata": {},
   "outputs": [
    {
     "name": "stdout",
     "output_type": "stream",
     "text": [
      "+------+-------+------+-------+-------+----+---+-----+------+------+-------+---+---+--------+------+-------+-------+-------+-------+-------+-------+-------+-------+-------+--------+--------+--------+-------+-------+-------+-------+-------+-------+-------+-------+-------+--------+--------+--------+-------+-------+-------+-------+-------+-------+-------+-------+-------+--------+--------+--------+-------+-------+-------+-------+-------+-------+-------+-------+-------+--------+--------+--------+-------+-------+-------+-------+--------+-----+------+--------+\n",
      "|SEQNUM|VERSION|EFAMID|ENROLID|MEMDAYS|YEAR|AGE|DOBYR|AGEGRP|EMPREL|PHYFLAG| RX|SEX|HLTHPLAN|ENRMON|DATTYP1|DATTYP2|DATTYP3|DATTYP4|DATTYP5|DATTYP6|DATTYP7|DATTYP8|DATTYP9|DATTYP10|DATTYP11|DATTYP12|ENRIND1|ENRIND2|ENRIND3|ENRIND4|ENRIND5|ENRIND6|ENRIND7|ENRIND8|ENRIND9|ENRIND10|ENRIND11|ENRIND12|MEMDAY1|MEMDAY2|MEMDAY3|MEMDAY4|MEMDAY5|MEMDAY6|MEMDAY7|MEMDAY8|MEMDAY9|MEMDAY10|MEMDAY11|MEMDAY12|PLNTYP1|PLNTYP2|PLNTYP3|PLNTYP4|PLNTYP5|PLNTYP6|PLNTYP7|PLNTYP8|PLNTYP9|PLNTYP10|PLNTYP11|PLNTYP12|EECLASS|EESTATU|EGEOLOC|INDSTRY|MHSACOVG|  MSA|REGION|MSWGTKEY|\n",
      "+------+-------+------+-------+-------+----+---+-----+------+------+-------+---+---+--------+------+-------+-------+-------+-------+-------+-------+-------+-------+-------+--------+--------+--------+-------+-------+-------+-------+-------+-------+-------+-------+-------+--------+--------+--------+-------+-------+-------+-------+-------+-------+-------+-------+-------+--------+--------+--------+-------+-------+-------+-------+-------+-------+-------+-------+-------+--------+--------+--------+-------+-------+-------+-------+--------+-----+------+--------+\n",
      "|319770|     10|   166|  16602|    365|2015| 63| 1951|     5|     2|      1|  1|  2|       0|    12|      1|      1|      1|      1|      1|      1|      1|      1|      1|       1|       1|       1|      1|      1|      1|      1|      1|      1|      1|      1|      1|       1|       1|       1|     31|     28|     31|     30|     31|     30|     31|     31|     30|      31|      30|      31|      6|      6|      6|      6|      6|      6|      6|      6|      6|       6|       6|       6|      9|      4|     33|      7|    null|26140|     3|   51420|\n",
      "|319771|     10|   203|  20302|    365|2015| 60| 1954|     5|     2|      1|  1|  2|       0|    12|      1|      1|      1|      1|      1|      1|      1|      1|      1|       1|       1|       1|      1|      1|      1|      1|      1|      1|      1|      1|      1|       1|       1|       1|     31|     28|     31|     30|     31|     30|     31|     31|     30|      31|      30|      31|      6|      6|      6|      6|      6|      6|      6|      6|      6|       6|       6|       6|      9|      4|     18|      7|    null|    0|     2|   31420|\n",
      "+------+-------+------+-------+-------+----+---+-----+------+------+-------+---+---+--------+------+-------+-------+-------+-------+-------+-------+-------+-------+-------+--------+--------+--------+-------+-------+-------+-------+-------+-------+-------+-------+-------+--------+--------+--------+-------+-------+-------+-------+-------+-------+-------+-------+-------+--------+--------+--------+-------+-------+-------+-------+-------+-------+-------+-------+-------+--------+--------+--------+-------+-------+-------+-------+--------+-----+------+--------+\n",
      "only showing top 2 rows\n",
      "\n"
     ]
    },
    {
     "data": {
      "text/plain": [
       "\u001b[36mtruven\u001b[39m: \u001b[32mDataFrame\u001b[39m = [SEQNUM: int, VERSION: int ... 69 more fields]"
      ]
     },
     "execution_count": 44,
     "metadata": {},
     "output_type": "execute_result"
    }
   ],
   "source": [
    "val truven = spark.read.option(\"inferschema\",\"true\").option(\"header\",\"true\").csv(\"truven_100_head.csv\")\n",
    "truven.show(2)"
   ]
  },
  {
   "cell_type": "code",
   "execution_count": 45,
   "metadata": {},
   "outputs": [
    {
     "name": "stdout",
     "output_type": "stream",
     "text": [
      "root\n",
      " |-- SEQNUM: integer (nullable = true)\n",
      " |-- VERSION: integer (nullable = true)\n",
      " |-- EFAMID: integer (nullable = true)\n",
      " |-- ENROLID: integer (nullable = true)\n",
      " |-- MEMDAYS: integer (nullable = true)\n",
      " |-- YEAR: integer (nullable = true)\n",
      " |-- AGE: integer (nullable = true)\n",
      " |-- DOBYR: integer (nullable = true)\n",
      " |-- AGEGRP: integer (nullable = true)\n",
      " |-- EMPREL: integer (nullable = true)\n",
      " |-- PHYFLAG: integer (nullable = true)\n",
      " |-- RX: integer (nullable = true)\n",
      " |-- SEX: integer (nullable = true)\n",
      " |-- HLTHPLAN: integer (nullable = true)\n",
      " |-- ENRMON: integer (nullable = true)\n",
      " |-- DATTYP1: integer (nullable = true)\n",
      " |-- DATTYP2: integer (nullable = true)\n",
      " |-- DATTYP3: integer (nullable = true)\n",
      " |-- DATTYP4: integer (nullable = true)\n",
      " |-- DATTYP5: integer (nullable = true)\n",
      " |-- DATTYP6: integer (nullable = true)\n",
      " |-- DATTYP7: integer (nullable = true)\n",
      " |-- DATTYP8: integer (nullable = true)\n",
      " |-- DATTYP9: integer (nullable = true)\n",
      " |-- DATTYP10: integer (nullable = true)\n",
      " |-- DATTYP11: integer (nullable = true)\n",
      " |-- DATTYP12: integer (nullable = true)\n",
      " |-- ENRIND1: integer (nullable = true)\n",
      " |-- ENRIND2: integer (nullable = true)\n",
      " |-- ENRIND3: integer (nullable = true)\n",
      " |-- ENRIND4: integer (nullable = true)\n",
      " |-- ENRIND5: integer (nullable = true)\n",
      " |-- ENRIND6: integer (nullable = true)\n",
      " |-- ENRIND7: integer (nullable = true)\n",
      " |-- ENRIND8: integer (nullable = true)\n",
      " |-- ENRIND9: integer (nullable = true)\n",
      " |-- ENRIND10: integer (nullable = true)\n",
      " |-- ENRIND11: integer (nullable = true)\n",
      " |-- ENRIND12: integer (nullable = true)\n",
      " |-- MEMDAY1: integer (nullable = true)\n",
      " |-- MEMDAY2: integer (nullable = true)\n",
      " |-- MEMDAY3: integer (nullable = true)\n",
      " |-- MEMDAY4: integer (nullable = true)\n",
      " |-- MEMDAY5: integer (nullable = true)\n",
      " |-- MEMDAY6: integer (nullable = true)\n",
      " |-- MEMDAY7: integer (nullable = true)\n",
      " |-- MEMDAY8: integer (nullable = true)\n",
      " |-- MEMDAY9: integer (nullable = true)\n",
      " |-- MEMDAY10: integer (nullable = true)\n",
      " |-- MEMDAY11: integer (nullable = true)\n",
      " |-- MEMDAY12: integer (nullable = true)\n",
      " |-- PLNTYP1: integer (nullable = true)\n",
      " |-- PLNTYP2: integer (nullable = true)\n",
      " |-- PLNTYP3: integer (nullable = true)\n",
      " |-- PLNTYP4: integer (nullable = true)\n",
      " |-- PLNTYP5: integer (nullable = true)\n",
      " |-- PLNTYP6: integer (nullable = true)\n",
      " |-- PLNTYP7: integer (nullable = true)\n",
      " |-- PLNTYP8: integer (nullable = true)\n",
      " |-- PLNTYP9: integer (nullable = true)\n",
      " |-- PLNTYP10: integer (nullable = true)\n",
      " |-- PLNTYP11: integer (nullable = true)\n",
      " |-- PLNTYP12: integer (nullable = true)\n",
      " |-- EECLASS: integer (nullable = true)\n",
      " |-- EESTATU: integer (nullable = true)\n",
      " |-- EGEOLOC: integer (nullable = true)\n",
      " |-- INDSTRY: integer (nullable = true)\n",
      " |-- MHSACOVG: string (nullable = true)\n",
      " |-- MSA: integer (nullable = true)\n",
      " |-- REGION: integer (nullable = true)\n",
      " |-- MSWGTKEY: integer (nullable = true)\n",
      "\n"
     ]
    }
   ],
   "source": [
    "truven.printSchema"
   ]
  },
  {
   "cell_type": "code",
   "execution_count": 46,
   "metadata": {},
   "outputs": [
    {
     "name": "stdout",
     "output_type": "stream",
     "text": [
      "+------+-------+---+-----+\n",
      "|SEQNUM|VERSION|AGE|DOBYR|\n",
      "+------+-------+---+-----+\n",
      "|319770|     10| 63| 1951|\n",
      "|319771|     10| 60| 1954|\n",
      "|319772|     10| 64| 1950|\n",
      "|319773|     10| 64| 1950|\n",
      "|319774|     10| 57| 1957|\n",
      "|319775|     10| 64| 1950|\n",
      "+------+-------+---+-----+\n",
      "only showing top 6 rows\n",
      "\n"
     ]
    }
   ],
   "source": [
    "truven.select(\"SEQNUM\", \"VERSION\", \"AGE\", \"DOBYR\").show(6)"
   ]
  },
  {
   "cell_type": "code",
   "execution_count": 47,
   "metadata": {},
   "outputs": [
    {
     "data": {
      "text/plain": [
       "\u001b[36mres46_1\u001b[39m: \u001b[32mAny\u001b[39m = 52.21212121212121"
      ]
     },
     "execution_count": 47,
     "metadata": {},
     "output_type": "execute_result"
    }
   ],
   "source": [
    "truven.createOrReplaceTempView(\"truven\")\n",
    "spark.sql(\"select mean(AGE) from truven\").coalesce(1).collect()(0)(0)"
   ]
  },
  {
   "cell_type": "code",
   "execution_count": 48,
   "metadata": {},
   "outputs": [
    {
     "data": {
      "text/plain": [
       "\u001b[36mres47\u001b[39m: \u001b[32mAny\u001b[39m = 52.21212121212121"
      ]
     },
     "execution_count": 48,
     "metadata": {},
     "output_type": "execute_result"
    }
   ],
   "source": [
    "truven.agg((\"AGE\" -> \"mean\")).coalesce(1).collect()(0)(0)"
   ]
  },
  {
   "cell_type": "code",
   "execution_count": 49,
   "metadata": {},
   "outputs": [
    {
     "data": {
      "text/plain": [
       "\u001b[36mres48\u001b[39m: \u001b[32mDouble\u001b[39m = \u001b[32m-0.999908095601205\u001b[39m"
      ]
     },
     "execution_count": 49,
     "metadata": {},
     "output_type": "execute_result"
    }
   ],
   "source": [
    "truven.stat.corr(\"AGE\", \"DOBYR\")"
   ]
  },
  {
   "cell_type": "markdown",
   "metadata": {
    "collapsed": true
   },
   "source": [
    "---\n",
    "## Plotly:"
   ]
  },
  {
   "cell_type": "code",
   "execution_count": 50,
   "metadata": {
    "scrolled": true
   },
   "outputs": [
    {
     "data": {
      "text/html": [
       "\n",
       "      <script type=\"text/javascript\">\n",
       "        require.config({\n",
       "  paths: {\n",
       "    d3: 'https://cdnjs.cloudflare.com/ajax/libs/d3/3.5.17/d3.min',\n",
       "    plotly: 'https://cdn.plot.ly/plotly-1.12.0.min'\n",
       "  },\n",
       "\n",
       "  shim: {\n",
       "    plotly: {\n",
       "      deps: ['d3', 'jquery'],\n",
       "      exports: 'plotly'\n",
       "    }\n",
       "  }\n",
       "});\n",
       "        \n",
       "\n",
       "        require(['plotly'], function(Plotly) {\n",
       "          window.Plotly = Plotly;\n",
       "        });\n",
       "      </script>\n",
       "    "
      ]
     },
     "metadata": {},
     "output_type": "display_data"
    },
    {
     "data": {
      "text/plain": [
       "\u001b[32mimport \u001b[39m\u001b[36m$ivy.$                                             \n",
       "\n",
       "\u001b[39m\n",
       "\u001b[32mimport \u001b[39m\u001b[36mplotly._\n",
       "\u001b[39m\n",
       "\u001b[32mimport \u001b[39m\u001b[36mplotly.element._\n",
       "\u001b[39m\n",
       "\u001b[32mimport \u001b[39m\u001b[36mplotly.layout._\n",
       "\u001b[39m\n",
       "\u001b[32mimport \u001b[39m\u001b[36mplotly.JupyterScala._\n",
       "\n",
       "\u001b[39m"
      ]
     },
     "execution_count": 50,
     "metadata": {},
     "output_type": "execute_result"
    }
   ],
   "source": [
    "import $ivy.`org.plotly-scala::plotly-jupyter-scala:0.3.2`\n",
    "\n",
    "import plotly._\n",
    "import plotly.element._\n",
    "import plotly.layout._\n",
    "import plotly.JupyterScala._\n",
    "\n",
    "plotly.JupyterScala.init()"
   ]
  },
  {
   "cell_type": "code",
   "execution_count": 51,
   "metadata": {},
   "outputs": [
    {
     "data": {
      "text/html": [
       "<div class=\"chart\" id=\"plot-496259711\"></div>"
      ]
     },
     "metadata": {},
     "output_type": "display_data"
    },
    {
     "data": {
      "application/javascript": [
       "requirejs([\"plotly\"], function(Plotly) {\n",
       "  (function () {\n",
       "  var data0 = {\"type\":\"histogram\",\"x\":[63.0,60.0,64.0,64.0,57.0,64.0,53.0,55.0,60.0,64.0,51.0,61.0,28.0,48.0,55.0,63.0,64.0,63.0,60.0,60.0,53.0,62.0,62.0,48.0,64.0,63.0,60.0,54.0,17.0,58.0,64.0,57.0,56.0,53.0,60.0,62.0,62.0,60.0,63.0,62.0,63.0,64.0,43.0,60.0,63.0,58.0,5.0,11.0,56.0,42.0,30.0,48.0,62.0,63.0,55.0,63.0,60.0,12.0,9.0,7.0,18.0,17.0,16.0,61.0,63.0,53.0,63.0,60.0,18.0,18.0,60.0,60.0,61.0,60.0,62.0,64.0,52.0,38.0,62.0,40.0,56.0,59.0,24.0,63.0,64.0,60.0,44.0,57.0,64.0,63.0,60.0,53.0,62.0,32.0,48.0,60.0,64.0,57.0,62.0]};\n",
       "\n",
       "  var data = [data0];\n",
       "  var layout = {};\n",
       "\n",
       "  Plotly.plot('plot-496259711', data, layout);\n",
       "})();\n",
       "});\n",
       "      "
      ]
     },
     "metadata": {},
     "output_type": "display_data"
    },
    {
     "data": {
      "text/plain": [
       "\u001b[36mage_hist\u001b[39m: \u001b[32mSeq\u001b[39m[\u001b[32mInt\u001b[39m] = \u001b[33mArray\u001b[39m(\n",
       "  \u001b[32m63\u001b[39m,\n",
       "  \u001b[32m60\u001b[39m,\n",
       "  \u001b[32m64\u001b[39m,\n",
       "  \u001b[32m64\u001b[39m,\n",
       "  \u001b[32m57\u001b[39m,\n",
       "  \u001b[32m64\u001b[39m,\n",
       "  \u001b[32m53\u001b[39m,\n",
       "  \u001b[32m55\u001b[39m,\n",
       "  \u001b[32m60\u001b[39m,\n",
       "  \u001b[32m64\u001b[39m,\n",
       "  \u001b[32m51\u001b[39m,\n",
       "\u001b[33m...\u001b[39m\n",
       "\u001b[36mres50_1\u001b[39m: \u001b[32mString\u001b[39m = \u001b[32m\"plot-496259711\"\u001b[39m"
      ]
     },
     "execution_count": 51,
     "metadata": {},
     "output_type": "execute_result"
    }
   ],
   "source": [
    "val age_hist = truven.select(\"AGE\").rdd.collect().map(_(0)).map(_.toString.toInt).toSeq\n",
    "Histogram(x = age_hist).plot()"
   ]
  },
  {
   "cell_type": "code",
   "execution_count": null,
   "metadata": {
    "collapsed": true
   },
   "outputs": [],
   "source": []
  }
 ],
 "metadata": {
  "kernelspec": {
   "display_name": "Scala",
   "language": "scala",
   "name": "scala"
  },
  "language_info": {
   "codemirror_mode": "text/x-scala",
   "file_extension": ".scala",
   "mimetype": "text/x-scala",
   "name": "scala211",
   "nbconvert_exporter": "script",
   "pygments_lexer": "scala",
   "version": "2.11.11"
  }
 },
 "nbformat": 4,
 "nbformat_minor": 2
}
