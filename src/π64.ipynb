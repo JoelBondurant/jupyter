{
 "cells": [
  {
   "cell_type": "markdown",
   "metadata": {},
   "source": [
    " # How Good Is 64-bit Π?    Hella"
   ]
  },
  {
   "cell_type": "code",
   "execution_count": 1,
   "metadata": {
    "collapsed": true
   },
   "outputs": [],
   "source": [
    "import ctypes as c\n",
    "from math import pi as π"
   ]
  },
  {
   "cell_type": "markdown",
   "metadata": {},
   "source": [
    "### The smallest deviations from 64 bit π [π+δ, π, π-δ]:"
   ]
  },
  {
   "cell_type": "code",
   "execution_count": 2,
   "metadata": {
    "collapsed": false
   },
   "outputs": [
    {
     "data": {
      "text/plain": [
       "['3.141592653589793560087173318606801331043243408203125000000000',\n",
       " '3.141592653589793115997963468544185161590576171875000000000000',\n",
       " '3.141592653589792671908753618481568992137908935546875000000000']"
      ]
     },
     "execution_count": 2,
     "metadata": {},
     "output_type": "execute_result"
    }
   ],
   "source": [
    "['{0:.60f}'.format(\n",
    "        c.c_double.from_buffer(c.c_long(c.c_long.from_buffer(c.c_double(π)).value + x)).value\n",
    "    ) for x in [1,0,-1]]"
   ]
  },
  {
   "cell_type": "markdown",
   "metadata": {},
   "source": [
    "### Again in binary [π+δ, π, π-δ]:"
   ]
  },
  {
   "cell_type": "code",
   "execution_count": 3,
   "metadata": {
    "collapsed": false
   },
   "outputs": [
    {
     "data": {
      "text/plain": [
       "['0b100000000001001001000011111101101010100010001000010110100011001',\n",
       " '0b100000000001001001000011111101101010100010001000010110100011000',\n",
       " '0b100000000001001001000011111101101010100010001000010110100010111']"
      ]
     },
     "execution_count": 3,
     "metadata": {},
     "output_type": "execute_result"
    }
   ],
   "source": [
    "[bin(c.c_long.from_buffer(c.c_double(π)).value + x) for x in [1,0,-1]]"
   ]
  },
  {
   "cell_type": "markdown",
   "metadata": {},
   "source": [
    "### Closer numbers to π don't exist in 64 bits:"
   ]
  },
  {
   "cell_type": "code",
   "execution_count": 4,
   "metadata": {
    "collapsed": false
   },
   "outputs": [
    {
     "data": {
      "text/plain": [
       "3.1415926535897936"
      ]
     },
     "execution_count": 4,
     "metadata": {},
     "output_type": "execute_result"
    }
   ],
   "source": [
    "3.1415926535897934"
   ]
  },
  {
   "cell_type": "markdown",
   "metadata": {},
   "source": [
    "### In-between numbers are repeats from above:"
   ]
  },
  {
   "cell_type": "code",
   "execution_count": 5,
   "metadata": {
    "collapsed": false
   },
   "outputs": [
    {
     "data": {
      "text/plain": [
       "['3.141592653589793115997963468544185161590576171875000000000000',\n",
       " '3.141592653589792671908753618481568992137908935546875000000000']"
      ]
     },
     "execution_count": 5,
     "metadata": {},
     "output_type": "execute_result"
    }
   ],
   "source": [
    "['{0:.60f}'.format(x) for x in [3.1415926535897932, 3.1415926535897927]]"
   ]
  },
  {
   "cell_type": "markdown",
   "metadata": {},
   "source": [
    "### The circumfrenece of Earth's orbit around the Sun in inches with the various π deviants:      "
   ]
  },
  {
   "cell_type": "code",
   "execution_count": 6,
   "metadata": {
    "collapsed": false
   },
   "outputs": [
    {
     "data": {
      "text/plain": [
       "['37,023,543,758,849.5703125000',\n",
       " '37,023,543,758,849.5625000000',\n",
       " '37,023,543,758,849.5625000000']"
      ]
     },
     "execution_count": 6,
     "metadata": {},
     "output_type": "execute_result"
    }
   ],
   "source": [
    "['{0:,.10f}'.format(d) for d in [2*myπ*93*10**6*5280*12 for myπ in \n",
    "[c.c_double.from_buffer(c.c_long(c.c_long.from_buffer(c.c_double(π)).value + x)).value\n",
    "    for x in [1,0,-1]]]]"
   ]
  },
  {
   "cell_type": "markdown",
   "metadata": {},
   "source": [
    "### A small fraction of an inch error on 584 million miles."
   ]
  }
 ],
 "metadata": {
  "kernelspec": {
   "display_name": "Python 3",
   "language": "python",
   "name": "python3"
  },
  "language_info": {
   "codemirror_mode": {
    "name": "ipython",
    "version": 3
   },
   "file_extension": ".py",
   "mimetype": "text/x-python",
   "name": "python",
   "nbconvert_exporter": "python",
   "pygments_lexer": "ipython3",
   "version": "3.4.3"
  }
 },
 "nbformat": 4,
 "nbformat_minor": 0
}
