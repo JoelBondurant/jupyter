{
 "cells": [
  {
   "cell_type": "markdown",
   "metadata": {},
   "source": [
    "# How Good Is 64-bit Π?  Hella"
   ]
  },
  {
   "cell_type": "code",
   "execution_count": 1,
   "metadata": {
    "collapsed": true
   },
   "outputs": [],
   "source": [
    "import ctypes"
   ]
  },
  {
   "cell_type": "code",
   "execution_count": 2,
   "metadata": {
    "collapsed": false
   },
   "outputs": [
    {
     "data": {
      "text/plain": [
       "['3.141592653589793560087173318606801331043243408203125000000000',\n",
       " '3.141592653589793115997963468544185161590576171875000000000000',\n",
       " '3.141592653589792671908753618481568992137908935546875000000000']"
      ]
     },
     "execution_count": 2,
     "metadata": {},
     "output_type": "execute_result"
    }
   ],
   "source": [
    "# The smallest deviations from 64 bit pi:\n",
    "['{0:.60f}'.format(\n",
    "        ctypes.c_double.from_buffer(ctypes.c_long(ctypes.c_long.from_buffer(ctypes.c_double(math.pi)).value + x)).value\n",
    "    ) for x in [1,0,-1]]"
   ]
  },
  {
   "cell_type": "code",
   "execution_count": 3,
   "metadata": {
    "collapsed": false
   },
   "outputs": [
    {
     "data": {
      "text/plain": [
       "['0b100000000001001001000011111101101010100010001000010110100011001',\n",
       " '0b100000000001001001000011111101101010100010001000010110100011000',\n",
       " '0b100000000001001001000011111101101010100010001000010110100010111']"
      ]
     },
     "execution_count": 3,
     "metadata": {},
     "output_type": "execute_result"
    }
   ],
   "source": [
    "# Again in binary:\n",
    "[bin(ctypes.c_long.from_buffer(ctypes.c_double(math.pi)).value + x) for x in [1,0,-1]]"
   ]
  },
  {
   "cell_type": "code",
   "execution_count": 4,
   "metadata": {
    "collapsed": false
   },
   "outputs": [
    {
     "data": {
      "text/plain": [
       "3.1415926535897936"
      ]
     },
     "execution_count": 4,
     "metadata": {},
     "output_type": "execute_result"
    }
   ],
   "source": [
    "# Closer numbers to pi don't exist in 64 bits:\n",
    "3.1415926535897934"
   ]
  },
  {
   "cell_type": "code",
   "execution_count": 5,
   "metadata": {
    "collapsed": false
   },
   "outputs": [
    {
     "data": {
      "text/plain": [
       "['3.141592653589792671908753618481568992137908935546875000000000',\n",
       " '3.141592653589793115997963468544185161590576171875000000000000']"
      ]
     },
     "execution_count": 5,
     "metadata": {},
     "output_type": "execute_result"
    }
   ],
   "source": [
    "# In-between numbers are repeats from above.\n",
    "['{0:.60f}'.format(x) for x in [3.1415926535897927, 3.1415926535897932]]"
   ]
  },
  {
   "cell_type": "code",
   "execution_count": 6,
   "metadata": {
    "collapsed": false
   },
   "outputs": [
    {
     "data": {
      "text/plain": [
       "['37023543758849.57031250000000000000',\n",
       " '37023543758849.56250000000000000000',\n",
       " '37023543758849.56250000000000000000']"
      ]
     },
     "execution_count": 6,
     "metadata": {},
     "output_type": "execute_result"
    }
   ],
   "source": [
    "# The circumfrenece of Earth's orbit around the Sun in inches with the various pi deviants:                              \n",
    "['{0:.20f}'.format(d) for d in [2*mypi*93*10**6*5280*12 for mypi in \n",
    "[ctypes.c_double.from_buffer(ctypes.c_long(ctypes.c_long.from_buffer(ctypes.c_double(math.pi)).value + x)).value\n",
    "    for x in [1,0,-1]]]]\n",
    "# A tiny fraction of an inch error on 584 million miles:"
   ]
  },
  {
   "cell_type": "code",
   "execution_count": 7,
   "metadata": {
    "collapsed": false
   },
   "outputs": [
    {
     "data": {
      "text/plain": [
       "['0.299999999999999988897769753748434595763683319091796875000000',\n",
       " '0.200000000000000011102230246251565404236316680908203125000000',\n",
       " '0.099999999999999977795539507496869191527366638183593750000000',\n",
       " 0.09999999999999998]"
      ]
     },
     "execution_count": 7,
     "metadata": {},
     "output_type": "execute_result"
    }
   ],
   "source": [
    "# Misc floating point problems:\n",
    "['{0:.60f}'.format(x) for x in [0.3, 0.2, 0.3 - 0.2]]+[0.3-0.2]"
   ]
  },
  {
   "cell_type": "code",
   "execution_count": null,
   "metadata": {
    "collapsed": true
   },
   "outputs": [],
   "source": []
  }
 ],
 "metadata": {
  "kernelspec": {
   "display_name": "Python 3",
   "language": "python",
   "name": "python3"
  },
  "language_info": {
   "codemirror_mode": {
    "name": "ipython",
    "version": 3
   },
   "file_extension": ".py",
   "mimetype": "text/x-python",
   "name": "python",
   "nbconvert_exporter": "python",
   "pygments_lexer": "ipython3",
   "version": "3.4.3"
  }
 },
 "nbformat": 4,
 "nbformat_minor": 0
}
